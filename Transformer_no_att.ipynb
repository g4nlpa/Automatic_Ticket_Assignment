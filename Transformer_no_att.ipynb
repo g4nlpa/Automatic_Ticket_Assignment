{
 "cells": [
  {
   "cell_type": "code",
   "execution_count": 5,
   "metadata": {},
   "outputs": [
    {
     "name": "stdout",
     "output_type": "stream",
     "text": [
      "   Unnamed: 0  Unnamed: 0.1  \\\n",
      "0           0             0   \n",
      "1           1             1   \n",
      "2           2             2   \n",
      "3           3             3   \n",
      "4           4             4   \n",
      "\n",
      "                        Combined Description Cleaned Assignment group  \n",
      "0  login issue user manager name checked the name...            GRP_0  \n",
      "1  outlook received from hello team my are not in...            GRP_0  \n",
      "2    cannot log in to received from   cannot on best            GRP_0  \n",
      "3                         unable to access tool page            GRP_0  \n",
      "4                                              error            GRP_0  \n",
      "   Unnamed: 0                       Combined Description Cleaned  \\\n",
      "0           0  login issue user manager name checked the name...   \n",
      "1           1  outlook received from hello team my are not in...   \n",
      "2           2  cannot log in to received from hi i cannot on ...   \n",
      "3           3                         unable to access tool page   \n",
      "4           4                                              error   \n",
      "\n",
      "  Assignment group  LabelEncodings  \n",
      "0            GRP_0               0  \n",
      "1            GRP_0               0  \n",
      "2            GRP_0               0  \n",
      "3            GRP_0               0  \n",
      "4            GRP_0               0  \n",
      "   Unnamed: 0                       Combined Description Cleaned  \\\n",
      "0           0  login issue user manager name checked the name...   \n",
      "1           1  outlook received from hello team my are not in...   \n",
      "2           2  cannot log in to received from hi i cannot on ...   \n",
      "3           3                         unable to access tool page   \n",
      "4           4                                              error   \n",
      "\n",
      "  Assignment group  LabelEncodings  \n",
      "0            GRP_0               0  \n",
      "1            GRP_0               0  \n",
      "2            GRP_0               0  \n",
      "3            GRP_0               0  \n",
      "4            GRP_0               0  \n"
     ]
    }
   ],
   "source": [
    "import tensorflow as tf \n",
    "from tensorflow.keras.preprocessing.sequence import pad_sequences\n",
    "from tensorflow.keras import layers\n",
    "from tensorflow.keras.layers import Embedding,LSTM,TimeDistributed,Dense,Flatten,Dropout,RepeatVector,GRU,Bidirectional,Permute\n",
    "from tensorflow.keras.utils import to_categorical\n",
    "from tensorflow.keras.models import Sequential\n",
    "from tensorflow.keras.preprocessing.text import Tokenizer\n",
    "from tensorflow.keras.callbacks import ModelCheckpoint, EarlyStopping\n",
    "import numpy as np\n",
    "import pandas as pd\n",
    "from sklearn.model_selection import train_test_split\n",
    "import matplotlib.pyplot as plt\n",
    "import kerastuner as kt\n",
    "from kerastuner.tuners import BayesianOptimization\n",
    "from tensorflow.keras.optimizers import Adam\n",
    "from tensorflow.keras import Input\n",
    "from keras_preprocessing import sequence\n",
    "from tensorflow.python.keras.layers import Concatenate,concatenate,Activation, dot\n",
    "\n",
    "import os\n",
    "\n",
    "filename='pre_data_dl.xlsx'\n",
    "data_dl=pd.read_excel(filename)\n",
    "pd.set_option('display.max_columns', None)\n",
    "print(data_dl.head())\n",
    "\n",
    "filename1='pre_data_dl_aug1.xlsx'\n",
    "filename2='pre_data_dl_aug2.xlsx'\n",
    "\n",
    "data_dl_aug1=pd.read_excel(filename1)\n",
    "pd.set_option('display.max_columns', None)\n",
    "print(data_dl_aug1.head())\n",
    "\n",
    "data_dl_aug2=pd.read_excel(filename2)\n",
    "print(data_dl_aug2.head())\n",
    "\n",
    "X = (data_dl[\"Combined Description Cleaned\"])\n",
    "y= (data_dl['Assignment group'])\n",
    "\n",
    "#categorical encoding y\n",
    "y=pd.get_dummies(data_dl['Assignment group'])\n",
    "  \n",
    "\n",
    "#parameters\n",
    "max_features=10000\n",
    "emb_dim=300\n",
    "batch_size=1024\n",
    "epochs=10\n",
    "out_dim=74"
   ]
  },
  {
   "cell_type": "code",
   "execution_count": 6,
   "metadata": {},
   "outputs": [
    {
     "name": "stdout",
     "output_type": "stream",
     "text": [
      "vocabulary size is:  3316\n"
     ]
    }
   ],
   "source": [
    "#function for tokenizer\n",
    "def dfTokenizer(df):\n",
    " tokenizer=Tokenizer(num_words=max_features,char_level=False)\n",
    " tokenizer.fit_on_texts(df)\n",
    " sequences=tokenizer.texts_to_sequences(df)\n",
    " return sequences,tokenizer\n",
    "#tokenization\n",
    "X,tokenizer = dfTokenizer(data_dl[\"Combined Description Cleaned\"]) \n",
    "vocab_size=len(tokenizer.word_index)\n",
    "print(\"vocabulary size is: \",vocab_size)\n",
    "\n",
    "#function for padding\n",
    "def pad(x, length=None):\n",
    " if length is None:\n",
    "   length=max([len(sentence)  for sentence in x])\n",
    " return pad_sequences(x,maxlen=length,padding='post')\n",
    " \n",
    " #padding \n",
    "X=pad_sequences(X,padding='post')\n",
    "\n",
    "\n",
    "#function for splitting the data\n",
    "def split(X,y):\n",
    " X_train_spl,X_test_spl,y_train_spl,y_test_spl=train_test_split(X,y,test_size=0.2,random_state=123)\n",
    " return X_train_spl,X_test_spl,y_train_spl,y_test_spl\n",
    "#split the data\n",
    "X_train,X_test,y_train,y_test=split(X,y)\n",
    "\n",
    "\n",
    "#configuring the callback\n",
    "early_stopping =  EarlyStopping(\n",
    "    monitor='val_accuracy', \n",
    "    patience=3, \n",
    "    min_delta=0.01, \n",
    "    mode='max'\n",
    ")\n",
    "\n",
    "\n",
    "#function for plotting accuracy,loss\n",
    "def plot(model,history):\n",
    " acc = history.history['accuracy']\n",
    " val_acc = history.history['val_accuracy']\n",
    " loss = history.history['loss']\n",
    " val_loss = history.history['val_loss']\n",
    " epochs = range(1, len(acc) + 1)\n",
    " plt.plot(epochs, acc, 'bo', label='Training acc')\n",
    " plt.plot(epochs, val_acc, 'b', label='Validation acc')\n",
    " plt.title( ' Training and validation accuracy')\n",
    " plt.legend()\n",
    " plt.figure()\n",
    " plt.plot(epochs, loss, 'bo', label='Training loss')\n",
    " plt.plot(epochs, val_loss, 'b', label='Validation loss')\n",
    " plt.title('Training and validation loss')\n",
    " plt.legend()\n",
    " plt.show()\n",
    " return "
   ]
  },
  {
   "cell_type": "code",
   "execution_count": 7,
   "metadata": {},
   "outputs": [],
   "source": [
    "inp_len=X.shape[1]\n",
    "inputs = Input(shape=(inp_len,))\n",
    "\n",
    "def TRANSFORMER_model(hp):\n",
    " model = tf.keras.Sequential()\n",
    " model.add(Embedding(max_features,emb_dim,input_length=inp_len))\n",
    " model.add(Bidirectional(LSTM(64, return_sequences=False)))\n",
    " model.add(Dropout(0.2))\n",
    " model.add(RepeatVector(64))\n",
    " model.add(Bidirectional(LSTM(64, return_sequences=True)))\n",
    " model.add(TimeDistributed(Dense(units = 64, activation = 'relu')))\n",
    " model.add(Flatten())\n",
    " model.add(Dense(74, activation='softmax'))\n",
    " print(model.summary())\n",
    " lr = hp.Choice('learning_rate', [1e-2, 1e-3, 1e-4])   \n",
    " model.compile(optimizer='adam',\n",
    "              loss='categorical_crossentropy',\n",
    "              metrics=['accuracy'])\n",
    " \n",
    " return model"
   ]
  },
  {
   "cell_type": "code",
   "execution_count": 8,
   "metadata": {},
   "outputs": [],
   "source": [
    "#customising the kerastuner function to include batch size and epochs\n",
    "class MyTuner(kt.tuners.BayesianOptimization):\n",
    "  def run_trial(self, trial, *args, **kwargs):\n",
    "     kwargs['batch_size'] = trial.hyperparameters.Int('batch_size', 256, 512,step=256 )\n",
    "     kwargs['epochs'] = trial.hyperparameters.Int('epochs', 5, 10,20)\n",
    "     super(MyTuner, self).run_trial(trial, *args, **kwargs)"
   ]
  },
  {
   "cell_type": "code",
   "execution_count": 9,
   "metadata": {},
   "outputs": [
    {
     "name": "stdout",
     "output_type": "stream",
     "text": [
      "Trial 10 Complete [00h 11m 55s]\n",
      "val_accuracy: 0.608132004737854\n",
      "\n",
      "Best val_accuracy So Far: 0.6199175119400024\n",
      "Total elapsed time: 01h 55m 46s\n",
      "INFO:tensorflow:Oracle triggered exit\n",
      "Results summary\n",
      "Results in C:/Hyperparameter/5A\\untitled_project\n",
      "Showing 5 best trials\n",
      "Objective(name='val_accuracy', direction='max')\n",
      "Trial summary\n",
      "Hyperparameters:\n",
      "learning_rate: 0.01\n",
      "batch_size: 256\n",
      "epochs: 5\n",
      "Score: 0.6199175119400024\n",
      "Trial summary\n",
      "Hyperparameters:\n",
      "learning_rate: 0.01\n",
      "batch_size: 256\n",
      "epochs: 5\n",
      "Score: 0.6116676330566406\n",
      "Trial summary\n",
      "Hyperparameters:\n",
      "learning_rate: 0.01\n",
      "batch_size: 256\n",
      "epochs: 5\n",
      "Score: 0.608132004737854\n",
      "Trial summary\n",
      "Hyperparameters:\n",
      "learning_rate: 0.01\n",
      "batch_size: 256\n",
      "epochs: 5\n",
      "Score: 0.6040070652961731\n",
      "Trial summary\n",
      "Hyperparameters:\n",
      "learning_rate: 0.01\n",
      "batch_size: 256\n",
      "epochs: 5\n",
      "Score: 0.6040070652961731\n",
      "None\n",
      "Model: \"sequential\"\n",
      "_________________________________________________________________\n",
      "Layer (type)                 Output Shape              Param #   \n",
      "=================================================================\n",
      "embedding (Embedding)        (None, 189, 300)          3000000   \n",
      "_________________________________________________________________\n",
      "bidirectional (Bidirectional (None, 128)               186880    \n",
      "_________________________________________________________________\n",
      "dropout (Dropout)            (None, 128)               0         \n",
      "_________________________________________________________________\n",
      "repeat_vector (RepeatVector) (None, 64, 128)           0         \n",
      "_________________________________________________________________\n",
      "bidirectional_1 (Bidirection (None, 64, 128)           98816     \n",
      "_________________________________________________________________\n",
      "time_distributed (TimeDistri (None, 64, 64)            8256      \n",
      "_________________________________________________________________\n",
      "flatten (Flatten)            (None, 4096)              0         \n",
      "_________________________________________________________________\n",
      "dense_1 (Dense)              (None, 74)                303178    \n",
      "=================================================================\n",
      "Total params: 3,597,130\n",
      "Trainable params: 3,597,130\n",
      "Non-trainable params: 0\n",
      "_________________________________________________________________\n",
      "None\n",
      "Hyperparameters for TRANSFORMER are <tensorflow.python.keras.engine.sequential.Sequential object at 0x000002020C0FC208>\n",
      "{'learning_rate': 0.01, 'batch_size': 256, 'epochs': 5}\n",
      "Epoch 1/5\n",
      "27/27 [==============================] - 146s 5s/step - loss: 1.0633 - accuracy: 0.7034 - val_loss: 1.7440 - val_accuracy: 0.6087\n",
      "Epoch 2/5\n",
      "27/27 [==============================] - 132s 5s/step - loss: 0.9227 - accuracy: 0.7369 - val_loss: 1.7795 - val_accuracy: 0.6052\n",
      "Epoch 3/5\n",
      "27/27 [==============================] - 135s 5s/step - loss: 0.8072 - accuracy: 0.7661 - val_loss: 1.9652 - val_accuracy: 0.6105\n",
      "Epoch 4/5\n",
      "27/27 [==============================] - 134s 5s/step - loss: 0.7232 - accuracy: 0.7902 - val_loss: 2.0482 - val_accuracy: 0.5993\n"
     ]
    },
    {
     "data": {
      "image/png": "[encoded data removed]",
      "text/plain": [
       "<Figure size 432x288 with 1 Axes>"
      ]
     },
     "metadata": {
      "needs_background": "light"
     },
     "output_type": "display_data"
    },
    {
     "data": {
      "image/png": "[encoded data removed]",
      "text/plain": [
       "<Figure size 432x288 with 1 Axes>"
      ]
     },
     "metadata": {
      "needs_background": "light"
     },
     "output_type": "display_data"
    },
    {
     "name": "stdout",
     "output_type": "stream",
     "text": [
      "Accuracy of TRANSFORMER for unaugmented data is : 59.92928743362427\n",
      "Validation Accuracy of TRANSFORMER for unagumented data is: 82.45872855186462\n",
      "Mean loss of  Validation data of TRANSFORMER for unaugmented data is : 1.8842289447784424\n",
      "Mean loss of  Training data of TRANSFORMER for unaugmented data is : 0.8790939748287201\n"
     ]
    }
   ],
   "source": [
    "        \n",
    "tuner =MyTuner(\n",
    "    TRANSFORMER_model,\n",
    "    objective='val_accuracy',\n",
    "    max_trials=10,\n",
    "    executions_per_trial=1,\n",
    "    seed=123,\n",
    "    directory=\"C:/Hyperparameter/5A\"\n",
    ")\n",
    "\n",
    "tuner.search(X_train,y_train,validation_data=(X_test,y_test))\n",
    "print(tuner.results_summary(5))\n",
    "best_model_TRANSFORMER = tuner.get_best_models()[0]\n",
    "print(\"Hyperparameters for TRANSFORMER are\",best_model_TRANSFORMER)\n",
    "\n",
    "\n",
    "modelname=\"TRANSFORMERModel\"\n",
    "vals=tuner.oracle.get_best_trials(num_trials=1)[0].hyperparameters.values\n",
    "print(vals)\n",
    "batch_size_hyp=list(vals.values())[1]\n",
    "epochs_hyp=list(vals.values())[2]\n",
    "history=best_model_TRANSFORMER.fit(X_train,y_train,batch_size=batch_size_hyp,epochs=epochs_hyp,validation_data=(X_test,y_test),callbacks=[early_stopping])\n",
    "plot(best_model_TRANSFORMER,history)\n",
    "\n",
    "scores_TRANSFORMER =best_model_TRANSFORMER.evaluate(X_test, y_test, verbose=0)\n",
    "scores_TRANSFORMER_val = best_model_TRANSFORMER.evaluate(X_train, y_train, verbose=0)\n",
    "print(\"Accuracy of TRANSFORMER for unaugmented data is :\", (scores_TRANSFORMER[1]*100))\n",
    "print(\"Validation Accuracy of TRANSFORMER for unagumented data is:\", (scores_TRANSFORMER_val[1]*100))\n",
    "#print(\"Validation Accuracy of TRANSFORMER for unagumented data is:\" ,np.array(history.history['val_acc']).mean()*100)\n",
    "print( \"Mean loss of  Validation data of TRANSFORMER for unaugmented data is :\",np.array(history.history['val_loss']).mean())\n",
    "print( \"Mean loss of  Training data of TRANSFORMER for unaugmented data is :\",np.array(history.history['loss']).mean())        "
   ]
  },
  {
   "cell_type": "code",
   "execution_count": 10,
   "metadata": {},
   "outputs": [],
   "source": [
    "X_aug1 = (data_dl_aug1[\"Combined Description Cleaned\"])\n",
    "y_aug1= (data_dl_aug1['Assignment group'])\n",
    "\n",
    "#categorical encoding y\n",
    "y_aug1=pd.get_dummies(data_dl_aug2['Assignment group'])\n",
    "\n",
    "\n",
    "X_aug2 = (data_dl_aug2[\"Combined Description Cleaned\"])\n",
    "y_aug2= (data_dl_aug2['Assignment group'])"
   ]
  },
  {
   "cell_type": "code",
   "execution_count": 11,
   "metadata": {},
   "outputs": [
    {
     "name": "stdout",
     "output_type": "stream",
     "text": [
      "vocabulary size is:  3956\n",
      "vocabulary size is:  4424\n"
     ]
    }
   ],
   "source": [
    "#categorical encoding y\n",
    "y_aug2=pd.get_dummies(data_dl_aug2['Assignment group'])\n",
    "\n",
    "#tokenization\n",
    "X_aug1,tokenizer = dfTokenizer(data_dl_aug1[\"Combined Description Cleaned\"]) \n",
    "vocab_size_aug1=len(tokenizer.word_index)\n",
    "print(\"vocabulary size is: \",vocab_size_aug1)\n",
    "\n",
    "X_aug2,tokenizer = dfTokenizer(data_dl_aug2[\"Combined Description Cleaned\"]) \n",
    "vocab_size_aug2=len(tokenizer.word_index)\n",
    "print(\"vocabulary size is: \",vocab_size_aug2)"
   ]
  },
  {
   "cell_type": "code",
   "execution_count": 12,
   "metadata": {},
   "outputs": [],
   "source": [
    "#padding\n",
    "X_aug1=pad_sequences(X_aug1,padding='post')\n",
    "X_aug2=pad_sequences(X_aug2,padding='post')\n",
    "y_aug1=y_aug1[0:17586]"
   ]
  },
  {
   "cell_type": "code",
   "execution_count": 13,
   "metadata": {},
   "outputs": [
    {
     "name": "stdout",
     "output_type": "stream",
     "text": [
      "191\n"
     ]
    }
   ],
   "source": [
    "#split the data.Only augmented data is split using stratify\n",
    "def split_stratify(X,y):\n",
    " X_train_spl,X_test_spl,y_train_spl,y_test_spl=train_test_split(X,y,test_size=0.2,stratify=y,random_state=123)\n",
    " return X_train_spl,X_test_spl,y_train_spl,y_test_spl\n",
    "\n",
    "X_train_aug1,X_test_aug1,y_train_aug1,y_test_aug1=split_stratify(X_aug1,y_aug1)\n",
    "X_train_aug2,X_test_aug2,y_train_aug2,y_test_aug2=split_stratify(X_aug2,y_aug2)\n",
    "\n",
    "\n",
    "inp_len1=X_aug1.shape[1]\n",
    "print(inp_len1)"
   ]
  },
  {
   "cell_type": "code",
   "execution_count": 14,
   "metadata": {},
   "outputs": [
    {
     "name": "stdout",
     "output_type": "stream",
     "text": [
      "Trial 10 Complete [00h 29m 36s]\n",
      "val_accuracy: 0.728823184967041\n",
      "\n",
      "Best val_accuracy So Far: 0.7387720346450806\n",
      "Total elapsed time: 04h 50m 35s\n",
      "INFO:tensorflow:Oracle triggered exit\n",
      "Results summary\n",
      "Results in C:/Hyperparameter/7p\\untitled_project\n",
      "Showing 5 best trials\n",
      "Objective(name='val_accuracy', direction='max')\n",
      "Trial summary\n",
      "Hyperparameters:\n",
      "learning_rate: 0.0001\n",
      "batch_size: 256\n",
      "epochs: 5\n",
      "Score: 0.7387720346450806\n",
      "Trial summary\n",
      "Hyperparameters:\n",
      "learning_rate: 0.0001\n",
      "batch_size: 256\n",
      "epochs: 5\n",
      "Score: 0.7353609800338745\n",
      "Trial summary\n",
      "Hyperparameters:\n",
      "learning_rate: 0.001\n",
      "batch_size: 256\n",
      "epochs: 5\n",
      "Score: 0.7350767254829407\n",
      "Trial summary\n",
      "Hyperparameters:\n",
      "learning_rate: 0.001\n",
      "batch_size: 256\n",
      "epochs: 5\n",
      "Score: 0.7339397668838501\n",
      "Trial summary\n",
      "Hyperparameters:\n",
      "learning_rate: 0.0001\n",
      "batch_size: 256\n",
      "epochs: 5\n",
      "Score: 0.7319499850273132\n",
      "None\n",
      "Model: \"sequential\"\n",
      "_________________________________________________________________\n",
      "Layer (type)                 Output Shape              Param #   \n",
      "=================================================================\n",
      "embedding (Embedding)        (None, 191, 300)          3000000   \n",
      "_________________________________________________________________\n",
      "bidirectional (Bidirectional (None, 128)               186880    \n",
      "_________________________________________________________________\n",
      "dropout (Dropout)            (None, 128)               0         \n",
      "_________________________________________________________________\n",
      "repeat_vector (RepeatVector) (None, 64, 128)           0         \n",
      "_________________________________________________________________\n",
      "bidirectional_1 (Bidirection (None, 64, 128)           98816     \n",
      "_________________________________________________________________\n",
      "time_distributed (TimeDistri (None, 64, 64)            8256      \n",
      "_________________________________________________________________\n",
      "flatten (Flatten)            (None, 4096)              0         \n",
      "_________________________________________________________________\n",
      "dense_1 (Dense)              (None, 74)                303178    \n",
      "=================================================================\n",
      "Total params: 3,597,130\n",
      "Trainable params: 3,597,130\n",
      "Non-trainable params: 0\n",
      "_________________________________________________________________\n",
      "None\n",
      "Hyperparameters for TRANSFORMER are <tensorflow.python.keras.engine.sequential.Sequential object at 0x000002020E708648>\n",
      "{'learning_rate': 0.0001, 'batch_size': 256, 'epochs': 5}\n",
      "Epoch 1/5\n",
      "55/55 [==============================] - 329s 6s/step - loss: 0.5781 - accuracy: 0.8188 - val_loss: 0.8315 - val_accuracy: 0.7567\n",
      "Epoch 2/5\n",
      "55/55 [==============================] - 331s 6s/step - loss: 0.4872 - accuracy: 0.8434 - val_loss: 0.7872 - val_accuracy: 0.7760\n",
      "Epoch 3/5\n",
      "55/55 [==============================] - 345s 6s/step - loss: 0.4240 - accuracy: 0.8633 - val_loss: 0.7710 - val_accuracy: 0.7868\n",
      "Epoch 4/5\n",
      "55/55 [==============================] - 330s 6s/step - loss: 0.3837 - accuracy: 0.8757 - val_loss: 0.7673 - val_accuracy: 0.7865\n",
      "Epoch 5/5\n",
      "55/55 [==============================] - 327s 6s/step - loss: 0.3465 - accuracy: 0.8873 - val_loss: 0.7773 - val_accuracy: 0.7953\n"
     ]
    },
    {
     "data": {
      "image/png": "[encoded data removed]",
      "text/plain": [
       "<Figure size 432x288 with 1 Axes>"
      ]
     },
     "metadata": {
      "needs_background": "light"
     },
     "output_type": "display_data"
    },
    {
     "data": {
      "image/png": "[encoded data removed]",
      "text/plain": [
       "<Figure size 432x288 with 1 Axes>"
      ]
     },
     "metadata": {
      "needs_background": "light"
     },
     "output_type": "display_data"
    },
    {
     "name": "stdout",
     "output_type": "stream",
     "text": [
      "Accuracy of TRANSFORMER for level1 augmented data is : 79.53382730484009\n",
      "Validation Accuracy of TRANSFORMER for level1 augmented data is: 91.72590374946594\n",
      "Mean loss of  Validation data of TRANSFORMER for level1 augmented data is : 0.7868643522262573\n",
      "Mean loss of  training data of TRANSFORMER for level1 augmented data is : 0.44390264749526975\n"
     ]
    }
   ],
   "source": [
    "def TRANSFORMER_model1(hp):\n",
    " model = tf.keras.Sequential()\n",
    " model.add(Embedding(max_features,emb_dim,input_length=inp_len1))\n",
    " model.add(Bidirectional(LSTM(64, return_sequences=False)))\n",
    " model.add(Dropout(0.2))\n",
    " model.add(RepeatVector(64))\n",
    " model.add(Bidirectional(LSTM(64, return_sequences=True)))\n",
    " model.add(TimeDistributed(Dense(units = 64, activation = 'relu')))\n",
    " model.add(Flatten())\n",
    " model.add(Dense(74, activation='softmax'))\n",
    " print(model.summary())\n",
    " lr = hp.Choice('learning_rate', [1e-2, 1e-3, 1e-4])   \n",
    " model.compile(optimizer='adam',\n",
    "              loss='categorical_crossentropy',\n",
    "              metrics=['accuracy'])\n",
    " \n",
    " return model\n",
    "\n",
    "tuner =MyTuner(\n",
    "    TRANSFORMER_model1,\n",
    "    objective='val_accuracy',\n",
    "    max_trials=10,\n",
    "    executions_per_trial=1,\n",
    "    seed=123,\n",
    "    directory=\"C:/Hyperparameter/7p\"\n",
    ")\n",
    "\n",
    "tuner.search(X_train_aug1,y_train_aug1,validation_data=(X_test_aug1,y_test_aug1))\n",
    "print(tuner.results_summary(5))\n",
    "best_model_TRANSFORMER = tuner.get_best_models()[0]\n",
    "print(\"Hyperparameters for TRANSFORMER are\",best_model_TRANSFORMER)\n",
    "\n",
    "\n",
    "modelname=\"TRANSFORMERModel_aug1\"\n",
    "vals=tuner.oracle.get_best_trials(num_trials=1)[0].hyperparameters.values\n",
    "print(vals)\n",
    "batch_size_hyp=list(vals.values())[1]\n",
    "epochs_hyp=list(vals.values())[2]\n",
    "history=best_model_TRANSFORMER.fit(X_train_aug1,y_train_aug1,batch_size=batch_size_hyp,epochs=epochs_hyp,validation_data=(X_test_aug1,y_test_aug1),callbacks=[early_stopping])\n",
    "plot(best_model_TRANSFORMER,history)\n",
    "\n",
    "scores_TRANSFORMER_aug1 =best_model_TRANSFORMER.evaluate(X_test_aug1, y_test_aug1, verbose=0)\n",
    "scores_TRANSFORMER_val_aug1 = best_model_TRANSFORMER.evaluate(X_train_aug1, y_train_aug1, verbose=0)\n",
    "print(\"Accuracy of TRANSFORMER for level1 augmented data is :\", (scores_TRANSFORMER_aug1[1]*100))\n",
    "print(\"Validation Accuracy of TRANSFORMER for level1 augmented data is:\", (scores_TRANSFORMER_val_aug1[1]*100))\n",
    "#print(\"Validation Accuracy of TRANSFORMER for level1 augmented data is:\" ,np.array(history.history['val_acc']).mean()*100)\n",
    "print( \"Mean loss of  Validation data of TRANSFORMER for level1 augmented data is :\",np.array(history.history['val_loss']).mean())\n",
    "print( \"Mean loss of  training data of TRANSFORMER for level1 augmented data is :\",np.array(history.history['loss']).mean())"
   ]
  },
  {
   "cell_type": "code",
   "execution_count": 15,
   "metadata": {},
   "outputs": [
    {
     "name": "stdout",
     "output_type": "stream",
     "text": [
      "Trial 10 Complete [00h 59m 08s]\n",
      "val_accuracy: 0.835548460483551\n",
      "\n",
      "Best val_accuracy So Far: 0.8397117853164673\n",
      "Total elapsed time: 09h 51m 47s\n",
      "INFO:tensorflow:Oracle triggered exit\n",
      "Results summary\n",
      "Results in C:/Hyperparameter/7k\\untitled_project\n",
      "Showing 5 best trials\n",
      "Objective(name='val_accuracy', direction='max')\n",
      "Trial summary\n",
      "Hyperparameters:\n",
      "learning_rate: 0.001\n",
      "batch_size: 256\n",
      "epochs: 5\n",
      "Score: 0.8397117853164673\n",
      "Trial summary\n",
      "Hyperparameters:\n",
      "learning_rate: 0.01\n",
      "batch_size: 256\n",
      "epochs: 5\n",
      "Score: 0.835548460483551\n",
      "Trial summary\n",
      "Hyperparameters:\n",
      "learning_rate: 0.01\n",
      "batch_size: 256\n",
      "epochs: 5\n",
      "Score: 0.8349079489707947\n",
      "Trial summary\n",
      "Hyperparameters:\n",
      "learning_rate: 0.0001\n",
      "batch_size: 256\n",
      "epochs: 5\n",
      "Score: 0.8345876932144165\n",
      "Trial summary\n",
      "Hyperparameters:\n",
      "learning_rate: 0.001\n",
      "batch_size: 256\n",
      "epochs: 5\n",
      "Score: 0.8313851356506348\n",
      "None\n",
      "Model: \"sequential\"\n",
      "_________________________________________________________________\n",
      "Layer (type)                 Output Shape              Param #   \n",
      "=================================================================\n",
      "embedding (Embedding)        (None, 191, 300)          3000000   \n",
      "_________________________________________________________________\n",
      "bidirectional (Bidirectional (None, 128)               186880    \n",
      "_________________________________________________________________\n",
      "dropout (Dropout)            (None, 128)               0         \n",
      "_________________________________________________________________\n",
      "repeat_vector (RepeatVector) (None, 64, 128)           0         \n",
      "_________________________________________________________________\n",
      "bidirectional_1 (Bidirection (None, 64, 128)           98816     \n",
      "_________________________________________________________________\n",
      "time_distributed (TimeDistri (None, 64, 64)            8256      \n",
      "_________________________________________________________________\n",
      "flatten (Flatten)            (None, 4096)              0         \n",
      "_________________________________________________________________\n",
      "dense_1 (Dense)              (None, 74)                303178    \n",
      "=================================================================\n",
      "Total params: 3,597,130\n",
      "Trainable params: 3,597,130\n",
      "Non-trainable params: 0\n",
      "_________________________________________________________________\n",
      "None\n",
      "Hyperparameters for TRANSFORMER are <tensorflow.python.keras.engine.sequential.Sequential object at 0x00000202117C48C8>\n",
      "{'learning_rate': 0.001, 'batch_size': 256, 'epochs': 5}\n",
      "Epoch 1/5\n",
      "98/98 [==============================] - 724s 7s/step - loss: 0.3741 - accuracy: 0.8805 - val_loss: 0.5099 - val_accuracy: 0.8440\n",
      "Epoch 2/5\n",
      "98/98 [==============================] - 709s 7s/step - loss: 0.3315 - accuracy: 0.8912 - val_loss: 0.4755 - val_accuracy: 0.8588\n",
      "Epoch 3/5\n",
      "98/98 [==============================] - 713s 7s/step - loss: 0.2953 - accuracy: 0.9031 - val_loss: 0.4904 - val_accuracy: 0.8592\n",
      "Epoch 4/5\n",
      "98/98 [==============================] - 675s 7s/step - loss: 0.2778 - accuracy: 0.9060 - val_loss: 0.4672 - val_accuracy: 0.8703\n",
      "Epoch 5/5\n",
      "98/98 [==============================] - 683s 7s/step - loss: 0.2540 - accuracy: 0.9141 - val_loss: 0.4847 - val_accuracy: 0.8722\n"
     ]
    },
    {
     "data": {
      "image/png": "[encoded data removed]",
      "text/plain": [
       "<Figure size 432x288 with 1 Axes>"
      ]
     },
     "metadata": {
      "needs_background": "light"
     },
     "output_type": "display_data"
    },
    {
     "data": {
      "image/png": "[encoded data removed]",
      "text/plain": [
       "<Figure size 432x288 with 1 Axes>"
      ]
     },
     "metadata": {
      "needs_background": "light"
     },
     "output_type": "display_data"
    },
    {
     "name": "stdout",
     "output_type": "stream",
     "text": [
      "Accuracy of TRANSFORMER for level2 augmented data is : 87.22177743911743\n",
      "Validation Accuracy of TRANSFORMER for level2 augmented data is: 93.70996356010437\n",
      "Mean loss of  Validation data of TRANSFORMER for level2 augmented data is : 0.4855508625507355\n",
      "Mean loss of  training data of TRANSFORMER for level2 augmented data is : 0.3065550744533539\n"
     ]
    }
   ],
   "source": [
    "tuner =MyTuner(\n",
    "    TRANSFORMER_model1,\n",
    "    objective='val_accuracy',\n",
    "    max_trials=10,\n",
    "    executions_per_trial=1,\n",
    "    seed=123,\n",
    "    directory=\"C:/Hyperparameter/7k\"\n",
    ")\n",
    "\n",
    "tuner.search(X_train_aug2,y_train_aug2,validation_data=(X_test_aug2,y_test_aug2))\n",
    "print(tuner.results_summary(5))\n",
    "best_model_TRANSFORMER = tuner.get_best_models()[0]\n",
    "print(\"Hyperparameters for TRANSFORMER are\",best_model_TRANSFORMER)\n",
    "\n",
    "\n",
    "modelname=\"TRANSFORMERModel_aug2\"\n",
    "vals=tuner.oracle.get_best_trials(num_trials=1)[0].hyperparameters.values\n",
    "print(vals)\n",
    "batch_size_hyp=list(vals.values())[1]\n",
    "epochs_hyp=list(vals.values())[2]\n",
    "history=best_model_TRANSFORMER.fit(X_train_aug2,y_train_aug2,batch_size=batch_size_hyp,epochs=epochs_hyp,validation_data=(X_test_aug2,y_test_aug2),callbacks=[early_stopping])\n",
    "plot(best_model_TRANSFORMER,history)\n",
    "\n",
    "scores_TRANSFORMER_aug2 =best_model_TRANSFORMER.evaluate(X_test_aug2, y_test_aug2, verbose=0)\n",
    "scores_TRANSFORMER_val_aug2 = best_model_TRANSFORMER.evaluate(X_train_aug2, y_train_aug2, verbose=0)\n",
    "print(\"Accuracy of TRANSFORMER for level2 augmented data is :\", (scores_TRANSFORMER_aug2[1]*100))\n",
    "print(\"Validation Accuracy of TRANSFORMER for level2 augmented data is:\", (scores_TRANSFORMER_val_aug2[1]*100))\n",
    "#print(\"Validation Accuracy of TRANSFORMER for level2 augmented data is:\" ,np.array(history.history['val_acc']).mean()*100)\n",
    "print( \"Mean loss of  Validation data of TRANSFORMER for level2 augmented data is :\",np.array(history.history['val_loss']).mean())\n",
    "print( \"Mean loss of  training data of TRANSFORMER for level2 augmented data is :\",np.array(history.history['loss']).mean())"
   ]
  },
  {
   "cell_type": "code",
   "execution_count": 17,
   "metadata": {},
   "outputs": [
    {
     "name": "stdout",
     "output_type": "stream",
     "text": [
      "Accuracy of ENCODER DECODER without attention with hyperparameter tuning unagumented data is: 59.92928743362427\n",
      "Accuracy of ENCODER DECODER without attention with hyperparameter tuning for level1 augmentation data is: 79.53382730484009\n",
      "Accuracy of ENCODER DECODER without attention with hyperparameter tuning for level2 augmentation data is: 87.22177743911743\n"
     ]
    }
   ],
   "source": [
    "print(\"Accuracy of ENCODER DECODER without attention with hyperparameter tuning unagumented data is:\", (scores_TRANSFORMER[1]*100))\n",
    "print(\"Accuracy of ENCODER DECODER without attention with hyperparameter tuning for level1 augmentation data is:\", (scores_TRANSFORMER_aug1[1]*100))\n",
    "print(\"Accuracy of ENCODER DECODER without attention with hyperparameter tuning for level2 augmentation data is:\", (scores_TRANSFORMER_aug2[1]*100))                                                                                                    "
   ]
  }
 ],
 "metadata": {
  "kernelspec": {
   "display_name": "Python 3",
   "language": "python",
   "name": "python3"
  },
  "language_info": {
   "codemirror_mode": {
    "name": "ipython",
    "version": 3
   },
   "file_extension": ".py",
   "mimetype": "text/x-python",
   "name": "python",
   "nbconvert_exporter": "python",
   "pygments_lexer": "ipython3",
   "version": "3.7.6"
  }
 },
 "nbformat": 4,
 "nbformat_minor": 4
}
