{
  "nbformat": 4,
  "nbformat_minor": 0,
  "metadata": {
    "kernelspec": {
      "display_name": "Python 3",
      "language": "python",
      "name": "python3"
    },
    "language_info": {
      "codemirror_mode": {
        "name": "ipython",
        "version": 3
      },
      "file_extension": ".py",
      "mimetype": "text/x-python",
      "name": "python",
      "nbconvert_exporter": "python",
      "pygments_lexer": "ipython3",
      "version": "3.8.5"
    },
    "colab": {
      "name": "capstone_nlp_FeatureEngg-Part2.ipynb",
      "provenance": [],
      "collapsed_sections": [
        "v1qYpaJ3kDwP",
        "kNNlrRQBktF_",
        "EnOufayemi3X",
        "CYChYp5fnPnF",
        "NkxvcKDmw_u4"
      ],
      "toc_visible": true,
      "machine_shape": "hm"
    },
    "accelerator": "GPU"
  },
  "cells": [
    {
      "cell_type": "code",
      "metadata": {
        "id": "pciKqcdcw7sV"
      },
      "source": [
        "import pandas as pd  \n",
        "import numpy as np\n",
        "import matplotlib.pyplot as plt\n",
        "import tensorflow as tf\n",
        "plt.style.use('fivethirtyeight')\n",
        "\n",
        "%matplotlib inline\n",
        "%config InlineBackend.figure_format = 'retina'"
      ],
      "execution_count": 1,
      "outputs": []
    },
    {
      "cell_type": "code",
      "metadata": {
        "colab": {
          "base_uri": "https://localhost:8080/"
        },
        "id": "stnGDyvyxMnP",
        "outputId": "85ff6a74-f710-43d2-ac70-74354a7d3695"
      },
      "source": [
        "from google.colab import drive\n",
        "drive.mount('/content/drive')"
      ],
      "execution_count": 2,
      "outputs": [
        {
          "output_type": "stream",
          "text": [
            "Mounted at /content/drive\n"
          ],
          "name": "stdout"
        }
      ]
    },
    {
      "cell_type": "code",
      "metadata": {
        "colab": {
          "base_uri": "https://localhost:8080/",
          "height": 204
        },
        "id": "d4zJkf-9w7sW",
        "outputId": "129082ca-5dbf-4cad-c731-facebdaf9d50"
      },
      "source": [
        "my_df = pd.read_csv('drive/MyDrive/datasets/input_data_after_preprocessing_for_ml.csv')\n",
        "#my_df = pd.read_csv(csv,index_col=0)\n",
        "my_df.head()"
      ],
      "execution_count": 3,
      "outputs": [
        {
          "output_type": "execute_result",
          "data": {
            "text/html": [
              "<div>\n",
              "<style scoped>\n",
              "    .dataframe tbody tr th:only-of-type {\n",
              "        vertical-align: middle;\n",
              "    }\n",
              "\n",
              "    .dataframe tbody tr th {\n",
              "        vertical-align: top;\n",
              "    }\n",
              "\n",
              "    .dataframe thead th {\n",
              "        text-align: right;\n",
              "    }\n",
              "</style>\n",
              "<table border=\"1\" class=\"dataframe\">\n",
              "  <thead>\n",
              "    <tr style=\"text-align: right;\">\n",
              "      <th></th>\n",
              "      <th>Unnamed: 0</th>\n",
              "      <th>Combined Description Cleaned</th>\n",
              "      <th>Assignment group</th>\n",
              "    </tr>\n",
              "  </thead>\n",
              "  <tbody>\n",
              "    <tr>\n",
              "      <th>0</th>\n",
              "      <td>0</td>\n",
              "      <td>login issue user manager name checked the name...</td>\n",
              "      <td>GRP_0</td>\n",
              "    </tr>\n",
              "    <tr>\n",
              "      <th>1</th>\n",
              "      <td>1</td>\n",
              "      <td>outlook received from hello team my are not in...</td>\n",
              "      <td>GRP_0</td>\n",
              "    </tr>\n",
              "    <tr>\n",
              "      <th>2</th>\n",
              "      <td>2</td>\n",
              "      <td>cannot log in to received from hi i cannot on ...</td>\n",
              "      <td>GRP_0</td>\n",
              "    </tr>\n",
              "    <tr>\n",
              "      <th>3</th>\n",
              "      <td>3</td>\n",
              "      <td>unable to access tool page</td>\n",
              "      <td>GRP_0</td>\n",
              "    </tr>\n",
              "    <tr>\n",
              "      <th>4</th>\n",
              "      <td>4</td>\n",
              "      <td>error</td>\n",
              "      <td>GRP_0</td>\n",
              "    </tr>\n",
              "  </tbody>\n",
              "</table>\n",
              "</div>"
            ],
            "text/plain": [
              "   Unnamed: 0  ... Assignment group\n",
              "0           0  ...            GRP_0\n",
              "1           1  ...            GRP_0\n",
              "2           2  ...            GRP_0\n",
              "3           3  ...            GRP_0\n",
              "4           4  ...            GRP_0\n",
              "\n",
              "[5 rows x 3 columns]"
            ]
          },
          "metadata": {
            "tags": []
          },
          "execution_count": 3
        }
      ]
    },
    {
      "cell_type": "code",
      "metadata": {
        "colab": {
          "base_uri": "https://localhost:8080/"
        },
        "id": "k8AvqEjyx8bw",
        "outputId": "883d9bc9-ef02-4c8d-d72e-a831f6f49063"
      },
      "source": [
        "df2 = my_df\n",
        "my_df['Assignment group by number'] = my_df['Assignment group'].str[4:]\n",
        "my_df['Assignment group by number'] = my_df['Assignment group by number'].astype(int)\n",
        "my_df.info()"
      ],
      "execution_count": 4,
      "outputs": [
        {
          "output_type": "stream",
          "text": [
            "<class 'pandas.core.frame.DataFrame'>\n",
            "RangeIndex: 8500 entries, 0 to 8499\n",
            "Data columns (total 4 columns):\n",
            " #   Column                        Non-Null Count  Dtype \n",
            "---  ------                        --------------  ----- \n",
            " 0   Unnamed: 0                    8500 non-null   int64 \n",
            " 1   Combined Description Cleaned  8500 non-null   object\n",
            " 2   Assignment group              8500 non-null   object\n",
            " 3   Assignment group by number    8500 non-null   int64 \n",
            "dtypes: int64(2), object(2)\n",
            "memory usage: 265.8+ KB\n"
          ],
          "name": "stdout"
        }
      ]
    },
    {
      "cell_type": "code",
      "metadata": {
        "colab": {
          "base_uri": "https://localhost:8080/"
        },
        "id": "lm8eFMaJw7sW",
        "outputId": "a4910ad5-5be8-4964-bf99-00d6985975c2"
      },
      "source": [
        "my_df.dropna(inplace=True)\n",
        "my_df.reset_index(drop=True,inplace=True)\n",
        "my_df.info()"
      ],
      "execution_count": 5,
      "outputs": [
        {
          "output_type": "stream",
          "text": [
            "<class 'pandas.core.frame.DataFrame'>\n",
            "RangeIndex: 8500 entries, 0 to 8499\n",
            "Data columns (total 4 columns):\n",
            " #   Column                        Non-Null Count  Dtype \n",
            "---  ------                        --------------  ----- \n",
            " 0   Unnamed: 0                    8500 non-null   int64 \n",
            " 1   Combined Description Cleaned  8500 non-null   object\n",
            " 2   Assignment group              8500 non-null   object\n",
            " 3   Assignment group by number    8500 non-null   int64 \n",
            "dtypes: int64(2), object(2)\n",
            "memory usage: 265.8+ KB\n"
          ],
          "name": "stdout"
        }
      ]
    },
    {
      "cell_type": "code",
      "metadata": {
        "id": "1TYa-7tBw7sX"
      },
      "source": [
        "x = my_df['Combined Description Cleaned']\n",
        "y = my_df['Assignment group by number']"
      ],
      "execution_count": 6,
      "outputs": []
    },
    {
      "cell_type": "code",
      "metadata": {
        "id": "UNZmGFaad51Y"
      },
      "source": [
        "#y = tf.keras.utils.to_categorical(y)"
      ],
      "execution_count": 7,
      "outputs": []
    },
    {
      "cell_type": "code",
      "metadata": {
        "id": "I8xeAElLw7sX"
      },
      "source": [
        "from sklearn.model_selection import train_test_split\n",
        "SEED = 2000\n",
        "x_train, x_validation_and_test, y_train, y_validation_and_test = train_test_split(x, y, test_size=.02,\n",
        "                                                                                  random_state=SEED, shuffle=True)\n",
        "                                                                                 # stratify=y)\n",
        "x_validation, x_test, y_validation, y_test = train_test_split(x_validation_and_test, y_validation_and_test, test_size=.5, random_state=SEED)"
      ],
      "execution_count": 8,
      "outputs": []
    },
    {
      "cell_type": "code",
      "metadata": {
        "colab": {
          "base_uri": "https://localhost:8080/"
        },
        "id": "vrKnNcKlfMe6",
        "outputId": "5bf70dc9-29f3-449f-d028-7ac9fea342e3"
      },
      "source": [
        "y_train.shape"
      ],
      "execution_count": 9,
      "outputs": [
        {
          "output_type": "execute_result",
          "data": {
            "text/plain": [
              "(8330,)"
            ]
          },
          "metadata": {
            "tags": []
          },
          "execution_count": 9
        }
      ]
    },
    {
      "cell_type": "code",
      "metadata": {
        "colab": {
          "base_uri": "https://localhost:8080/"
        },
        "id": "1DPubI-kfQ_F",
        "outputId": "77f07c53-0839-48e3-c67b-37208ec369fc"
      },
      "source": [
        "y_validation.shape"
      ],
      "execution_count": 10,
      "outputs": [
        {
          "output_type": "execute_result",
          "data": {
            "text/plain": [
              "(85,)"
            ]
          },
          "metadata": {
            "tags": []
          },
          "execution_count": 10
        }
      ]
    },
    {
      "cell_type": "code",
      "metadata": {
        "id": "wKD2Zc-vw7sX"
      },
      "source": [
        "from sklearn.linear_model import LogisticRegression"
      ],
      "execution_count": 11,
      "outputs": []
    },
    {
      "cell_type": "markdown",
      "metadata": {
        "id": "1vpELwjVw7sX"
      },
      "source": [
        "## Doc2Vec"
      ]
    },
    {
      "cell_type": "markdown",
      "metadata": {
        "id": "LS_CqoRXw7sX"
      },
      "source": [
        "Before we jump into doc2vec, it will be better to first start by word2vec. \"Word2vec is a group of related models that are used to produce word embeddings. These models are shallow, two-layer neural networks that are trained to reconstruct linguistic contexts of words.\""
      ]
    },
    {
      "cell_type": "markdown",
      "metadata": {
        "id": "w_JYgNqFw7sZ"
      },
      "source": [
        "DM: \n",
        "This is the Doc2Vec model analogous to CBOW model in Word2vec. The paragraph vectors are obtained by training a neural network on the task of inferring a centre word based on context words and a context paragraph. \n",
        "\n",
        "DBOW:\n",
        "This is the Doc2Vec model analogous to Skip-gram model in Word2Vec. The paragraph vectors are obtained by training a neural network on the task of predicting a probability distribution of words in a paragraph given a randomly-sampled word from the paragraph."
      ]
    },
    {
      "cell_type": "markdown",
      "metadata": {
        "id": "1dEs4yhTw7sZ"
      },
      "source": [
        "Below are the methods I used to get the vectors for each ticket.\n",
        "\n",
        "1. DBOW (Distributed Bag of Words)\n",
        "2. DMC (Distributed Memory Concatenated)\n",
        "3. DMM (Distributed Memory Mean)\n",
        "4. DBOW + DMC\n",
        "5. DBOW + DMM\n",
        "\n",
        "With above vectors, I fit a simple logistic regression model and evaluated the result on the validation set."
      ]
    },
    {
      "cell_type": "code",
      "metadata": {
        "id": "rZ5XwG-6w7sa"
      },
      "source": [
        "from tqdm import tqdm\n",
        "tqdm.pandas(desc=\"progress-bar\")\n",
        "from gensim.models import Doc2Vec\n",
        "from gensim.models.doc2vec import LabeledSentence\n",
        "import multiprocessing\n",
        "from sklearn import utils"
      ],
      "execution_count": 12,
      "outputs": []
    },
    {
      "cell_type": "code",
      "metadata": {
        "id": "eFXvuBqEw7sa"
      },
      "source": [
        "def labelize_tickets_ug(tickets,label):\n",
        "    result = []\n",
        "    prefix = label\n",
        "    for i, t in zip(tickets.index, tickets):\n",
        "        result.append(LabeledSentence(t.split(), [prefix + '_%s' % i]))\n",
        "    return result"
      ],
      "execution_count": 13,
      "outputs": []
    },
    {
      "cell_type": "markdown",
      "metadata": {
        "id": "NHz3qs67w7sa"
      },
      "source": [
        "Also, the same rationale has been applied in the Gensim's Doc2Vec tutorial. In the IMDB tutorial, vector training is occurring on all documents of the data set, including all train/test/dev set. https://github.com/RaRe-Technologies/gensim/blob/develop/docs/notebooks/doc2vec-IMDB.ipynb"
      ]
    },
    {
      "cell_type": "code",
      "metadata": {
        "colab": {
          "base_uri": "https://localhost:8080/"
        },
        "id": "IB0m92N_w7sa",
        "outputId": "90e76ce4-9277-4055-a100-14d7e245f022"
      },
      "source": [
        "all_x = pd.concat([x_train,x_validation,x_test])\n",
        "all_x_w2v = labelize_tickets_ug(all_x, 'all')"
      ],
      "execution_count": 14,
      "outputs": [
        {
          "output_type": "stream",
          "text": [
            "/usr/local/lib/python3.6/dist-packages/ipykernel_launcher.py:5: DeprecationWarning: Call to deprecated `LabeledSentence` (Class will be removed in 4.0.0, use TaggedDocument instead).\n",
            "  \"\"\"\n"
          ],
          "name": "stderr"
        }
      ]
    },
    {
      "cell_type": "code",
      "metadata": {
        "colab": {
          "base_uri": "https://localhost:8080/"
        },
        "id": "L8iC6ZFGw7sa",
        "outputId": "9830c96f-df12-45cc-fbd7-96fef11d466d"
      },
      "source": [
        "len(all_x_w2v)"
      ],
      "execution_count": 15,
      "outputs": [
        {
          "output_type": "execute_result",
          "data": {
            "text/plain": [
              "8500"
            ]
          },
          "metadata": {
            "tags": []
          },
          "execution_count": 15
        }
      ]
    },
    {
      "cell_type": "code",
      "metadata": {
        "colab": {
          "base_uri": "https://localhost:8080/"
        },
        "id": "EjgF4Kifykfm",
        "outputId": "cfbdd13d-a712-4bb3-e0bf-943be6bcf834"
      },
      "source": [
        "all_x_w2v"
      ],
      "execution_count": 16,
      "outputs": [
        {
          "output_type": "execute_result",
          "data": {
            "text/plain": [
              "[LabeledSentence(words=['we', 'need', 'a', 'for', 'material', 'plant', 'plant', 'thanks'], tags=['all_4587']),\n",
              " LabeledSentence(words=['account', 'locked', 'out'], tags=['all_1728']),\n",
              " LabeledSentence(words=['account', 'locked', 'in', 'ad'], tags=['all_6771']),\n",
              " LabeledSentence(words=['with', 'ie'], tags=['all_5292']),\n",
              " LabeledSentence(words=['jpg', 'files', 'encrypted'], tags=['all_698']),\n",
              " LabeledSentence(words=['action', 'could', 'not', 'be', 'is', 'getting', 'the', 'following', 'error', 'message', 'when', 'trying', 'to', 'access', 'no', 'data', 'found', 'for', 'employee', 'inform', 'system', 'administration', 'please', 'sync', 'her'], tags=['all_1189']),\n",
              " LabeledSentence(words=['account', 'lockout'], tags=['all_6729']),\n",
              " LabeledSentence(words=['invalid', 'incompletion', 'error', 'on', 'so', 'so', 'configuration', 'for', 'which', 'is', 'invalid', 'these', 'are', 'complete', 'and', 'should', 'not', 'be', 'there'], tags=['all_4620']),\n",
              " LabeledSentence(words=['account', 'locked'], tags=['all_4037']),\n",
              " LabeledSentence(words=['unable', 'to', 'submit', 'discount', 'form'], tags=['all_7319']),\n",
              " LabeledSentence(words=['cannot', 'access', 'or', 'collaboration', 'platform', 'when', 'i', 'try', 'to', 'open', 'am', 'enter', 'my', 'address', 'then', 'password', 'and', 'the', 'process', 'did', 'change', 'password', 'today', 'but', 'do', 'not', 'know', 'if', 'that', 'anything', 'do', 'with', 'it'], tags=['all_1730']),\n",
              " LabeledSentence(words=['password', 'reset'], tags=['all_4630']),\n",
              " LabeledSentence(words=['is', 'slow', 'for', 'few', 'at', 'office', 'not', 'all', 'impacted'], tags=['all_4218']),\n",
              " LabeledSentence(words=['can', 'u', 'check', 'if', 'server', 'is', 'working', 'fine', 'from', 'c', 'sent', 'to', 'subject', 'fine', 'also'], tags=['all_5283']),\n",
              " LabeledSentence(words=['read', 'and', 'write', 'access', 'for', 'm', 'drive', 'folder', 'received', 'from', 'hi', 'please', 'provide', 'of', 'following', 'in', 'coating', 'data', 'day', 'wise', 'month', 'production', 'computer', 'name', 'user', 'id', 'are', 'as', 'per', 'the', 'below', 'list', 'system', 'number', 'id', 'pu', 'grinding'], tags=['all_6767']),\n",
              " LabeledSentence(words=['lock', 'out', 'mi', 'system'], tags=['all_5999']),\n",
              " LabeledSentence(words=['need', 'to', 'configure', 'and'], tags=['all_5073']),\n",
              " LabeledSentence(words=['lost', 'access', 'to', 'mi', 'scanning', 'name', 'telephone', 'summary', 'two', 'scanning', 'clock', 'and'], tags=['all_1133']),\n",
              " LabeledSentence(words=['access', 'for', 'outlook', 'exchange', 'on', 'phone'], tags=['all_3597']),\n",
              " LabeledSentence(words=['request', 'it', 'need', 'on', 'are', 'currently', 'only', 'available', 'for', 'in', 'pa', 'and', 'ar', 'we', 'apologize', 'the', 'inconvenience', 'days', 'notice', 'is', 'a', 'to', 'be', 'ready', 'can', 'reserved', 'no', 'more', 'than', 'advance', 'will', 'return', 'maximum', 'of', 'does', 'user', 'remote', 'access', 'if', 'yes', 'who', 'requester', 'manager', 'approval', 'comes', 'with', 'additional', 'office', 'word', 'excel', 'yn', 'outlook', 'following', 'by', 'it', 'dell', 'serial', 'number', 'company', 'asset', 'tag', 'note', 'all', 'not', 'returned', 'as', 'department', 'replacement'], tags=['all_5215']),\n",
              " LabeledSentence(words=['is', 'currently', 'high', 'utilization', 'please', 'investigate', 'we', 'are', 'observing', 'below', 'alert', 'in', 'tool'], tags=['all_161']),\n",
              " LabeledSentence(words=['after', 'win', 'system', 'to', 'update', 'all', 'application', 'cannot', 'be'], tags=['all_3007']),\n",
              " LabeledSentence(words=['job', 'payroll', 'na', 'u', 'in', 'job', 'schedule', 'at', 'received', 'from'], tags=['all_4049']),\n",
              " LabeledSentence(words=['all', 'my', 'to', 'phone', 'are', 'going', 'warehouse', 'it', 'is', 'not', 'even', 'ringing'], tags=['all_504']),\n",
              " LabeledSentence(words=['data', 'transfer', 'received', 'from', 'hello', 'there', 'are', 'apparel', 'hotly', 'with', 'the', 'of', 'stamp', 'times', 'eu', 'tool', 'digit', 'personnel', 'see', 'below', 'kind', 'by', 'sent', 'th', 'to', 'subject', 'temporary', 'employee', 'hello', 'everybody', 'since', 'been', 'stamping', 'his', 'card', 'in', 'eu', 'tool', 'then', 'not', 'to', 'here', 'something', 'is', 'wrong', 'no', 'or', 'trunk', 'number', 'we', 'have', 'first', 'an', 'master', 'can', 'it', 'be', 'because', 'please', 'check', 'yours', 'sincerely', 'best'], tags=['all_7807']),\n",
              " LabeledSentence(words=['job', 'job', 'in', 'job', 'schedule', 'at', 'received', 'from'], tags=['all_6130']),\n",
              " LabeledSentence(words=['the', 'connection', 'to', 'no', 'longer', 'works', 'access', 'data', 'can', 'connect', 'we', 'need', 'this', 'obtain', 'data', 'please', 'assign'], tags=['all_4809']),\n",
              " LabeledSentence(words=['do', 'not', 'create', 'a', 'demand', 'received', 'from', 'hello', 'help', 'the', 'agreement', 'is', 'shown', 'in', 'as', 'demand', 'but', 'no', 'po', 'for', 'production', 'plant', 'not', 'maybe', 'it', 'problem', 'with', 'material', 'type', 'best'], tags=['all_2952']),\n",
              " LabeledSentence(words=['collaboration', 'platform', 'access', 'not', 'going', 'through', 'received', 'from', 'to', 'the', 'concerned', 'i', 'am', 'unable', 'collaboration', 'platform', 'please', 'resolve', 'it', 'at'], tags=['all_3701']),\n",
              " LabeledSentence(words=['ad', 'account', 'lock', 'out', 'and', 'password', 'reset', 'through', 'password', 'management', 'tool', 'manager'], tags=['all_6245']),\n",
              " LabeledSentence(words=['stock', 'transfer', 'order', 'and', 'user', 'is', 'to', 'create', 'a', 'in', 'for', 'the', 'following', 'below', 'sender', 'receiver', 'material', 'quantity', 'number', 'error', 'code', 'plant', 'plant', 'net', 'price', 'calculation', 'item', 'please', 'correct', 'please', 'enter', 'could', 'someone', 'review', 'see', 'why', 'are', 'being', 'received', 'by', 'analyst', 'an', 'average', 'customer', 'so', 'there', 'should', 'be', 'no', 'error', 'system', 'automatically', 'simulate', 'price'], tags=['all_6558']),\n",
              " LabeledSentence(words=['access', 'to', 'added', 'user', 'the', 'f', 'employee', 'group', 'will', 'and', 'call', 'in', 'if', 'he', 'any'], tags=['all_4683']),\n",
              " LabeledSentence(words=['please', 'change', 'address', 'of', 'user', 'from', 'to'], tags=['all_8379']),\n",
              " LabeledSentence(words=['time', 'data', 'for', 'steel', 'are', 'missing', 'since', 'yesterday', 'around', 'all', 'missing', 'is', 'urgently', 'daily', 'performance', 'level'], tags=['all_481']),\n",
              " LabeledSentence(words=['system', 'frozen', 'on'], tags=['all_6009']),\n",
              " LabeledSentence(words=['job', 'in', 'job', 'schedule', 'at', 'received', 'from'], tags=['all_1467']),\n",
              " LabeledSentence(words=['your', 'mobile', 'device', 'is', 'temporarily', 'blocked', 'from', 'exchange', 'until', 'administrator', 'i', 'personal', 'device'], tags=['all_2559']),\n",
              " LabeledSentence(words=['bob', 'web', 'are', 'not', 'running', 'all', 'the', 'have', 'over', 'weekend', 'still', 'working'], tags=['all_1257']),\n",
              " LabeledSentence(words=['received', 'from', 'hello', 'i', 'am', 'from', 'branch', 'facing', 'issue', 'of', 'network', 'every', 'when', 'seated', 'at', 'floor', 'building', 'request', 'you', 'to', 'arrange', 'resolve', 'the'], tags=['all_5732']),\n",
              " LabeledSentence(words=['help', 'with', 'engineering', 'tool', 'error', 'hi', 'team', 'could', 'you', 'please', 'user', 'to', 'open', 'the', 'engineering', 'tool', 'he', 'did', 'file', 'in', 'site', 'error', 'verification', 'name', 'is', 'error', 'this', 'message', 'all', 'site', 'attachment', 'screen', 'and', 'zip', 'let', 'me', 'know', 'if', 'have', 'more', 'can', 'contact', 'user'], tags=['all_2677']),\n",
              " LabeledSentence(words=['update', 'office', 'to', 'bit', 'language', 'explorer', 'customer', 'number', 'telephone', 'bit'], tags=['all_4812']),\n",
              " LabeledSentence(words=['with', 'print', 'laser', 'we'], tags=['all_5583']),\n",
              " LabeledSentence(words=['unable', 'to', 'connect', 'projector', 'received', 'from', 'dear', 'sir', 'i', 'am', 'the', 'on', 'my', 'system', 'with', 'best'], tags=['all_3638']),\n",
              " LabeledSentence(words=['printer', 'change', 'from', 'to', 'received', 'from', 'hello', 'help', 'as', 'instructed', 'by', 'please', 'permanently', 'all', 'default', 'printing', 'on', 'the', 'also', 'repeat', 'sent', 'between', 'august', 'th', 'until', 'now', 'new', 'best'], tags=['all_6332']),\n",
              " LabeledSentence(words=['call', 'got', 'disconnected', 'as', 'went', 'off', 'for', 'a', 'while'], tags=['all_4558']),\n",
              " LabeledSentence(words=['is', 'not', 'working', 'need', 'urgent', 'help', 'received', 'from', 'best'], tags=['all_4844']),\n",
              " LabeledSentence(words=['unable', 'to', 'login'], tags=['all_8187']),\n",
              " LabeledSentence(words=['urgent', 'not', 'all', 'in', 'encounter', 'issue', 'with', 'see', 'the', 'error', 'message', 'attached'], tags=['all_7284']),\n",
              " LabeledSentence(words=['engineering', 'tool', 'system', 'message', 'a', 'few', 'have', 'the', 'seeing', 'attached', 'error', 'today', 'regarding', 'certificate', 'validity'], tags=['all_2549']),\n",
              " LabeledSentence(words=['enhancement', 'of', 'storage', 'capacity', 'received', 'from', 'dear', 'sir', 'we', 'do', 'not', 'have', 'sufficient', 'space', 'following', 'in', 'server', 'request', 'you', 'to', 'enhance', 'the', 'these', 'plan'], tags=['all_7708']),\n",
              " LabeledSentence(words=['with', 'we', 'the', 'printer', 'queue', 'is', 'currently', 'not', 'running'], tags=['all_1899']),\n",
              " LabeledSentence(words=['job', 'job', 'in', 'job', 'schedule', 'at', 'received', 'from'], tags=['all_468']),\n",
              " LabeledSentence(words=['job', 'in', 'job', 'schedule', 'stop', 'received', 'from', 'at'], tags=['all_8307']),\n",
              " LabeledSentence(words=['access', 'to', 'm', 'drive', 'please', 'provide', 'for', 'any', 'clarification', 'call', 'me', 'back', 'best'], tags=['all_2558']),\n",
              " LabeledSentence(words=['error', 'as', 'usual', 'implant', 'cannot', 'yet', 'be', 'have', 'before'], tags=['all_6627']),\n",
              " LabeledSentence(words=['need', 'help', 'received', 'from', 'good', 'morning', 'i', 'am', 'in', 'trouble', 'with', 'my', 'password', 'the', 'password', 'and', 'have', 'possibility', 'to', 'be', 'connected', 'connection', 'various', 'but', 'still', 'old', 'start', 'computer', 'if', 'request', 'change', 'alt', 'delete', 'password', 'it', 'is', 'not', 'working', 'can', 'you', 'help'], tags=['all_1649']),\n",
              " LabeledSentence(words=['computer', 'running', 'slow'], tags=['all_3895']),\n",
              " LabeledSentence(words=['the', 'computer', 'for', 'mi', 'at', 'us', 'plant', 'facility', 'got', 'thrown', 'out', 'of', 'company', 'domain', 'please', 'contact', 'further'], tags=['all_7688']),\n",
              " LabeledSentence(words=['password', 'reset', 'received', 'from', 'hi', 'require', 'to', 'password', 'login', 'with', 'warm'], tags=['all_650']),\n",
              " LabeledSentence(words=['owner', 'of', 'the', 'group', 'is', 'not', 'available', 'and', 'gave', 'approval', 'to', 'add', 'mail', 'from', 'sent', 'to', 'subject', 'my', 'name', 'distribution', 'with', 'best'], tags=['all_1661']),\n",
              " LabeledSentence(words=['engineering', 'tool', 'problem', 'hello', 'i', 'can', 'not', 'add', 'a', 'new', 'customer', 'while', 'making', 'engineering', 'tool', 'the', 'country', 'and', 'city', 'there', 'used', 'to', 'be', 'button', 'new', 'but'], tags=['all_3464']),\n",
              " LabeledSentence(words=['stamping', 'of', 'in', 'eu', 'tool', 'is', 'not', 'working', 'user', 'cannot', 'stamp', 'out', 'time', 'eu', 'tool', 'data', 'transferred', 'to', 'from', 'yesterday', 'he', 'does', 'know', 'which', 'employee', 'was', 'present', 'yesterday', 'and', 'who', 'absent'], tags=['all_6232']),\n",
              " LabeledSentence(words=['no', 'sound', 'from', 'the', 'phone'], tags=['all_1178']),\n",
              " LabeledSentence(words=['engineering', 'tool', 'company', 'and', 'not', 'working'], tags=['all_1513']),\n",
              " LabeledSentence(words=['evening', 'job', 'in', 'schedule', 'job', 'received', 'from', 'job', 'schedule', 'job', 'd', 'at'], tags=['all_7754']),\n",
              " LabeledSentence(words=['report', 'pro', 'clean', 'is', 'resulting', 'in', 'aba', 'error', 'i', 'tried', 'to', 'run', 'the', 'through', 'background', 'job', 'with', 'following', 'but', 'it', 'shown', 'below', 'input', 'variant', 'clean', 'application', 'quantity', 'of', 'inactive', 'content', 'have', 'attached', 'screen', 'same', 'document', 'we', 'are', 'working', 'on', 'this', 'ticket', 'being', 'without', 'configuration', 'ticket'], tags=['all_7929']),\n",
              " LabeledSentence(words=['eu', 'tool', 'is', 'very', 'slow'], tags=['all_302']),\n",
              " LabeledSentence(words=['unable', 'to', 'sign', 'into'], tags=['all_19']),\n",
              " LabeledSentence(words=['account', 'lock', 'out', 'issue'], tags=['all_6255']),\n",
              " LabeledSentence(words=['replace', 'tape', 'printer', 'we'], tags=['all_455']),\n",
              " LabeledSentence(words=['chat', 'transfer'], tags=['all_7189']),\n",
              " LabeledSentence(words=['reset', 'for', 'password', 'management', 'tool', 'password', 'reset', 'the'], tags=['all_3692']),\n",
              " LabeledSentence(words=['a', 'for', 'effective', 'been'], tags=['all_266']),\n",
              " LabeledSentence(words=['outlook', 'search', 'received', 'from', 'hello', 'help', 'team', 'i', 'have', 'the', 'problem', 'that', 'when', 'for', 'been', 'sent', 'name', 'following', 'error', 'message', 'only', 'will', 'come', 'up', 'until', 'please', 'check', 'and', 'feedback', 'many', 'thanks', 'with', 'best', 'child'], tags=['all_7931']),\n",
              " LabeledSentence(words=['is', 'down', 'distributor', 'tool', 'company', 'center', 'are', 'not', 'able', 'to', 'place', 'customer', 'service', 'in'], tags=['all_7749']),\n",
              " LabeledSentence(words=['blank', 'call', 'so', 'loud', 'noise'], tags=['all_5024']),\n",
              " LabeledSentence(words=['login', 'script', 'pop', 'up', 'query'], tags=['all_5777']),\n",
              " LabeledSentence(words=['network', 'multiple', 'are', 'running', 'slow', 'how', 'did', 'you', 'determine', 'there', 'is', 'only', 'slow', 'please', 'use', 'the', 'quick', 'ticket', 'within', 'folder', 'if', 'more', 'than', 'one', 'impacted', 'what', 'server', 'on', 'server', 'name', 'in', 'status', 'bar', 'at', 'bottom', 'right', 'of', 'your', 'screen', 'do', 'other', 'also', 'notice', 'response', 'times', 'can', 'access', 'data', 'any', 'or', 'with'], tags=['all_4026']),\n",
              " LabeledSentence(words=['need', 'added', 'to', 'outlook', 'ribbon', 'in', 'for'], tags=['all_2338']),\n",
              " LabeledSentence(words=['request', 'for', 'access', 'to', 'system', 'received', 'from', 'it', 'team', 'please', 'help', 'enable', 'system'], tags=['all_6919']),\n",
              " LabeledSentence(words=['server', 'is', 'not', 'reachable', 'with', 'of', 'data', 'request', 'timed', 'out', 'ping', 'statistics', 'for', 'sent', 'received', 'lost', 'loss'], tags=['all_1932']),\n",
              " LabeledSentence(words=['unable', 'to', 'connect'], tags=['all_693']),\n",
              " LabeledSentence(words=['please', 'to', 'provide', 'access', 'environment', 'user', 'environment', 'production', 'for', 'the', 'he', 'need', 'this', 'open', 'theses', 'and'], tags=['all_2058']),\n",
              " LabeledSentence(words=['ticket', 'no', 'ticket', 'update'], tags=['all_3953']),\n",
              " LabeledSentence(words=['outlook', 'spell', 'check', 'not', 'working', 'repeated', 'issue', 'received', 'from', 'hello', 'find', 'the', 'error', 'in', 'outlook', 'this', 'is', 'a', 'error', 'time', 'again', 'need', 'your', 'attention', 'permanent', 'solution', 'warm'], tags=['all_7463']),\n",
              " LabeledSentence(words=['need', 'add', 'on', 'my', 'new', 'latitude', 'e', 'torch', 'tool', 'viewer'], tags=['all_4887']),\n",
              " LabeledSentence(words=['service', 'tag', 'for', 'not', 'issue', 'received', 'from', 'hi', 'i', 'have', 'a', 'dell', 'in', 'the', 'system', 'number', 'when', 'plug', 'my', 'to', 'whole', 'is', 'shutting', 'down', 'and', 'with', 'screen', 'am', 'unable', 'start', 'computer', 'tried', 'charging', 'it', 'doing', 'so', 'in', 'currently', 'touch', 'pad', 'of', 'screen', 'only', 'screen', 'totally', 'unresponsive', 'please', 'help', 'out', 'user', 'name', 'ray'], tags=['all_5137']),\n",
              " LabeledSentence(words=['mobile'], tags=['all_7367']),\n",
              " LabeledSentence(words=['training'], tags=['all_5845']),\n",
              " LabeledSentence(words=['access', 'to', 'security', 'group', 'add', 'me', 'the', 'group'], tags=['all_7780']),\n",
              " LabeledSentence(words=['ticket', 'update', 'implant'], tags=['all_2718']),\n",
              " LabeledSentence(words=['with', 'engineering', 'tool', 'system', 'received', 'from', 'hello', 'feel', 'very', 'sorry', 'to', 'say', 'off', 'late', 'we', 'are', 'facing', 'lots', 'of', 'system', 'please', 'note', 'the', 'below', 'not', 'in', 'ascending', 'order', 'looking', 'for', 'particular', 'become', 'a', 'nightmare', 'best'], tags=['all_2279']),\n",
              " LabeledSentence(words=['need', 'help', 'to', 'reset', 'password'], tags=['all_6329']),\n",
              " LabeledSentence(words=['job', 'in', 'job', 'schedule', 'at', 'received', 'from'], tags=['all_6409']),\n",
              " LabeledSentence(words=['re', 'deployment', 'notification', 'telephony', 'received', 'from', 'hi', 're', 'our', 'phone', 'call', 'just', 'now', 'please', 'can', 'you', 'stop', 'immediately', 'the', 'update', 'for', 'are', 'unable', 'to', 'run', 'after', 'update', 'see', 'your', 'list', 'below', 'professional', 'user', 'bit', 'these', 'affected', 'with', 'many'], tags=['all_7424']),\n",
              " LabeledSentence(words=['create', 'object', 'for', 'account', 'plant', 'to', 'do', 'delivery', 'is', 'not', 'possible', 'error', 'below', 'an', 'assignment', 'a', 'message', 'no', 'diagnosis', 'you', 'have', 'defined', 'that', 'relevant', 'cost', 'accounting', 'system', 'response', 'as', 'element', 'this', 'must', 'always', 'specify', 'assignment', 'procedure', 'enter', 'one', 'of', 'the', 'following', 'order', 'center', 'center', 'activity', 'type', 'item', 'for', 'project', 'or', 'relevant', 'was', 'element', 'process', 'network', 'network', 'business', 'process', 'profitability', 'segment', 'real', 'estate', 'posting', 'row', 'affected'], tags=['all_3770']),\n",
              " LabeledSentence(words=['german', 'call', 'caller', 'disconnected', 'after', 'hearing'], tags=['all_6593']),\n",
              " LabeledSentence(words=['dell', 'system', 'very', 'slow', 'connected', 'to', 'the', 'user', 'cache', 'temp', 'on', 'user', 'bios', 'advised', 'try', 'again', 'and', 'check', 'user', 'its', 'was', 'working', 'fine', 'issue', 'resolved', 'c'], tags=['all_4268']),\n",
              " LabeledSentence(words=['and', 'are', 'printing', 'on', 'both', 'sides', 'needs', 'to', 'be', 'single', 'side', 'printing'], tags=['all_5876']),\n",
              " LabeledSentence(words=['please', 'check', 'order', 'voucher', 'v', 'the', 'order', 'header', 'is', 'showing', 'this', 'code', 'and', 'line', 'item', 'are', 'also', 'code', 'under', 'additional', 'data', 'b', 'nevertheless', 'table', 'id', 'empty', 'printed', 'tool', 'not', 'but', 'considered', 'discount', 'something', 'correct', 'if', 'relevant', 'for', 'then', 'it', 'should', 'consider'], tags=['all_3871']),\n",
              " LabeledSentence(words=['evening', 'job', 'in', 'schedule', 'job', 'received', 'from', 'job', 'schedule', 'job', 'at'], tags=['all_7615']),\n",
              " LabeledSentence(words=['reset', 'my', 'password', 'request', 'you', 'to', 'and', 'send', 'it', 'across'], tags=['all_2203']),\n",
              " LabeledSentence(words=['for', 'engineering', 'tool', 'issue'], tags=['all_6970']),\n",
              " LabeledSentence(words=['account', 'for', 'days', 'period', 'from', 'now', 'til', 'tomorrow', 'at'], tags=['all_971']),\n",
              " LabeledSentence(words=['cannot', 'print', 'on', 'printer', 'any', 'longer', 'please', 'fix'], tags=['all_875']),\n",
              " LabeledSentence(words=['help', 'to', 'run', 'out', 'under', 'received', 'from', 'dear', 'team', 'we', 'got', 'a', 'stock', 'recall', 'for', 'should', 'return', 'plant', 'then', 'i', 'base', 'on', 'this', 'recall', 'was', 'just', 'against', 'the', 'of', 'rest', 'lot', 'company'], tags=['all_1796']),\n",
              " LabeledSentence(words=['power', 'al', 'st', 'and', 'th', 'ave', 'hard', 'down', 'since', 'at', 'on', 'what', 'type', 'of', 'outage', 'network', 'circuit', 'x', 'power', 'please', 'specify', 'outage', 'top', 'site', 'yes', 'when', 'did', 'it', 'start', 'maintenance', 'power', 'no', 'company', 'provider', 'network', 'no', 'maint', 'does', 'have', 'a', 'backup', 'circuit', 'yes', 'active', 'na', 'contact', 'notified', 'remote', 'dialing', 'na', 'equipment', 'reset', 'working', 'na', 'vendor', 'ticket', 'global', 'vendor', 'vendor', 'global', 'additional', 'diagnostics'], tags=['all_78']),\n",
              " LabeledSentence(words=['job', 'job', 'in', 'job', 'schedule', 'at', 'received', 'from'], tags=['all_1672']),\n",
              " LabeledSentence(words=['tool', 'hand', 'error', 'received', 'from', 'hi', 'i', 'want', 'to', 'set', 'a', 'filter', 'in', 'with', 'data', 'source', 'publish', 'billing', 'billing', 's', 'am', 'getting', 'below', 'message'], tags=['all_262']),\n",
              " LabeledSentence(words=['account', 'locked'], tags=['all_3659']),\n",
              " LabeledSentence(words=['call', 'join', 'up', 'in', 'bad', 'or', 'out', 'during', 'multiple'], tags=['all_2142']),\n",
              " LabeledSentence(words=['job', 'job', 'in', 'job', 'schedule', 'at', 'received', 'from'], tags=['all_103']),\n",
              " LabeledSentence(words=['with', 'we', 'comb'], tags=['all_8413']),\n",
              " LabeledSentence(words=['yahoo', 'team', 'viewer', 'not', 'loading', 'working', 'working'], tags=['all_3354']),\n",
              " LabeledSentence(words=['password', 'reset'], tags=['all_596']),\n",
              " LabeledSentence(words=['license', 'query', 'hello', 'please', 'arrange', 'that', 'de', 'a', 'k', 'access', 'to', 'your', 'payroll', 'approval'], tags=['all_7773']),\n",
              " LabeledSentence(words=['telephony', 'the', 'of', 'payment', 'are', 'not', 'in', 'line', 'between', 'and', 'customer', 'story', 'days', 'net', 'i', 'that', 'both', 'should', 'reflect', 'same', 'data', 'according', 'to', 'information', 'received', 'from', 'it', 'was', 'by', 'finance', 'could', 'you', 'please', 'change', 'back'], tags=['all_7907']),\n",
              " LabeledSentence(words=['creation', 'error', 'since', 'we', 'have', 'many', 'that', 'multiple', 'assigned', 'to', 'their', 'profile', 'there', 'is', 'an', 'issue', 'when', 'they', 'add', 'new', 'create', 'related', 'the', 'current', 'selected', 'works', 'fine', 'change', 'and', 'exact', 'same', 'system', 'error', 'already', 'a', 'problem', 'as', 'user', 'cannot', 'recipient', 'address', 'for', 'different', 'duplication', 'check', 'should', 'only', 'be', 'done', 'against', 'of', 'currently'], tags=['all_3589']),\n",
              " LabeledSentence(words=['job', 'in', 'job', 'schedule', 'at', 'received', 'from'], tags=['all_1806']),\n",
              " LabeledSentence(words=['g', 'on', 'server', 'is', 'over', 'space', 'observing', 'below', 'alert', 'in', 'tool', 'since', 'engineering', 'tool', 'attached', 'volume', 'available', 'g'], tags=['all_6877']),\n",
              " LabeledSentence(words=['printer', 'setup', 'help', 'to', 'install', 'the', 'network', 'on'], tags=['all_7134']),\n",
              " LabeledSentence(words=['please', 'activate', 'no', 'the', 'machine', 'again', 'yes', 'under', 'am'], tags=['all_7223']),\n",
              " LabeledSentence(words=['unable', 'to', 'launch', 'business', 'client', 'getting', 'error'], tags=['all_7139']),\n",
              " LabeledSentence(words=['password', 'is', 'not', 'synchronized'], tags=['all_573']),\n",
              " LabeledSentence(words=['please', 'unlock', 'account', 'in', 'cell', 'phone', 'the', 'and', 'hello', 'team', 'could', 'you'], tags=['all_7977']),\n",
              " LabeledSentence(words=['after', 'logging', 'in', 'to', 'the', 'system', 'purchase', 'page', 'cannot', 'display', 'voucher', 'please', 'handle'], tags=['all_3307']),\n",
              " LabeledSentence(words=['job', 'job', 'd', 'in', 'job', 'schedule', 'at', 'received', 'from'], tags=['all_6674']),\n",
              " LabeledSentence(words=['error', 'trying', 'to', 'access', 'error', 'contract', 'your', 'system', 'administrator', 'for', 'see', 'the', 'loader', 'log', 'file', 'failure'], tags=['all_1503']),\n",
              " LabeledSentence(words=['mi', 'not', 'working', 'is', 'taking', 'more', 'than', 'min', 'to', 'load', 'when', 'it', 'does', 'load', 'everyone', 'getting', 'a', 'error', 'attached'], tags=['all_4429']),\n",
              " LabeledSentence(words=['ess', 'expense', 'report', 'received', 'from', 'i', 'am', 'trying', 'to', 'do', 'my', 'and', 'its', 'not', 'working', 'a', 'blank', 'screen', 'pop', 'up', 'after', 'click', 'the', 'link'], tags=['all_7146']),\n",
              " LabeledSentence(words=['label', 'printer', 'in', 'the', 'area', 'of', 'final', 'inspection', 'defective', 'dysfunction'], tags=['all_608']),\n",
              " LabeledSentence(words=['process', 'count', 'service', 'is', 'down', 'at', 'am', 'on'], tags=['all_2395']),\n",
              " LabeledSentence(words=['the', 'terminate', 'action', 'for', 'original', 'message', 'from', 'sent', 'am', 'to', 'subject', 'hello', 'a', 'termination', 'effective', 'been', 'click', 'link', 'to', 'view'], tags=['all_5332']),\n",
              " LabeledSentence(words=['password', 'must', 'be', 'reset', 'again', 'access', 'with', 'the', 'probably', 'blocked', 'account'], tags=['all_3821']),\n",
              " LabeledSentence(words=['account', 'locked'], tags=['all_4097']),\n",
              " LabeledSentence(words=['foreign', 'trade', 'data', 'missing', 'in', 'the', 'tool', 'was', 'blocked', 'system', 'for', 'were', 'item', 'and', 'after', 'first', 'analysis', 'available', 'both', 'concerned', 'is', 'now', 'but', 'could', 'you', 'check', 'what', 'order', 'to', 'avoid', 'future', 'was', 'material', 'correctly', 'any', 'there', 'a', 'incident', 'that', 'this', 'issue'], tags=['all_4222']),\n",
              " LabeledSentence(words=['install', 'win', 'ewe'], tags=['all_5117']),\n",
              " LabeledSentence(words=['password', 'received', 'from', 'hello', 'during', 'my', 'and', 'i', 'change', 'this'], tags=['all_5874']),\n",
              " LabeledSentence(words=['unable', 'to', 'generate', 'po', 'as', 'per', 'were', 'found', 'the', 'error', 'when', 'generating', 'attached', 'please', 'help', 'fixing', 'this', 'issue'], tags=['all_5328']),\n",
              " LabeledSentence(words=['job', 'job', 'in', 'job', 'schedule', 'at', 'received', 'from'], tags=['all_2137']),\n",
              " LabeledSentence(words=['shop', 'floor', 'and', 'are', 'showing', 'down', 'since', 'on'], tags=['all_7325']),\n",
              " LabeledSentence(words=['not', 'working'], tags=['all_3920']),\n",
              " LabeledSentence(words=['due', 'to', 'file', 'server', 'exchange', 'no', 'access', 'the', 'possible', 'please', 'contact', 'with', 'hurried'], tags=['all_6836']),\n",
              " LabeledSentence(words=['outlook', 'not'], tags=['all_4292']),\n",
              " LabeledSentence(words=['out', 'of', 'office', 'for', 'at', 'least', 'next', 'need', 'password', 'reset', 'the'], tags=['all_4651']),\n",
              " LabeledSentence(words=['login', 'issue', 'user', 'manager', 'name', 'checked', 'the', 'name', 'in', 'ad', 'and', 'reset', 'password', 'advised', 'to', 'check', 'caller', 'confirmed', 'that', 'he', 'was', 'able', 'login', 'issue', 'resolved'], tags=['all_4374']),\n",
              " LabeledSentence(words=['repeat', 'outbound', 'connection', 'for', 'in', 'incident', 'overview', 'we', 'are', 'seeing', 'your', 'device', 'generating', 'a', 'high', 'volume', 'of', 'repeat', 'traffic', 'blocked', 'from', 'to', 'port', 'remote', 'procedure', 'call', 'external', 'host', 'this', 'may', 'indicate', 'misconfiguration', 'where', 'the', 'is', 'blocking', 'legitimate', 'also', 'reaching', 'out', 'malicious', 'or', 'worm', 'code', 'you', 'via', 'medium', 'priority', 'ticket', 'and', 'per', 'our', 'default', 'event', 'handling', 'if', 'would', 'like', 'us', 'handle', 'these', 'differently', 'in', 'future', 'see', 'below', 'have', 'any', 'further', 'please', 'let', 'know', 'either', 'by', 'corresponding', 'back', 'soc', 'calling', 'at', 'full', 'login', 'failure', 'explicit', 'notification', 'phone', 'call', 'automatically', 'resolve', 'directly', 'portal', 'no', 'explicit', 'but', 'will', 'be', 'available', 'portal', 'sincerely', 'soc'], tags=['all_6147']),\n",
              " LabeledSentence(words=['it', 'issue', 'received', 'from', 'no', 'all', 'are', 'plugged', 'into', 'the', 'wall', 'please', 'ship', 'two', 'j'], tags=['all_4671']),\n",
              " LabeledSentence(words=['down', 'urgent', 'received', 'from', 'dear', 'all', 'virtual', 'in', 'are', 'after', 'the', 'move', 'of', 'system', 'we', 'urgently', 'missing', 'and', 'server', 'team', 'would', 'you', 'please', 'be', 'so', 'kind', 'start', 'on', 'many'], tags=['all_6878']),\n",
              " LabeledSentence(words=['help', 'to', 'install', 'in', 'computer', 'hi', 'team', 'could', 'you', 'please', 'me', 'reinstall', 'the', 'an', 'user', 'computer', 'please', 'contact', 'me', 'if', 'have', 'more', 'doubt'], tags=['all_749']),\n",
              " LabeledSentence(words=['system', 'and', 'slow', 'help', 'to', 'format', 'reinstall', 'the', 'os', 'on', 'is', 'getting', 'suddenly', 'running'], tags=['all_1385']),\n",
              " LabeledSentence(words=['domain', 'account', 'locked', 'out'], tags=['all_5633']),\n",
              " LabeledSentence(words=['password', 'reset', 'for', 'collaboration', 'platform'], tags=['all_30']),\n",
              " LabeledSentence(words=['reset', 'for', 'car', 'password', 'management', 'tool', 'password', 'reset', 'the'], tags=['all_5077']),\n",
              " LabeledSentence(words=['access', 'error', 'attached'], tags=['all_8027']),\n",
              " LabeledSentence(words=['issue', 'on'], tags=['all_221']),\n",
              " LabeledSentence(words=['job', 'he', 'in', 'job', 'schedule', 'at', 'received', 'from'], tags=['all_6121']),\n",
              " LabeledSentence(words=['not', 'station'], tags=['all_506']),\n",
              " LabeledSentence(words=['unable', 'to', 'log', 'in'], tags=['all_5161']),\n",
              " LabeledSentence(words=['urgent', 'please', 'reactive', 'user', 'id', 'received', 'from', 'hello', 'all', 'is', 'not', 'active', 'in', 'password', 'management', 'tool', 'and', 'cannot', 'access', 'to', 'can', 'you', 'check', 'do', 'what', 'necessary', 'best'], tags=['all_774']),\n",
              " LabeledSentence(words=['posting', 'error', 'urgently', 'received', 'from', 'dear', 'it', 'team', 'kindly', 'fixed', 'transaction', 'error', 'as', 'below', 'within', 'to', 'avoid', 'difference', 'for', 'intercompany', 'reconciliation', 'not', 'been', 'posted', 'duplicate', 'transaction', 'best'], tags=['all_2735']),\n",
              " LabeledSentence(words=['issue', 'received', 'from', 'hello', 'when', 'i', 'try', 'to', 'create', 'a', 'new', 'number', 'for', 'with', 'storage', 'location', 'plant', 'the', 'under', 'plant', 'even', 'is', 'as', 'plant', 'in', 'line', 'item', 'rectify', 'same'], tags=['all_1062']),\n",
              " LabeledSentence(words=['telephone', 'system', 'extension', 'to', 'wild'], tags=['all_5576']),\n",
              " LabeledSentence(words=['male', 'connected', 'to', 'the', 'user', 'system', 'help', 'login', 'portal', 'issue', 'resolved'], tags=['all_3383']),\n",
              " LabeledSentence(words=['engineering', 'tool', 'and', 'distributor', 'tool', 'error', 'unable', 'to', 'see', 'customer'], tags=['all_2164']),\n",
              " LabeledSentence(words=['account', 'unlock'], tags=['all_1752']),\n",
              " LabeledSentence(words=['activation', 'message', 'received', 'from', 'hello', 'it', 'team', 'what', 'am', 'i', 'supposed', 'to', 'do', 'with', 'that', 'issue'], tags=['all_6225']),\n",
              " LabeledSentence(words=['unable', 'to', 'end', 'out', 'an', 'some', 'from', 'sent', 'to', 'subject', 'engineering', 'drawing', 'tool', 'hi', 'ship', 'please', 'see', 'if', 'removing', 'the', 'from', 'your', 'outlook', 'cache', 'issue', 'do', 'this', 'type', 'name', 'of', 'recipient', 'you', 'will', 'find', 'a', 'x', 'next', 'name', 'click', 'on', 'it', 'remove', 'cache', 'open', 'new', 'and', 'complete', 'address', 'are', 'able', 'send'], tags=['all_4640']),\n",
              " LabeledSentence(words=['lean', 'tracker', 'not', 'working'], tags=['all_3276']),\n",
              " LabeledSentence(words=['need', 'to', 'setup', 'a', 'in', 'and', 'active', 'directory', 'create', 'the', 'assign', 'let', 'know', 'when', 'is', 'ready'], tags=['all_1638']),\n",
              " LabeledSentence(words=['guest', 'account', 'received', 'from', 'hello', 'help', 'team', 'a', 'meeting', 'is', 'at', 'forth', 'on', 'can', 'you', 'arrange', 'for', 'the', 'two', 'external', 'both', 'days', 'use'], tags=['all_4894']),\n",
              " LabeledSentence(words=['cannot', 'get', 'my', 'adapter', 'to', 'work', 'on'], tags=['all_953']),\n",
              " LabeledSentence(words=['job', 'in', 'job', 'schedule', 'at', 'received', 'from'], tags=['all_6870']),\n",
              " LabeledSentence(words=['is', 'the', 'finance', 'system', 'still', 'down', 'we', 'need', 'this', 'to', 'retrieve', 'financial', 'information', 'for', 'our', 'quarterly'], tags=['all_1643']),\n",
              " LabeledSentence(words=['network', 'outage', 'site', 'hard', 'down', 'since', 'am', 'on', 'what', 'type', 'of', 'x', 'network', 'circuit', 'power', 'please', 'specify', 'outage', 'top', 'no', 'when', 'did', 'it', 'start', 'maintenance', 'power', 'no', 'company', 'power', 'provider', 'network', 'no', 'maint', 'does', 'have', 'a', 'backup', 'circuit', 'yes', 'active', 'no', 'contact', 'notified', 'remote', 'dialing', 'equipment', 'reset', 'working', 'vendor', 'ticket', 'global', 'vendor', 'vendor', 'additional', 'diagnostics'], tags=['all_4774']),\n",
              " LabeledSentence(words=['problem', 'received', 'from', 'hi', 'when', 'i', 'try', 'to', 'submit', 'a', 'discount', 'form', 'get', 'the', 'below', 'error', 'please', 'advise', 'application'], tags=['all_7764']),\n",
              " LabeledSentence(words=['cannot', 'use', 'copy', 'to', 'option', 'in', 'engineering', 'tool', 'getting', 'error', 'message', 'it', 'never', 'worked', 'for', 'user', 'access', 'issue'], tags=['all_6359']),\n",
              " LabeledSentence(words=['unable', 'to', 'connect'], tags=['all_5812']),\n",
              " LabeledSentence(words=['the', 'business', 'client', 'cannot', 'be'], tags=['all_6447']),\n",
              " LabeledSentence(words=['password', 'reset'], tags=['all_5047']),\n",
              " LabeledSentence(words=['it', 'issue', 'received', 'from', 'hi', 'we', 'have', 'a', 'computer', 'on', 'the', 'shop', 'floor', 'that', 'will', 'not', 'boot', 'up', 'power', 'button', 'an', 'orange', 'flashing', 'light', 'only', 'thing', 'i', 'can', 'tell', 'you', 'about', 'is', 'user'], tags=['all_6913']),\n",
              " LabeledSentence(words=['unable', 'to', 'load', 'engineering', 'tool', 'on', 'my', 'new', 'that', 'it', 'cannot', 'connect', 'see', 'above', 'cell'], tags=['all_4365']),\n",
              " LabeledSentence(words=['need', 'access', 'to', 'the', 'stated', 'system', 'other', 'enter', 'user', 'id', 'of', 'issue', 'transaction', 'needs', 'or', 'was', 'working', 'with', 'describe', 'if', 'you', 'are', 'getting', 'a', 'not', 'authorized', 'message', 'recreate', 'condition', 'then', 'do', 'and', 'attach', 'result', 'ticketing', 'tool', 'ticket', 'provide', 'same', 'as', 'this', 'user'], tags=['all_4032']),\n",
              " LabeledSentence(words=['repeat', 'outbound', 'connection', 'for', 'in', 'we', 'are', 'seeing', 'your', 'device', 'generating', 'a', 'high', 'volume', 'of', 'traffic', 'blocked', 'from', 'to', 'port', 'remote', 'procedure', 'call', 'external', 'host', 'this', 'may', 'indicate', 'misconfiguration', 'where', 'the', 'is', 'blocking', 'legitimate', 'also', 'reaching', 'out', 'malicious', 'or', 'worm', 'code', 'incident', 'you', 'via', 'medium', 'priority', 'ticket', 'and', 'per', 'our', 'default', 'event', 'handling', 'if', 'would', 'like', 'us', 'handle', 'these', 'differently', 'in', 'future', 'see', 'below', 'have', 'any', 'further', 'please', 'let', 'know', 'either', 'by', 'corresponding', 'back', 'soc', 'calling', 'at', 'full', 'login', 'failure', 'explicit', 'notification', 'phone', 'call', 'automatically', 'resolve', 'directly', 'portal', 'no', 'explicit', 'but', 'will', 'be', 'available', 'portal', 'sincerely', 'soc'], tags=['all_6146']),\n",
              " LabeledSentence(words=['sent', 'folder', 'not', 'showing', 'up', 'in', 'outlook'], tags=['all_3947']),\n",
              " LabeledSentence(words=['account', 'locked', 'in', 'ad', 'language', 'explorer', 'customer', 'number', 'telephone', 'password', 'for', 'my', 'is', 'blocker', 'again', 'can', 'you', 'please', 'reset', 'password', 'do', 'i', 'have', 'to', 'change', 'the', 'after', 'unlocked', 'it'], tags=['all_4405']),\n",
              " LabeledSentence(words=['volume', 'on', 'server', 'is', 'over', 'space', 'available'], tags=['all_6435']),\n",
              " LabeledSentence(words=['unable', 'to', 'find', 'network', 'after', 'password', 'reset'], tags=['all_2941']),\n",
              " LabeledSentence(words=['job', 'job', 'in', 'job', 'schedule', 'at', 'received', 'from'], tags=['all_4808']),\n",
              " LabeledSentence(words=['support', 'for'], tags=['all_2710']),\n",
              " LabeledSentence(words=['phone', 'issue', 'received', 'from', 'i', 'have', 'a', 'user', 'that', 'decided', 'she', 'need', 'to', 'her', 'office', 'turned', 'this', 'is', 'in', 'another', 'port', 'get', 'it', 'powered', 'by', 'poe', 'injector', 'but', 'currently', 'wont', 'sync', 'extension', 'and', 'the', 'mac', 'address'], tags=['all_4144']),\n",
              " LabeledSentence(words=['balancing', 'error', 'in', 'even', 'after', 'to', 'unable', 'connect', 'it', 'was', 'working', 'back'], tags=['all_3393']),\n",
              " LabeledSentence(words=['account', 'locked'], tags=['all_8109']),\n",
              " LabeledSentence(words=['issue', 'with', 'client', 'received', 'from', 'dear', 'i', 'am', 'not', 'able', 'to', 'access', 'be', 'as', 'well', 'business', 'client', 'rectify', 'immediately', 'its', 'urgent'], tags=['all_7734']),\n",
              " LabeledSentence(words=['account', 'unlock'], tags=['all_5758']),\n",
              " LabeledSentence(words=['replace', 'monitor'], tags=['all_6049']),\n",
              " LabeledSentence(words=['circuit', 'outage', 'steel', 'plant', 'company', 'is', 'down', 'since', 'on', 'site', 'up', 'secondary', 'what', 'type', 'of', 'x', 'network', 'circuit', 'power', 'please', 'specify', 'outage', 'top', 'yes', 'when', 'did', 'it', 'start', 'maintenance', 'power', 'no', 'company', 'power', 'provider', 'network', 'no', 'maint', 'does', 'have', 'a', 'backup', 'yes', 'active', 'no', 'contact', 'notified', 'remote', 'dialing', 'na', 'equipment', 'reset', 'na', 'working', 'na', 'vendor', 'ticket', 'global', 'vendor', 'vendor', 'additional', 'diagnostics'], tags=['all_4504']),\n",
              " LabeledSentence(words=['job', 'job', 'in', 'job', 'schedule', 'at', 'received', 'from', 'backup', 'statistics', 'session', 'time', 'disk', 'aborted', 'total', 'media', 'used', 'agent'], tags=['all_1333']),\n",
              " LabeledSentence(words=['is', 'down', 'since', 'at', 'am', 'on'], tags=['all_6461']),\n",
              " LabeledSentence(words=['job', 'job', 'in', 'job', 'schedule', 'at', 'received', 'from'], tags=['all_3346']),\n",
              " LabeledSentence(words=['mobile', 'device', 'activation', 'from', 'sent', 'to', 'subject', 'amar', 'synchronization', 'with', 'exchange', 'is', 'temporarily', 'blocked', 'on', 'your', 'until', 'access', 'by', 'the', 'administrator', 'importance', 'high', 'please', 'for', 'that', 'company', 'device', 'user', 'id', 'you', 'in', 'anticipation', 'outlook', 'broadcast', 're', 'from', 'to', 'content', 'via', 'because', 'it', 'quarantine', 'do', 'not', 'need', 'take', 'any', 'action', 'automatically', 'as', 'soon', 'ignore', 'above', 'paragraph', 'we', 'cannot', 'change', 'or', 'delete', 'it', 'special', 'note', 'and', 'android', 'yesterday', 'not', 'currently', 'consider', 'one', 'of', 'other', 'browser', 'platform', 'beginning', 'mar', 'supervisor', 'approval', 'may', 'use', 'personally', 'moving', 'forward', 'providing', 'product', 'our', 'allow', 'productivity', 'improvement', 'enable', 'balance', 'this', 'an', 'addition', 'policy', 'can', 'be', 'found', 'this', 'policy', 'wireless', 'mobility', 'technical', 'document', 'will', 'are', 'use', 'if', 'own', 'would', 'like', 'advantage', 'submit', 'a', 'ticketing', 'tool', 'ticket', 'global', 'support', 'center', 'device', 'attach', 'agreement', 'form', 'standard', 'procedure', 'must', 'next', 'level', 'provided', 'prior', 'being', 'you', 'send', 'they', 'without', 'have', 'process', 'before', 'quarantine', 'procedure', 'information', 'about', 'device', 'model', 'type', 'operating', 'system', 'agent', 'version', 'status', 'reason', 'sent', 'at'], tags=['all_2879']),\n",
              " LabeledSentence(words=['unable', 'to', 'connect'], tags=['all_6740']),\n",
              " LabeledSentence(words=['front', 'end', 'missing', 'i', 'that', 'my', 'to', 'be', 'gone', 'for', 'some', 'reason', 'will', 'need', 'this', 'returned', 'immediately', 'with', 'all', 'prior', 'of', 'access', 'set', 'it'], tags=['all_1837']),\n",
              " LabeledSentence(words=['when', 'trying', 'to', 'refresh', 'a', 'report', 'i', 'am', 'getting', 'pop', 'up', 'that', 'hand', 'driver', 'not', 'found'], tags=['all_5500']),\n",
              " LabeledSentence(words=['need', 'password', 'reset', 'for'], tags=['all_296']),\n",
              " LabeledSentence(words=['setup', 'new', 'for'], tags=['all_6821']),\n",
              " LabeledSentence(words=['setup', 'new'], tags=['all_2851']),\n",
              " LabeledSentence(words=['ticket', 'no', 'employment', 'status', 'new', 'enter', 'name'], tags=['all_7']),\n",
              " LabeledSentence(words=['cannot', 'get', 'into', 'missing', 'the', 'tab', 'from', 'enterprise', 'portal', 'which', 'access', 'to', 'so', 'i', 'do', 'not', 'have'], tags=['all_500']),\n",
              " LabeledSentence(words=['job', 'hand', 'in', 'job', 'schedule', 'at', 'received', 'from', 'major', 'drive', 'time', 'cannot', 'write', 'to', 'device', 'io', 'error', 'critical', 'hand', 'differential', 'backup', 'abort', 'request', 'from', 'session', 'time', 'disk', 'aborted', 'total', 'media', 'used', 'agent'], tags=['all_4608']),\n",
              " LabeledSentence(words=['job', 'job', 'in', 'job', 'schedule', 'at', 'received', 'from'], tags=['all_3717']),\n",
              " LabeledSentence(words=['password', 'reset', 'alert', 'from', 'o'], tags=['all_2636']),\n",
              " LabeledSentence(words=['installation'], tags=['all_3507']),\n",
              " LabeledSentence(words=['set', 'up', 'authorization', 'for', 'folder', 'i', 'need', 'the', 'given', 'following', 'people', 'from', 'read', 'only', 'b', 'metallurgy', 'th', 'cutting', 'body', 'g', 'distribution', 'd'], tags=['all_3633']),\n",
              " LabeledSentence(words=['with', 'outlook'], tags=['all_6797']),\n",
              " LabeledSentence(words=['account', 'owner', 'issue', 'please', 'assign', 'it', 'to', 'team', 'i', 'discovered', 'that', 'there', 'is', 'an', 'issue', 'with', 'in', 'below', 'of', 'company', 'which', 'have', 'set', 'up', 'as', 'company', 'customer', 'account'], tags=['all_5104']),\n",
              " LabeledSentence(words=['cannot', 'access', 'collaboration', 'platform', 'i', 'cannot', 'my', 'collaboration', 'platform', 'it', 'me', 'and', 'password', 'then', 'goes', 'into', 'a', 'constant', 'loop', 'of', 'those', 'two', 'once', 'never', 'actually', 'get', 'to'], tags=['all_3522']),\n",
              " LabeledSentence(words=['outlook', 'not'], tags=['all_5465']),\n",
              " LabeledSentence(words=['job', 'job', 'in', 'job', 'schedule', 'at', 'received', 'from'], tags=['all_4728']),\n",
              " LabeledSentence(words=['job', 'in', 'job', 'schedule', 'at', 'received', 'from'], tags=['all_6407']),\n",
              " LabeledSentence(words=['cannot', 'create', 'a', 'delivery', 'please', 'fix', 'this', 'in', 'received', 'from', 'site', 'business', 'manager'], tags=['all_1378']),\n",
              " LabeledSentence(words=['password', 'reset', 'to', 'login', 'him', 'be', 'able', 'use', 'or', 'apply', 'in', 'company'], tags=['all_7224']),\n",
              " LabeledSentence(words=['not', 'to', 'distribute', 'against', 'and', 'production', 'hello', 'an', 'example', 'in', 'for', 'fixing', 'order', 'receive', 'is', 'the', 'issue', 'does', 'only', 'appear', 'case', 'user', 'ship', 'a', 'but', 'also', 'when', 'trying', 'order', 'shipping', 'it', 'like', 'allow', 'finish', 'date', 'due', 'or', 'past', 'purple', 'red', 'example', 'following', 'need', 'be', 'should', 'force', 'shipment', 'even', 'though', 'just', 'stock', 'transfer', 'use', 'start', 'rather', 'than', 'determine', 'whether', 'basic', 'of', 'blue', 'example', 'yellow', 'which', 'already', 'shown', 'transaction'], tags=['all_7433']),\n",
              " LabeledSentence(words=['password', 'issue'], tags=['all_7517']),\n",
              " LabeledSentence(words=['outlook', 'wont', 'open'], tags=['all_330']),\n",
              " LabeledSentence(words=['account', 'unlock', 'and', 'password', 'reset'], tags=['all_584']),\n",
              " LabeledSentence(words=['display', 'link', 'not', 'working', 'received', 'from', 'hello', 'my', 'is', 'working', 'help', 'message', 'comes', 'as', 'could', 'recognize', 'device', 'manager', 'company'], tags=['all_1651']),\n",
              " LabeledSentence(words=['please', 'delete', 'job', 'same', 'issue', 'as'], tags=['all_3956']),\n",
              " LabeledSentence(words=['job', 'hot', 'in', 'job', 'schedule', 'at', 'received', 'from'], tags=['all_1072']),\n",
              " LabeledSentence(words=['ticket', 'update', 'on', 'ticket', 'no'], tags=['all_7657']),\n",
              " LabeledSentence(words=['while', 'trying', 'to', 'invoke', 'the', 'method', 'of', 'a', 'null', 'object', 'loaded', 'from', 'local', 'variable', 'when', 'i', 'try', 'look', 'at', 'configuration', 'for', 'get', 'an', 'error', 'phone'], tags=['all_7042']),\n",
              " LabeledSentence(words=['reset', 'for', 'password', 'management', 'tool', 'password', 'reset', 'cannot', 'login', 'to', 'manager', 'change', 'new', 'password'], tags=['all_730']),\n",
              " LabeledSentence(words=['in', 'to', 'reset', 'password', 'for'], tags=['all_2953']),\n",
              " LabeledSentence(words=['setup', 'new'], tags=['all_8071']),\n",
              " LabeledSentence(words=['area', 'selection', 'on', 'not', 'filtering', 'to', 'those', 'in', 'which', 'the', 'account', 'is', 'extended', 'instead', 'it', 'all', 'see', 'attached', 'communication', 'example', 'for'], tags=['all_505']),\n",
              " LabeledSentence(words=['job', 'eu', 'tool', 'notch', 'in', 'job', 'schedule', 'at', 'received', 'from'], tags=['all_4237']),\n",
              " LabeledSentence(words=['the', 'computer', 'a', 'blue', 'screen', 'and', 'cannot', 'be', 'turned', 'on', 'when', 'connected', 'to', 'after', 'failing', 'connect', 'suddenly', 'unable', 'boot'], tags=['all_5491']),\n",
              " LabeledSentence(words=['read', 'and', 'write', 'permission', 'for', 'production'], tags=['all_2946']),\n",
              " LabeledSentence(words=['re', 'deployment', 'notification', 'telephony', 'received', 'from', 'hi', 'there', 'was', 'no', 'issue', 'with', 'respect', 'to', 'new', 'application', 'and', 'it', 'successfully', 'through', 'watching', 'antivirus', 'based', 'on', 'the', 'os', 'language', 'which', 'in', 'this', 'case', 'since', 'we', 'were', 'not', 'supporting', 'language', 'past', 'r', 'team', 'had', 'raised', 'a', 'concern', 'that', 'they', 'cannot', 'work', 'without', 'pack', 'as', 'confirmed', 'by', 'same', 'package', 'of', 'is', 'for', 'he', 'able', 'any', 'local', 'from', 'uninstalled', 'version', 'old', 'their', 'us', 'fulfill', 'requirement', 'can', 'remote', 'be', 'manually'], tags=['all_7374']),\n",
              " LabeledSentence(words=['unlock', 'personal', 'number', 'in', 'ess'], tags=['all_129']),\n",
              " LabeledSentence(words=['outlook', 'is', 'not', 'working', 'error', 'message', 'unfortunately', 'an', 'that', 'it', 'from', 'working', 'properly', 'as', 'a', 'result', 'should', 'be', 'closed', 'would', 'you', 'like', 'us', 'to', 'do', 'the', 'repair', 'now', 'with', 'three', 'buttons', 'which', 'are', 'now', 'close', 'help'], tags=['all_8034']),\n",
              " LabeledSentence(words=['account', 'of', 'is', 'disabled', 'received', 'from', 'hello', 'someone', 'the', 'ad', 'days', 'ago', 'could', 'you', 'please', 'it', 'and', 'tell', 'us', 'why', 'was', 'disabled', 'location', 'from', 'to', 'but', 'he', 'still', 'an', 'employee', 'as', 'manager', 'or', 'director', 'confirm', 'that', 'working', 'for', 'company'], tags=['all_4204']),\n",
              " LabeledSentence(words=['id', 'to', 'be', 'locked', 'in', 'hand', 'request', 'for', 'unlock'], tags=['all_3051']),\n",
              " LabeledSentence(words=['bob', 'repository', 'issue', 'see', 'the', 'attachment', 'for', 'more'], tags=['all_8257']),\n",
              " LabeledSentence(words=['no', 'longer', 'works', 'received', 'from', 'hello', 'or', 'i', 'can', 'open', 'it', 'with', 'best'], tags=['all_265']),\n",
              " LabeledSentence(words=['warehouse', 'are', 'with', 'date', 'base', 'on', 'confirmed', 'not', 'customer', 'we', 'finding', 'the', 'based', 'production', 'and', 'to', 'customer', 'this', 'is', 'multiple', 'schedule', 'usually', 'by', 'a', 'good', 'example', 'order', 'line', 'number', 'i', 'will', 'be', 'copy'], tags=['all_2899']),\n",
              " LabeledSentence(words=['machine', 'is', 'not', 'clear', 'to', 'there', 'a', 'thick', 'black', 'ink', 'on', 'the', 'machine', 'please', 'help', 'check', 'it', 'thank', 'you'], tags=['all_4028']),\n",
              " LabeledSentence(words=['job', 'job', 'in', 'job', 'schedule', 'at', 'received', 'from'], tags=['all_2361']),\n",
              " LabeledSentence(words=['too', 'till', 'it', 'problem', 'engineering', 'tool', 'version', 'is', 'not', 'starting', 'received', 'from', 'win', 'bit', 'dell', 'm', 'with', 'best'], tags=['all_4712']),\n",
              " LabeledSentence(words=['engineering', 'tool', 'access', 'query'], tags=['all_2668']),\n",
              " LabeledSentence(words=['cannot', 'connect', 'network'], tags=['all_1931']),\n",
              " LabeledSentence(words=['vendor', 'drawing', 'access', 'is', 'not', 'working', 'no', 'can', 'data', 'vendor', 'access', 'external', 'or', 'model', 'situation', 'get', 'critical', 'and', 'in', 'customer', 'all', 'are', 'affected', 'error', 'message', 'unable', 'to', 'read', 'document', 'information', 'from', 'see', 'attachment'], tags=['all_8229']),\n",
              " LabeledSentence(words=['install'], tags=['all_2081']),\n",
              " LabeledSentence(words=['outlook', 'not', 'working', 'a', 'message', 'that', 'it', 'is', 'licensed', 'product'], tags=['all_3466']),\n",
              " LabeledSentence(words=['now', 'access', 'to', 'the', 'always', 'received', 'from', 'always', 'till', 'this', 'weekend', 'i', 'am', 'in', 'forth'], tags=['all_8244']),\n",
              " LabeledSentence(words=['job', 'job', 'in', 'job', 'schedule', 'at', 'received', 'from'], tags=['all_6143']),\n",
              " LabeledSentence(words=['user', 'to', 'update', 'password', 'manager', 'link'], tags=['all_5926']),\n",
              " LabeledSentence(words=['password', 'reset'], tags=['all_5427']),\n",
              " LabeledSentence(words=['telephony', 'not'], tags=['all_6441']),\n",
              " LabeledSentence(words=['unable', 'to', 'browse', 'tool', 'site', 'snapshot', 'of', 'error', 'is', 'attached'], tags=['all_3136']),\n",
              " LabeledSentence(words=['i', 'cannot', 'get', 'onto', 'the', 'network', 'on', 'my'], tags=['all_324']),\n",
              " LabeledSentence(words=['system', 'not'], tags=['all_5755']),\n",
              " LabeledSentence(words=['setup', 'new'], tags=['all_7557']),\n",
              " LabeledSentence(words=['performance', 'improvement', 'for', 'supervisor'], tags=['all_6607']),\n",
              " LabeledSentence(words=['account', 'for', 'same', 'as', 'that', 'of', 'received', 'from', 'hi', 'it', 'team', 'kindly', 'please', 'assist', 'to', 'reset', 'password', 'user', 'operation', 'supervisor', 'company', 'distribution'], tags=['all_4352']),\n",
              " LabeledSentence(words=['security', 'in', 'possible', 'warning', 'can', 'only', 'detect', 'less', 'than'], tags=['all_5433']),\n",
              " LabeledSentence(words=['outlook', 'issue'], tags=['all_5962']),\n",
              " LabeledSentence(words=['ess', 'portal', 'received', 'from', 'hi', 'team', 'i', 'was', 'going', 'into', 'the', 'file', 'and', 'some', 'for', 'this', 'is', 'screen', 'that', 'up', 'on', 'my', 'report', 'tab', 'when', 'am', 'logged', 'please', 'assist', 'in', 'getting', 'to', 'engineer'], tags=['all_8481']),\n",
              " LabeledSentence(words=['immediate', 'restoration', 'of', 't', 'drive', 'received', 'from', 'hello', 'governance', 'and', 'these', 'were', 'by', 'an', 'it', 'employee', 'over', 'the', 'weekend', 'we', 'need', 'back', 'to', 'so', 'all', 'within', 'are', 'this', 'is', 'a', 'priority', 'request', 'please', 'respond', 'hour', 'best', 'corporate', 'company'], tags=['all_7536']),\n",
              " LabeledSentence(words=['job', 'job', 'in', 'job', 'schedule', 'at', 'received', 'from'], tags=['all_778']),\n",
              " LabeledSentence(words=['listing', 'folder', 'access', 'received', 'from', 'dear', 'and', 'madame', 'i', 'am', 'the', 'share', 'owner', 'of', 'drive', 'works', 'council', 'at', 'plant', 'need', 'an', 'overview', 'who', 'to', 'above', 'folder', 'please', 'send', 'me', 'this', 'list', 'immediately', 'sincerely', 'yours', 'chairman', 'company', 'this', 'communication', 'is', 'intended', 'solely', 'for', 'use', 'may', 'contain', 'information', 'that', 'confidential', 'worthy', 'protection', 'or', 'from', 'disclosure', 'under', 'applicable', 'law', 'distribution', 'distribution', 'reproduction', 'by', 'other', 'than', 'strictly', 'if', 'you', 'message', 'mistake', 'notify', 'sender', 'delete', 'message', 'select', 'following', 'link', 'view', 'disclaimer', 'in', 'alternate', 'language'], tags=['all_6231']),\n",
              " LabeledSentence(words=['system', 'cannot', 'log', 'in', 'that', 'the', 'trust', 'relationship', 'between', 'computer', 'and', 'primary', 'domain'], tags=['all_7586']),\n",
              " LabeledSentence(words=['of', 'password', 'received', 'from', 'hi', 'request', 'you', 'to', 'reset', 'my', 'password'], tags=['all_1945']),\n",
              " LabeledSentence(words=['was', 'set', 'up', 'to', 'get', 'one', 'monthly', 'tool', 'but', 'they', 'are', 'getting', 'multiple', 'account', 'tool', 'as', 'combined', 'billing', 'for', 'august', 'received', 'see', 'attached'], tags=['all_2916']),\n",
              " LabeledSentence(words=['order', 'a', 'delivery', 'date', 'despite', 'the', 'being', 'for', 'day', 'airway'], tags=['all_2118']),\n",
              " LabeledSentence(words=['unable', 'to', 'login'], tags=['all_7075']),\n",
              " LabeledSentence(words=['unable', 'to', 'open', 'ie'], tags=['all_88']),\n",
              " LabeledSentence(words=['user', 'unable', 'to', 'login', 'the', 'telephony', 'user', 'interaction', 'client', 'getting', 'authentication', 'error', 'contact'], tags=['all_3159']),\n",
              " LabeledSentence(words=['hand', 'scanner', 'on', 'without', 'function', 'rep', 'or', 'replace', 'replace', 'in', 'hall', 'c', 'at', 'r', 'terminal'], tags=['all_2071']),\n",
              " LabeledSentence(words=['need', 'to', 'see', 'all', 'undead'], tags=['all_6393']),\n",
              " LabeledSentence(words=['request', 'to', 'reset', 'password', 'for', 'from', 'on', 'behalf', 'of', 'company', 'sent', 'august', 'to', 'subject', 'amar', 'importance', 'high', 'the', 'following', 'user', 'in', 'your', 'organization', 'a', 'be', 'their', 'account', 'first', 'name', 'last', 'consider', 'this', 'validate', 'is', 'authentic', 'before', 'if', 'you', 'have', 'determined', 'that', 'valid', 'request', 'use', 'portal', 'office', 'azure', 'user', 'want', 'let', 'own', 'check', 'out', 'how', 'can', 'enable', 'with', 'just', 'few', 'sincerely', 'message', 'was', 'sent', 'from', 'an', 'unmonitored', 'address', 'please', 'do', 'not', 'reply', 'message'], tags=['all_8371']),\n",
              " LabeledSentence(words=['mobile', 'device', 'activation', 'language', 'explorer', 'customer', 'number', 'telephone', 'to', 'my', 'personal'], tags=['all_7752']),\n",
              " LabeledSentence(words=['unable', 'to', 'open'], tags=['all_7487']),\n",
              " LabeledSentence(words=['locked', 'out'], tags=['all_7690']),\n",
              " LabeledSentence(words=['i', 'cannot', 'extract', 'finance', 'data', 'resolve', 'immediately', 'received', 'from', 'controller', 'this', 'communication', 'shall', 'be', 'used', 'only', 'for', 'the', 'listed', 'and', 'contain', 'privileged', 'confidential', 'information', 'from', 'disclosure', 'under', 'applicable', 'law', 'distribution', 'distribution', 'or', 'resale', 'of', 'this', 'by', 'any', 'third', 'party', 'other', 'than', 'legitimate', 'recipient', 'is', 'strictly', 'if', 'sent', 'mistake', 'please', 'contact', 'sender', 'delete', 'communication', 'company', 'select', 'following', 'link', 'to', 'view', 'disclaimer', 'in', 'an', 'alternate', 'language'], tags=['all_2108']),\n",
              " LabeledSentence(words=['restart', 'a', 'service', 'on', 'the', 'server', 'phone'], tags=['all_7516']),\n",
              " LabeledSentence(words=['power', 'issue', 'is', 'not', 'getting', 'on'], tags=['all_7438']),\n",
              " LabeledSentence(words=['encryption', 'see', 'agent', 'roll', 'out', 'region', 'only', 'received', 'from', 'dear', 'i', 'would', 'like', 'to', 'thank', 'all', 'the', 'site', 'whoever', 'took', 'part', 'in', 'this', 'see', 'pilot', 'and', 'us', 'through', 'giving', 'honest', 'feedback', 'on', 'installation', 'behavior', 'time', 'time', 'overall', 'complete', 'promote', 'package', 'production', 'we', 'have', 'deploy', 'list', 'of', 'across', 'starting', 'from', 'th', 'presume', 'that', 'location', 'are', 'acceptance', 'deployment', 'above', 'date', 'since', 'particular', 'been', 'a', 'month', 'back', 'by', 'scot', 'track', 'as', 'global', 'communication', 'regard', 'request', 'you', 'keep', 'your', 'respective', 'informed', 'about', 'schedule', 'also', 'please', 'ensure', 'familiar', 'with', 'type', 'package', 'duration', 'importance', 'mode', 'installation', 'times', 'behavior', 'below', 'date', 'august', 'time', 'am', 'morning', 'as', 'per', 'zone', 'tool', 'watching', 'antivirus', 'type', 'user', 'will', 'be', 'prior', 'notification', 'save', 'work', 'before', 'proceeding', 'continue', 'button', 'duration', 'restart', 'yes', 'automatic', 'after', 'agent', 'behavior', 'ask', 'go', 'provided', 'bill', 'banked', 'understand', 'for', 'our', 'environment', 'if', 'any', 'target', 'is', 'not', 'associated', 'or', 'got', 'removed', 'network', 'do', 'let', 'know', 'via', 'providing', 'comment', 'separate', 'column', 'same', 'exclude', 'those', 'completely', 'deployment', 'should', 'done', 'manually', 'contact', 'manual', 'both', 'must', 'local', 'without', 'access', 'following', 'server', 'share', 'user', 'either', 'office', 'lan', 'network', 'provided', 'install', 'bit', 'execute', 'file', 'which', 'under', 'folder', 'share'], tags=['all_7163']),\n",
              " LabeledSentence(words=['when', 'i', 'click', 'on', 'the', 'to', 'do', 'not', 'get', 'which', 'me', 'see', 'attachment', 'hi', 'this', 'is', 'had', 'don', 'put', 'in', 'his', 'blocker', 'and', 'it', 'worked', 'know', 'if', 'that', 'is', 'only', 'thing', 'he', 'needs', 'also', 'him', 'because', 'what', 'mine', 'please', 'close', 'ticket', 'all', 'that', 'be', 'done'], tags=['all_1393']),\n",
              " LabeledSentence(words=['wrong', 'data', 'in', 'wrong', 'to', 'contact', 'person', 'during', 'complaint', 'creation', 'we', 'have', 'is', 'see', 'number', 'when', 'this', 'could', 'other', 'customer', 'mail', 'and', 'number', 'form', 'are', 'printed', 'please', 'attached'], tags=['all_3261']),\n",
              " LabeledSentence(words=['scanner', 'defective', 'paternoster'], tags=['all_1780']),\n",
              " LabeledSentence(words=['setup', 'new'], tags=['all_8416']),\n",
              " LabeledSentence(words=['urgent', 'help', 'i', 'cannot', 'link', 'an', 'appointment', 'to', 'account', 'have', 'the', 'tab', 'on', 'outlook', 'but', 'when', 'enter', 'and', 'go', 'set', 'regarding', 'put', 'in', 'account', 'nothing', 'comes', 'account', 'for', 'appointment'], tags=['all_2409']),\n",
              " LabeledSentence(words=['outlook', 'is', 'not', 'working', 'the', 'but', 'nothing'], tags=['all_3992']),\n",
              " LabeledSentence(words=['blocked', 'tool', 'for', 'in', 'our', 'system', 'reason', 'blocking', 'document', 'been', 'saved', 'foreign', 'trade', 'data', 'incomplete', 'same', 'as', 'ticket', 'no', 'after', 'first', 'analysis', 'were', 'available', 'concerned', 'we', 'know', 'how', 'to', 'fix', 'the', 'issue', 'but', 'before', 'document', 'please', 'provide', 'information', 'or', 'make', 'further', 'analysis', 'order', 'avoid', 'this', 'issue', 'future'], tags=['all_3557']),\n",
              " LabeledSentence(words=['unable', 'to', 'launch'], tags=['all_5078']),\n",
              " LabeledSentence(words=['job', 'he', 'in', 'job', 'schedule', 'at', 'received', 'from'], tags=['all_1327']),\n",
              " LabeledSentence(words=['it', 'password', 'received', 'from', 'hello', 'i', 'ask', 'to', 'reset', 'all', 'my', 'because', 'they', 'are', 'locked', 'with', 'best'], tags=['all_967']),\n",
              " LabeledSentence(words=['job', 'eu', 'tool', 'notch', 'in', 'job', 'schedule', 'at', 'received', 'from'], tags=['all_6155']),\n",
              " LabeledSentence(words=['enquiry', 'on', 'impact', 'how', 'to', 'get', 'password', 'reset'], tags=['all_56']),\n",
              " LabeledSentence(words=['no', 'registration', 'on', 'possible'], tags=['all_3987']),\n",
              " LabeledSentence(words=['setup', 'computer', 'ewe'], tags=['all_6646']),\n",
              " LabeledSentence(words=['the', 'report', 'none', 'of', 'are', 'available', 'to', 'me', 'i', 'have', 'access', 'and', 'tool', 'now', 'however', 'when', 'go', 'into', 'there', 'in', 'upper', 'right', 'corner', 'that', 'should', 'allow', 'me', 'manipulate', 'report', 'they', 'do', 'not', 'show', 'as', 'available', 'just', 'is', 'a', 'screen', 'shot', 'please', 'refer', 'attachment'], tags=['all_2266']),\n",
              " LabeledSentence(words=['unable', 'to', 'create', 'delivery', 'please', 'provide', 'the', 'following', 'what', 'order', 'number', 'material', 'or', 'item', 'warehouse', 'location', 'plant', 'plant', 'issue', 'description', 'error', 'message', 'no', 'message'], tags=['all_7447']),\n",
              " LabeledSentence(words=['power', 'outage', 'engineering', 'tool', 'warehouse', 'russia', 'company', 'network', 'is', 'down', 'since', 'am', 'on', 'what', 'type', 'of', 'outage', 'x', 'network', 'circuit', 'power', 'please', 'specify', 'outage', 'top', 'site', 'no', 'when', 'did', 'it', 'start', 'am', 'maintenance', 'power', 'no', 'company', 'provider', 'network', 'maint', 'does', 'have', 'a', 'backup', 'circuit', 'no', 'active', 'no', 'contact', 'notified', 'remote', 'dialing', 'na', 'equipment', 'reset', 'no', 'working', 'vendor', 'ticket', 'global', 'vendor', 'vendor', 'additional', 'diagnostics'], tags=['all_685']),\n",
              " LabeledSentence(words=['job', 'job', 'a', 'in', 'job', 'schedule', 'at', 'received', 'from'], tags=['all_6617']),\n",
              " LabeledSentence(words=['password', 'reset'], tags=['all_4254']),\n",
              " LabeledSentence(words=['business', 'analysis', 'i', 'recently', 'my', 'work', 'computer', 'from', 'an', 'business', 'model', 'to', 'a', 'engineering', 'model', 'frequently', 'use', 'for', 'excel', 'when', 'opening', 'that', 'have', 'saved', 'data', 'am', 'running', 'into', 'error', 'me', 'try', 'and', 'migrate', 'the', 'connection', 'see', 'attached', 'error', 'because', 'not', 'familiar', 'with', 'this', 'cannot', 'refresh', 'on', 'old', 'can', 'someone', 'assist'], tags=['all_3033']),\n",
              " LabeledSentence(words=['unable', 'to', 'generate', 'tool', 'as', 'per', 'delivery', 'were', 'got', 'the', 'error', 'message', 'ie', 'po', 'create', 'fail', 'material', 'auto', 'extend', 'please', 'help', 'fix', 'this', 'and', 'advise', 'back', 'us', 'then', 'we', 'will', 'tax', 'at', 'our', 'end'], tags=['all_7411']),\n",
              " LabeledSentence(words=['problem', 'received', 'from', 'hi', 'i', 'got', 'again', 'but', 'not', 'that', 'big', 'as', 'the', 'last', 'time', 'every', 'morning', 'when', 'start', 'my', 'computer', 'have', 'to', 'add', 'manually', 'in', 'could', 'you', 'please', 'fix', 'this', 'issue', 'will', 'be', 'on', 'from'], tags=['all_2795']),\n",
              " LabeledSentence(words=['incorrect', 'tax', 'code', 'in', 'hello', 'we', 'understand', 'from', 'order', 'booking', 'team', 'that', 'while', 'since', 'yesterday', 'they', 'have', 'come', 'across', 'many', 'with', 'rate', 'material', 'country', 'name', 'prod', 'hierarchy', 'list', 'of', 'few', 'which', 'is', 'given', 'above', 'at', 'present', 'are', 'correct', 'request', 'your', 'assistance', 'this', 'on', 'top', 'priority', 'as', 'put', 'hold', 'all'], tags=['all_7727']),\n",
              " LabeledSentence(words=['re', 'ticket', 'no', 'added', 'received', 'from', 'i', 'apologize', 'when', 'the', 'to', 'look', 'if', 'right', 'were', 'they', 'were', 'not', 'have', 'now', 'view', 'zero', 'zero', 'zero', 'gen', 'zero', 'all', 'zero', 'gen', 'senior', 'analyst', 'sent', 'august', 'to', 'subject', 'send', 'please', 'you', 'are', 'logging', 'in', 'from', 'out', 'of', 'office', 'please', 'be', 'sure', 'that', 'logged', 'into', 'then', 'try', 'hi', 'would', 'help', 'with', 'this', 'problem'], tags=['all_6916']),\n",
              " LabeledSentence(words=['could', 'not', 'setup', 'notification', 'list', 'in', 'system', 'warning', 'ora', 'user', 'name', 'id', 'contact', 'phone', 'error', 'integrity', 'constraint', 'pare', 'not', 'key', 'found', 'production', 'application', 'server'], tags=['all_6257']),\n",
              " LabeledSentence(words=['factory', 'missing', 'print', 'change', 'of', 'month', 'truck', 'please', 'complete', 'all', 'below', 'if', 'not', 'it', 'will', 'be', 'returned', 'back', 'to', 'the', 'requester', 'provide', 'information', 'review', 'ticket', 'not', 'able', 'resolve', 'then', 'assign', 'appropriate', 'group', 'per', 'your', 'printer', 'problem', 'assignment', 'name', 'make', 'model', 'ex', 'wy', 'detailed', 'description', 'type', 'printing', 'excel', 'tool', 'delivery', 'note', 'production', 'what', 'system', 'or', 'application', 'being', 'used', 'at', 'time', 'problem', 'printing', 'all', 'does', 'respond', 'a', 'ping', 'command', 'on', 'network', 'and', 'power', 'cycle', 'been', 'system', 'which', 'system', 'its', 'an', 'can', 'output', 'another', 'temporarily', 'too', 'document', 'is', 'correctly', 'scan', 'copy', 'attach', 'ticketing', 'tool', 'ticket'], tags=['all_2445']),\n",
              " LabeledSentence(words=['re', 'ticket', 'no', 'added', 'received', 'from', 'hello', 'any', 'update', 'on', 'this'], tags=['all_1260']),\n",
              " LabeledSentence(words=['job', 'in', 'job', 'schedule', 'at', 'received', 'from'], tags=['all_5972']),\n",
              " LabeledSentence(words=['audio', 'does', 'not', 'work'], tags=['all_5527']),\n",
              " LabeledSentence(words=['unable', 'to', 'login', 'engineering', 'tool'], tags=['all_8265']),\n",
              " LabeledSentence(words=['need', 'clearance', 'for', 'm'], tags=['all_3845']),\n",
              " LabeledSentence(words=['help', 'to', 'change', 'the', 'password', 'password', 'management', 'tool', 'tool', 'connected', 'user', 'system', 'help', 'login', 'password', 'manager', 'tool', 'tool', 'and', 'sync', 'company', 'network', 'caller', 'confirmed', 'that', 'he', 'was', 'able', 'login', 'issue', 'resolved'], tags=['all_2633']),\n",
              " LabeledSentence(words=['job', 'job', 'in', 'job', 'schedule', 'at', 'received', 'from'], tags=['all_2289']),\n",
              " LabeledSentence(words=['reset', 'for', 'password', 'management', 'tool', 'password', 'reset', 'the'], tags=['all_1834']),\n",
              " LabeledSentence(words=['customer', 'are', 'not', 'printing', 'the', 'tax', 'amount', 'on', 'received', 'from', 'user', 'cannot', 'log', 'into', 'his', 'engineering', 'tool', 'and', 'too', 'many', 'incorrect', 'login', 'engineering', 'engineering', 'unable', 'to', 'contact', 'server', 'i', 'suspect', 'is', 'blocked', 'from', 'these', 'due', 'too', 'login', 'did', 'recently', 'password'], tags=['all_3747']),\n",
              " LabeledSentence(words=['job', 'job', 'in', 'job', 'schedule', 'at', 'received', 'from', 'am', 'error', 'cannot', 'authenticate', 'user', 'soap', 'fault', 'detail', 'connection', 'is', 'not', 'available', 'id', 'to', 'create', 'stream', 'path'], tags=['all_4208']),\n",
              " LabeledSentence(words=['job', 'job', 'in', 'job', 'schedule', 'at', 'received', 'from'], tags=['all_6144']),\n",
              " LabeledSentence(words=['account', 'locked', 'out'], tags=['all_1222']),\n",
              " LabeledSentence(words=['background', 'in', 'will', 'not', 'export', 'into', 'excel', 'after', 'upgrade', 'sa', 'that', 'are', 'to', 'run', 'as', 'a', 'job', 'show', 'up', 'the', 'they', 'allow', 'you', 'open', 'them', 'and', 'data', 'is', 'however', 'excel', 'no', 'this', 'did', 'occur', 'until', 'i', 'have', 'already', 'logged', 'totally', 'out', 'of', 'again', 'see', 'if', 'correct', 'situation', 'with', 'success'], tags=['all_6457']),\n",
              " LabeledSentence(words=['office', 'installation', 'contact', 'no'], tags=['all_4767']),\n",
              " LabeledSentence(words=['issue', 'on', 'in', 'distributor', 'tool', 'we', 'have', 'agreed', 'price', 'with', 'many', 'of', 'the', 'for', 'a', 'given', 'period', 'and', 'this', 'is', 'through', 'condition', 'zinc', 'distributor', 'tool', 'it', 'order', 'sold', 'to', 'ship', 'combination', 'till', 'august', 'flat', 'rate', 'deployment', 'did', 'not', 'any', 'today', 'when', 'distributor', 'tried', 'book', 'condition', 'initial', 'screen', 'correct', 'price', 'but', 'item', 'selected', 'quick', 'on', 'getting', 'list', 'less', 'standard', 'discount', 'instead', 'retaining'], tags=['all_7847']),\n",
              " LabeledSentence(words=['evening', 'job', 'in', 'schedule', 'job', 'b', 'received', 'from', 'job', 'schedule', 'job', 'b', 'at'], tags=['all_7353']),\n",
              " LabeledSentence(words=['computer', 'does', 'not', 'work', 'but', 'keyboard', 'and', 'mouse', 'do', 'not', 'work', 'impossible', 'login', 'on', 'keyboard', 'on'], tags=['all_4685']),\n",
              " LabeledSentence(words=['routing', 'logic', 'missing', 'for', 'the', 'infrastructure', 'add', 'below', 'data', 'in', 'and', 'determine', 'through', 'region', 'custom', 'solution', 'earth', 'cutting', 'na', 'drum', 'drum', 'south', 'sa'], tags=['all_7726']),\n",
              " LabeledSentence(words=['unable', 'to', 'connect', 'with', 'received', 'from', 'dear', 'sir', 'i', 'am', 'trying', 'virtual', 'private', 'network', 'through', 'please', 'do', 'the', 'need', 'full', 'tomorrow', 'at', 'will', 'be', 'free', 'by', 'inside', 'factory', 'and', 'mobile', 'is', 'not', 'best'], tags=['all_7998']),\n",
              " LabeledSentence(words=['unable', 'to', 'received', 'incoming', 'hi', 'it', 'team', 'kindly', 'please', 'assist', 'user', 'name', 'operation', 'supervisor', 'company', 'distribution', 'of'], tags=['all_4003']),\n",
              " LabeledSentence(words=['zebra', 'printer', 'not', 'working', 'language', 'explorer', 'customer', 'number', 'telephone', 'after', 'an', 'automatic', 'upgrade', 'i', 'cannot', 'print', 'on', 'the', 'error', 'message', 'is', 'type', 'mismatch', 'can', 'you', 'give', 'me', 'support'], tags=['all_1841']),\n",
              " LabeledSentence(words=['cannot', 'open', 'attached', 'with', 'at', 'see', 'attachment'], tags=['all_4426']),\n",
              " LabeledSentence(words=['audio', 'received', 'from', 'dear', 'it', 'i', 'continue', 'to', 'have', 'am', 'unable', 'hear', 'through', 'my', 'tablet', 'when', 'call', 'in', 'specifically', 'dial', 'into', 'in', 'number', 'every', 'third', 'word', 'had', 'this', 'issue', 'before', 'and', 'an', 'it', 'tech', 'fix', 'the', 'issue', 'will', 'need', 'done', 'again', 'why', 'does', 'be', 'issue', 'manager', 'west', 'coast'], tags=['all_7671']),\n",
              " LabeledSentence(words=['screen', 'at', 'the', 'workplace', 'defective', 'please', 'change'], tags=['all_8070']),\n",
              " LabeledSentence(words=['password', 'reset'], tags=['all_527']),\n",
              " LabeledSentence(words=['is', 'inactive', 'since', 'am', 'on'], tags=['all_8042']),\n",
              " LabeledSentence(words=['an', 'excel', 'document', 'document', 'address', 'quality', 'project', 'weekly', 'layered', 'process', 'total'], tags=['all_5257']),\n",
              " LabeledSentence(words=['not', 'able', 'to', 'open', 'image', 'received', 'from', 'hello', 'i', 'am', 'on', 'my', 'help'], tags=['all_6672']),\n",
              " LabeledSentence(words=['plant', 'node', 'is', 'down', 'at', 'dirty', 'down', 'interface', 'on', 'connection', 'to'], tags=['all_2759']),\n",
              " LabeledSentence(words=['can', 'no', 'longer', 'print', 'to', 'i', 'am', 'able', 'must', 'install', 'a', 'driver', 'for', 'this', 'and', 'not', 'sure', 'how', 'used', 'be', 'without', 'an', 'issue', 'some', 'reason', 'to'], tags=['all_2930']),\n",
              " LabeledSentence(words=['mass', 'to', 'condition', 'table', 'a', 'in'], tags=['all_475']),\n",
              " LabeledSentence(words=['account', 'unlock', 'in'], tags=['all_4445']),\n",
              " LabeledSentence(words=['whenever', 'is', 'turned', 'on', 'it', 'a', 'blue', 'screen', 'but', 'then', 'works', 'the', 'cache', 'causing', 'it'], tags=['all_2940']),\n",
              " LabeledSentence(words=['eu', 'tool', 'when', 'confirmation', 'are', 'not', 'able', 'to', 'remove', 'scrap', 'that', 'have', 'been', 'rectified', 'in', 'there', 'now', 'over', 'needing', 'be', 'since', 'this', 'error', 'was', 'may', 'issue', 'support', 'which', 'no', 'longer', 'i', 'will', 'forward', 'screen', 'capture', 'assigned', 'it', 'agent', 'better', 'explain', 'error'], tags=['all_2822']),\n",
              " LabeledSentence(words=['business', 'client', 'cannot', 'be', 'used', 'update', 'business', 'client', 'business', 'client'], tags=['all_3870']),\n",
              " LabeledSentence(words=['job', 'fail', 'in', 'job', 'schedule', 'at', 'received', 'from'], tags=['all_7074']),\n",
              " LabeledSentence(words=['not', 'working', 'stuck', 'on', 'yet', 'no', 'shown', 'wont', 'turn', 'off', 'on', 'mobile', 'works', 'language', 'explorer', 'customer', 'number', 'telephone'], tags=['all_5614']),\n",
              " LabeledSentence(words=['password', 'reset', 'request'], tags=['all_731']),\n",
              " LabeledSentence(words=['goods', 'receipt', 'issue', 'hello', 'on', 'po', 'the', 'po', 'was', 'for', 'of', 'paper', 'with', 'a', 'price', 'each', 'this', 'not', 'been', 'in', 'purchase', 'order', 'but', 'booked', 'total', 'amount', 'i', 'have', 'about', 'warehouse', 'and', 'they', 'are', 'sure', 'its', 'possible', 'to', 'at', 'different', 'value', 'can', 'you', 'see', 'what', 'this'], tags=['all_8169']),\n",
              " LabeledSentence(words=['important', 'please', 'synchronized', 'received', 'from', 'hello', 'it', 'help', 'team', 'can', 'you', 'these', 'two', 'they', 'must', 'be', 'identical', 'the', 'data', 'do', 'not', 'currently', 'match', 'many', 'thanks', 'in', 'advance', 'yours', 'sincerely', 'specialist', 'company'], tags=['all_4301']),\n",
              " LabeledSentence(words=['setup', 'new'], tags=['all_7716']),\n",
              " LabeledSentence(words=['server', 'with', 'internal', 'error', 'in', 'case', 'of', 'any', 'other', 'language', 'then', 'en', 'en', 'and', 'the', 'model', 'mill', 'model', 'is', 'used', 'issue', 'system', 'as', 'well', 'on', 'distributor', 'tool', 'company', 'center', 'production', 'environment', 'further', 'error', 'message', 'text', 'error', 'while', 'trying', 'to', 'invoke', 'method', 'a', 'null', 'object', 'loaded', 'from', 'local', 'variable', 'if', 'our', 'used', 'all', 'seem', 'be', 'working', 'fine', 'but', 'once', 'user', 'de', 'or', 'it', 'mill', 'model', 'air', 'during', 'starting', 'process'], tags=['all_5608']),\n",
              " LabeledSentence(words=['urgent', 'mailbox', 'is', 'not', 'got', 'a', 'call', 'from', 'theyre', 'checked', 'the', 'sync', 'and', 'say', 'that', 'everything', 'in', 'order', 'however', 'password', 'too', 'phone'], tags=['all_3080']),\n",
              " LabeledSentence(words=['we', 'need', 'to', 'change', 'the', 'title', 'for', 'in', 'outlook', 'production', 'manager', 'can', 'you', 'do', 'this'], tags=['all_6491']),\n",
              " LabeledSentence(words=['new', 'from', 'sent', 'august', 'to', 'candy', 'via', 'subject', 'importance', 'high', 'hi', 'can', 'you', 'please', 'advise', 'why', 'the', 'group', 'for', 'and', 'from', 'plant', 'plant', 'are', 'different', 'taking', 'example', 'plant', 'is', 'while', 'plant', 'why'], tags=['all_7428']),\n",
              " LabeledSentence(words=['setup', 'new'], tags=['all_7924']),\n",
              " LabeledSentence(words=['unable', 'to', 'login', 'and', 'reset', 'password'], tags=['all_7956']),\n",
              " LabeledSentence(words=['how', 'can', 'i', 'change', 'my', 'password', 'remotely', 'traveling', 'and', 'it', 'in', 'days', 'received', 'from', 'sent', 'from', 'mail'], tags=['all_4764']),\n",
              " LabeledSentence(words=['unable', 'to', 'open', 'outlook'], tags=['all_3550']),\n",
              " LabeledSentence(words=['is', 'not', 'working'], tags=['all_1853']),\n",
              " LabeledSentence(words=['job', 'in', 'job', 'schedule', 'at', 'received', 'from'], tags=['all_6408']),\n",
              " LabeledSentence(words=['watching', 'antivirus', 'prod', 'node', 'at', 'is', 'down', 'since', 'on'], tags=['all_2343']),\n",
              " LabeledSentence(words=['engineering', 'tool', 'new', 'customer', 'creation', 'please', 'refer', 'implant', 'received', 'from', 'hi', 'still', 'i', 'am', 'not', 'able', 'create', 'in', 'engineering', 'tool', 'resolve', 'the', 'at', 'bed', 'with', 'warm'], tags=['all_2613']),\n",
              " LabeledSentence(words=['blank', 'call', 'from', 'interaction', 'id'], tags=['all_4972']),\n",
              " LabeledSentence(words=['job', 'hot', 'in', 'job', 'schedule', 'at', 'received', 'from'], tags=['all_5481']),\n",
              " LabeledSentence(words=['need', 'an', 'update', 'on', 'implant'], tags=['all_2686']),\n",
              " LabeledSentence(words=['i', 'am', 'unable', 'to', 'open', 'the', 'collaboration', 'platform', 'link', 'by', 'my', 'counterpart', 'language', 'explorer', 'customer', 'number', 'summary', 'platform', 'company', 'inch'], tags=['all_483']),\n",
              " LabeledSentence(words=['reset', 'for', 'password', 'management', 'tool', 'password', 'reset', 'the'], tags=['all_6963']),\n",
              " LabeledSentence(words=['access', 'to', 'drive', 'folder', 'user', 'need', 'for', 'quarterly'], tags=['all_3092']),\n",
              " LabeledSentence(words=['single', 'sign', 'on', 'portal', 'please', 'add', 'the', 'production', 'and', 'to', 'portal', 'she', 'is', 'unable', 'view', 'enter', 'this', 'way', 'a', 'member', 'of', 'should', 'have', 'access', 'it'], tags=['all_7405']),\n",
              " LabeledSentence(words=['could', 'not', 'hear', 'user', 'from', 'other', 'side', 'phone', 'issue'], tags=['all_4642']),\n",
              " LabeledSentence(words=['password', 'reset', 'alert', 'from', 'o', 'for', 'user'], tags=['all_7813']),\n",
              " LabeledSentence(words=['business', 'client', 'a', 'is', 'not', 'i', 'need', 'to', 'view', 'in', 'er', 'but', 'get', 'an', 'error', 'a', 'and', 'cannot', 'see', 'the', 'without', 'seeing', 'do', 'know', 'what', 'make', 'are', 'on', 'hold'], tags=['all_5220']),\n",
              " LabeledSentence(words=['help', 'to', 'change', 'the', 'password', 'password', 'management', 'tool', 'tool', 'connected', 'user', 'system', 'help', 'login', 'password', 'manager', 'tool', 'tool', 'and', 'sync', 'company', 'network', 'caller', 'confirmed', 'that', 'he', 'was', 'able', 'login', 'issue', 'resolved'], tags=['all_7473']),\n",
              " LabeledSentence(words=['name', 'user', 'unable', 'to', 'login', 'connected', 'the', 'user', 'system', 'help', 'company', 'link', 'issue', 'resolved'], tags=['all_3915']),\n",
              " LabeledSentence(words=['with'], tags=['all_7556']),\n",
              " LabeledSentence(words=['unable', 'to', 'receive', 'on', 'company', 'provided'], tags=['all_300']),\n",
              " LabeledSentence(words=['please', 'have', 'a', 'look', 'at', 'po', 'the', 'and', 'page', 'should', 'only', 'be', 'printing', 'as', 'last', 'to', 'order', 'not', 'after', 'each', 'page'], tags=['all_6995']),\n",
              " LabeledSentence(words=['job', 'job', 'in', 'job', 'schedule', 'at', 'received', 'from'], tags=['all_1343']),\n",
              " LabeledSentence(words=['account', 'unlock'], tags=['all_4687']),\n",
              " LabeledSentence(words=['battery', 'not', 'charging', 'the', 'on', 'display', 'is', 'up', 'to', 'and', 'it', 'works', 'with', 'at', 'plugged', 'in', 'charging', 'he', 'sure', 'if', 'charger', 'for', 'station', 'or', 'in', 'device', 'we', 'have', 'power', 'point', 'still', 'no', 'go', 'bios', 'from', 'a', 'a', 'please', 'advise'], tags=['all_5196']),\n",
              " LabeledSentence(words=['general', 'query'], tags=['all_4255']),\n",
              " LabeledSentence(words=['to', 'log', 'in', 'and', 'engineering', 'tool', 'i', 'my', 'password', 'the', 'manager', 'now', 'am', 'locked', 'out', 'of', 'used', 'unlock', 'but', 'still'], tags=['all_976']),\n",
              " LabeledSentence(words=['is', 'down', 'in', 'for', 'an', 'issue', 'where', 'the', 'completely', 'and', 'they', 'are', 'unable', 'to', 'access', 'all', 'other', 'contact', 'no'], tags=['all_2508']),\n",
              " LabeledSentence(words=['reset', 'the', 'password', 'for', 'on', 'production', 'please', 'my'], tags=['all_3022']),\n",
              " LabeledSentence(words=['bend', 'job', 'tax', 'interface', 'daily', 'tax', 'interface', 'daily'], tags=['all_2099']),\n",
              " LabeledSentence(words=['issue', 'with', 'outlook', 'profile', 'and', 'for', 'business', 'gram', 'i', 'was', 'opening', 'out', 'to', 'investigate', 'on', 'this', 'issue'], tags=['all_2129']),\n",
              " LabeledSentence(words=['job', 'job', 'in', 'job', 'schedule', 'at', 'received', 'from'], tags=['all_3231']),\n",
              " LabeledSentence(words=['outlook', 'is', 'not', 'opening'], tags=['all_6181']),\n",
              " LabeledSentence(words=['action', 'please', 'connect', 'to', 'the', 'new', 'before', 'from', 'sent', 'am', 'to', 'subject', 're', 'hi', 'we', 'are', 'getting', 'following', 'message', 'system', 'clear', 'no', 'is', 'warning', 'for', 'full', 'functionality', 'enable', 'in', 'your', 'browser', 'otherwise', 'some', 'especially', 'those', 'related', 'web', 'may', 'not', 'work', 'correctly', 'cache', 'cleaner', 'can', 'cause', 'fail', 'if', 'you', 'use', 'a', 'blocker', 'see', 'outdated', 'and', 'best', 'disable', 'blocker', 'policy', 'restriction', 'access', 'network', 'resource', 'company', 'been', 'by', 'engine', 'reason', 'is', 'antivirus', 'or'], tags=['all_5010']),\n",
              " LabeledSentence(words=['password', 'received', 'from', 'hello', 'rie', 'will', 'start', 'work', 'again', 'on', 'th', 'please', 'reassign', 'your', 'password', 'is', 'to', 'be', 'available', 'in', 'the', 'office', 'from', 'am', 'with', 'best'], tags=['all_2986']),\n",
              " LabeledSentence(words=['swap', 'e', 'with', 'e'], tags=['all_2781']),\n",
              " LabeledSentence(words=['job', 'job', 'in', 'job', 'schedule', 'at', 'received', 'from'], tags=['all_4072']),\n",
              " LabeledSentence(words=['outlook', 'issue', 'cannot', 'open', 'the', 'item', 'text', 'command', 'is', 'not', 'available'], tags=['all_6989']),\n",
              " LabeledSentence(words=['outlook', 'does', 'not', 'start'], tags=['all_3973']),\n",
              " LabeledSentence(words=['on', 'went', 'down', 'at', 'am'], tags=['all_1911']),\n",
              " LabeledSentence(words=['problem', 'received', 'from', 'hello', 'i', 'my', 'password', 'yesterday', 'can', 'open', 'log', 'in', 'but', 'have', 'it', 'to', 'input', 'customer', 'customer', 's', 'search', 'does', 'not', 'work', 'opening', 'call', 'please', 'so', 'am', 'able', 'today', 'capture', 'best'], tags=['all_4233']),\n",
              " LabeledSentence(words=['collaboration', 'platform', 'query'], tags=['all_6907']),\n",
              " LabeledSentence(words=['unable', 'to', 'connect', 'from', 'a', 'hotel', 'dell'], tags=['all_8010']),\n",
              " LabeledSentence(words=['can', 'you', 'help', 'the', 'tool', 'time', 'clock', 'password', 'that', 'punch', 'in', 'your', 'employee', 'number', 'it', 'a', 'maintenance', 'mode', 'and', 'we', 'forgot', 'password', 'this', 'is', 'done', 'on', 'device', 'not'], tags=['all_2908']),\n",
              " LabeledSentence(words=['sync', 'no', 'in', 'the', 'last', 'investigate'], tags=['all_7142']),\n",
              " LabeledSentence(words=['screen', 'advanced', 'find', 'create', 'view', 'received', 'from', 'dear', 'all', 'when', 'i', 'select', 'in', 'advanced', 'find', 'the', 'next', 'is', 'scrolled', 'are', 'into', 'query', 'it', 'nearly', 'impossible', 'for', 'me', 'to', 'a', 'view'], tags=['all_2184']),\n",
              " LabeledSentence(words=['blank', 'call'], tags=['all_3636']),\n",
              " LabeledSentence(words=['job', 'job', 'in', 'job', 'schedule', 'at', 'received', 'from'], tags=['all_918']),\n",
              " LabeledSentence(words=['please', 'check', 'account', 'in', 'supply', 'chain', 'help', 'desk'], tags=['all_1783']),\n",
              " LabeledSentence(words=['circuit', 'outage', 'at', 'since', 'am', 'site', 'is', 'on', 'primary', 'circuit', 'what', 'type', 'of', 'outage', 'network', 'x', 'circuit', 'power', 'please', 'specify', 'outage', 'top', 'yes', 'when', 'did', 'it', 'start', 'maintenance', 'power', 'no', 'company', 'power', 'provider', 'network', 'no', 'maint', 'does', 'have', 'a', 'backup', 'yes', 'active', 'yes', 'contact', 'notified', 'yes', 'remote', 'dialing', 'equipment', 'reset', 'working', 'yes', 'vendor', 'ticket', 'global', 'vendor', 'vendor', 'additional', 'diagnostics'], tags=['all_5935']),\n",
              " LabeledSentence(words=['outlook', 'cache', 'query'], tags=['all_5832']),\n",
              " LabeledSentence(words=['unable', 'to', 'post', 'document'], tags=['all_5170']),\n",
              " LabeledSentence(words=['engineering', 'drawing', 'tool', 'frame', 'cannot', 'be', 'loaded', 'does', 'not', 'load', 'any', 'drawing', 'the', 'message', 'from', 'appendix'], tags=['all_7257']),\n",
              " LabeledSentence(words=['query', 'regarding', 'undead', 'sync', 'failure'], tags=['all_985']),\n",
              " LabeledSentence(words=['tool', 'server', 'optical', 'archive', 'received', 'from', 'hello', 'our', 'local', 'application', 'cannot', 'from', 'because', 'the', 'content', 'repository', 'address', 'is', 'not', 'a', 'valid', 'response', 'address', 'we', 'are', 'thing', 'to', 'call', 'is', 'and', 'obtain', 'following', 'answer', 'status', 'type', 'report', 'message', 'description', 'resource', 'available', 'i', 'kindly', 'ask', 'you', 'check', 'web', 'service', 'configuration', 'enable', 'communication', 'on', 'port', 'trying', 'ping', 'as'], tags=['all_3794']),\n",
              " LabeledSentence(words=['access', 'to', 'engineering', 'tool'], tags=['all_6908']),\n",
              " LabeledSentence(words=['unable', 'to', 'pull', 'up', 'on', 'and', 'tab', 'in', 'ess'], tags=['all_387']),\n",
              " LabeledSentence(words=['delivery', 'date', 'of', 'i', 'have', 'attached', 'both', 'the', 'one', 'i', 'sent', 'and', 'was', 'not', 'other', 'received', 'with', 'error', 'message', 'name', 'recipient', 'if', 'caller', 'failure', 'code', 'text', 'your', 'message', 'by', 'or', 'more', 'subject', 'course', 'customer', 'logistics', 'on', 'following', 'cannot', 'be', 'found', 'on', 'this', 'could', 'sent', 'try', 'to', 'send', 'again', 'later', 'contact', 'network', 'administrator', 'client', 'operation', 'is'], tags=['all_8026']),\n",
              " LabeledSentence(words=['dell', 'boot', 'up', 'failure', 'had', 'to', 'try', 'restart', 'the', 'multiple', 'times', 'system', 'a', 'loop', 'finally', 'got', 'and', 'running', 'be', 'issue', 'with', 'again', 'shut', 'down', 'computer', 'name', 'os', 'win', 'contact'], tags=['all_7858']),\n",
              " LabeledSentence(words=['not', 'coming', 'in', 'from', 'mail', 'received', 'from', 'good', 'afternoon', 'i', 'am', 'the', 'that', 'sent', 'mail', 'please', 'advise'], tags=['all_8495']),\n",
              " LabeledSentence(words=['outlook', 'not', 'cannot', 'open', 'phone', 'location', 'login'], tags=['all_991']),\n",
              " LabeledSentence(words=['printing', 'need', 'driver', 'on', 'every', 'printer', 'but', 'it', 'does', 'not', 'complete', 'successfully', 'print', 'server'], tags=['all_5857']),\n",
              " LabeledSentence(words=['job', 'job', 's', 'in', 'job', 'schedule', 'at', 'received', 'from'], tags=['all_2939']),\n",
              " LabeledSentence(words=['job', 'in', 'job', 'schedule', 'at', 'received', 'from'], tags=['all_931']),\n",
              " LabeledSentence(words=['received', 'from', 'hi', 'it', 'i', 'regularly', 'have', 'trouble', 'with', 'lagging', 'particularly', 'it', 'after', 'our', 'time', 'last', 'week', 'especially', 'was', 'very', 'bad', 'all', 'day', 'yesterday', 'and', 'today', 'again', 'to', 'lag', 'that', 'noon', 'this', 'is', 'becoming', 'continuously', 'embarrassing', 'during', 'phone', 'when', 'am', 'search', 'for', 'stock', 'or', 'over', 'the', 'as', 'system', 'taking', 'so', 'long', 'there', 'are', 'two', 'other', 'in', 'building', 'rarely', 'same', 'his', 'faster', 'though', 'much', 'than', 'mine', 'will', 'but', 'not', 'mine', 'can', 'you', 'please', 'shed', 'some', 'light', 'on', 'scenario', 'note', 'more', 'convenient', 'office', 'if', 'be', 'mornings', 'kind'], tags=['all_3896']),\n",
              " LabeledSentence(words=['power', 'outage', 'south', 'site', 'hard', 'down', 'since', 'at', 'am', 'on', 'no', 'backup', 'circuit', 'what', 'type', 'of', 'x', 'network', 'circuit', 'power', 'please', 'specify', 'outage', 'top', 'yes', 'when', 'did', 'it', 'start', 'maintenance', 'power', 'no', 'company', 'provider', 'network', 'maint', 'does', 'have', 'a', 'circuit', 'no', 'active', 'na', 'contact', 'notified', 'remote', 'dialing', 'na', 'equipment', 'reset', 'na', 'working', 'na', 'vendor', 'ticket', 'global', 'vendor', 'vendor', 'global', 'yes', 'additional', 'diagnostics'], tags=['all_5007']),\n",
              " LabeledSentence(words=['outlook', 'is', 'not', 'on', 'my', 'language', 'explorer', 'customer', 'number', 'telephone'], tags=['all_3126']),\n",
              " LabeledSentence(words=['report', 'from', 'from', 'sent', 'to', 'subject', 'problem', 'system', 'machine', 'rev', 'number', 'error', 'b', 'description', 'management', 'console', 'to', 'or', 'failure', 'last', 'current', 'status', 'na'], tags=['all_925']),\n",
              " LabeledSentence(words=['account', 'locked'], tags=['all_7458']),\n",
              " LabeledSentence(words=['production', 'account', 'locked'], tags=['all_7786']),\n",
              " LabeledSentence(words=['private', 'address', 'are', 'on', 'employee', 'master', 'disable', 'new', 'edit', 'buttons'], tags=['all_4704']),\n",
              " LabeledSentence(words=['company', 'guest', 'account', 'set', 'up'], tags=['all_983']),\n",
              " LabeledSentence(words=['account', 'blocked', 'password', 'incorrectly', 'times', 'please', 'activate', 'account'], tags=['all_3459']),\n",
              " LabeledSentence(words=['job', 'job', 'in', 'job', 'schedule', 'at', 'received', 'from'], tags=['all_6133']),\n",
              " LabeledSentence(words=['reset', 'password', 'from', 'on', 'behalf', 'of', 'company', 'sent', 'am', 'to', 'subject', 'to', 'for', 'importance', 'high', 'request', 'the', 'following', 'user', 'in', 'your', 'organization', 'a', 'be', 'their', 'account', 'first', 'name', 'last', 'consider', 'this', 'validate', 'is', 'authentic', 'before', 'if', 'you', 'have', 'determined', 'that', 'valid', 'request', 'use', 'portal', 'office', 'azure', 'user', 'want', 'let', 'own', 'check', 'out', 'how', 'can', 'enable', 'with', 'just', 'few', 'sincerely', 'message', 'was', 'sent', 'from', 'an', 'unmonitored', 'address', 'please', 'do', 'not', 'reply', 'message'], tags=['all_5249']),\n",
              " LabeledSentence(words=['job', 'in', 'job', 'schedule', 'at', 'received', 'from'], tags=['all_5853']),\n",
              " LabeledSentence(words=['printer', 'received', 'from', 'good', 'morning', 'i', 'have', 'made', 'several', 'to', 'print', 'also', 'powered', 'the', 'device', 'down', 'then', 'back', 'up', 'and', 'retired', 'printing', 'no', 'but', 'are', 'had', 'a', 'colleague', 'try', 'she', 'same', 'from', 'my', 'it', 'it', 'as', 'when', 'printed', 'came', 'out', 'successfully', 'how', 'can', 'be', 'without', 'notification', 'should', 'this', 'known', 'or', 'is', 'error', 'that', 'further', 'investigation'], tags=['all_5071']),\n",
              " LabeledSentence(words=['business', 'client', 'log', 'on', 'error', 'is', 'not', 'working', 'and', 'throwing', 'issue', 'with', 'my', 'fine', 'when', 'tried', 'in', 'other', 'system'], tags=['all_5006']),\n",
              " LabeledSentence(words=['issue', 'received', 'from', 'hello', 'i', 'am', 'not', 'able', 'to', 'connect', 'from', 'home', 'office', 'couple', 'f', 'ago', 'was', 'connected', 'now', 'it', 'is', 'working', 'getting', 'a', 'message', 'that', 'my', 'session', 'but', 'if', 'click', 'on', 'the', 'link', 'nothing', 'need', 'help', 'with', 'your', 'dynamics', 'here', 'chat', 'live', 'agent', 'regarding', 'now', 'best'], tags=['all_21']),\n",
              " LabeledSentence(words=['audio', 'functionality', 'is', 'not', 'working', 'as', 'per'], tags=['all_4422']),\n",
              " LabeledSentence(words=['circuit', 'outage', 'is', 'down', 'since', 'at', 'am', 'site', 'up', 'on', 'backup', 'what', 'type', 'of', 'outage', 'network', 'x', 'circuit', 'power', 'please', 'specify', 'outage', 'top', 'when', 'did', 'it', 'start', 'maintenance', 'power', 'no', 'company', 'power', 'provider', 'network', 'no', 'maint', 'does', 'have', 'a', 'yes', 'active', 'yes', 'contact', 'notified', 'remote', 'dialing', 'equipment', 'reset', 'working', 'vendor', 'ticket', 'global', 'vendor', 'vendor', 'additional', 'diagnostics'], tags=['all_1516']),\n",
              " LabeledSentence(words=['received', 'a', 'message', 'when', 'trying', 'to', 'open', 'unsupported', 'browser', 'me', 'new', 'browser', 'continue'], tags=['all_1762']),\n",
              " LabeledSentence(words=['unable', 'to', 'select', 'my', 'course', 'when', 'i', 'a', 'language', 'there', 'is', 'an', 'error', 'and', 'go', 'further'], tags=['all_8233']),\n",
              " LabeledSentence(words=['account', 'locked'], tags=['all_3398']),\n",
              " LabeledSentence(words=['call'], tags=['all_710']),\n",
              " LabeledSentence(words=['quote', 'save', 'material', 'creation', 'process', 'for', 'with', 'engine', 'broken', 'in', 'engine', 'it', 'only', 'an', 'error', 'message', 'line', 'item', 'specify', 'positive', 'only', 'to', 'be', 'a', 'change', 'yesterday', 'between', 'and', 'server', 'time', 'we', 'there', 'is', 'break', 'the', 'number', 'sequence', 'all', 'younger', 'than', 'does', 'not', 'neither', 'or'], tags=['all_1439']),\n",
              " LabeledSentence(words=['not', 'working', 'received', 'from', 'hello', 'i', 'am', 'unable', 'to', 'access', 'the', 'password', 'is', 'showing', 'error'], tags=['all_168']),\n",
              " LabeledSentence(words=['window', 'locked', 'for', 'user', 'id', 'received', 'from', 'hi', 'help', 'desk', 'team', 'my', 'locked', 'please', 'assist', 'to', 'unlock', 'immediately'], tags=['all_2326']),\n",
              " LabeledSentence(words=['install', 'zebra', 'we'], tags=['all_4880']),\n",
              " LabeledSentence(words=['problem', 'lan', 'an', 'we'], tags=['all_305']),\n",
              " LabeledSentence(words=['ticket', 'update', 'on', 'ticket', 'no'], tags=['all_6694']),\n",
              " LabeledSentence(words=['user', 'unable', 'to', 'login', 'the', 'advised', 'user', 'restart', 'and', 'try', 'with', 'new', 'go', 'reset', 'help', 'connected', 'system', 'help', 'password', 'manager', 'tool', 'password', 'tool', 'change', 'sync', 'company', 'network', 'caller', 'confirmed', 'that', 'he', 'was', 'able', 'login', 'issue', 'resolved'], tags=['all_980']),\n",
              " LabeledSentence(words=['ticket', 'update'], tags=['all_311']),\n",
              " LabeledSentence(words=['unable', 'to', 'view', 'more', 'than', 'days'], tags=['all_2017']),\n",
              " LabeledSentence(words=['with', 'explorer', 'which', 'is', 'freezing', 'all', 'the', 'time', 'received', 'from'], tags=['all_8021']),\n",
              " LabeledSentence(words=['eu', 'tool', 'is', 'not', 'available', 'confirmation', 'also', 'possible', 'the', 'last', 'was', 'on', 'th', 'at', 'am'], tags=['all_1956']),\n",
              " LabeledSentence(words=['show', 'me', 'the', 'text', 'that', 'is', 'written', 'on', 'been', 'below', 'from', 'sent', 'am', 'to', 'subject', 'notification', 'material', 'drawing', 'hi', 'team', 'can', 'you', 'please'], tags=['all_1469']),\n",
              " LabeledSentence(words=['are', 'not', 'automatically', 'being', 'sent', 'to', 'helical', 'when', 'customer', 'have', 'set', 'be', 'this', 'works', 'for', 'standard', 'and', 'order', 'but', 'an', 'is', 'a', 'contract', 'they', 'the', 'in', 'correct', 'on', 'tool', 'it', 'same', 'as', 'sold', 'party', 'please', 'see', 'attached'], tags=['all_3061']),\n",
              " LabeledSentence(words=['product', 'in', 'logical', 'warehouse', 'plant', 'batch', 'is', 'when', 'receipt', 'to', 'receive', 'into', 'plant', 'information', 'process', 'it', 'begun', 'happen', 'more', 'frequently', 'over', 'the', 'past', 'month', 'following', 'are', 'as', 'where', 'this', 'and'], tags=['all_1637']),\n",
              " LabeledSentence(words=['please', 'the', 'id', 'in', 'production', 'reset', 'password', 'for', 'prod'], tags=['all_4464']),\n",
              " LabeledSentence(words=['ethics', 'login', 'error', 'when', 'i', 'try', 'to', 'training', 'click', 'on', 'the', 'log', 'in', 'from', 'collaboration', 'platform', 'site', 'it', 'me', 'page', 'select', 'language', 'then', 'get', 'an', 'that', 'load'], tags=['all_727']),\n",
              " LabeledSentence(words=['job', 'in', 'job', 'schedule', 'search', 'server', 'prod', 'daily', 'received', 'from', 'at'], tags=['all_8114']),\n",
              " LabeledSentence(words=['please', 'review', 'eu', 'tool', 'server', 'in', 'is', 'not', 'working', 'very', 'urgent'], tags=['all_5242']),\n",
              " LabeledSentence(words=['change', 'request', 'cannot', 'be'], tags=['all_7555']),\n",
              " LabeledSentence(words=['outlook', 'bit', 'for', 'password', 'repeatedly', 'after', 'a', 'reset', 'we', 'are', 'the', 'and', 'will', 'see', 'if', 'issue', 'is', 'resolved', 'once', 'it'], tags=['all_1174']),\n",
              " LabeledSentence(words=['setup', 'new'], tags=['all_1441']),\n",
              " LabeledSentence(words=['job', 'in', 'job', 'schedule', 'at', 'received', 'from'], tags=['all_83']),\n",
              " LabeledSentence(words=['user', 'unable', 'to', 'join', 'meeting', 'from', 'external', 'vendor'], tags=['all_1382']),\n",
              " LabeledSentence(words=['unable', 'to', 'change', 'quotation'], tags=['all_7197']),\n",
              " LabeledSentence(words=['data', 'back', 'up', 'for'], tags=['all_336']),\n",
              " LabeledSentence(words=['unlock', 'account', 'user', 'id', 'please', 'my'], tags=['all_2994']),\n",
              " LabeledSentence(words=['account', 'locked', 'password', 'reset', 'request'], tags=['all_2414']),\n",
              " LabeledSentence(words=['i', 'am', 'trying', 'to', 'open', 'a', 'file', 'attached', 'and', 'the', 'extension', 'is', 'cannot', 'this', 'work', 'on', 'it', 'as', 'extension', 'do', 'not', 'know', 'what', 'is'], tags=['all_6766']),\n",
              " LabeledSentence(words=['on', 'for', 'tool', 'is', 'not', 'working', 'received', 'from', 'please', 'see', 'screen', 'below'], tags=['all_8211']),\n",
              " LabeledSentence(words=['system', 'monitor', 'resolution', 'problem', 'not', 'able', 'to', 'set', 'x'], tags=['all_8249']),\n",
              " LabeledSentence(words=['are', 'showing', 'down', 'in', 'tool', 'observing', 'below', 'since', 'am', 'on', 'the', 'is', 'a', 'status', 'on', 'please', 'investigate'], tags=['all_1457']),\n",
              " LabeledSentence(words=['tool', 'viewer', 'been', 'on', 'my', 'but', 'i', 'cannot', 'view', 'in', 'could', 'you', 'please', 'help', 'me'], tags=['all_1670']),\n",
              " LabeledSentence(words=['latitude', 'does', 'not', 'boot', 'up', 'properly', 'got', 'a', 'blue', 'empty', 'screen', 'eagle'], tags=['all_6354']),\n",
              " LabeledSentence(words=['interface', 'van', 'on', 'is', 'do', 'down'], tags=['all_6896']),\n",
              " LabeledSentence(words=['shipping', 'tool'], tags=['all_7072']),\n",
              " LabeledSentence(words=['connectivity', 'is', 'flickering', 'automatically', 'and', 'in', 'back', 'no', 'outage', 'from', 'server', 'end', 'network', 'team', 'kindly', 'look', 'into', 'the', 'below', 'issue', 'office', 'issue', 'with', 'multiple', 'user', 'keep', 'ticket', 'priority', 'as', 'till', 'resolved'], tags=['all_6706']),\n",
              " LabeledSentence(words=['not', 'getting', 'any', 'old', 'in', 'my', 'outlook', 'kindly', 'do', 'the', 'needful', 'to', 'restore', 'same', 'and', 'help', 'me', 'store', 'it', 'separate', 'language', 'explorer', 'customer', 'number', 'telephone', 'summary', 'am', 'location'], tags=['all_7955']),\n",
              " LabeledSentence(words=['new', 'setup', 'help', 'to', 'create', 'and', 'configure', 'the', 'user', 'login', 'profile', 'outlook'], tags=['all_3043']),\n",
              " LabeledSentence(words=['unable', 'to', 'sign', 'in', 'outlook', 'after', 'password', 'change'], tags=['all_2913']),\n",
              " LabeledSentence(words=['query', 'regarding', 'logging', 'in', 'to', 'portal'], tags=['all_389']),\n",
              " LabeledSentence(words=['limited', 'received', 'from', 'when', 'i', 'attempt', 'to', 'view', 'data', 'on', 'the', 'will', 'not', 'go', 'beyond', 'it', 'was', 'that', 'number', 'with', 'some', 'still', 'on', 'removed', 'show', 'more', 'information', 'is', 'there', 'a', 'fix', 'this'], tags=['all_6904']),\n",
              " LabeledSentence(words=['issue', 'with', 'under', 'two', 'and', 'language', 'explorer', 'customer', 'number', 'telephone', 'when', 'we', 'try', 'to', 'receive', 'in', 'is', 'doing', 'a', 'round', 'up', 'value', 'there', 'way', 'exact', 'weight', 'in'], tags=['all_4625']),\n",
              " LabeledSentence(words=['user', 'not', 'able', 'to', 'connect', 't', 'drive'], tags=['all_6721']),\n",
              " LabeledSentence(words=['there', 'is', 'no', 'sound', 'when', 'the', 'computer', 'an', 'audio', 'file', 'please', 'provide', 'of', 'issue', 'there', 'nor', 'does'], tags=['all_5887']),\n",
              " LabeledSentence(words=['ticket', 'update', 'on', 'implant'], tags=['all_1487']),\n",
              " LabeledSentence(words=['location', 'received', 'from', 'dear', 'i', 'would', 'please', 'need', 'for', 'our', 'consultant', 'from', 'bank', 'the', 'below', 'period', 'th', 'th', 'th', 'th', 'th', 'th', 'all', 'three', 'should', 'still', 'have', 'a', 'valid', 'and', 'log', 'in', 'password', 'will', 'do', 'huge', 'update', 'payment', 'management', 'tool', 'could', 'you', 'prepare', 'accordingly', 'confirm', 'if', 'we', 'get', 'please', 'pick', 'them', 'up', 'on', 'above', 'by', 'there', 'is', 'any', 'problem', 'let', 'me', 'know', 'many'], tags=['all_7441']),\n",
              " LabeledSentence(words=['outlook', 'not', 'opening', 'in', 'received', 'from', 'hi', 'my', 'is', 'can', 'you', 'look', 'into', 'this', 'urgently', 'help'], tags=['all_6886']),\n",
              " LabeledSentence(words=['error', 'received', 'from', 'dear', 'all', 'would', 'you', 'please', 'help', 'us', 'out', 'we', 'cannot', 'complete', 'for', 'below', 'po'], tags=['all_4604']),\n",
              " LabeledSentence(words=['i', 'am', 'stuck', 'and', 'have', 'been', 'line', 'we', 'cannot', 'so', 'it', 'not', 'any', 'on', 'how', 'can', 'get', 'v'], tags=['all_6287']),\n",
              " LabeledSentence(words=['mail', 'address', 'of', 'at', 'ticketing', 'tool', 'is', 'missing', 'received', 'from', 'in', 'for', 'user', 'no', 'available', 'see', 'picture', 'best'], tags=['all_7565']),\n",
              " LabeledSentence(words=['error', 'at', 'him', 'production', 'the', 'following', 'when', 'the', 'time', 'see', 'appendix', 'all', 'holiday', 'or', 'are', 'only', 'in', 'system', 'up', 'to', 'and'], tags=['all_5996']),\n",
              " LabeledSentence(words=['furnace', 'ray', 'is', 'do', 'interface', 'down'], tags=['all_4570']),\n",
              " LabeledSentence(words=['ticketing', 'tool', 'ticket', 'received', 'from', 'i', 'need', 'to', 'get', 'loaded', 'on', 'my', 'outlook', 'currently', 'the', 'web', 'version', 'metalworking', 'engineer', 'company', 'technical', 'support'], tags=['all_2914']),\n",
              " LabeledSentence(words=['forward', 'finished', 'start', 'of', 'sop', 'process', 'received', 'from', 'help', 'since', 'our', 'territory', 'director', 'been', 'resigned', 'i', 'need', 'response', 'for', 'forecast', 'in', 'you', 'please', 'assign', 'this', 'approval'], tags=['all_4911']),\n",
              " LabeledSentence(words=['are', 'slow', 'in', 'plant', 'all'], tags=['all_4018']),\n",
              " LabeledSentence(words=['job', 'tool', 'prod', 'full', 'in', 'job', 'schedule', 'at', 'received', 'from'], tags=['all_669']),\n",
              " LabeledSentence(words=['tool', 'web', 'link', 'in', 'not', 'opening', 'up'], tags=['all_7877']),\n",
              " LabeledSentence(words=['port', 'issue', 'not', 'works', 'at', 'time'], tags=['all_3502']),\n",
              " LabeledSentence(words=['user', 'to', 'reset', 'password', 'account', 'is', 'disabled', 'in', 'ad'], tags=['all_5558']),\n",
              " LabeledSentence(words=['job', 'payroll', 'na', 'u', 'in', 'job', 'schedule', 'at', 'received', 'from'], tags=['all_1930']),\n",
              " LabeledSentence(words=['no', 'folder', 'access', 'received', 'from', 'team', 'is', 'not', 'working', 'please', 'for', 'me'], tags=['all_4311']),\n",
              " LabeledSentence(words=['replace'], tags=['all_3566']),\n",
              " LabeledSentence(words=['unable', 'to', 'connect', 'printer'], tags=['all_4516']),\n",
              " LabeledSentence(words=['unable', 'to', 'open', 'outlook'], tags=['all_544']),\n",
              " LabeledSentence(words=['account', 'locked'], tags=['all_2927']),\n",
              " LabeledSentence(words=['password', 'and', 'engineering', 'tool', 'received', 'from', 'i', 'have', 'let', 'my', 'expire', 'need', 'help', 'getting', 'back', 'into', 'our'], tags=['all_2671']),\n",
              " LabeledSentence(words=['password', 'reset'], tags=['all_1129']),\n",
              " LabeledSentence(words=['ticket', 'update', 'implant'], tags=['all_4822']),\n",
              " LabeledSentence(words=['reset', 'for', 'password', 'management', 'tool', 'password', 'reset', 'please', 'repeat', 'i', 'need', 'to', 'something'], tags=['all_5307']),\n",
              " LabeledSentence(words=['customer', 'not', 'getting', 'order', 'automatically', 'received', 'from', 'two', 'have', 'been', 'the', 'like', 'they', 'for', 'past', 'both', 'are', 'under', 'same', 'top', 'pare', 'not', 'and', 'should', 'be', 'sending', 'to', 'since', 'th', 'them', 'can', 'someone', 'look', 'into', 'this', 'this', 'is', 'affecting', 'paying', 'as', 'use', 'a', 'receiver', 'so', 'pay', 'bill', 'senior', 'engineer', 'company'], tags=['all_232']),\n",
              " LabeledSentence(words=['engineering', 'tool', 'login', 'issue', 'help', 'to', 'change', 'the', 'password', 'password', 'management', 'tool', 'tool', 'connected', 'user', 'system', 'help', 'password', 'manager', 'tool', 'and', 'sync', 'company', 'network', 'caller', 'confirmed', 'that', 'he', 'was', 'able', 'login', 'issue', 'resolved'], tags=['all_614']),\n",
              " LabeledSentence(words=['engineering', 'tool', 'log', 'in', 'problem', 'received', 'from', 'hello', 'team', 'please', 'check', 'the', 'below', 'error', 'i', 'am', 'getting', 'during', 'logging', 'for', 'engineering', 'tool', 'have', 'my', 'its', 'are', 'as', 'computer', 'name', 'service', 'tag', 'model', 'latitude', 'e', 'was', 'with', 'and', 'name', 'login', 'below', 'same', 'get', 'company', 'in', 'do', 'needful', 'description'], tags=['all_3545']),\n",
              " LabeledSentence(words=['please', 'access', 'to', 'printer', 'per'], tags=['all_816']),\n",
              " LabeledSentence(words=['unable', 'to', 'access', 'time'], tags=['all_988']),\n",
              " LabeledSentence(words=['volume', 'his', 'over', 'space', 'available', 'g', 'h', 'data', 'on', 'server', 'is'], tags=['all_3440']),\n",
              " LabeledSentence(words=['s'], tags=['all_1860']),\n",
              " LabeledSentence(words=['job', 'tool', 'dev', 'in', 'job', 'schedule', 'at', 'received', 'from'], tags=['all_637']),\n",
              " LabeledSentence(words=['network', 'multiple', 'are', 'running', 'slow', 'human', 'chi'], tags=['all_4011']),\n",
              " LabeledSentence(words=['key', 'banked', 'not', 'working', 'please', 'do', 'the', 'needful', 'for', 'company', 'm', 'from', 'sent', 'to', 'subject', 'my', 'deputy', 'dell', 'person', 'to', 'attend', 'problem', 'model', 'is', 'latitude', 'asset', 'code', 'service', 'senior', 'manager', 'north'], tags=['all_6074']),\n",
              " LabeledSentence(words=['space', 'available', 'm', 'volume', 'f', 'deb', 'on', 'server', 'is', 'over'], tags=['all_4755']),\n",
              " LabeledSentence(words=['access', 'for', 'printer', 'wy', 'trainee', 'received', 'from', 'hi', 'please', 'provide', 'to', 'machine', 'tool', 'business', 'below', 'trainee', 'name', 'k', 'login', 'id', 'computer', 'no'], tags=['all_3451']),\n",
              " LabeledSentence(words=['assignment', 'field', 'for', 'posting', 'received', 'from', 'dear', 'it', 'team', 'i', 'found', 'that', 'number', 'not', 'been', 'shown', 'on', 'transaction', 'as', 'below', 'what', 'is', 'the', 'or', 'error', 'this', 'please', 'confirm', 'we', 'need', 'to', 'use', 'do', 'intercompany', 'reconciliation', 'month', 'end', 'process', 'best'], tags=['all_5739']),\n",
              " LabeledSentence(words=['shop', 'floor', 'password', 'language', 'explorer', 'customer', 'number', 'telephone', 'summary', 'have', 'forgotten', 'my', 'to'], tags=['all_4432']),\n",
              " LabeledSentence(words=['ticket', 'update', 'implant', 'welcome', 'our', 'next', 'available', 'agent', 'will', 'be', 'with', 'you', 'shortly', 'interaction', 'agent', 'visitor', 'the', 'conversation', 'hi', 'hello'], tags=['all_6490']),\n",
              " LabeledSentence(words=['outlook', 'no', 'feedback', 'not', 'able', 'to', 'this', 'morning', 'i', 'my', 'computer', 'several', 'times', 'without', 'any', 'effort'], tags=['all_3297']),\n",
              " LabeledSentence(words=['of', 'your', 'dropping', 'traffic', 'from', 'in', 'incident', 'overview', 'we', 'have', 'at', 'least', 'and', 'to', 'port', 'one', 'or', 'more', 'destination', 'this', 'activity', 'may', 'indicate', 'the', 'following', 'an', 'infection', 'on', 'host', 'a', 'scan', 'authorized', 'unauthorized'], tags=['all_7188']),\n",
              " LabeledSentence(words=['license', 'issue', 'cannot', 'run', 'as', 'of', 'early', 'am', 'a', 'server', 'not', 'found', 'error', 'this', 'is', 'affecting', 'production', 'in', 'the', 'site'], tags=['all_2526']),\n",
              " LabeledSentence(words=['to', 'install', 'driver', 'and', 'then', 'wont', 'allow', 'me', 'print', 'please', 'complete', 'all', 'below', 'if', 'not', 'it', 'will', 'be', 'returned', 'back', 'the', 'requester', 'provide', 'information', 'review', 'ticket', 'not', 'able', 'resolve', 'assign', 'appropriate', 'group', 'per', 'your', 'printer', 'problem', 'assignment', 'name', 'make', 'model', 'all', 'even', 'local', 'detailed', 'description', 'of', 'needs', 'a', 'from', 'computer', 'same', 'message', 'for', 'type', 'printing', 'excel', 'tool', 'delivery', 'note', 'production', 'any', 'source', 'what', 'system', 'or', 'application', 'being', 'used', 'at', 'time', 'problem', 'outlook', 'excel', 'them', 'printing', 'all', 'does', 'respond', 'ping', 'command', 'on', 'network', 'power', 'cycle', 'been', 'shutdown', 'printer', 'same', 'error', 'message', 'system', 'which', 'system', 'ex', 'its', 'an', 'can', 'output', 'another', 'temporarily', 'too', 'document', 'is', 'correctly', 'scan', 'copy', 'attach', 'ticketing', 'tool', 'ticket'], tags=['all_5787']),\n",
              " LabeledSentence(words=['high', 'latency'], tags=['all_3536']),\n",
              " LabeledSentence(words=['engineering', 'tool', 'icon', 'on', 'the'], tags=['all_7037']),\n",
              " LabeledSentence(words=['set', 'up', 'printer', 'from', 'we', 'on', 'in'], tags=['all_3436']),\n",
              " LabeledSentence(words=['delivery', 'unable', 'to', 'tool', 'four', 'error', 'a', 'block', 'no', 'block', 'on', 'below', 'are', 'not', 'try', 'do', 'it', 'manual', 'under', 'were', 'the', 'billing', 'type', 'could', 'be', 'determined', 'for', 'billing', 'item', 'is', 'relevant', 'billing', 'need', 'resolved', 'before', 'month', 'end', 'any', 'please', 'contact'], tags=['all_6453']),\n",
              " LabeledSentence(words=['encryption', 'to', 'login'], tags=['all_8125']),\n",
              " LabeledSentence(words=['job', 'hot', 'in', 'job', 'schedule', 'at', 'received', 'from'], tags=['all_4323']),\n",
              " LabeledSentence(words=['ess', 'login', 'issue', 'user', 'manager', 'name', 'checked', 'the', 'name', 'in', 'ad', 'advised', 'to', 'and', 'check', 'caller', 'confirmed', 'that', 'she', 'was', 'able', 'login', 'issue', 'resolved'], tags=['all_5152']),\n",
              " LabeledSentence(words=['device', 'generating', 'a', 'high', 'volume', 'of', 'repeat', 'outbound', 'connection', 'for', 'in', 'incident', 'overview', 'we', 'are', 'seeing', 'your', 'traffic', 'blocked', 'from', 'to', 'port', 'remote', 'procedure', 'call', 'external', 'host', 'this', 'may', 'indicate', 'misconfiguration', 'where', 'the', 'is', 'blocking', 'legitimate', 'also', 'reaching', 'out', 'malicious', 'or', 'worm', 'code', 'you', 'via', 'medium', 'priority', 'ticket', 'and', 'per', 'our', 'default', 'event', 'handling', 'if', 'would', 'like', 'us', 'handle', 'these', 'differently', 'in', 'future', 'see', 'below', 'have', 'any', 'further', 'please', 'let', 'know', 'either', 'by', 'corresponding', 'back', 'soc', 'calling', 'at', 'full', 'login', 'failure', 'explicit', 'notification', 'phone', 'call', 'automatically', 'resolve', 'directly', 'portal', 'no', 'explicit', 'but', 'will', 'be', 'available', 'portal'], tags=['all_6934']),\n",
              " LabeledSentence(words=['unable', 'to', 'print', 'no', 'connection', 'between', 'the', 'and', 'server', 'normal', 'printing', 'works', 'works', 'fine', 'on', 'win', 'issue', 'is', 'only', 'with', 'printer', 'it', 'a', 'printer'], tags=['all_5667']),\n",
              " LabeledSentence(words=['battery', 'with', 'full', 'charge', 'mint', 'but', 'actual', 'life', 'seeking', 'replacement', 'original', 'battery', 'two', 'old', 'model', 'e', 'dell', 'asset', 'number', 'also', 'rubber', 'around', 'screen', 'is', 'separating', 'can', 'this', 'be', 'or', 'should', 'i', 'super', 'glue'], tags=['all_2629']),\n",
              " LabeledSentence(words=['unable', 'to', 'open', 'outlook', 'and', 'ess', 'due', 'bad', 'password'], tags=['all_7505']),\n",
              " LabeledSentence(words=['the', 'password', 'for', 'south', 'not', 'working', 'today', 'is', 'while', 'to', 'use', 'client', 'it', 'a', 'message', 'attached', 'driver', 'login', 'user', 'reason', 'of', 'account', 'we', 'have', 'vendor', 'that', 'said', 'due', 'by', 'company', 'team', 'team', 'should', 'unlock', 'account', 'change', 'and', 'setup', 'with', 'new', 'password'], tags=['all_550']),\n",
              " LabeledSentence(words=['unable', 'to', 'connect'], tags=['all_4928']),\n",
              " LabeledSentence(words=['password', 'reset', 'from', 'password', 'management', 'tool'], tags=['all_1142']),\n",
              " LabeledSentence(words=['po', 'not', 'received', 'from', 'hello', 'team', 'could', 'you', 'please', 'check', 'the', 'error', 'and', 'help', 'us', 'we', 'cannot', 'create', 'tool', 'for', 'this', 'delivery', 'because', 'of', 'it', 'be', 'your', 'urgent', 'support', 'is'], tags=['all_2739']),\n",
              " LabeledSentence(words=['reset', 'for', 'password', 'management', 'tool', 'password', 'reset', 'forgot', 'login'], tags=['all_1245']),\n",
              " LabeledSentence(words=['clientless', 'is', 'not', 'working', 'received', 'from', 'hello', 'of', 'the', 'day', 'please', 'note', 'that', 'in', 'my', 'system', 'below', 'are', 'for', 'your', 'kind', 'information', 'only', 'user', 'id', 'system', 'find', 'snaps', 'i', 'am', 'while', 'trying', 'to', 'use', 'do', 'needful'], tags=['all_4800']),\n",
              " LabeledSentence(words=['after', 'new', 'page', 'cannot', 'be', 'received', 'from', 'hello', 'it', 'web', 'as', 'shown', 'in', 'the', 'attachment', 'please', 'help', 'or', 'provide', 'a', 'solution', 'thank', 'you', 'application', 'engineer', 'optimization', 'team'], tags=['all_3303']),\n",
              " LabeledSentence(words=['password', 'reset', 'and', 'login', 'in', 'collaboration', 'platform'], tags=['all_8158']),\n",
              " LabeledSentence(words=['job', 'job', 'in', 'job', 'schedule', 'at', 'received', 'from'], tags=['all_1797']),\n",
              " LabeledSentence(words=['unable', 'to', 'connect'], tags=['all_3056']),\n",
              " LabeledSentence(words=['request', 'for', 'stop', 'delete', 'the', 'job', 'in', 'hi', 'team', 'basis', 'please', 'tool', 'system', 'was', 'triggered', 'to', 'value', 'of', 'one', 'complaint', 'cube', 'transaction', 'as', 'result', 'is', 'found', 'hence', 'stop', 'respective', 'job', 'sent', 'team', 'best'], tags=['all_5473']),\n",
              " LabeledSentence(words=['unable', 'to', 'tool', 'received', 'from', 'i', 'am', 'force', 'the', 'on', 'below', 'also', 'this', 'too', 'is', 'material', 'and', 'needs', 'before', 'end', 'of', 'today', 'please', 'help', 'b'], tags=['all_2634']),\n",
              " LabeledSentence(words=['password', 'reset', 'request'], tags=['all_190']),\n",
              " LabeledSentence(words=['unable', 'to', 'send', 'or', 'receive'], tags=['all_6654']),\n",
              " LabeledSentence(words=['collaboration', 'platform', 'issue', 'with', 'platform', 'unable', 'to', 'access', 'we', 'have', 'that', 'people', 'post', 'the', 'library', 'and', 'are', 'not', 'able', 'will', 'it', 'be', 'fixed'], tags=['all_950']),\n",
              " LabeledSentence(words=['cannot', 'connect'], tags=['all_4042']),\n",
              " LabeledSentence(words=['job', 'job', 'in', 'job', 'schedule', 'at', 'received', 'from'], tags=['all_246']),\n",
              " LabeledSentence(words=['bad', 'printing', 'quality', 'at', 'received', 'from', 'hello', 'we', 'use', 'our', 'printer', 'for', 'of', 'production', 'and', 'in', 'one', 'step', 'the', 'moment', 'have', 'a', 'very', 'on', 'tower', 'tower', 'is', 'original', 'same', 'as', 'printer', 'it', 'checked', 'also', 'regarding', 'his', 'works', 'correct', 'did', 'print', 'from', 'word', 'good', 'quality', 'form', 'should', 'check', 'could', 'you', 'recheck', 'this', 'please', 'was', 'there', 'change'], tags=['all_6822']),\n",
              " LabeledSentence(words=['need', 'link', 'to', 'access', 'outlook', 'web', 'mail'], tags=['all_1632']),\n",
              " LabeledSentence(words=['calendar', 'is', 'not', 'visible', 'by', 'manager'], tags=['all_1640']),\n",
              " LabeledSentence(words=['reset', 'for', 'password', 'management', 'tool', 'password', 'reset', 'hi', 'please', 'unlock', 'account'], tags=['all_8202']),\n",
              " LabeledSentence(words=['job', 'hot', 'in', 'job', 'schedule', 'at', 'received', 'from'], tags=['all_4761']),\n",
              " LabeledSentence(words=['system', 'received', 'from', 'morning', 'please', 'help', 'i', 'can', 'not', 'lock', 'in', 'to', 'did', 'do', 'a', 'shutdown', 'on', 'my', 'computer', 'still', 'us', 'at', 'company', 'south'], tags=['all_4355']),\n",
              " LabeledSentence(words=['job', 'job', 'in', 'job', 'schedule', 'at', 'received', 'from'], tags=['all_1311']),\n",
              " LabeledSentence(words=['locked', 'out', 'of', 'password', 'management', 'tool', 'received', 'from', 'can', 'you', 'please', 'reset', 'my', 'password', 'customer', 'service', 'representative'], tags=['all_4542']),\n",
              " LabeledSentence(words=['is', 'still', 'running', 'after', 'the', 'month', 'monthly', 'of', 'from', 'around', 'on', 'currently', 'stage', 'with', 'percent', 'complete'], tags=['all_6873']),\n",
              " LabeledSentence(words=['interface', 'on', 'is', 'down', 'since'], tags=['all_729']),\n",
              " LabeledSentence(words=['problem', 'with', 'login', 'the', 'server', 'list', 'is', 'not', 'available'], tags=['all_3156']),\n",
              " LabeledSentence(words=['switch', 'is', 'down', 'since', 'am', 'on'], tags=['all_7419']),\n",
              " LabeledSentence(words=['in', 'plant', 'no', 'communication', 'to', 'the', 'server', 'forth', 'forth', 'they', 'are', 'sending', 'message'], tags=['all_467']),\n",
              " LabeledSentence(words=['job', 'job', 'in', 'job', 'schedule', 'at', 'received', 'from'], tags=['all_4449']),\n",
              " LabeledSentence(words=['from', 'sent', 'to', 'subject', 'amar', 'hello', 'it', 'help', 'can', 'you', 'help', 'please', 'see', 'the', 'image', 'in', 'below', 'there', 'is', 'a', 'that', 'i', 'need', 'to', 'process', 'but', 'will', 'not', 'give', 'me', 'an', 'approve', 'or', 'reject', 'option', 'and', 'pull', 'up', 'portal', 'am', 'also', 'from', 'outside', 'of', 'company', 'as', 'traveling', 'for', 'work'], tags=['all_3042']),\n",
              " LabeledSentence(words=['is', 'very', 'slow', 'please', 'resolve', 'the', 'issue', 'on', 'urgent', 'basis', 'received', 'from', 'hi', 'best'], tags=['all_2740']),\n",
              " LabeledSentence(words=['cannot', 'add', 'the', 'lean', 'event', 'i', 'launch', 'add', 'icon', 'in', 'collaboration', 'platform', 'request', 'you', 'to', 'install', 'version', 'of', 'it', 'attached', 'is', 'error', 'for', 'your', 'reference'], tags=['all_1444']),\n",
              " LabeledSentence(words=['unlock', 'in'], tags=['all_1858']),\n",
              " LabeledSentence(words=['to', 'recover', 'folder', 'that', 'by', 'mistake', 'copied', 'x', 'drive', 'i', 'want'], tags=['all_187']),\n",
              " LabeledSentence(words=['connectivity', 'issue', 'at', 'company', 'carrier', 'location', 'fa', 'best'], tags=['all_6034']),\n",
              " LabeledSentence(words=['the', 'network', 'address', 'of', 'the', 'no', 'controller', 'communication', 'module', 'hot', 'pressing', 'furnace', 'is', 'lost', 'there', 'have', 'been', 'this', 'year', 'and', 'device', 'needs', 'to', 'be', 'before', 'it', 'can', 'again', 'no', 'such', 'failure', 'on', 'other', 'whether', 'bind', 'address'], tags=['all_4090']),\n",
              " LabeledSentence(words=['hush', 'received', 'from', 'hi', 'please', 'reset', 'the', 'password', 'of', 'no', 'name', 'used', 'manager', 'sh', 'with'], tags=['all_2959']),\n",
              " LabeledSentence(words=['eu', 'tool', 'failure', 'in', 'no', 'feedback', 'and', 'allocation', 'possible'], tags=['all_1288']),\n",
              " LabeledSentence(words=['unable', 'to', 'access', 'site'], tags=['all_7340']),\n",
              " LabeledSentence(words=['job', 'in', 'job', 'schedule', 'at', 'received', 'from'], tags=['all_2583']),\n",
              " LabeledSentence(words=['second', 'monitor', 'not', 'working', 'received', 'from', 'hello', 'my', 'stopped', 'working', 'cannot', 'get', 'a', 'picture', 'on', 'it', 'can', 'someone', 'please', 'come', 'and', 'take', 'look', 'at', 'it'], tags=['all_2378']),\n",
              " LabeledSentence(words=['stock', 'transfer', 'error', 'intercompany', 'tool', 'did', 'not', 'reverse', 'they', 'reversed', 'the', 'shipment', 'but', 'reverse', 'i', 'ran', 'billing', 'document', 'tables', 'and', 'do', 'see', 'reversal', 'there', 'either', 'see', 'attached'], tags=['all_5773']),\n",
              " LabeledSentence(words=['unable', 'to', 'check', 'pay', 'slip', 'in', 'tool'], tags=['all_790']),\n",
              " LabeledSentence(words=['unable', 'to', 'access', 'outlook', 'received', 'from', 'hi', 'it', 'team', 'kindly', 'please', 'assist', 'as', 'user', 'after', 'he', 'change', 'his', 'password', 'they', 'operation', 'supervisor', 'company', 'distribution', 'of'], tags=['all_632']),\n",
              " LabeledSentence(words=['ticket', 'update', 'implant'], tags=['all_2131']),\n",
              " LabeledSentence(words=['account', 'locked', 'out', 'while', 'in', 'office', 'kept', 'locking', 'possible', 'or', 'mobile', 'device', 'setup', 'an', 'incorrect', 'password', 'and', 'network', 'do', 'not', 'match'], tags=['all_54']),\n",
              " LabeledSentence(words=['extract', 'file', 'for', 'the', 'request'], tags=['all_4601']),\n",
              " LabeledSentence(words=['not', 'working'], tags=['all_2530']),\n",
              " LabeledSentence(words=['unable', 'to', 'change', 'password', 'through', 'password', 'management', 'tool'], tags=['all_3449']),\n",
              " LabeledSentence(words=['restore', 'some', 'for', 'received', 'from', 'hello', 'path', 'to', 'the', 'folder', 'lean', 'with', 'best'], tags=['all_7830']),\n",
              " LabeledSentence(words=['data', 'cannot', 'be', 'the', 'machine', 'is', 'at', 'a', 'standstill', 'name', 'file', 'are', 'used', 'by', 'do', 'sent', 'saved', 'in', 'zip', 'and', 'format'], tags=['all_368']),\n",
              " LabeledSentence(words=['outlook', 'unlicensed', 'product', 'received', 'from', 'hello', 'help', 'office', 'show', 'the', 'following', 'error', 'message', 'greeting'], tags=['all_7543']),\n",
              " LabeledSentence(words=['in', 'the', 'dob', 'report', 'there', 'is', 'no', 'option', 'to', 'subscribe', 'receive', 'it', 'daily', 'your', 'mail', 'needs', 'have', 'a', 'i', 'cannot', 'see', 'on', 'screen'], tags=['all_8224']),\n",
              " LabeledSentence(words=['intermittent', 'service', 'on', 'server', 'in', 'probably', 'a', 'restart', 'production', 'server', 'the', 'error', 'and', 'internal', 'server', 'error', 'error', 'while', 'trying', 'to', 'invoke', 'method', 'of', 'null', 'object', 'loaded', 'from', 'local', 'variable', 'local', 'list', 'issue', 'can', 'be', 'a', 'company', 'customer', 'base', 'material', 'finishing', 'b', 'starting', 'scratch', 'i', 'select', 'product', 'platform', 'roughing', 'but', 'screen', 'c', 'language', 'different', 'en', 'de', 'we', 'had', 'this', 'already', 'several', 'times', 'before', 'it', 'always', 'is', 'good', 'contact', 'person', 'for', 'as', 'he', 'was', 'working', 'root', 'cause', 'with', 'our', 'external', 'vendor'], tags=['all_130']),\n",
              " LabeledSentence(words=['telephony', 'r', 'installation', 'upgrade', 'does', 'not', 'work', 'after', 'two', 'restart', 'there', 'is', 'no', 'application', 'a', 'received', 'from', 'best', 'with'], tags=['all_7422']),\n",
              " LabeledSentence(words=['collaboration', 'platform', 'site', 'is', 'not', 'opening'], tags=['all_2455']),\n",
              " LabeledSentence(words=['password', 'reset'], tags=['all_5195']),\n",
              " LabeledSentence(words=['billing', 'please', 'see', 'the', 'attached', 'screen', 'print', 'for', 'and', 'both', 'of', 'which', 'state', 'foreign', 'trade', 'data', 'incomplete', 'document', 'will', 'not', 'create'], tags=['all_3974']),\n",
              " LabeledSentence(words=['reset', 'password', 'for', 'user'], tags=['all_7320']),\n",
              " LabeledSentence(words=['tool', 'as', 'the', 'banking', 'are', 'not', 'printed', 'footer', 'with', 'on', 'customer', 'this', 'until', 'corrected'], tags=['all_3534']),\n",
              " LabeledSentence(words=['volume', 'of', 'deb', 'on', 'server', 'is', 'over', 'space', 'available', 'f', 'drive', 'full'], tags=['all_5245']),\n",
              " LabeledSentence(words=['confirmation', 'to', 'login', 'hub'], tags=['all_5431']),\n",
              " LabeledSentence(words=['unable', 'to', 'engineering', 'received', 'from', 'kindly', 'look', 'into', 'extract', 'and', 'open', 'engineering', 'tool', 'please', 'revert', 'back', 'with', 'top', 'priority', 'same', 'case', 'are', 'be', 'get', 'the', 'below', 'error', 'dab', 'best'], tags=['all_3854']),\n",
              " LabeledSentence(words=['unable', 'to', 'launch', 'outlook'], tags=['all_3052']),\n",
              " LabeledSentence(words=['ad', 'account', 'lock', 'out'], tags=['all_7427']),\n",
              " LabeledSentence(words=['unable', 'to', 'login', 'collaboration', 'platform', 'site', 'from', 'home'], tags=['all_5934']),\n",
              " LabeledSentence(words=['business', 'client', 'locked', 'out'], tags=['all_7685']),\n",
              " LabeledSentence(words=['unable', 'to', 'print', 'from', 'printer', 'install', 'driver'], tags=['all_3485']),\n",
              " LabeledSentence(words=['password', 'reset', 'ad'], tags=['all_3416']),\n",
              " LabeledSentence(words=['collaboration', 'platform', 'site', 'ownership', 'received', 'from', 'hello', 'it', 'help', 'since', 'the', 'owner', 'left', 'company', 'please', 'reallocate', 'of', 'this', 'to', 'my', 'name'], tags=['all_6696']),\n",
              " LabeledSentence(words=['network', 'outage', 'south', 'is', 'down', 'since', 'am', 'on', 'no', 'backup', 'circuit', 'what', 'type', 'of', 'x', 'network', 'circuit', 'power', 'please', 'specify', 'outage', 'top', 'site', 'no', 'when', 'did', 'it', 'start', 'am', 'maintenance', 'power', 'no', 'company', 'power', 'provider', 'network', 'maint', 'does', 'have', 'a', 'no', 'active', 'no', 'contact', 'notified', 'remote', 'dialing', 'na', 'equipment', 'reset', 'working', 'na', 'vendor', 'ticket', 'global', 'vendor', 'vendor', 'additional', 'diagnostics'], tags=['all_590']),\n",
              " LabeledSentence(words=['see', 'attachment', 'description', 'does', 'not', 'show', 'the', 'correctly', 'for', 'master', 'but', 'me'], tags=['all_7028']),\n",
              " LabeledSentence(words=['help', 'to', 'change', 'the', 'password', 'password', 'management', 'tool', 'tool', 'connected', 'user', 'system', 'help', 'login', 'password', 'manager', 'tool', 'tool', 'and', 'sync', 'company', 'network', 'caller', 'confirmed', 'that', 'he', 'was', 'able', 'login', 'issue', 'resolved'], tags=['all_7477']),\n",
              " LabeledSentence(words=['check', 'the', 'on', 'alfa', 'set', 'measuring', 'device', 'the', 'device', 'must', 'be', 'checked', 'according', 'to'], tags=['all_1784']),\n",
              " LabeledSentence(words=['distributor', 'tool', 'not', 'old', 'ding', 'loading'], tags=['all_8434']),\n",
              " LabeledSentence(words=['job', 'full', 'in', 'job', 'schedule', 'at', 'received', 'from'], tags=['all_686']),\n",
              " LabeledSentence(words=['work', 'center', 'to', 'be', 'in', 'order', 'confirmation', 'screen', 'hi'], tags=['all_3266']),\n",
              " LabeledSentence(words=['with', 'approval', 'in', 'universal', 'work', 'list', 'received', 'from', 'dear', 'it', 'please', 'help', 'i', 'need', 'to', 'approve', 'this', 'but', 'cannot', 'the', 'following', 'expense', 'report', 'been', 'for', 'your', 'approval', 'personnel', 'no', 'start', 'date', 'end', 'total', 'reimbursement', 'amount', 'review', 'full', 'log', 'into', 'on', 'manager', 'get', 'message', 'best'], tags=['all_3275']),\n",
              " LabeledSentence(words=['volume', 'on', 'is', 'more', 'than'], tags=['all_5858']),\n",
              " LabeledSentence(words=['access', 'received', 'from', 'good', 'afternoon', 'can', 'you', 'please', 'unlock', 'my', 'for', 'i', 'have', 'been', 'locked', 'too', 'many', 'log', 'in', 'senior', 'technical', 'service', 'rep'], tags=['all_5017']),\n",
              " LabeledSentence(words=['ticket', 'update'], tags=['all_4192']),\n",
              " LabeledSentence(words=['received', 'from', 'hello', 'fellow', 'in', 'my', 'outlook', 'there', 'is', 'a', 'field', 'that', 'an', 'problem', 'what', 'should', 'i', 'do', 'with', 'best'], tags=['all_2420']),\n",
              " LabeledSentence(words=['whenever', 'i', 'fill', 'in', 'any', 'amount', 'money', 'into', 'it', 'show', 'me', 'only', 'finally', 'the', 'system', 'please', 'contact', 'with', 'my', 'phone'], tags=['all_917']),\n",
              " LabeledSentence(words=['engineering', 'tool', 'a', 'long', 'time', 'to', 'load', 'issue', 'is', 'severe', 'especially', 'after', 'everyday', 'talk', 'administration', 'team', 'check', 'on', 'account'], tags=['all_331']),\n",
              " LabeledSentence(words=['node', 'at', 'is', 'down', 'down', 'since', 'on'], tags=['all_2230']),\n",
              " LabeledSentence(words=['password', 'reset'], tags=['all_571']),\n",
              " LabeledSentence(words=['ordinary', 'no', 'full', 'access', 'to', 'the', 'following', 'eu', 'tool', 'by', 'sent', 'am', 'to', 'subject', 'authorization', 'for', 'module', 'hello', 'trunk', 'eu', 'tool', 'batch', 'management', 'powder', 'control', 'station', 'yours', 'sincerely', 'russia', 'supervisor', 'rod', 'production', 'registered', 'office', 'general', 'partner', 'company', 'this', 'communication', 'is', 'intended', 'solely', 'use', 'of', 'and', 'may', 'contain', 'information', 'that', 'confidential', 'worthy', 'protection', 'or', 'from', 'disclosure', 'under', 'applicable', 'law', 'distribution', 'distribution', 'reproduction', 'this', 'by', 'other', 'than', 'strictly', 'if', 'you', 'received', 'message', 'mistake', 'please', 'notify', 'sender', 'delete', 'message', 'select', 'link', 'view', 'disclaimer', 'in', 'an', 'alternate', 'language'], tags=['all_4337']),\n",
              " LabeledSentence(words=['job', 'hand', 'way', 'in', 'job', 'schedule', 'at', 'received', 'from'], tags=['all_5918']),\n",
              " LabeledSentence(words=['job', 'in', 'job', 'schedule', 'at', 'received', 'from'], tags=['all_1694']),\n",
              " LabeledSentence(words=['user', 'unable', 'to', 'log', 'in', 'outlook'], tags=['all_7669']),\n",
              " LabeledSentence(words=['account', 'locked'], tags=['all_7466']),\n",
              " LabeledSentence(words=['connection', 'to', 'system', 'production', 'order', 'interface', 'with', 'destination', 'production', 'order', 'interface', 'is', 'not', 'when', 'converting', 'production', 'and', 'print', 'or', 'just', 'anything', 'from', 'i', 'am', 'getting', 'the', 'following', 'error', 'message', 'production', 'order', 'interface', 'opening', 'an'], tags=['all_3181']),\n",
              " LabeledSentence(words=['issue', 'in', 'business', 'client', 'received', 'from', 'hello', 'team', 'i', 'am', 'facing', 'opening', 'business', 'client', 'getting', 'following', 'error', 'help', 'on', 'this'], tags=['all_7094']),\n",
              " LabeledSentence(words=['engineering', 'tool', 'issue', 'issue', 'connected', 'to', 'the', 'user', 'system', 'educated', 'on', 'how', 'use', 'engineering', 'tool', 'issue', 'resolved'], tags=['all_2632']),\n",
              " LabeledSentence(words=['with', 'eu', 'tool'], tags=['all_1656']),\n",
              " LabeledSentence(words=['at', 'eu', 'in', 'no', 'longer', 'works', 'the', 'or', 'display', 'hard', 'drive'], tags=['all_1047']),\n",
              " LabeledSentence(words=['is', 'locked', 'out', 'need', 'to', 'unlock', 'it'], tags=['all_8312']),\n",
              " LabeledSentence(words=['with', 'proof', 'of', 'salary', 'print'], tags=['all_2180']),\n",
              " LabeledSentence(words=['i', 'cannot', 'see', 'my', 'in', 'outlook', 'am', 'leaving', 'today', 'and', 'will', 'need', 'to', 'those', 'outlook'], tags=['all_1399']),\n",
              " LabeledSentence(words=['circuit', 'outage', 'is', 'down', 'since', 'am', 'on', 'what', 'type', 'of', 'network', 'x', 'circuit', 'power', 'please', 'specify', 'outage', 'top', 'site', 'no', 'when', 'did', 'it', 'start', 'maintenance', 'power', 'no', 'company', 'power', 'provider', 'network', 'na', 'maint', 'does', 'have', 'a', 'backup', 'yes', 'active', 'yes', 'contact', 'notified', 'remote', 'dialing', 'na', 'equipment', 'reset', 'na', 'working', 'yes', 'vendor', 'ticket', 'global', 'vendor', 'vendor', 'additional', 'diagnostics'], tags=['all_1898']),\n",
              " LabeledSentence(words=['unable', 'to', 'view', 'in', 'ie'], tags=['all_139']),\n",
              " LabeledSentence(words=['job', 'fail', 'in', 'job', 'schedule', 'at', 'received', 'from'], tags=['all_6691']),\n",
              " LabeledSentence(words=['unable', 'to', 'make', 'outbound', 'from'], tags=['all_1759']),\n",
              " LabeledSentence(words=['password', 'reset', 'request'], tags=['all_391']),\n",
              " LabeledSentence(words=['job', 'in', 'job', 'schedule', 'at', 'received', 'from'], tags=['all_3461']),\n",
              " LabeledSentence(words=['error', 'received', 'from', 'hello', 'it', 'team', 'was', 'in', 'but', 'its', 'record', 'number', 'is', 'could', 'you', 'find', 'the', 'cause', 'and', 'fix', 'it'], tags=['all_5267']),\n",
              " LabeledSentence(words=['unable', 'to', 'print', 'from', 'wy', 'printer', 'welcome', 'our', 'next', 'available', 'agent', 'will', 'be', 'with', 'you', 'shortly', 'interaction', 'agent', 'visitor', 'the', 'conversation', 'hello', 'hi', 'good', 'i', 'could', 'not', 'in', 'printer', 'am', 'are', 'there', 'yes', 'this', 'problem', 'every', 'month', 'let', 'me', 'check', 'local', 'it', 'where', 'right', 'now', 'which', 'depot'], tags=['all_2450']),\n",
              " LabeledSentence(words=['job', 'in', 'job', 'schedule', 'hot', 'received', 'from', 'at'], tags=['all_7831']),\n",
              " LabeledSentence(words=['user', 'is', 'getting', 'unlicensed', 'error', 'in', 'office'], tags=['all_7571']),\n",
              " LabeledSentence(words=['job', 'payroll', 'na', 'u', 'in', 'job', 'schedule', 'at', 'received', 'from'], tags=['all_1929']),\n",
              " LabeledSentence(words=['a', 'call', 'id'], tags=['all_1113']),\n",
              " LabeledSentence(words=['my', 'phone', 'name', 'or', 'password', 'is', 'incorrect', 'repeat', 'cannot', 'log', 'into', 'i', 'have', 'access', 'to', 'a', 'few', 'on', 'but', 'am', 'not', 'able', 'the', 'system', 'as', 'and', 'for', 'enter', 'same', 'that', 'successfully', 'me', 'password', 'management', 'tool', 'manager', 'unlocked', 'which', 'in', 'manager', 'still', 'in', 'please', 'see', 'error', 'message', 'password', 'management', 'tool', 'unlock', 'list', 'of', 'access'], tags=['all_3752']),\n",
              " LabeledSentence(words=['cannot', 'connect', 'to', 'although', 'connected', 'received', 'from', 'hello', 'any', 'site', 'via', 'explorer', 'my', 'is', 'connected', 'help', 'urgently', 'i', 'am', 'supposed', 'run', 'and', 'already', 'an', 'hour', 'behind'], tags=['all_6138']),\n",
              " LabeledSentence(words=['node', 'at', 'is', 'down', 'since'], tags=['all_5364']),\n",
              " LabeledSentence(words=['unable', 'to', 'login', 'the', 'switch', 'as', 'it', 'is', 'with', 'memory', 'issue'], tags=['all_6910']),\n",
              " LabeledSentence(words=['company', 'circuit', 'packet', 'since', 'at', 'am', 'on', 'site', 'is', 'active', 'primary', 'in', 'the', 'link'], tags=['all_5416']),\n",
              " LabeledSentence(words=['outlook', 'freezing', 'on', 'mobile'], tags=['all_395']),\n",
              " LabeledSentence(words=['job', 'he', 'in', 'job', 'schedule', 'at', 'received', 'from'], tags=['all_1379']),\n",
              " LabeledSentence(words=['setting', 'of', 'too', 'for', 'another', 'mail', 'box', 'out', 'off', 'office', 'an', 'employee', 'who', 'does', 'not', 'work', 'in', 'company', 'any', 'longer'], tags=['all_8036']),\n",
              " LabeledSentence(words=['volume', 'on', 'c', 'is', 'more', 'than'], tags=['all_5649']),\n",
              " LabeledSentence(words=['new', 'problem'], tags=['all_8429']),\n",
              " LabeledSentence(words=['i', 'am', 'getting', 'the', 'following', 'message', 'when', 'trying', 'to', 'log', 'in', 'balancing', 'error', 'could', 'not', 'connect', 'message', 'language', 'explorer', 'customer', 'number', 'telephone', 'summary', 'server', 'is', 'down', 'right', 'now'], tags=['all_7624']),\n",
              " LabeledSentence(words=['please', 'help', 'to', 'system', 'received', 'from', 'hello', 'i', 'am', 'unable', 'now', 'so', 'me', 'check', 'it', 'many'], tags=['all_3591']),\n",
              " LabeledSentence(words=['account', 'unlock'], tags=['all_5048']),\n",
              " LabeledSentence(words=['job', 'eu', 'tool', 'notch', 'in', 'job', 'schedule', 'at', 'received', 'from'], tags=['all_6264']),\n",
              " LabeledSentence(words=['back', 'up', 'tape', 'still', 'is', 'not', 'today', 'unable', 'to', 'switch', 'out', 'previously', 'switched', 'them', 'daily'], tags=['all_2652']),\n",
              " LabeledSentence(words=['weekly', 'of', 'prod'], tags=['all_6872']),\n",
              " LabeledSentence(words=['job', 'job', 'in', 'job', 'schedule', 'at', 'received', 'from'], tags=['all_6482']),\n",
              " LabeledSentence(words=['engineering', 'tool', 'malfunction', 'received', 'from', 'dear', 'sir', 'yesterday', 'i', 'application', 'and', 'now', 'am', 'facing', 'below', 'problem', 'search', 'new', 'option', 'is', 'not', 'in', 'customer', 'tab', 'kindly', 'help', 'to', 'resolve', 'the', 'issue', 'ad'], tags=['all_2844']),\n",
              " LabeledSentence(words=['file', 'server', 'hard', 'drive'], tags=['all_510']),\n",
              " LabeledSentence(words=['login', 'issue', 'received', 'from', 'hello', 'getting', 'the', 'below', 'error', 'while', 'trying', 'to', 'login', 'kindly', 'help', 'best'], tags=['all_7105']),\n",
              " LabeledSentence(words=['password', 'received', 'from', 'hello', 'could', 'you', 'please', 'help', 'me', 'on', 'unlocking', 'the', 'it', 'is', 'blocked', 'for', 'entering', 'wrong', 'password', 'best'], tags=['all_6838']),\n",
              " LabeledSentence(words=['a', 'black', 'screen', 'after', 'the', 'system', 'please', 'provide', 'of', 'issue', 'the', 'goes', 'blank'], tags=['all_6832']),\n",
              " LabeledSentence(words=['login', 'failure', 'received', 'from', 'good', 'afternoon', 'i', 'am', 'unable', 'to', 'open', 'my', 'drive', 'here', 'is', 'a', 'screen', 'shot', 'of', 'the', 'error', 'unaware', 'any', 'password', 'as', 'able', 'up', 'all', 'other', 'assume', 'it', 'something', 'do', 'with', 'an', 'late', 'yesterday', 'see', 'below', 'which', 'was', 'third', 'shot', 'please', 'advise', 'or', 'correct'], tags=['all_6938']),\n",
              " LabeledSentence(words=['account', 'unlock'], tags=['all_5065']),\n",
              " LabeledSentence(words=['job', 'job', 'in', 'job', 'schedule', 'at', 'received', 'from'], tags=['all_3719']),\n",
              " LabeledSentence(words=['outlook', 'not', 'getting', 'sync'], tags=['all_2309']),\n",
              " LabeledSentence(words=['over', 'word', 'label', 'printing', 'i', 'want', 'to', 'print', 'a', 'number', 'letter', 'in', 'as', 'with', 'the', 'font', 'covid', 'this', 'does', 'not', 'work', 'that', 'i', 'can', 'read', 'it', 'scan', 'gun', 'phone'], tags=['all_879']),\n",
              " LabeledSentence(words=['disk', 'space', 'utilization', 'alert', 'on', 'e', 'free', 'less', 'than', 'and', 'under', 'free', 'engineering', 'tooling'], tags=['all_5609']),\n",
              " LabeledSentence(words=['urgent', 'with', 'reference', 'to', 'ticket', 'the', 'm', 'n', 'public', 'and', 's', 'incorrectly', 'her', 'network', 'drive', 'correctly', 'but', 'after', 'computer', 'is', 'back', 'instead', 'of', 'she', 'should', 'have', 'access', 'this', 'server', 'name', 'please', 'help', 'update', 'login', 'script', 'for', 'user', 'also', 'process', 'request', 'as', 'soon', 'possible', 'daily', 'work', 'getting', 'its', 'very', 'her'], tags=['all_4649']),\n",
              " LabeledSentence(words=['job', 'in', 'job', 'schedule', 'at', 'received', 'from'], tags=['all_5939']),\n",
              " LabeledSentence(words=['security', 'in', 'possible', 'infection', 'traffic', 'from', 'sinkhole', 'domain', 'to', 'source', 'system', 'name', 'user', 'name', 'location', 'status', 'field', 'yes', 'no', 'event', 'log', 'data', 'related', 'id', 'summary', 'server', 'response', 'with', 'set', 'probable', 'infected', 'asset', 'occurrence', 'count', 'host', 'and', 'connection', 'information', 'port', 'destination', 'mac', 'address', 'incoming', 'protocol', 'code', 'device', 'log', 'time', 'at', 'action', 'not', 'blocked', 'vendor', 'score', 'priority', 'version', 'sherlock', 'rule', 'id', 'she', 'inspector', 'ontology', 'type', 'agent', 'detail', 'classification', 'none', 'priority', 'action', 'accept', 'impact', 'flag', 'impact', 'blocked', 'van', 'label', 'pad', 'sensor', 'event', 'time', 'proto', 'toss', 'id', 'fae', 'back', 'win', 'cap', 'security', 'correlation', 'data', 'on', 'via', 'relay', 'renew', 'ascii', 's', 'e', 'hex', 'c', 'fa', 'e', 'w', 'c', 'a', 'f', 'c', 'fae', 'b', 'f', 'f', 'e', 'f', 'a', 'a', 'e', 'e', 'da', 'a', 'c', 'a', 'a', 'd', 'd', 'a', 'fe', 'e', 'd', 'a', 'f', 'f', 'a', 'c', 'f', 'd', 'b', 'd', 'b', 'e', 'd', 'c', 'd', 'b', 'e', 'e', 'f', 'd', 'e', 'e', 'f', 'd', 'f', 'e', 'a', 'a', 'd', 'ad', 'b', 'zip'], tags=['all_3532']),\n",
              " LabeledSentence(words=['with', 'office'], tags=['all_4453']),\n",
              " LabeledSentence(words=['us', 'plant', 'plant', 'not', 'received', 'from', 'plant', 'and', 'are', 'i', 'can', 'see', 'on', 'the', 'front', 'of', 'server', 'but', 'they', 'linking'], tags=['all_1854']),\n",
              " LabeledSentence(words=['job', 'in', 'job', 'schedule', 'cold', 'received', 'from', 'at'], tags=['all_8299']),\n",
              " LabeledSentence(words=['folder', 'access', 'please', 'see', 'below', 'in', 'red', 'many', 'best'], tags=['all_1018']),\n",
              " LabeledSentence(words=['reset', 'for', 'password', 'management', 'tool', 'password', 'reset'], tags=['all_1987']),\n",
              " LabeledSentence(words=['job', 'job', 'in', 'job', 'schedule', 'at', 'received', 'from'], tags=['all_5275']),\n",
              " LabeledSentence(words=['job', 'job', 'in', 'job', 'schedule', 'at', 'received', 'from'], tags=['all_2259']),\n",
              " LabeledSentence(words=['unable', 'to', 'log', 'in', 'ess'], tags=['all_7173']),\n",
              " LabeledSentence(words=['add', 'printer', 'received', 'from', 'hello', 'i', 'am', 'trying', 'to', 'this', 'but', 'receive', 'the', 'following', 'message', 'please', 'enable', 'it', 'so', 'that', 'can', 'connect', 'which', 'is', 'in', 'room', 'here', 'where', 'a', 'workshop', 'for', 'until', 'dab', 'many'], tags=['all_3876']),\n",
              " LabeledSentence(words=['cannot', 'synchronized', 'outlook', 'to', 'received', 'from', 'dear', 'it', 'help', 'team', 'hi', 'i', 'nor', 'press', 'anything', 'from', 'tag', 'like', 'attached', 'picture', 'below', 'please', 'me', 'out'], tags=['all_4221']),\n",
              " LabeledSentence(words=['other', 'service', 'are', 'slow', 'for', 'all'], tags=['all_3852']),\n",
              " LabeledSentence(words=['unable', 'to', 'get', 'on', 'mobile', 'device'], tags=['all_3415']),\n",
              " LabeledSentence(words=['will', 'not', 'let', 'me', 'sign', 'in', 'the', 'address', 'you', 'is', 'valid'], tags=['all_6609']),\n",
              " LabeledSentence(words=['outlook', 'is', 'not', 'opening'], tags=['all_7218']),\n",
              " LabeledSentence(words=['reset', 'for', 'password', 'management', 'tool', 'password', 'reset', 'employee', 'is', 'getting', 'an', 'error', 'user', 'authentication', 'when', 'trying', 'to', 'log', 'into', 'the', 'ess', 'portal', 'she', 'able', 'access', 'and', 'hub', 'tried', 'change', 'her', 'through', 'manager', 'but', 'got', 'cannot', 'find', 'account', 'on', 'target', 'active', 'directory', 'user', 'id'], tags=['all_155']),\n",
              " LabeledSentence(words=['reply', 'order', 'problem', 'received', 'from', 'hello', 'i', 'will', 'ask', 'your', 'help', 'if', 'cannot', 'solve', 'it', 'with', 'the', 'of', 'my', 'boss', 'tomorrow'], tags=['all_3645']),\n",
              " LabeledSentence(words=['the', 'tool', 'portal', 'for', 'finance', 'an', 'error', 'when', 'trying', 'to', 'run'], tags=['all_5651']),\n",
              " LabeledSentence(words=['node', 'at', 'village', 'is', 'down', 'since'], tags=['all_3284']),\n",
              " LabeledSentence(words=['phone', 'm', 'ex', 'professional', 'is', 'no', 'longer', 'charging', 'connection', 'defective'], tags=['all_463']),\n",
              " LabeledSentence(words=['received', 'from', 'provide', 'z', 'supervisor', 'role', 'to', 'user', 'plant', 'plant', 'system', 'sent', 'from', 'my'], tags=['all_2283']),\n",
              " LabeledSentence(words=['connection', 'problem', 'received', 'from', 'hello', 'unable', 'to', 'connect', 'get', 'the', 'below', 'message'], tags=['all_7632']),\n",
              " LabeledSentence(words=['account', 'unlock'], tags=['all_6440']),\n",
              " LabeledSentence(words=['reset', 'for', 'password', 'management', 'tool', 'password', 'reset', 'the'], tags=['all_1693']),\n",
              " LabeledSentence(words=['filled', 'up', 'engineering', 'tool', 'on', 'system', 'i', 'engineering', 'tool', 'and', 'all', 'data', 'but', 'when', 'click', 'to', 'submit', 'button', 'it', 'is', 'given', 'error', 'message', 'please', 'see', 'message', 'detail', 'below'], tags=['all_1878']),\n",
              " LabeledSentence(words=['printer', 'driver', 'update'], tags=['all_5844']),\n",
              " LabeledSentence(words=['cannot', 'log', 'in', 'received', 'from', 'party', 'login', 'to', 'a', 'computer', 'j'], tags=['all_2474']),\n",
              " LabeledSentence(words=['attendance', 'tool', 'login', 'issue', 'with'], tags=['all_4902']),\n",
              " LabeledSentence(words=['job', 'if', 'am', 'in', 'job', 'schedule', 'at', 'received', 'from'], tags=['all_3365']),\n",
              " LabeledSentence(words=['update', 'on', 'access', 'ticket', 'no'], tags=['all_7333']),\n",
              " LabeledSentence(words=['wrong', 'for', 'on', 'and', 'team', 'since', 'yesterday', 'we', 'that', 'the', 'date', 'order', 'confirmation', 'is', 'it', 'should', 'be', 'days', 'if', 'tool', 'available', 'in', 'transit', 'plus', 'customer', 'pick', 'up', 'as', 'a', 'of', 'fact', 'are', 'too', 'long', 'future', 'today', 'plant', 'all', 'confirmed', 'only'], tags=['all_6210']),\n",
              " LabeledSentence(words=['call', 'disconnected', 'due', 'to', 'disconnection'], tags=['all_4549']),\n",
              " LabeledSentence(words=['interface', 'fa', 'on', 'is', 'down', 'since', 'interface', 'router'], tags=['all_5396']),\n",
              " LabeledSentence(words=['unable', 'to', 'access', 'any', 'of', 'the', 'bob', 'explorer', 'getting', 'please', 'look', 'into', 'it'], tags=['all_2255']),\n",
              " LabeledSentence(words=['printing', 'production', 'order', 'printer', 'replacement', 'production', 'order', 'is', 'being', 'remove', 'from', 'to', 'on', 'you', 'will', 'need', 'have', 'power', 'network', 'connectivity', 'and', 'the', 'ready', 'before', 'a', 'ticketing', 'tool', 'ticket', 'can', 'be', 'do', 'you', 'all', 'above', 'satisfied', 'yes', 'no', 'yes', 'name', 'id', 'wy', 'stays', 'same', 'address', 's', 'if', 'known', 'of', 'printer', 'what', 'currently', 'use', 'list', 'system', 'needs', 'defined', 'same', 'as', 'old', 'printed', 'these', 'delivery', 'same', 'location', 'install', 'country', 'city', 'building', 'floor', 'cubicle', 'local', 'it', 'site', 'contact', 'name', 'optional', 'serial', 'number', 'mac', 'address', 'serial'], tags=['all_898']),\n",
              " LabeledSentence(words=['account', 'locked', 'in', 'ad'], tags=['all_2437']),\n",
              " LabeledSentence(words=['lost', 'connection', 'to', 'which', 'is', 'a', 'personal', 'drive', 'between', 'my', 'and', 'i', 'am', 'able', 'access', 'it', 'on', 'but', 'no', 'longer', 'tried', 'map', 'the', 'location', 'again', 'was', 'unsuccessful'], tags=['all_1398']),\n",
              " LabeledSentence(words=['computer', 'us', 'plant', 'location', 'received', 'from', 'user', 'this', 'issue', 'excel', 'working', 'properly', 'it', 'going', 'to', 'not', 'i', 'have', 'several', 'times', 'correct', 'that', 'now', 'if', 'work', 'on', 'a', 'save', 'and', 'minimize', 'cannot', 'open', 'back', 'up', 'had', 'restart', 'the', 'again', 'get', 'twice', 'do', 'you', 'any', 'could', 'try'], tags=['all_6431']),\n",
              " LabeledSentence(words=['sent', 'from', 'tool', 'received', 'from', 'hello', 'i', 'have', 'any', 'access', 'to', 'bob', 'since', 'days', 'please', 'could', 'you', 'help', 'me'], tags=['all_1094']),\n",
              " LabeledSentence(words=['no', 'more', 'able', 'to', 'find', 'a', 'folder', 'in', 'outlook', 'welcome', 'our', 'next', 'available', 'agent', 'will', 'be', 'with', 'you', 'shortly', 'all', 'are', 'busy', 'other', 'interaction', 'agent', 'visitor', 'the', 'conversation', 'hello', 'sorry', 'disturb', 'for', 'such', 'an', 'issue', 'but', 'my', 'outlook', 'i', 'do', 'not', 'think', 'it', 'cannot', 'see', 'can', 'have', 'access', 'your', 'system', 'please', 'sure', 'what', 'way', 'or', 'team', 'viewer', 'id', 'hello', 'is', 'transportation', 'and', 'was', 'just', 'below', 'transportation', 'on', 'one', 'he', 'left'], tags=['all_6792']),\n",
              " LabeledSentence(words=['log', 'in', 'for', 'is', 'out', 'of', 'order'], tags=['all_771']),\n",
              " LabeledSentence(words=['request', 'to', 'reset', 'password', 'for', 'from', 'on', 'behalf', 'of', 'company', 'sent', 'august', 'am', 'to', 'subject', 'importance', 'high', 'the', 'following', 'user', 'in', 'your', 'organization', 'a', 'be', 'their', 'account', 'first', 'name', 'last', 'consider', 'this', 'validate', 'is', 'authentic', 'before', 'if', 'you', 'have', 'determined', 'that', 'valid', 'request', 'use', 'portal', 'office', 'azure', 'user', 'want', 'let', 'own', 'check', 'out', 'how', 'can', 'enable', 'with', 'just', 'few', 'sincerely', 'message', 'was', 'sent', 'from', 'an', 'unmonitored', 'address', 'please', 'do', 'not', 'reply', 'message'], tags=['all_7449']),\n",
              " LabeledSentence(words=['reset', 'password'], tags=['all_1913']),\n",
              " LabeledSentence(words=['tool', 'reporter', 'from', 'sent', 'august', 'to', 'subject', 're', 'engineering', 'tool', 'hi', 'please', 'go', 'through', 'the', 'attachment', 'and', 'configure', 'accordingly', 'contact', 'us', 'back', 'if', 'you', 'still', 'face', 'any', 'issue'], tags=['all_6429']),\n",
              " LabeledSentence(words=['ask', 'zip', 'report', 'when', 'i', 'the', 'report', 'order', 'is', 'not', 'shown', 'customer', 'and', 'order', 'as', 'well', 'please', 'check', 'reason', 'let', 'me', 'know', 'how', 'to', 'show', 'above', 'information', 'in', 'zip', 'plant', 'plant', 'production'], tags=['all_3006']),\n",
              " LabeledSentence(words=['apply', 'for', 'mobile', 'phone', 'access', 'to', 'mail', 'box'], tags=['all_184']),\n",
              " LabeledSentence(words=['for', 'the', 'appreciate', 'hub', 'link'], tags=['all_2926']),\n",
              " LabeledSentence(words=['audio', 'stop', 'working', 'after', 'company', 'update', 'device', 'stopped', 'show', 'the', 'message', 'no', 'output', 'is', 'more', 'have', 'had', 'this', 'trouble'], tags=['all_4868']),\n",
              " LabeledSentence(words=['are', 'unable', 'to', 'open', 'work', 'bench', 'open', 'engineering', 'tool', 'all', 'user', 'in', 'plant', 'people', 'no', 'error', 'message', 'contact', 'no'], tags=['all_5905']),\n",
              " LabeledSentence(words=['network', 'hard', 'down', 'since', 'on', 'no', 'backup', 'circuit', 'what', 'type', 'of', 'outage', 'x', 'network', 'circuit', 'power', 'please', 'specify', 'outage', 'top', 'site', 'no', 'when', 'did', 'it', 'start', 'maintenance', 'power', 'na', 'company', 'power', 'provider', 'network', 'maint', 'does', 'have', 'a', 'no', 'active', 'na', 'contact', 'notified', 'na', 'remote', 'dialing', 'na', 'equipment', 'reset', 'na', 'working', 'na', 'vendor', 'ticket', 'global', 'vendor', 'vendor', 'na', 'na', 'additional', 'diagnostics'], tags=['all_930']),\n",
              " LabeledSentence(words=['personal', 'drive', 'no', 'longer', 'available', 'after', 'server', 'migration', 'please', 'restore', 'your', 'as', 'soon', 'possible', 'unavailable'], tags=['all_6803']),\n",
              " LabeledSentence(words=['please', 'provide', 'access', 'to', 'by', 'and', 'is', 'job', 'schedule', 'company', 'name', 'job'], tags=['all_3780']),\n",
              " LabeledSentence(words=['please', 'allow', 'access', 'for', 'printer', 'in', 'office', 'refer', 'the', 'attachment'], tags=['all_2057']),\n",
              " LabeledSentence(words=['user', 'blocked', 'in', 'received', 'from', 'hello', 'please', 'unlock', 'access', 'for', 'i', 'the', 'application', 'now', 'it', 'too', 'many', 'login', 'best'], tags=['all_3966']),\n",
              " LabeledSentence(words=['need', 'access', 'to', 'ess'], tags=['all_858']),\n",
              " LabeledSentence(words=['monitor', 'in', 'the', 'final', 'inspection', 'is', 'defective'], tags=['all_3680']),\n",
              " LabeledSentence(words=['my', 'password', 'is', 'locked', 'when', 'i', 'am', 'trying', 'to', 'go', 'into', 'the', 'portal', 'language', 'explorer', 'customer', 'number', 'telephone'], tags=['all_3754']),\n",
              " LabeledSentence(words=['unable', 'to', 'create', 'a', 'new', 'expense', 'as', 'its', 'showing', 'an', 'error'], tags=['all_4562']),\n",
              " LabeledSentence(words=['ess', 'portal', 'received', 'from', 'hello', 'i', 'am', 'unable', 'to', 'log', 'in', 'be', 'through', 'portal', 'please', 'help'], tags=['all_1566']),\n",
              " LabeledSentence(words=['location', 'received', 'from', 'hi', 'i', 'would', 'please', 'need', 'two', 'location', 'from', 'for', 'bank', 'name', 'are', 'and', 'the', 'consultant', 'will', 'finish', 'a', 'huge', 'update', 'our', 'payment', 'management', 'tool', 'cost', 'center'], tags=['all_1266']),\n",
              " LabeledSentence(words=['job', 'job', 'in', 'job', 'schedule', 'at', 'received', 'from'], tags=['all_787']),\n",
              " LabeledSentence(words=['issue', 'personal', 'certificate', 'error'], tags=['all_2385']),\n",
              " LabeledSentence(words=['open', 'eel', 'an', 'received', 'from', 'hello', 'i', 'cannot', 'an', 'excel', 'attachment', 'even', 'if', 'save', 'and', 'then', 'it', 'with', 'best'], tags=['all_6812']),\n",
              " LabeledSentence(words=['job', 'in', 'job', 'schedule', 'at', 'received', 'from'], tags=['all_1706']),\n",
              " LabeledSentence(words=['for', 'business', 'is', 'shutting', 'down', 'when', 'starting', 'the', 'computer', 'error', 'message', 'stopped', 'working', 'and', 'there', 'an', 'icon', 'to', 'click', 'that', 'close'], tags=['all_6127']),\n",
              " LabeledSentence(words=['to', 'help', 'received', 'from', 'hello', 'is', 'a', 'connection', 'problem', 'would', 'you', 'please', 'get', 'in', 'touch', 'with', 'him', 'office', 'phone', 'number'], tags=['all_7057']),\n",
              " LabeledSentence(words=['in', 'plant', 'code', 'plant', 'are', 'unable', 'to', 'see', 'network', 'this', 'is', 'on', 'phone', 'as', 'well', 'phone'], tags=['all_5998']),\n",
              " LabeledSentence(words=['unable', 'to', 'login', 'us', 'during', 'the', 'outage', 'when', 'a', 'core', 'switch', 'in', 'went', 'down', 'he', 'was', 'able', 'confirm', 'access', 'once', 'came', 'back', 'up'], tags=['all_7213']),\n",
              " LabeledSentence(words=['is', 'down', 'since', 'on'], tags=['all_6874']),\n",
              " LabeledSentence(words=['from', 'plant', 'warehouse', 'will', 'not', 'release', 'need', 'fixed', 'urgently', 'urgent', 'help', 'see', 'attached', 'document', 'example', 'order', 'missing', 'is', 'these', 'getting', 'error', 'when', 'trying', 'to', 'add', 'as', 'plant', 'i', 'have', 'checked', 'plant', 'plant', 'also', 'same', 'problem'], tags=['all_7662']),\n",
              " LabeledSentence(words=['install', 'analysis', 'office', 'in', 'since', 'version', 'is', 'hello', 'team', 'please', 'and', 'set', 'up', 'hand', 'at', 'present', 'which', 'not', 'compatible', 'with', 'issue', 'best'], tags=['all_5042']),\n",
              " LabeledSentence(words=['in', 'is', 'not', 'getting', 'network', 'connection'], tags=['all_575']),\n",
              " LabeledSentence(words=['account', 'getting', 'locked', 'on'], tags=['all_6450']),\n",
              " LabeledSentence(words=['evening', 'job', 'in', 'schedule', 'job', 'received', 'from', 'job', 'schedule', 'job', 'at'], tags=['all_7205']),\n",
              " LabeledSentence(words=['job', 'job', 'in', 'job', 'schedule', 'at', 'received', 'from'], tags=['all_1357']),\n",
              " LabeledSentence(words=['area', 'code', 'routing', 'check', 'for', 'machine', 'line', 'the', 'following', 'below', 'are', 'being', 'from', 'our', 'to', 'when', 'someone', 'help', 'desk', 'line', 'they', 'should', 'be', 'can', 'you', 'please', 'routing', 'group'], tags=['all_613']),\n",
              " LabeledSentence(words=['aw', 'ticket', 'according', 'to', 'after', 'received', 'from', 'with', 'kind'], tags=['all_8097']),\n",
              " LabeledSentence(words=['defective', 'fiber', 'optic', 'line', 'box'], tags=['all_5309']),\n",
              " LabeledSentence(words=['collaboration', 'platform', 'access', 'issue', 'first', 'name', 'last', 'customer', 'job', 'title', 'engineer', 'contact', 'address', 'reference', 'number', 'was', 'used', 'yes', 'description', 'of', 'problem', 'unable', 'to', 'collaboration', 'platform', 'site', 'if', 'this', 'problem', 'your', 'support', 'team', 'and', 'include', 'these', 'technical', 'correlation', 'id', 'date', 'time', 'user', 'type', 'user', 'does', 'not', 'have', 'taken', 'so', 'far', 'goes', 'the', 'hub', 'search', 'lap', 'request', 'form', 'click', 'on', 'blue', 'circle', 'message', 'previously', 'had', 'site'], tags=['all_936']),\n",
              " LabeledSentence(words=['unable', 'to', 'launch', 'outlook'], tags=['all_7880']),\n",
              " LabeledSentence(words=['can', 'you', 'please', 'get', 'sticks', 'again', 'one', 'of', 'us', 'broke'], tags=['all_2729']),\n",
              " LabeledSentence(words=['need', 'to', 'check', 'if', 'account', 'is', 'locked'], tags=['all_3652']),\n",
              " LabeledSentence(words=['delivery', 'from', 'other', 'coming', 'to', 'the', 'printer'], tags=['all_6273']),\n",
              " LabeledSentence(words=['consultant', 'needs', 'collaboration', 'platform', 'access', 'consultant', 'collaboration', 'platform', 'access', 'the', 'same', 'as', 'both', 'are', 'from', 'schneider', 'please', 'refer', 'to', 'on', 'august', 'and', 'ticket', 'ticket', 'no', 'this', 'is', 'soon', 'possible', 'his', 'engagement', 'if', 'he', 'already', 'provide', 'should', 'use', 'for', 'license', 'contact', 'me', 'with', 'any'], tags=['all_5650']),\n",
              " LabeledSentence(words=['missing', 'data', 'in', 'be', 'urgent', 'received', 'from', 'hello', 'are', 'from', 'master', 'we', 'found', 'the', 'reason', 'anybody', 'key', 'figure', 'name', 'revenue', 'to', 'total', 'revenue', 'addition', 'there', 'is', 'a', 'new', 'figure', 'net', 'value', 'nobody', 'informed', 'about', 'change', 'and', 'different', 'content', 'of', 'two', 'you', 'immediately', 'need', 'back', 'all', 'wont', 'work', 'now', 'best'], tags=['all_4674']),\n",
              " LabeledSentence(words=['job', 'job', 's', 'in', 'job', 'schedule', 'at', 'received', 'from'], tags=['all_3020']),\n",
              " LabeledSentence(words=['we', 'are', 'unable', 'to', 'clear', 'this', 'tool', 'from', 'hello', 'can', 'you', 'please', 'support', 'here', 'need', 'help', 'as', 'is', 'a', 'high', 'value', 'which', 'cannot', 'clear'], tags=['all_7202']),\n",
              " LabeledSentence(words=['manager', 'pointing', 'wrongly', 'to', 'given', 'and', 'should', 'be', 'not', 'like', 'wise', 'director', 'this', 'only', 'being', 'today', 'see', 'attached'], tags=['all_2068']),\n",
              " LabeledSentence(words=['replication', 'error', 'domain', 'controller', 'we', 'see', 'event', 'and', 'which', 'is', 'related', 'to', 'issue', 'hence', 'will', 'have', 'the', 'server'], tags=['all_3789']),\n",
              " LabeledSentence(words=['audio', 'not', 'working', 'contact', 'number', 'service', 'tag', 'hearing', 'sound', 'from', 'my', 'when', 'a', 'video', 'i', 'use'], tags=['all_6953']),\n",
              " LabeledSentence(words=['access', 'for', 'received', 'from', 'good', 'morning', 'i', 'have', 'our', 'here', 'and', 'would', 'like', 'them', 'to', 'there', 'will', 'be', 'of', 'them', 'they', 'here', 'do', 'need', 'create', 'separate', 'or', 'can', 'share', 'login', 'access', 'please', 'advise'], tags=['all_5313']),\n",
              " LabeledSentence(words=['reset', 'the', 'password', 'for', 'on', 'production', 'dear', 'it', 'team', 'can', 'you', 'please', 'be', 'so', 'kind', 'and', 'to'], tags=['all_7262']),\n",
              " LabeledSentence(words=['defect', 'from', 'sent', 'to', 'subject', 'ticket', 'hello', 'enter', 'a', 'regarding', 'local', 'it', 'is', 'already', 'working', 'on', 'that', 'with', 'external', 'supplier', 'just', 'to', 'make', 'sure', 'all', 'work', 'tracked', 'best'], tags=['all_1737']),\n",
              " LabeledSentence(words=['wireless', 'guest', 'access', 'network', 'first', 'name', 'last', 'contact', 'no', 'location', 'company', 'sponsor', 'duration', 'duration', 'for', 'access', 'today', 'until'], tags=['all_6298']),\n",
              " LabeledSentence(words=['network', 'outage', 'primary', 'circuit', 'company', 'ce', 'is', 'down', 'since', 'am', 'on', 'what', 'type', 'of', 'network', 'x', 'circuit', 'power', 'please', 'specify', 'outage', 'top', 'site', 'no', 'when', 'did', 'it', 'start', 'am', 'maintenance', 'power', 'no', 'company', 'power', 'provider', 'network', 'maint', 'does', 'have', 'a', 'backup', 'yes', 'active', 'yes', 'contact', 'notified', 'no', 'remote', 'dialing', 'na', 'equipment', 'reset', 'working', 'yes', 'vendor', 'ticket', 'global', 'vendor', 'vendor', 'global', 'additional', 'diagnostics'], tags=['all_7369']),\n",
              " LabeledSentence(words=['audio', 'is', 'not', 'working'], tags=['all_4843']),\n",
              " LabeledSentence(words=['job', 'job', 'd', 'in', 'job', 'schedule', 'at', 'received', 'from'], tags=['all_1096']),\n",
              " LabeledSentence(words=['contractor', 'locked', 'out', 'please', 'unlock', 'in', 'ad', 'and', 'a', 'student', 'is', 'working', 'on', 'project', 'with', 'that', 'her', 'are', 'no', 'longer', 'to', 'access', 'data', 'my', 'assumption', 'she', 'got', 'mixed', 'up', 'between', 'hand', 'out', 'of', 'one', 'or', 'both', 'have', 'look', 'at', 'unlocking', 'account'], tags=['all_4680']),\n",
              " LabeledSentence(words=['reset', 'the', 'password', 'for', 'on', 'please', 'as', 'soon', 'possible'], tags=['all_3546']),\n",
              " LabeledSentence(words=['international', 'for', 'payment', 'method', 'l', 'august', 'an', 're', 'we', 'are', 'looking', 'into', 'the', 'development', 'which', 'were', 'recently', 'will', 'get', 'back', 'to', 'you', 'by', 'tomorrow', 'sorry', 'any', 'inconvenience'], tags=['all_7809']),\n",
              " LabeledSentence(words=['job', 'job', 'in', 'job', 'schedule', 'at', 'received', 'from'], tags=['all_6109']),\n",
              " LabeledSentence(words=['business', 'client', 'issue', 'received', 'from', 'hello', 'i', 'am', 'not', 'able', 'to', 'log', 'on', 'soft', 'ware', 'in', 'my', 'do', 'needful', 'priority', 'with', 'kind'], tags=['all_3563']),\n",
              " LabeledSentence(words=['login', 'problem', 'with', 'attendance', 'tool', 'portal', 'received', 'from', 'dear', 'sir', 'facing', 'a', 'to', 'in', 'portal', 'please', 'help', 'solve', 'the', 'issue'], tags=['all_4903']),\n",
              " LabeledSentence(words=['evening', 'job', 'in', 'schedule', 'job', 'received', 'from', 'job', 'schedule', 'job', 'at'], tags=['all_7193']),\n",
              " LabeledSentence(words=['password', 'reset', 'for'], tags=['all_3932']),\n",
              " LabeledSentence(words=['job', 'job', 'in', 'job', 'schedule', 'at', 'received', 'from'], tags=['all_2624']),\n",
              " LabeledSentence(words=['r', 'mouse', 'defective'], tags=['all_6637']),\n",
              " LabeledSentence(words=['job', 'job', 'in', 'job', 'schedule', 'at', 'received', 'from'], tags=['all_6524']),\n",
              " LabeledSentence(words=['trouble', 'and', 'printing', 'received', 'from', 'good', 'day', 'please', 'assist', 'with', 'issue', 'below', 'when', 'to', 'view', 'the', 'commercial', 'tool', 'this', 'blank', 'help', 'kind'], tags=['all_329']),\n",
              " LabeledSentence(words=['the', 'interface', 'and', 'in', 'switch', 'at', 'is', 'down', 'since', 'am', 'on'], tags=['all_7279']),\n",
              " LabeledSentence(words=['not', 'able', 'to', 'view', 'in', 'business', 'client'], tags=['all_1013']),\n",
              " LabeledSentence(words=['reset', 'for', 'password', 'management', 'tool', 'password', 'reset', 'the'], tags=['all_8092']),\n",
              " LabeledSentence(words=['password', 'reset'], tags=['all_7390']),\n",
              " LabeledSentence(words=['job', 'in', 'job', 'schedule', 'at', 'received', 'from'], tags=['all_4093']),\n",
              " LabeledSentence(words=['job', 'arc', 'in', 'job', 'schedule', 'at', 'received', 'from'], tags=['all_4329']),\n",
              " LabeledSentence(words=['not', 'able', 'to', 'connect', 'outlook', 'getting', 'security', 'alert', 'about', 'certificate', 'out', 'look', 'please', 'see', 'the', 'screen', 'shot', 'and', 'do', 'needful'], tags=['all_5474']),\n",
              " LabeledSentence(words=['job', 'job', 'in', 'job', 'schedule', 'at', 'received', 'from'], tags=['all_6327']),\n",
              " LabeledSentence(words=['trigger', 'for', 'fill', 'rate', 'th'], tags=['all_754']),\n",
              " LabeledSentence(words=['access', 'for', 'to', 'ticketing', 'tool', 'please', 'view', 'similar', 'what', 'is', 'used', 'each', 'year', 'let', 'me', 'know', 'if', 'you', 'have', 'any'], tags=['all_3203']),\n",
              " LabeledSentence(words=['job', 'job', 'd', 'running', 'longer', 'than', 'and', 'rerun', 'received', 'from', 'in', 'job', 'schedule', 'at'], tags=['all_6542']),\n",
              " LabeledSentence(words=['unable', 'to', 'connect', 'while'], tags=['all_2333']),\n",
              " LabeledSentence(words=['engineering', 'tool', 'working', 'several', 'times', 'a', 'day', 'without', 'apparel', 'not', 'reason', 'and', 'works', 'slow', 'when', 'it', 'stay', 'running', 'please', 'see', 'attached', 'print', 'screen', 'of', 'the', 'error'], tags=['all_8003']),\n",
              " LabeledSentence(words=['phone', 'issue'], tags=['all_1390']),\n",
              " LabeledSentence(words=['unable', 'to', 'login', 'engineering', 'tool'], tags=['all_4133']),\n",
              " LabeledSentence(words=['job', 'job', 'in', 'job', 'schedule', 'at', 'received', 'from'], tags=['all_4096']),\n",
              " LabeledSentence(words=['cross', 'company', 'in', 'not', 'on', 'f', 'and', 'f', 'user', 'can', 'no', 'longer', 'process', 'please', 'assist', 'this'], tags=['all_6622']),\n",
              " LabeledSentence(words=['unable', 'to', 'login', 'into', 'attendance', 'tool', 'i', 'am', 'attendance', 'tool', 'single', 'portal', 'link'], tags=['all_6656']),\n",
              " LabeledSentence(words=['i', 'need', 'security', 'for', 'the', 'and', 'dev', 'of', 'received', 'from', 'to', 'do', 'some', 'general', 'training', 'will', 'access', 'development', 'application', 'dynamics', 'manager', 'global', 'ethics', 'compliance', 'o', 'm', 'f', 'company', 'technology', 'way', 'pa'], tags=['all_297']),\n",
              " LabeledSentence(words=['wireless', 'access', 'request', 'received', 'from', 'hello', 'please', 'from', 'tool', 'for', 'and', 'confirm', 'when', 'done', 'many'], tags=['all_3880']),\n",
              " LabeledSentence(words=['job', 'job', 'in', 'job', 'schedule', 'at', 'received', 'from'], tags=['all_6321']),\n",
              " LabeledSentence(words=['reset', 'password', 'received', 'from', 'good', 'day', 'all', 'please', 'assist', 'me', 'in', 'my', 'user', 'name', 'kind'], tags=['all_1891']),\n",
              " LabeledSentence(words=['due', 'to', 'new', 'hardware', 'access', 'exchange', 'account', 'synchronization', 'with', 'is', 'temporarily', 'blocked', 'on', 'your', 'device', 'until', 'by', 'the', 'administrator'], tags=['all_3675']),\n",
              " LabeledSentence(words=['job', 'job', 'in', 'job', 'schedule', 'at', 'received', 'from'], tags=['all_6456']),\n",
              " LabeledSentence(words=['job', 'job', 'in', 'job', 'schedule', 'at', 'received', 'from'], tags=['all_2826']),\n",
              " LabeledSentence(words=['press', 'does', 'not', 'save', 'data', 'for', 'material', 'check', 'order', 'no'], tags=['all_7790']),\n",
              " LabeledSentence(words=['static', 'address', 'it', 'been', 'by', 'our', 'temporary', 'service', 'to', 'provide', 'them', 'with', 'a', 'for', 'time', 'clock', 'that', 'will', 'be', 'hard', 'wired', 'in', 'can', 'you', 'contact', 'summary', 'do', 'i', 'gear', 'the', 'request', 'this', 'box', 'assistance'], tags=['all_951']),\n",
              " LabeledSentence(words=['need', 'telephony', 'to', 'be', 'on', 'urgent', 'cannot', 'take', 'please', 'contact', 'via', 'for', 'remote', 'installation', 'phone'], tags=['all_4197']),\n",
              " LabeledSentence(words=['ticket', 'update', 'on', 'implant'], tags=['all_827']),\n",
              " LabeledSentence(words=['create', 'hip', 'replacement', 'hard', 'drive'], tags=['all_1771']),\n",
              " LabeledSentence(words=['password', 'not', 'working', 'received', 'from', 'support', 'to', 'resolve', 'this', 'problem'], tags=['all_407']),\n",
              " LabeledSentence(words=['to'], tags=['all_220']),\n",
              " LabeledSentence(words=['user', 'system', 'received', 'from', 'hello', 'team', 'i', 'cannot', 'login', 'to', 'the', 'system', 'could', 'you', 'please', 'check', 'best'], tags=['all_2198']),\n",
              " LabeledSentence(words=['loading', 'cam', 'on', 'received', 'from', 'i', 'have', 'the', 'product', 'along', 'with', 'of', 'company', 'to', 'receive', 'free', 'through', 'a', 'local', 'authorized', 'dealer', 'we', 'are', 'teaming', 'project', 'locally', 'was', 'wondering', 'what', 'do', 'in', 'order', 'administrative', 'approval'], tags=['all_3756']),\n",
              " LabeledSentence(words=['outlook', 'not', 'showing', 'up'], tags=['all_3765']),\n",
              " LabeledSentence(words=['received', 'from', 'hello', 'for', 'our', 'new', 'and', 'the', 'authorization', 'is', 'still', 'yours', 'sincerely', 'with', 'best'], tags=['all_5547']),\n",
              " LabeledSentence(words=['job', 'in', 'job', 'schedule', 'at', 'received', 'from', 'major', 'drive', 'time', 'cannot', 'write', 'to', 'device', 'io', 'error', 'critical', 'abort', 'request', 'from', 'session', 'time', 'disk', 'aborted', 'total', 'media', 'used', 'agent'], tags=['all_4609']),\n",
              " LabeledSentence(words=['job', 'job', 'in', 'job', 'schedule', 'at', 'received', 'from', 'critical', 'f', 'time', 'am', 'failure', 'reading', 'net', 'message', 'read', 'error', 'system', 'error', 'connection', 'reset', 'by', 'peer', 'backup', 'statistics', 'session', 'time', 'disk', 'aborted', 'total', 'media', 'used', 'agent'], tags=['all_4016']),\n",
              " LabeledSentence(words=['unable', 'to', 'create', 'a', 'collaboration', 'platform', 'workbook', 'on', 'due', 'duplicate', 'is', 'enable', 'an', 'account', 'without', 'getting', 'error', 'there', 'are', 'potential', 'the', 'different', 'than', 'other', 'but', 'does', 'use', 'same', 'address', 'which', 'i', 'believe', 'dup', 'detection', 'based', 'off', 'of', 'when', 'he', 'save', 'anyways', 'get', 'business', 'process', 'error', 'refer', 'as', 'example', 'well', 'attached', 'screen'], tags=['all_2520']),\n",
              " LabeledSentence(words=['this', 'morning', 'via', 'received', 'from', 'hi', 'it', 'i', 'an', 'report', 'and', 'normal', 'minute', 'to', 'get', 'the', 'result', 'current', 'ist', 'still', 'running', 'after', 'do', 'we', 'have', 'a', 'performance', 'issue', 'with', 'my', 'user', 'id', 'is'], tags=['all_2454']),\n",
              " LabeledSentence(words=['message', 'received', 'from', 'hi', 'please', 'see', 'attached', 'i', 'keep', 'getting', 'every', 'time', 'a', 'switch', 'my', 'lap', 'top', 'on'], tags=['all_6728']),\n",
              " LabeledSentence(words=['ticket'], tags=['all_616']),\n",
              " LabeledSentence(words=['unable', 'to', 'launch', 'outlook', 'after', 'the', 'password'], tags=['all_8176']),\n",
              " LabeledSentence(words=['unable', 'to', 'attach', 'an', 'attachment', 'in', 'expense', 'report'], tags=['all_2895']),\n",
              " LabeledSentence(words=['reset', 'for', 'password', 'management', 'tool', 'password', 'reset', 'the'], tags=['all_1476']),\n",
              " LabeledSentence(words=['configuration', 'in', 'outlook'], tags=['all_3331']),\n",
              " LabeledSentence(words=['blank', 'call'], tags=['all_4273']),\n",
              " LabeledSentence(words=['my', 'in', 'the', 'morning', 'received', 'from', 'kind'], tags=['all_6757']),\n",
              " LabeledSentence(words=['office', 'for', 'activation', 'we', 'to', 'reimage', 'the', 'of', 'and', 'now', 'that', 'comes', 'with', 'company', 'image', 'from', 'raj', 'is', 'showing', 'that', 'also', 'it', 'account', 'not', 'associated', 'product', 'she', 'always', 'had', 'office', 'just', 'could', 'you', 'please', 'check', 'her', 'fix', 'that'], tags=['all_4375']),\n",
              " LabeledSentence(words=['we', 'need', 'for', 'all', 'an', 'access', 'the', 'guest', 'system', 'see', 'attached', 'excel', 'spread', 'sheet', 'from', 'sent', 'to', 'subject', 'cost', 'center', 'importance', 'high', 'hello', 'sept', 'time', 'access', 'days', 'location', 'company', 'forth', 'room', 'event', 'technical', 'training', 'metal', 'cutting', 'different', 'you', 'will', 'find', 'in'], tags=['all_5009']),\n",
              " LabeledSentence(words=['job', 'job', 'in', 'job', 'schedule', 'at', 'received', 'from'], tags=['all_4478']),\n",
              " LabeledSentence(words=['job', 'in', 'job', 'schedule', 'tool', 'tool', 'prod', 'received', 'from', 'at'], tags=['all_7729']),\n",
              " LabeledSentence(words=['received', 'from', 'hello', 'it', 'team', 'please', 'help', 'me', 'to', 'update', 'the', 'as', 'i', 'am', 'below', 'message'], tags=['all_5109']),\n",
              " LabeledSentence(words=['old', 'received', 'from', 'how', 'do', 'i', 'access', 'my', 'work', 'dell', 'does', 'not', 'pull', 'up', 'older', 'than'], tags=['all_801']),\n",
              " LabeledSentence(words=['when', 'customer', 'service', 'an', 'order', 'for', 'they', 'get', 'the', 'error', 'office', 'not', 'valid', 'flat', 'rate', 'this', 'is', 'a', 'company', 'account', 'with', 'few', 'on', 'shipping', 'was', 'to', 'ground', 'and', 'default', 'carrier', 'bob', 'that', 'i', 'ticket', 'his', 'i', 'believe', 'some', 'logic', 'added', 'so', 'infrastructure', 'would', 'try', 'use', 'rate', 'but', 'should', 'definitely', 'be', 'there', 'have', 'copied', 'input', 'in', 'can', 'you', 'please', 'enter', 'ticket', 'it', 'corrected', 'able', 'table'], tags=['all_7661']),\n",
              " LabeledSentence(words=['locked', 'out', 'of', 'again', 'language', 'explorer', 'customer', 'number', 'telephone', 'again'], tags=['all_5150']),\n",
              " LabeledSentence(words=['password', 'received', 'from', 'hi', 'please', 'reset', 'my', 'and', 'sending', 'the', 'to', 'log', 'in', 'well'], tags=['all_7865']),\n",
              " LabeledSentence(words=['job', 'job', 'in', 'job', 'schedule', 'at', 'received', 'from'], tags=['all_3291']),\n",
              " LabeledSentence(words=['job', 'job', 'in', 'job', 'schedule', 'at', 'received', 'from'], tags=['all_5337']),\n",
              " LabeledSentence(words=['unable', 'to', 'access', 'received', 'from', 'hi', 'it', 'team', 'kindly', 'please', 'assist', 'as', 'i', 'in', 'my', 'system', 'attached', 'for', 'your', 'reference'], tags=['all_3560']),\n",
              " LabeledSentence(words=['can', 'you', 'please', 'check', 'the', 'bob', 'account', 'of', 'he', 'error', 'message', 'when', 'trying', 'to', 'open', 'a', 'report', 'dear', 'all', 'report'], tags=['all_4154']),\n",
              " LabeledSentence(words=['computer', 'network', 'connection', 'lost'], tags=['all_8247']),\n",
              " LabeledSentence(words=['mi', 'logging', 'in', 'under', 'different', 'user', 'issue', 'from', 'and', 'note', 'we', 'have', 'a', 'new', 'today', 'the', 'bank', 'are', 'as', 'themselves', 'being', 'logged', 'other', 'attached', 'screen', 'shot', 'with', 'her', 'login', 'but', 'was', 'this', 'is', 'change', 'previously', 'it', 'would', 'log', 'person', 'when', 'you', 'open', 'window', 'now', 'its', 'not', 'even', 'correct', 'person'], tags=['all_3169']),\n",
              " LabeledSentence(words=['the', 'calendar', 'on', 'my', 'is', 'not', 'showing', 'any', 'language', 'explorer', 'customer', 'number', 'telephone'], tags=['all_8253']),\n",
              " LabeledSentence(words=['will', 'not', 'come', 'up', 'drive', 'at', 'all'], tags=['all_6756']),\n",
              " LabeledSentence(words=['transfer', 'information', 'from', 'old', 'to', 'new'], tags=['all_7787']),\n",
              " LabeledSentence(words=['volume', 'c', 'is', 'over', 'space', 'available', 'g'], tags=['all_4024']),\n",
              " LabeledSentence(words=['automatic', 'stock', 'wrong', 'tool', 'late', 'delivery', 'date', 'route', 'the', 'ticket', 'forward', 'to', 'supply', 'chain', 'team', 'please', 'hello', 'we', 'have', 'again', 'problem', 'with', 'too', 'automatically', 'date', 'is', 'too', 'late', 'need', 'at', 'plant', 'on', 'are', 'available', 'plant', 'why', 'doesnt', 'show', 'transfer', 'date', 'had', 'same', 'issue', 'needs'], tags=['all_1546']),\n",
              " LabeledSentence(words=['folder', 'missing', 'received', 'from', 'dear', 'sir', 'is', 'in', 'guest', 'u', 'senior', 'manager', 'engineering'], tags=['all_1578']),\n",
              " LabeledSentence(words=['problem', 'with', 'scanning', 'received', 'from', 'dear', 'ladies', 'and', 'the', 'of', 'does', 'not', 'currently', 'work', 'no', 'access', 'printer', 'no', 'please', 'remedy', 'sincerely', 'quality', 'assurance', 'personally', 'liable', 'partner', 'company', 'registered', 'office', 'company', 'forth', 'registration', 'law'], tags=['all_6065']),\n",
              " LabeledSentence(words=['please', 'see', 'the', 'attached', 'document', 'with', 'error'], tags=['all_1410']),\n",
              " LabeledSentence(words=['tool', 'error', 'hi', 'please', 'refer', 'below', 'mail', 'from', 'branch', 'attached', 'of', 'plant', 'the', 'picked', 'total', 'basic', 'value', 'as', 'excise', 'duty', 'got', 'accordingly', 'instead', 'correct', 'x', 'per', 'previous', 'tool', 'kindly', 'find', 'fix', 'problem', 'for', 'future', 'to', 'capture', 'avoid', 'paying', 'higher', 'duty'], tags=['all_3963']),\n",
              " LabeledSentence(words=['account', 'unlock', 'for', 'user', 'from', 'sent', 'to', 'subject', 'amar', 'need', 'my', 'importance', 'high', 'please', 'assist', 'he', 'is', 'a', 'consultant', 'on', 'project'], tags=['all_3773']),\n",
              " LabeledSentence(words=['password', 'reset', 'request'], tags=['all_1967']),\n",
              " LabeledSentence(words=['unable', 'to', 'launch', 'outlook'], tags=['all_4658']),\n",
              " LabeledSentence(words=['collaboration', 'platform', 'system', 'not', 'working', 'the', 'is', 'working', 'multiple', 'report', 'getting', 'an', 'error', 'trying', 'to', 'open', 'any', 'this', 'greatly', 'discount', 'process', 'as', 'we', 'cannot', 'access', 'request', 'or', 'update', 'message', 'which', 'up', 'attached', 'and'], tags=['all_952']),\n",
              " LabeledSentence(words=['setup', 'new'], tags=['all_7250']),\n",
              " LabeledSentence(words=['for', 'company', 'guest', 'issue', 'in', 'it', 'please', 'kindly', 'help', 'resolve', 'this', 'ticket', 'again', 'very', 'slowly', 'advise', 'the', 'solution', 'to', 'fix', 'it', 'by', 'way', 'find', 'attached', 'package', 'office', 'that', 'domestic', 'international', 'about', 'pax', 'office', 'suggestion', 'if', 'need', 'change', 'i', 'can', 'check', 'other', 'with', 'local', 'provider', 'vendor'], tags=['all_6518']),\n",
              " LabeledSentence(words=['not', 'able', 'to', 'open', 'an', 'excel', 'file'], tags=['all_5106']),\n",
              " LabeledSentence(words=['one', 'note', 'issue', 'file', 'not', 'getting', 'logged', 'out', 'and', 'trying', 'logging', 'in', 'back', 'no', 'go', 'checked', 'if', 'other', 'user', 'are', 'able', 'to', 'sync', 'with'], tags=['all_4155']),\n",
              " LabeledSentence(words=['high', 'monitor', 'gone', 'bad', 'unable', 'to', 'see', 'screen', 'its', 'completely', 'please', 'give', 'priority', 'since', 'user', 'is', 'traveling', 'from', 'service'], tags=['all_5513']),\n",
              " LabeledSentence(words=['outlook', 'indexing', 'i', 'have', 'not', 'been', 'able', 'to', 'use', 'my', 'search', 'in', 'for', 'about', 'week', 'because', 'the', 'message', 'your', 'are', 'currently', 'being', 'indexed', 'by', 'outlook', 'i', 'also', 'let', 'run', 'over', 'weekend', 'with', 'open', 'but', 'so', 'far', 'it', 'always', 'same', 'still', 'need', 'be', 'indexed', 'yesterday', 'there', 'were', 'around', 'massive', 'cannot', 'find', 'from', 'a', 'year', 'ago', 'function'], tags=['all_2993']),\n",
              " LabeledSentence(words=['meeting', 'no'], tags=['all_7264']),\n",
              " LabeledSentence(words=['job', 'hot', 'in', 'job', 'schedule', 'at', 'received', 'from'], tags=['all_807']),\n",
              " LabeledSentence(words=['long', 'response', 'time', 'several', 'in', 'forth', 'me', 'are', 'a', 'drop', 'performance', 'since', 'some', 'opening', 'and', 'data', 'out', 'of', 'longer', 'than', 'usually', 'can', 'you', 'please', 'check'], tags=['all_3582']),\n",
              " LabeledSentence(words=['problem', 'with', 'not', 'after', 'getting', 'picked', 'through', 'warehouse', 'tool'], tags=['all_5797']),\n",
              " LabeledSentence(words=['password', 'reset', 'for', 'received', 'from', 'hello', 'please', 'unlock', 'and', 'my', 'system'], tags=['all_252']),\n",
              " LabeledSentence(words=['outlook', 'not', 'getting', 'connected', 'to', 'exchange', 'server'], tags=['all_3105']),\n",
              " LabeledSentence(words=['recall', 'incident', 'ticket', 'no', 'been', 'assigned', 'to', 'received', 'from', 'would', 'like', 'recall', 'the', 'message', 'incident'], tags=['all_419']),\n",
              " LabeledSentence(words=['cannot', 'find', 'in', 'ticketing', 'tool', 'i', 'tried', 'to', 'add', 'the', 'watch', 'list', 'on', 'a', 'ticket', 'but', 'him', 'ticketing', 'tool', 'please', 'active', 'account'], tags=['all_3149']),\n",
              " LabeledSentence(words=['job', 'cold', 'in', 'job', 'schedule', 'at', 'received', 'from'], tags=['all_660']),\n",
              " LabeledSentence(words=['from', 'controller', 'name', 'received', 'from', 'alarm', 'august', 'am', 'edit', 'device', 'severity', 'critical'], tags=['all_8391']),\n",
              " LabeledSentence(words=['account', 'locked'], tags=['all_6625']),\n",
              " LabeledSentence(words=['job', 'job', 'in', 'job', 'schedule', 'at', 'received', 'from'], tags=['all_4012']),\n",
              " LabeledSentence(words=['engineering', 'tool', 'the', 'password', 'was', 'incorrectly', 'on', 'my', 'part', 'please', 'reset', 'engineering', 'and', 'thank', 'you'], tags=['all_7948']),\n",
              " LabeledSentence(words=['error', 'on', 'order', 'number', 'we', 'are', 'unable', 'to', 'change', 'the', 'price', 'can', 'you', 'please', 'help', 'us', 'fix', 'this', 'issue', 'before', 'tool', 'is', 'tonight'], tags=['all_4402']),\n",
              " LabeledSentence(words=['job', 'job', 'in', 'job', 'schedule', 'at', 'received', 'from'], tags=['all_5749']),\n",
              " LabeledSentence(words=['unable', 'to', 'print', 'from'], tags=['all_5774']),\n",
              " LabeledSentence(words=['new', 'setup', 'set', 'up', 'and', 'remove', 'the', 'old', 'one'], tags=['all_6304']),\n",
              " LabeledSentence(words=['job', 'in', 'job', 'schedule', 'at', 'received', 'from'], tags=['all_2626']),\n",
              " LabeledSentence(words=['unable', 'to', 'login', 'the'], tags=['all_7047']),\n",
              " LabeledSentence(words=['name', 'user', 'unable', 'to', 'login', 'connected', 'the', 'user', 'system', 'help', 'company', 'link', 'issue', 'resolved'], tags=['all_3906']),\n",
              " LabeledSentence(words=['wont', 'allow', 'me', 'to', 'create', 'an', 'attachment', 'customer', 'account', 'when', 'trying', 'attach', 'tax', 'exemption', 'the', 'in', 'i', 'am', 'not', 'able', 'access', 'network', 'drive', 'they', 'are', 'on', 'and', 'error', 'message', 'have', 'attached', 'message', 'this', 'incident', 'm', 'drive'], tags=['all_6752']),\n",
              " LabeledSentence(words=['partial', 'confirmation', 'sent', 'to', 'but', 'machine', 'status', 'differently', 'olive', 'week', 'issue', 'on', 'order', 'work', 'center', 'operation', 'was', 'in', 'prior', 'mi', 'wont', 'allow', 'resume', 'run', 'from', 'post', 'prior', 'it', 'list', 'not', 'summary', 'start', 'process', 'current', 'time', 'and', 'that', 'is', 'what', 'were', 'seeing', 'meaning', 'did', 'send', 'information', 'did', 'not', 'used', 'the', 'same', 'for', 'view', 'so', 'summary', 'made', 'perfectly', 'fine', 'was', 'not', 'with', 'pause', 'as', 'if', 'never', 'example', 'location', 'status', 'looking', 'at', 'partially', 'confirmed', 'by', 'automatic', 'pause', 'which', 'change', 'log', 'all', 'were', 'done', 'its', 'weird', 'since', 'is', 'showing', 'provided', 'itself', 'does', 'make', 'sense', 'this', 'so', 'team', 'can', 'do', 'a', 'deep', 'dive', 'come', 'up', 'solution'], tags=['all_3165']),\n",
              " LabeledSentence(words=['modify', 'to', 'pull', 'month', 'data', 'from', 'table', 'we', 'are', 'in', 'the', 'process', 'of', 'refreshing', 'history', 'and', 'need', 'send', 'through', 'bob', 'script', 'please', 'once', 'extract', 'is', 'complete', 'will', 'switch', 'it', 'back', 'delta', 'extraction'], tags=['all_2859']),\n",
              " LabeledSentence(words=['password', 'reset'], tags=['all_5859']),\n",
              " LabeledSentence(words=['password', 'received', 'from', 'hello', 'i', 'want', 'change', 'my', 'and', 'make', 'a', 'mistake', 'can', 'you', 'please', 'reject', 'to', 'old', 'one'], tags=['all_5339']),\n",
              " LabeledSentence(words=['password', 'reset'], tags=['all_4952']),\n",
              " LabeledSentence(words=['password', 'reset'], tags=['all_5083']),\n",
              " LabeledSentence(words=['engineering', 'tool', 'quick', 'search', 'problem', 'is', 'not', 'working', 'it', 'taking', 'too', 'much', 'time', 'to', 'load', 'the', 'data', 'please', 'sort', 'out', 'issue'], tags=['all_5903']),\n",
              " LabeledSentence(words=['stock', 'issue', 'received', 'from', 'hello', 'it', 'there', 'is', 'under', 'plant', 'but', 'i', 'cannot', 'run', 'the', 'for', 'please', 'help', 'check', 'it'], tags=['all_3574']),\n",
              " LabeledSentence(words=['outlook', 'does', 'not', 'start', 'after', 'the', 'icon', 'window', 'for', 'no', 'how', 'long', 'you', 'wait', 'start', 'also', 'a', 'restart', 'of', 'computer', 'brought', 'improvement'], tags=['all_1160']),\n",
              " LabeledSentence(words=['need', 'access', 'to', 'assistant', 'in'], tags=['all_1499']),\n",
              " LabeledSentence(words=['computer', 'hot', 'received', 'from', 'hello', 'my', 'is', 'and', 'the', 'fan', 'all', 'time', 'so', 'you', 'can', 'hear', 'it', 'best'], tags=['all_4342']),\n",
              " LabeledSentence(words=['visit', 'request', 'received', 'from', 'hello', 'support', 'team', 'i', 'need', 'on', 'my', 'can', 'you', 'please', 'install', 'it', 'approval', 'attached', 'below', 'best'], tags=['all_1767']),\n",
              " LabeledSentence(words=['job', 'job', 'in', 'job', 'schedule', 'at', 'received', 'from'], tags=['all_753']),\n",
              " LabeledSentence(words=['unable', 'to', 'launch', 'outlook'], tags=['all_5391']),\n",
              " LabeledSentence(words=['does', 'not', 'work', 'log', 'me', 'on', 'when', 'i', 'turn', 'the', 'computer', 'phone'], tags=['all_2145']),\n",
              " LabeledSentence(words=['nightly', 'for', 'plant', 'is', 'waiting', 'date', 'since', 'more', 'than', 'one', 'day', 'job', 'at', 'step', 'this', 'from', 'in', 'coming', 'a', 'file', 'please', 'check', 'whether', 'the', 'related', 'are', 'running', 'properly', 'phone', 'external', 'contact'], tags=['all_7009']),\n",
              " LabeledSentence(words=['engineering', 'tool', 'not', 'working', 'received', 'from', 'dear', 'sir', 'is', 'able', 'to', 'access', 'his', 'tool', 'he', 'for', 'help', 'also', 'from', 'it', 'but', 'till', 'date', 'nothing', 'ahead', 'please', 'get', 'and', 'install', 'the', 'same', 'at', 'best'], tags=['all_2719']),\n",
              " LabeledSentence(words=['no', 'authorization', 'in'], tags=['all_938']),\n",
              " LabeledSentence(words=['cannot', 'create', 'a', 'delivery', 'note', 'for', 'stock', 'transfer', 'to', 'see', 'error', 'message', 'on'], tags=['all_3875']),\n",
              " LabeledSentence(words=['unable', 'to', 'login'], tags=['all_7460']),\n",
              " LabeledSentence(words=['need', 'access', 'for', 'received', 'from', 'hi', 'there', 'we', 'want', 'give', 'the', 'same', 'as', 'i', 'have', 'drive'], tags=['all_8047']),\n",
              " LabeledSentence(words=['eu', 'tool', 'batch', 'management', 'does', 'not', 'work', 'working', 'with', 'the', 'is', 'almost', 'impossible', 'of', 'no', 'longer', 'possible', 'at', 'moment', 'currently'], tags=['all_863']),\n",
              " LabeledSentence(words=['volume', 'on', 'c', 'is', 'more', 'than', 'volume', 'drive', 'server', 'over', 'space', 'available', 'g'], tags=['all_5397']),\n",
              " LabeledSentence(words=['shipping', 'not', 'displayed', 'when', 'i', 'select', 'previous', 'week', 'which', 'have', 'data', 'refresh', 'issue', 'maybe', 'is', 'being', 'daily', 'or', 'something', 'broken', 'with', 'respect', 'to', 'extraction', 'freight', 'cost', 'region', 'analysis', 'total', 'cost', 'by', 'and', 'location', 'export', 'indicator', 'delivery', 'type', 'carrier', 'wise', 'statistics', 'as', 'cannot', 'find'], tags=['all_3897']),\n",
              " LabeledSentence(words=['excel', 'freezing', 'issue'], tags=['all_108']),\n",
              " LabeledSentence(words=['job', 'job', 'in', 'job', 'schedule', 'at', 'received', 'from'], tags=['all_6521']),\n",
              " LabeledSentence(words=['mi', 'password', 'reset'], tags=['all_3640']),\n",
              " LabeledSentence(words=['platform', 'script', 'returned', 'unexpected', 'value'], tags=['all_8001']),\n",
              " LabeledSentence(words=['ticket', 'update', 'no'], tags=['all_889']),\n",
              " LabeledSentence(words=['password', 'is', 'please', 'initiate', 'reset', 'also', 'for', 'the'], tags=['all_3867']),\n",
              " LabeledSentence(words=['em', 'event', 'the', 'value', 'of', 'size', 'for', 'is', 'target', 'instance', 'event', 'edit', 'alert', 'size'], tags=['all_1090']),\n",
              " LabeledSentence(words=['create', 'a', 'new', 'folder', 'in', 'the', 'of', 'eu', 'tool', 'please', 'folder', 'received', 'from', 'hello', 'please', 'path', 'under', 'c', 'c', 'c', 'directory', 'impact', 'award', 'use', 'as', 'designation', 'for', 'visualization', 'are', 'on', 'i', 'hand', 'c', 'reason', 'i', 'have', 'some', 'our', 'system', 'breakdown', 'so', 'they', 'will', 'chance', 'to', 'look', 'into', 'this', 'when', 'want', 'do', 'any', 'notification', 'people', 'because', 'we', 'still', 'with', 'and', 'old', 'was', 'part', 'am', 'best'], tags=['all_1772']),\n",
              " LabeledSentence(words=['is', 'not', 'working'], tags=['all_2185']),\n",
              " LabeledSentence(words=['received', 'from', 'hello', 'what', 'should', 'we', 'be', 'on', 'out', 'phone', 'or', 'business', 'collaboration', 'platform', 'and', 'back', 'our', 'phone', 'cloud', 'computer', 'best'], tags=['all_6852']),\n",
              " LabeledSentence(words=['can', 'not', 'create', 'delivery', 'for', 'i', 'had', 'company', 'south', 'look', 'at', 'the', 'and', 'someone', 'our', 'facility', 'nobody', 'is', 'able', 'to', 'help', 'me'], tags=['all_3769']),\n",
              " LabeledSentence(words=['my', 'account', 'user', 'is', 'being', 'repeatedly', 'locked', 'please', 'run', 'a', 'trace', 'to', 'determine', 'the', 'cause', 'for', 'past', 'two', 'days', 'been', 'i', 'have', 'not', 'entering', 'wrong', 'password', 'in', 'row', 'on', 'unlocked', 'it', 'several', 'times', 'me', 'request', 'what', 'causing', 'be'], tags=['all_3610']),\n",
              " LabeledSentence(words=['request', 'to', 'reset', 'password', 'from', 'on', 'behalf', 'of', 'company', 'sent', 'august', 'am', 'to', 'subject', 'for', 'importance', 'high', 'the', 'following', 'user', 'in', 'your', 'organization', 'a', 'be', 'their', 'account', 'first', 'name', 'last', 'consider', 'this', 'validate', 'is', 'authentic', 'before', 'if', 'you', 'have', 'determined', 'that', 'valid', 'request', 'use', 'portal', 'office', 'azure', 'user', 'want', 'let', 'own', 'check', 'out', 'how', 'can', 'enable', 'with', 'just', 'few', 'sincerely', 'message', 'was', 'sent', 'from', 'an', 'unmonitored', 'address', 'please', 'do', 'not', 'reply', 'message'], tags=['all_6086']),\n",
              " LabeledSentence(words=['evening', 'job', 'in', 'schedule', 'job', 'received', 'from', 'job', 'schedule', 'job', 'at'], tags=['all_7590']),\n",
              " LabeledSentence(words=['unable', 'to', 'login'], tags=['all_6795']),\n",
              " LabeledSentence(words=['reset', 'password', 'received', 'from', 'dear', 'may', 'i', 'request', 'to', 'for', 'the', 'following', 'user'], tags=['all_1782']),\n",
              " LabeledSentence(words=['the', 'following', 'notification', 'in', 'my', 'is', 'being', 'with', 'of', 'a', 'write', 'error', 'these', 'appear', 'to', 'be', 'related', 'south', 'ne', 'an', 'ne', 'transaction', 'see', 'attached'], tags=['all_6548']),\n",
              " LabeledSentence(words=['business', 'client', 'password', 'reset', 'request', 'received', 'from', 'dear', 'sir', 'please', 'help', 'to', 'my', 'for'], tags=['all_5046']),\n",
              " LabeledSentence(words=['outlook', 'is', 'slow'], tags=['all_417']),\n",
              " LabeledSentence(words=['need', 'access', 'to', 'my', 'drive', 'please', 'check', 'her', 'account', 'received', 'from', 'hello', 'it', 'team', 'how', 'do', 'i', 'connect', 'network', 'drive', 'the', 'been', 'gone', 'since', 'yesterday', 'thanks', 'and'], tags=['all_5699']),\n",
              " LabeledSentence(words=['create', 'a', 'purchase', 'requisition', 'with', 'does', 'not', 'work', 'any', 'more', 'i', 'got', 'following', 'error', 'massage', 'action', 'could', 'be', 'no', 'data', 'found', 'for', 'employee', 'inform', 'system', 'administrator'], tags=['all_3529']),\n",
              " LabeledSentence(words=['ticket', 'update', 'on', 'implant'], tags=['all_3519']),\n",
              " LabeledSentence(words=['unable', 'to', 'log', 'in'], tags=['all_6271']),\n",
              " LabeledSentence(words=['collaboration', 'platform', 'assistance', 'received', 'from', 'hello', 'i', 'need', 'some', 'part', 'of', 'the', 'collaboration', 'platform', 'page', 'for', 'my', 'department', 'specifically', 'there', 'is', 'a', 'link', 'on', 'our', 'that', 'to', 'document', 'ensure', 'more', 'up', 'date', 'version', 'document', 'linked'], tags=['all_6165']),\n",
              " LabeledSentence(words=['installation', 'summary', 'need', 'help', 'a', 'application', 'can', 'someone', 'take', 'over', 'my', 'screen', 'and', 'me', 'out'], tags=['all_2030']),\n",
              " LabeledSentence(words=['payment', 'method', 'change', 'from', 't', 'to', 'c', 'for', 'all', 'employee', 'in', 'from', 'sent', 'to', 'subject', 're', 'apt', 'run', 'hi', 'we', 'request', 'you', 'the', 'as', 'c', 'instead', 'of', 't'], tags=['all_1572']),\n",
              " LabeledSentence(words=['warehouse', 'not', 'possible', 'on', 'phone', 'set'], tags=['all_8038']),\n",
              " LabeledSentence(words=['error', 'on'], tags=['all_6391']),\n",
              " LabeledSentence(words=['ticket', 'update', 'on', 'ticket', 'no'], tags=['all_3484']),\n",
              " LabeledSentence(words=['is', 'collaboration', 'platform', 'seem', 'to', 'be', 'down', 'i', 'have', 'tried', 'several', 'within', 'the', 'realm', 'of', 'collaboration', 'platform', 'like', 'cannot', 'access', 'anything', 'there', 'other', 'people', 'from', 'our', 'team', 'are', 'same'], tags=['all_5631']),\n",
              " LabeledSentence(words=['unable', 'to', 'log', 'in'], tags=['all_29']),\n",
              " LabeledSentence(words=['is', 'not', 'working', 'error', 'log', 'on', 'balancing', 'error', 'work', 'around'], tags=['all_7226']),\n",
              " LabeledSentence(words=['query'], tags=['all_6971']),\n",
              " LabeledSentence(words=['job', 'fail', 'in', 'job', 'schedule', 'at', 'received', 'from'], tags=['all_6684']),\n",
              " LabeledSentence(words=['job', 'cold', 'in', 'job', 'schedule', 'at', 'received', 'from'], tags=['all_5352']),\n",
              " LabeledSentence(words=['account', 'locked', 'in'], tags=['all_165']),\n",
              " LabeledSentence(words=['unlock', 'ad', 'account'], tags=['all_7551']),\n",
              " LabeledSentence(words=['user', 'logging', 'to', 'outlook', 'will', 'be', 'available', 'tomorrow', 'around', 'am', 'he', 'works', 'out', 'of', 'company', 'campus', 'request', 'you', 'reach', 'him', 'fix', 'the', 'issue'], tags=['all_82']),\n",
              " LabeledSentence(words=['hardware', 'issue', 'when', 'user', 'is', 'trying', 'to', 'use', 'a', 'separate', 'computer', 't', 'install', 'getting', 'message', 'that', 'cannot', 'connect', 'the', 'domain', 'either', 'because', 'controller', 'down', 'or', 'otherwise', 'unavailable', 'your', 'account', 'was', 'not', 'found', 'this', 'needs', 'replace', 'dead', 'in', 'shop', 'floor', 'and', 'need', 'make', 'it', 'up', 'running'], tags=['all_7891']),\n",
              " LabeledSentence(words=['job', 'job', 'd', 'in', 'job', 'schedule', 'at', 'received', 'from'], tags=['all_5157']),\n",
              " LabeledSentence(words=['mobile', 'device', 'activation'], tags=['all_7276']),\n",
              " LabeledSentence(words=['from', 'various', 'department', 'are', 'slow', 'response', 'in', 'engineering', 'tool', 'unable', 'to', 'work'], tags=['all_786']),\n",
              " LabeledSentence(words=['job', 'job', 'w', 'in', 'job', 'schedule', 'at', 'received', 'from'], tags=['all_6773']),\n",
              " LabeledSentence(words=['reset', 'for', 'password', 'management', 'tool', 'password', 'reset', 'my', 'does', 'not', 'work', 'blocked'], tags=['all_1044']),\n",
              " LabeledSentence(words=['process', 'fault', 'in', 'hello', 'could', 'you', 'please', 'resolve', 'the', 'following', 'issue', 'immediately', 'issue', 'trying', 'to', 'with', 'which', 'is', 'for', 'goods', 'and', 'there', 'are', 'below', 'screen', 'shot', 'fault', 'best'], tags=['all_3835']),\n",
              " LabeledSentence(words=['phone', 'is', 'not', 'connected', 'with', 'server', 'hello', 'i', 'cannot', 'pick', 'up', 'the', 'phone', 'this', 'error', 'message', 'could', 'you', 'help', 'me', 'please', 'id', 'best'], tags=['all_6040']),\n",
              " LabeledSentence(words=['a', 'link', 'on', 'an', 'i', 'am', 'forbidden', 'from', 'it', 'training', 'and', 'under', 'create', 'signature', 'company', 'standard', 'that', 'forbidden', 'to', 'see'], tags=['all_6401']),\n",
              " LabeledSentence(words=['unable', 'to', 'see'], tags=['all_6579']),\n",
              " LabeledSentence(words=['work', 'center', 'difference', 'message', 'showing', 'up', 'when', 'threshold', 'set', 'to', 'confirm', 'threshold', 'is', 'system', 'a', 'warning', 'even', 'we', 'confirm', 'order', 'which', 'exactly', 'of'], tags=['all_3188']),\n",
              " LabeledSentence(words=['unable', 'to', 'login', 'password'], tags=['all_443']),\n",
              " LabeledSentence(words=['user', 'to', 'change', 'the', 'printer'], tags=['all_3504']),\n",
              " LabeledSentence(words=['login', 'issue', 'user', 'manager', 'name', 'checked', 'the', 'name', 'in', 'ad', 'unlocked', 'account', 'advised', 'to', 'and', 'check', 'caller', 'confirmed', 'that', 'he', 'was', 'able', 'login', 'issue', 'resolved'], tags=['all_3034']),\n",
              " LabeledSentence(words=['does', 'the', 'meter', 'amount', 'of', 'data', 'that', 'can', 'be', 'transferred'], tags=['all_418']),\n",
              " LabeledSentence(words=['unable', 'to', 'share', 'screen', 'language', 'explorer', 'customer', 'number', 'telephone', 'summary', 'am', 'my', 'on'], tags=['all_2158']),\n",
              " LabeledSentence(words=['wi', 'fi', 'access', 'to', 'user'], tags=['all_2887']),\n",
              " LabeledSentence(words=['unable', 'to', 'log', 'in', 'update', 'password', 'on', 'password', 'management', 'tool'], tags=['all_2656']),\n",
              " LabeledSentence(words=['job', 'job', 'in', 'job', 'schedule', 'at', 'received', 'from'], tags=['all_6142']),\n",
              " LabeledSentence(words=['printer', 'see', 'attachment'], tags=['all_1294']),\n",
              " LabeledSentence(words=['outlook', 'access', 'will', 'not', 'connect', 'when', 'working', 'from', 'home', 'office'], tags=['all_6319']),\n",
              " LabeledSentence(words=['install'], tags=['all_4347']),\n",
              " LabeledSentence(words=['wrong', 'number', 'of', 'process', 'but', 'found'], tags=['all_6861']),\n",
              " LabeledSentence(words=['unable', 'to', 'scroll', 'down', 'ie'], tags=['all_6955']),\n",
              " LabeledSentence(words=['engineering', 'tool', 'urgent', 'received', 'from', 'i', 'have', 'access', 'to', 'engineering', 'engineering', 'tool', 'but', 'my', 'name', 'does', 'not', 'show', 'up', 'in', 'the', 'drop', 'down', 'for', 'salesman', 'or', 'by', 'and', 'it', 'me', 'write', 'in', 'can', 'please', 'be', 'added', 'channel', 'partner', 'engineer', 'company'], tags=['all_2871']),\n",
              " LabeledSentence(words=['login', 'trouble', 'received', 'from', 'hello', 'please', 'see', 'this', 'error', 'i', 'can', 'not', 'log', 'in', 'tell', 'me', 'the', 'solution'], tags=['all_3131']),\n",
              " LabeledSentence(words=['please', 'move', 'stock', 'from', 'order', 'to', 'unrestricted', 'stock', 'due', 'is', 'not', 'do', 'movement', 'kindly', 'help', 'and', 'advise', 'back', 'us'], tags=['all_6511']),\n",
              " LabeledSentence(words=['printer', 'configure', 'bit', 'driver', 'installation', 'on', 'new'], tags=['all_1819']),\n",
              " LabeledSentence(words=['account', 'locked'], tags=['all_5486']),\n",
              " LabeledSentence(words=['can', 'not', 'reach', 'to', 'password', 'management', 'tool', 'password', 'manager', 'change', 'my', 'language', 'explorer', 'customer', 'number', 'summary'], tags=['all_484']),\n",
              " LabeledSentence(words=['is', 'not', 'working', 'for', 'multiple', 'user', 'server', 'not'], tags=['all_2209']),\n",
              " LabeledSentence(words=['please', 'restart', 'the', 'server', 'today', 'hello', 'team', 'are', 'to', 'production', 'but', 'unfortunately', 'were', 'not', 'so', 'we', 'request', 'you', 'reflected', 'in', 'production'], tags=['all_2966']),\n",
              " LabeledSentence(words=['is', 'currently', 'very', 'long', 'loading', 'times', 'for', 'language', 'explorer', 'customer', 'number', 'telephone', 'can', 'you', 'please', 'look', 'into', 'this'], tags=['all_2321']),\n",
              " LabeledSentence(words=['user', 'with', 'site', 'and', 'also', 'vendor', 'number'], tags=['all_1749']),\n",
              " LabeledSentence(words=['problem', 'with', 'screen', 'save', 'at', 'the', 'sonic'], tags=['all_5452']),\n",
              " LabeledSentence(words=['account', 'locked', 'in'], tags=['all_1060']),\n",
              " LabeledSentence(words=['user', 'mobile', 'to', 'be', 'on'], tags=['all_2336']),\n",
              " LabeledSentence(words=['lean', 'event', 'can', 'not', 'be', 'added'], tags=['all_1873']),\n",
              " LabeledSentence(words=['unable', 'to', 'connect'], tags=['all_6002']),\n",
              " ...]"
            ]
          },
          "metadata": {
            "tags": []
          },
          "execution_count": 16
        }
      ]
    },
    {
      "cell_type": "markdown",
      "metadata": {
        "id": "0cJ4rEXhw7sb"
      },
      "source": [
        "## DBOW"
      ]
    },
    {
      "cell_type": "code",
      "metadata": {
        "colab": {
          "base_uri": "https://localhost:8080/"
        },
        "id": "fEvB1Yq1w7sb",
        "outputId": "9d565b0d-c661-4c38-eb80-a1039846afe4"
      },
      "source": [
        "model_ug_dbow = Doc2Vec(dm=0, size=100, negative=5, min_count=2, workers=16, alpha=0.065, min_alpha=0.065)\n",
        "model_ug_dbow.build_vocab([x for x in tqdm(all_x_w2v)])"
      ],
      "execution_count": 17,
      "outputs": [
        {
          "output_type": "stream",
          "text": [
            "/usr/local/lib/python3.6/dist-packages/gensim/models/doc2vec.py:570: UserWarning: The parameter `size` is deprecated, will be removed in 4.0.0, use `vector_size` instead.\n",
            "  warnings.warn(\"The parameter `size` is deprecated, will be removed in 4.0.0, use `vector_size` instead.\")\n",
            "100%|██████████| 8500/8500 [00:00<00:00, 1830257.41it/s]\n"
          ],
          "name": "stderr"
        }
      ]
    },
    {
      "cell_type": "markdown",
      "metadata": {
        "id": "pXaQK81ew7sb"
      },
      "source": [
        "According to the developer Radim Řehůřek who created Gensim,\n",
        "\"One caveat of the way this algorithm runs is that, since the learning rate decrease over the course of iterating over the data, labels which are only seen in a single LabeledSentence during training will only be trained with a fixed learning rate. This frequently produces less than optimal results.\"\n",
        "\n",
        "Below iteration implement explicit multiple-pass, alpha-reduction approach with added shuffling. This has been already presented in Gensim's IMDB tutorial."
      ]
    },
    {
      "cell_type": "code",
      "metadata": {
        "colab": {
          "base_uri": "https://localhost:8080/"
        },
        "id": "a5y7FDprw7sb",
        "outputId": "a0d83e4b-a1a0-4c34-dc0c-803d9a743581"
      },
      "source": [
        "%%time\n",
        "for epoch in range(30):\n",
        "    model_ug_dbow.train(utils.shuffle([x for x in tqdm(all_x_w2v)]), total_examples=len(all_x_w2v), epochs=1)\n",
        "    model_ug_dbow.alpha -= 0.002\n",
        "    model_ug_dbow.min_alpha = model_ug_dbow.alpha"
      ],
      "execution_count": 18,
      "outputs": [
        {
          "output_type": "stream",
          "text": [
            "100%|██████████| 8500/8500 [00:00<00:00, 2658978.52it/s]\n",
            "100%|██████████| 8500/8500 [00:00<00:00, 2434884.85it/s]\n",
            "100%|██████████| 8500/8500 [00:00<00:00, 3380899.38it/s]\n",
            "100%|██████████| 8500/8500 [00:00<00:00, 3185167.87it/s]\n",
            "100%|██████████| 8500/8500 [00:00<00:00, 3326638.42it/s]\n",
            "100%|██████████| 8500/8500 [00:00<00:00, 3225220.19it/s]\n",
            "100%|██████████| 8500/8500 [00:00<00:00, 2991155.63it/s]\n",
            "100%|██████████| 8500/8500 [00:00<00:00, 3389578.25it/s]\n",
            "100%|██████████| 8500/8500 [00:00<00:00, 3249620.27it/s]\n",
            "100%|██████████| 8500/8500 [00:00<00:00, 3242821.90it/s]\n",
            "100%|██████████| 8500/8500 [00:00<00:00, 3184883.33it/s]\n",
            "100%|██████████| 8500/8500 [00:00<00:00, 3308731.69it/s]\n",
            "100%|██████████| 8500/8500 [00:00<00:00, 3196018.29it/s]\n",
            "100%|██████████| 8500/8500 [00:00<00:00, 3345367.74it/s]\n",
            "100%|██████████| 8500/8500 [00:00<00:00, 3088856.70it/s]\n",
            "100%|██████████| 8500/8500 [00:00<00:00, 3450932.53it/s]\n",
            "100%|██████████| 8500/8500 [00:00<00:00, 3269287.85it/s]\n",
            "100%|██████████| 8500/8500 [00:00<00:00, 3320751.12it/s]\n",
            "100%|██████████| 8500/8500 [00:00<00:00, 3392158.33it/s]\n",
            "100%|██████████| 8500/8500 [00:00<00:00, 3321679.31it/s]\n",
            "100%|██████████| 8500/8500 [00:00<00:00, 2750257.19it/s]\n",
            "100%|██████████| 8500/8500 [00:00<00:00, 2924658.24it/s]\n",
            "100%|██████████| 8500/8500 [00:00<00:00, 3269287.85it/s]\n",
            "100%|██████████| 8500/8500 [00:00<00:00, 3365261.85it/s]\n",
            "100%|██████████| 8500/8500 [00:00<00:00, 3385715.48it/s]\n",
            "100%|██████████| 8500/8500 [00:00<00:00, 3409677.12it/s]\n",
            "100%|██████████| 8500/8500 [00:00<00:00, 3001985.85it/s]\n",
            "100%|██████████| 8500/8500 [00:00<00:00, 2950069.01it/s]\n",
            "100%|██████████| 8500/8500 [00:00<00:00, 3309653.17it/s]\n",
            "100%|██████████| 8500/8500 [00:00<00:00, 3505219.15it/s]\n"
          ],
          "name": "stderr"
        },
        {
          "output_type": "stream",
          "text": [
            "CPU times: user 17.8 s, sys: 3.41 s, total: 21.2 s\n",
            "Wall time: 14 s\n"
          ],
          "name": "stdout"
        }
      ]
    },
    {
      "cell_type": "code",
      "metadata": {
        "id": "7VfayLMMw7sc"
      },
      "source": [
        "def get_vectors(model, corpus, size):\n",
        "    vecs = np.zeros((len(corpus), size))\n",
        "    n = 0\n",
        "    for i in corpus.index:\n",
        "        prefix = 'all_' + str(i)\n",
        "        vecs[n] = model.docvecs[prefix]\n",
        "        n += 1\n",
        "    return vecs"
      ],
      "execution_count": 19,
      "outputs": []
    },
    {
      "cell_type": "code",
      "metadata": {
        "id": "mewbgsfAw7sc"
      },
      "source": [
        "train_vecs_dbow = get_vectors(model_ug_dbow, x_train, 100)\n",
        "validation_vecs_dbow = get_vectors(model_ug_dbow, x_validation, 100)"
      ],
      "execution_count": 20,
      "outputs": []
    },
    {
      "cell_type": "code",
      "metadata": {
        "colab": {
          "base_uri": "https://localhost:8080/"
        },
        "id": "iTrmilXQw7sc",
        "outputId": "44cd0578-c428-4ef8-b5b4-2a0035f329cf"
      },
      "source": [
        "clf = LogisticRegression(solver='lbfgs', max_iter=1000, multi_class='multinomial')\n",
        "\n",
        "clf.fit(train_vecs_dbow, y_train)"
      ],
      "execution_count": 21,
      "outputs": [
        {
          "output_type": "execute_result",
          "data": {
            "text/plain": [
              "LogisticRegression(C=1.0, class_weight=None, dual=False, fit_intercept=True,\n",
              "                   intercept_scaling=1, l1_ratio=None, max_iter=1000,\n",
              "                   multi_class='multinomial', n_jobs=None, penalty='l2',\n",
              "                   random_state=None, solver='lbfgs', tol=0.0001, verbose=0,\n",
              "                   warm_start=False)"
            ]
          },
          "metadata": {
            "tags": []
          },
          "execution_count": 21
        }
      ]
    },
    {
      "cell_type": "code",
      "metadata": {
        "colab": {
          "base_uri": "https://localhost:8080/"
        },
        "id": "EoflQmgZw7sc",
        "outputId": "67f9e875-722d-4820-8ee4-c15e6161a87a"
      },
      "source": [
        "clf.score(validation_vecs_dbow, y_validation)"
      ],
      "execution_count": 22,
      "outputs": [
        {
          "output_type": "execute_result",
          "data": {
            "text/plain": [
              "0.6"
            ]
          },
          "metadata": {
            "tags": []
          },
          "execution_count": 22
        }
      ]
    },
    {
      "cell_type": "markdown",
      "metadata": {
        "id": "fTju_u2Jw7sc"
      },
      "source": [
        "Even though the DBOW model doesn't learn the meaning of the individual words, but as features to feed to a classifier, it seems like it's doing its job."
      ]
    },
    {
      "cell_type": "markdown",
      "metadata": {
        "id": "fwQzuTpWw7sd"
      },
      "source": [
        "But the result doesn't seem to excel count vectorizer or Tfidf vectorizer. It might not be a direct comparison since either count vectorizer of Tfidf vectorizer uses a large number of features to represent a tweet, but in this case, a vector for each tweet has only 200 dimensions."
      ]
    },
    {
      "cell_type": "code",
      "metadata": {
        "id": "mkBxsI8Zw7sd"
      },
      "source": [
        "model_ug_dbow.save('drive/MyDrive/grams/d2v_model_ug_dbow.doc2vec')\n",
        "model_ug_dbow = Doc2Vec.load('drive/MyDrive/grams/d2v_model_ug_dbow.doc2vec')"
      ],
      "execution_count": 23,
      "outputs": []
    },
    {
      "cell_type": "code",
      "metadata": {
        "id": "xd6W2VxUw7sd"
      },
      "source": [
        "model_ug_dbow.delete_temporary_training_data(keep_doctags_vectors=True, keep_inference=True)"
      ],
      "execution_count": 24,
      "outputs": []
    },
    {
      "cell_type": "markdown",
      "metadata": {
        "id": "JDl5SG-iw7sd"
      },
      "source": [
        "## Distributed Memory (concatenated)"
      ]
    },
    {
      "cell_type": "code",
      "metadata": {
        "colab": {
          "base_uri": "https://localhost:8080/"
        },
        "id": "0ynxsYO_w7sd",
        "outputId": "e92dbae0-8cbe-4323-b154-00f3ba98e58e"
      },
      "source": [
        "cores = multiprocessing.cpu_count()\n",
        "model_ug_dmc = Doc2Vec(dm=1, dm_concat=1, size=100, window=2, negative=5, min_count=2, workers=cores, alpha=0.065, min_alpha=0.065)\n",
        "model_ug_dmc.build_vocab([x for x in tqdm(all_x_w2v)])"
      ],
      "execution_count": 25,
      "outputs": [
        {
          "output_type": "stream",
          "text": [
            "/usr/local/lib/python3.6/dist-packages/gensim/models/doc2vec.py:570: UserWarning: The parameter `size` is deprecated, will be removed in 4.0.0, use `vector_size` instead.\n",
            "  warnings.warn(\"The parameter `size` is deprecated, will be removed in 4.0.0, use `vector_size` instead.\")\n",
            "100%|██████████| 8500/8500 [00:00<00:00, 2282577.89it/s]\n"
          ],
          "name": "stderr"
        }
      ]
    },
    {
      "cell_type": "code",
      "metadata": {
        "colab": {
          "base_uri": "https://localhost:8080/"
        },
        "id": "uZSziimSw7sd",
        "outputId": "611a996c-ca33-43d3-fb28-f4ef943f3a39"
      },
      "source": [
        "%%time\n",
        "for epoch in range(30):\n",
        "    model_ug_dmc.train(utils.shuffle([x for x in tqdm(all_x_w2v)]), total_examples=len(all_x_w2v), epochs=1)\n",
        "    model_ug_dmc.alpha -= 0.002\n",
        "    model_ug_dmc.min_alpha = model_ug_dmc.alpha"
      ],
      "execution_count": 26,
      "outputs": [
        {
          "output_type": "stream",
          "text": [
            "100%|██████████| 8500/8500 [00:00<00:00, 2297434.21it/s]\n",
            "100%|██████████| 8500/8500 [00:00<00:00, 2820090.49it/s]\n",
            "100%|██████████| 8500/8500 [00:00<00:00, 3083246.91it/s]\n",
            "100%|██████████| 8500/8500 [00:00<00:00, 2771853.83it/s]\n",
            "100%|██████████| 8500/8500 [00:00<00:00, 3143601.45it/s]\n",
            "100%|██████████| 8500/8500 [00:00<00:00, 3076329.62it/s]\n",
            "100%|██████████| 8500/8500 [00:00<00:00, 2677751.54it/s]\n",
            "100%|██████████| 8500/8500 [00:00<00:00, 3100946.68it/s]\n",
            "100%|██████████| 8500/8500 [00:00<00:00, 3409351.06it/s]\n",
            "100%|██████████| 8500/8500 [00:00<00:00, 3136411.01it/s]\n",
            "100%|██████████| 8500/8500 [00:00<00:00, 3268688.37it/s]\n",
            "100%|██████████| 8500/8500 [00:00<00:00, 3210408.28it/s]\n",
            "100%|██████████| 8500/8500 [00:00<00:00, 3116669.64it/s]\n",
            "100%|██████████| 8500/8500 [00:00<00:00, 3238697.67it/s]\n",
            "100%|██████████| 8500/8500 [00:00<00:00, 3409351.06it/s]\n",
            "100%|██████████| 8500/8500 [00:00<00:00, 3376096.97it/s]\n",
            "100%|██████████| 8500/8500 [00:00<00:00, 3335352.61it/s]\n",
            "100%|██████████| 8500/8500 [00:00<00:00, 3104727.34it/s]\n",
            "100%|██████████| 8500/8500 [00:00<00:00, 3169593.17it/s]\n",
            "100%|██████████| 8500/8500 [00:00<00:00, 3321679.31it/s]\n",
            "100%|██████████| 8500/8500 [00:00<00:00, 2236470.99it/s]\n",
            "100%|██████████| 8500/8500 [00:00<00:00, 3202333.96it/s]\n",
            "100%|██████████| 8500/8500 [00:00<00:00, 3487730.78it/s]\n",
            "100%|██████████| 8500/8500 [00:00<00:00, 3235464.56it/s]\n",
            "100%|██████████| 8500/8500 [00:00<00:00, 2792916.88it/s]\n",
            "100%|██████████| 8500/8500 [00:00<00:00, 2879539.94it/s]\n",
            "100%|██████████| 8500/8500 [00:00<00:00, 2984644.96it/s]\n",
            "100%|██████████| 8500/8500 [00:00<00:00, 3153054.21it/s]\n",
            "100%|██████████| 8500/8500 [00:00<00:00, 3339726.84it/s]\n",
            "100%|██████████| 8500/8500 [00:00<00:00, 3015443.12it/s]\n"
          ],
          "name": "stderr"
        },
        {
          "output_type": "stream",
          "text": [
            "CPU times: user 23.7 s, sys: 4.44 s, total: 28.2 s\n",
            "Wall time: 15.8 s\n"
          ],
          "name": "stdout"
        }
      ]
    },
    {
      "cell_type": "code",
      "metadata": {
        "id": "ItqqRxiFw7sd"
      },
      "source": [
        "#model_ug_dmc = Doc2Vec.load('d2v_model_ug_dmc.doc2vec')\n"
      ],
      "execution_count": 27,
      "outputs": []
    },
    {
      "cell_type": "markdown",
      "metadata": {
        "id": "_oaxgtfcw7se"
      },
      "source": [
        "What's nice about Doc2Vec is that after training you can retrieve not only document vectors but also individual word vectors as well. Note, however, that a Doc2Vec DBOW model doesn't learn semantic word vectors, so the word vectors you retrieve from pure DBOW model will be the automatic randomly-initialized vectors, with no meaning.\n",
        "But with DM model, you can see the semantic relationship between words. Let's see what word vectors it has learned through training."
      ]
    },
    {
      "cell_type": "code",
      "metadata": {
        "colab": {
          "base_uri": "https://localhost:8080/"
        },
        "id": "If_gI7C_w7se",
        "outputId": "bd2e28a5-6117-4c1b-c391-f193c3c540ed"
      },
      "source": [
        "model_ug_dmc.most_similar('good')"
      ],
      "execution_count": 28,
      "outputs": [
        {
          "output_type": "stream",
          "text": [
            "/usr/local/lib/python3.6/dist-packages/ipykernel_launcher.py:1: DeprecationWarning: Call to deprecated `most_similar` (Method will be removed in 4.0.0, use self.wv.most_similar() instead).\n",
            "  \"\"\"Entry point for launching an IPython kernel.\n"
          ],
          "name": "stderr"
        },
        {
          "output_type": "execute_result",
          "data": {
            "text/plain": [
              "[('dear', 0.5148715972900391),\n",
              " ('attention', 0.5049057006835938),\n",
              " ('gen', 0.44643864035606384),\n",
              " ('every', 0.4239773154258728),\n",
              " ('helper', 0.4186507761478424),\n",
              " ('termination', 0.41811826825141907),\n",
              " ('nice', 0.41403940320014954),\n",
              " ('rough', 0.4115770757198334),\n",
              " ('analyst', 0.4098779261112213),\n",
              " ('hello', 0.40950220823287964)]"
            ]
          },
          "metadata": {
            "tags": []
          },
          "execution_count": 28
        }
      ]
    },
    {
      "cell_type": "code",
      "metadata": {
        "colab": {
          "base_uri": "https://localhost:8080/"
        },
        "id": "xhbOab8Sw7se",
        "outputId": "2da58fef-afe7-419f-9914-1ba522b9a82b"
      },
      "source": [
        "model_ug_dmc.most_similar('network')"
      ],
      "execution_count": 29,
      "outputs": [
        {
          "output_type": "stream",
          "text": [
            "/usr/local/lib/python3.6/dist-packages/ipykernel_launcher.py:1: DeprecationWarning: Call to deprecated `most_similar` (Method will be removed in 4.0.0, use self.wv.most_similar() instead).\n",
            "  \"\"\"Entry point for launching an IPython kernel.\n"
          ],
          "name": "stderr"
        },
        {
          "output_type": "execute_result",
          "data": {
            "text/plain": [
              "[('inside', 0.44480520486831665),\n",
              " ('passive', 0.43222352862358093),\n",
              " ('paternoster', 0.41477370262145996),\n",
              " ('indexing', 0.4102599620819092),\n",
              " ('dialing', 0.39734983444213867),\n",
              " ('car', 0.39240318536758423),\n",
              " ('defect', 0.3900008499622345),\n",
              " ('ontology', 0.38360410928726196),\n",
              " ('industrial', 0.3833369016647339),\n",
              " ('variable', 0.3831190764904022)]"
            ]
          },
          "metadata": {
            "tags": []
          },
          "execution_count": 29
        }
      ]
    },
    {
      "cell_type": "markdown",
      "metadata": {
        "id": "Ad8omgBTw7se"
      },
      "source": [
        "What's interesting with DMC model is, somehow it learned all the misspelled version of a word as you can see from the above."
      ]
    },
    {
      "cell_type": "code",
      "metadata": {
        "colab": {
          "base_uri": "https://localhost:8080/"
        },
        "id": "5kJJJXnQw7se",
        "outputId": "624e94ba-320f-495c-d914-2cb0698eae74"
      },
      "source": [
        "model_ug_dmc.most_similar('password')"
      ],
      "execution_count": 30,
      "outputs": [
        {
          "output_type": "stream",
          "text": [
            "/usr/local/lib/python3.6/dist-packages/ipykernel_launcher.py:1: DeprecationWarning: Call to deprecated `most_similar` (Method will be removed in 4.0.0, use self.wv.most_similar() instead).\n",
            "  \"\"\"Entry point for launching an IPython kernel.\n"
          ],
          "name": "stderr"
        },
        {
          "output_type": "execute_result",
          "data": {
            "text/plain": [
              "[('reset', 0.49905556440353394),\n",
              " ('bin', 0.4827459454536438),\n",
              " ('random', 0.4753093123435974),\n",
              " ('solely', 0.46808236837387085),\n",
              " ('evil', 0.4546862244606018),\n",
              " ('fae', 0.4541621506214142),\n",
              " ('\\\\', 0.43483591079711914),\n",
              " ('auditor', 0.420340359210968),\n",
              " ('mason', 0.4202093482017517),\n",
              " ('decent', 0.41862374544143677)]"
            ]
          },
          "metadata": {
            "tags": []
          },
          "execution_count": 30
        }
      ]
    },
    {
      "cell_type": "code",
      "metadata": {
        "colab": {
          "base_uri": "https://localhost:8080/"
        },
        "id": "KFrWM9mXw7se",
        "outputId": "271ecd74-e213-466a-9ca1-573c2e602d06"
      },
      "source": [
        "model_ug_dmc.most_similar(positive=['bigger', 'small'], negative=['big'])"
      ],
      "execution_count": 31,
      "outputs": [
        {
          "output_type": "stream",
          "text": [
            "/usr/local/lib/python3.6/dist-packages/ipykernel_launcher.py:1: DeprecationWarning: Call to deprecated `most_similar` (Method will be removed in 4.0.0, use self.wv.most_similar() instead).\n",
            "  \"\"\"Entry point for launching an IPython kernel.\n"
          ],
          "name": "stderr"
        },
        {
          "output_type": "execute_result",
          "data": {
            "text/plain": [
              "[('question', 0.4342536926269531),\n",
              " ('mismatch', 0.41386842727661133),\n",
              " ('impacted', 0.39028024673461914),\n",
              " ('bitter', 0.3862360715866089),\n",
              " ('arc', 0.37878936529159546),\n",
              " ('hot', 0.37869352102279663),\n",
              " ('preserve', 0.3741993308067322),\n",
              " ('coffee', 0.35841649770736694),\n",
              " ('rerun', 0.35810136795043945),\n",
              " ('often', 0.3574002981185913)]"
            ]
          },
          "metadata": {
            "tags": []
          },
          "execution_count": 31
        }
      ]
    },
    {
      "cell_type": "markdown",
      "metadata": {
        "id": "pu7yqJ32w7sf"
      },
      "source": [
        "The model successfully catches the comparative form of \"small\", on feeding the word \"big\" and \"bigger\". The above line of code is like asking the model to add the vectors associated with the word \"bigger\" and \"small\" while subtracting \"big\" is equal to the top result, \"smaller\"."
      ]
    },
    {
      "cell_type": "code",
      "metadata": {
        "id": "aw3_ZlI-w7sf"
      },
      "source": [
        "train_vecs_dmc = get_vectors(model_ug_dmc, x_train, 100)\n",
        "validation_vecs_dmc = get_vectors(model_ug_dmc, x_validation, 100)"
      ],
      "execution_count": 32,
      "outputs": []
    },
    {
      "cell_type": "code",
      "metadata": {
        "colab": {
          "base_uri": "https://localhost:8080/"
        },
        "id": "yApgeG-ow7sf",
        "outputId": "7a074d65-6fa9-4722-b275-944530c8c5f6"
      },
      "source": [
        "clf = LogisticRegression(solver='lbfgs', max_iter=1000, multi_class='multinomial')\n",
        "clf.fit(train_vecs_dmc, y_train)"
      ],
      "execution_count": 33,
      "outputs": [
        {
          "output_type": "execute_result",
          "data": {
            "text/plain": [
              "LogisticRegression(C=1.0, class_weight=None, dual=False, fit_intercept=True,\n",
              "                   intercept_scaling=1, l1_ratio=None, max_iter=1000,\n",
              "                   multi_class='multinomial', n_jobs=None, penalty='l2',\n",
              "                   random_state=None, solver='lbfgs', tol=0.0001, verbose=0,\n",
              "                   warm_start=False)"
            ]
          },
          "metadata": {
            "tags": []
          },
          "execution_count": 33
        }
      ]
    },
    {
      "cell_type": "code",
      "metadata": {
        "colab": {
          "base_uri": "https://localhost:8080/"
        },
        "id": "MJvdmVdxw7sf",
        "outputId": "4cb7f669-a54b-4565-d695-eb5548f78b44"
      },
      "source": [
        "clf.score(validation_vecs_dmc, y_validation)"
      ],
      "execution_count": 34,
      "outputs": [
        {
          "output_type": "execute_result",
          "data": {
            "text/plain": [
              "0.4588235294117647"
            ]
          },
          "metadata": {
            "tags": []
          },
          "execution_count": 34
        }
      ]
    },
    {
      "cell_type": "code",
      "metadata": {
        "id": "PxtfdwkYw7sf"
      },
      "source": [
        "model_ug_dmc.save('drive/MyDrive/grams/d2v_model_ug_dmc.doc2vec')\n",
        "model_ug_dmc = Doc2Vec.load('drive/MyDrive/grams/d2v_model_ug_dmc.doc2vec')\n",
        "model_ug_dmc.delete_temporary_training_data(keep_doctags_vectors=True, keep_inference=True)"
      ],
      "execution_count": 35,
      "outputs": []
    },
    {
      "cell_type": "markdown",
      "metadata": {
        "id": "UcK1h1YUw7sf"
      },
      "source": [
        "## Distributed Memory (mean)"
      ]
    },
    {
      "cell_type": "code",
      "metadata": {
        "colab": {
          "base_uri": "https://localhost:8080/"
        },
        "id": "s60nvTVZw7sg",
        "outputId": "b0468201-0378-4206-a5cf-b20c6643a95e"
      },
      "source": [
        "cores = multiprocessing.cpu_count()\n",
        "model_ug_dmm = Doc2Vec(dm=1, dm_mean=1, size=100, window=4, negative=5, min_count=2, workers=cores, alpha=0.065, min_alpha=0.065)\n",
        "model_ug_dmm.build_vocab([x for x in tqdm(all_x_w2v)])"
      ],
      "execution_count": 36,
      "outputs": [
        {
          "output_type": "stream",
          "text": [
            "/usr/local/lib/python3.6/dist-packages/gensim/models/doc2vec.py:570: UserWarning: The parameter `size` is deprecated, will be removed in 4.0.0, use `vector_size` instead.\n",
            "  warnings.warn(\"The parameter `size` is deprecated, will be removed in 4.0.0, use `vector_size` instead.\")\n",
            "100%|██████████| 8500/8500 [00:00<00:00, 1968721.85it/s]\n"
          ],
          "name": "stderr"
        }
      ]
    },
    {
      "cell_type": "code",
      "metadata": {
        "colab": {
          "base_uri": "https://localhost:8080/"
        },
        "id": "4uOTKS6_w7sg",
        "outputId": "52cfb5e7-2e56-4a82-f38d-cf38b3f7de86"
      },
      "source": [
        "%%time\n",
        "for epoch in range(30):\n",
        "    model_ug_dmm.train(utils.shuffle([x for x in tqdm(all_x_w2v)]), total_examples=len(all_x_w2v), epochs=1)\n",
        "    model_ug_dmm.alpha -= 0.002\n",
        "    model_ug_dmm.min_alpha = model_ug_dmm.alpha"
      ],
      "execution_count": 37,
      "outputs": [
        {
          "output_type": "stream",
          "text": [
            "100%|██████████| 8500/8500 [00:00<00:00, 1877585.00it/s]\n",
            "100%|██████████| 8500/8500 [00:00<00:00, 3020041.00it/s]\n",
            "100%|██████████| 8500/8500 [00:00<00:00, 3356390.89it/s]\n",
            "100%|██████████| 8500/8500 [00:00<00:00, 3044021.86it/s]\n",
            "100%|██████████| 8500/8500 [00:00<00:00, 2987896.75it/s]\n",
            "100%|██████████| 8500/8500 [00:00<00:00, 2552193.00it/s]\n",
            "100%|██████████| 8500/8500 [00:00<00:00, 3067330.64it/s]\n",
            "100%|██████████| 8500/8500 [00:00<00:00, 3096099.35it/s]\n",
            "100%|██████████| 8500/8500 [00:00<00:00, 1658367.48it/s]\n",
            "100%|██████████| 8500/8500 [00:00<00:00, 1796592.62it/s]\n",
            "100%|██████████| 8500/8500 [00:00<00:00, 3260616.79it/s]\n",
            "100%|██████████| 8500/8500 [00:00<00:00, 3219686.08it/s]\n",
            "100%|██████████| 8500/8500 [00:00<00:00, 3246660.96it/s]\n",
            "100%|██████████| 8500/8500 [00:00<00:00, 3263302.88it/s]\n",
            "100%|██████████| 8500/8500 [00:00<00:00, 3243411.94it/s]\n",
            "100%|██████████| 8500/8500 [00:00<00:00, 1954261.03it/s]\n",
            "100%|██████████| 8500/8500 [00:00<00:00, 1872555.49it/s]\n",
            "100%|██████████| 8500/8500 [00:00<00:00, 3144433.23it/s]\n",
            "100%|██████████| 8500/8500 [00:00<00:00, 1794693.38it/s]\n",
            "100%|██████████| 8500/8500 [00:00<00:00, 3004009.44it/s]\n",
            "100%|██████████| 8500/8500 [00:00<00:00, 3064957.36it/s]\n",
            "100%|██████████| 8500/8500 [00:00<00:00, 2532432.45it/s]\n",
            "100%|██████████| 8500/8500 [00:00<00:00, 3280418.11it/s]\n",
            "100%|██████████| 8500/8500 [00:00<00:00, 3468052.92it/s]\n",
            "100%|██████████| 8500/8500 [00:00<00:00, 2124774.06it/s]\n",
            "100%|██████████| 8500/8500 [00:00<00:00, 3275896.72it/s]\n",
            "100%|██████████| 8500/8500 [00:00<00:00, 2651858.38it/s]\n",
            "100%|██████████| 8500/8500 [00:00<00:00, 2824782.82it/s]\n",
            "100%|██████████| 8500/8500 [00:00<00:00, 3091803.31it/s]\n",
            "100%|██████████| 8500/8500 [00:00<00:00, 2740532.25it/s]\n"
          ],
          "name": "stderr"
        },
        {
          "output_type": "stream",
          "text": [
            "CPU times: user 36.3 s, sys: 11.6 s, total: 47.9 s\n",
            "Wall time: 31.1 s\n"
          ],
          "name": "stdout"
        }
      ]
    },
    {
      "cell_type": "code",
      "metadata": {
        "colab": {
          "base_uri": "https://localhost:8080/"
        },
        "id": "JBgIodiSw7sg",
        "outputId": "c84c8589-9078-4f44-e9a9-954bf698224f"
      },
      "source": [
        "model_ug_dmm.most_similar('schedule')"
      ],
      "execution_count": 38,
      "outputs": [
        {
          "output_type": "stream",
          "text": [
            "/usr/local/lib/python3.6/dist-packages/ipykernel_launcher.py:1: DeprecationWarning: Call to deprecated `most_similar` (Method will be removed in 4.0.0, use self.wv.most_similar() instead).\n",
            "  \"\"\"Entry point for launching an IPython kernel.\n"
          ],
          "name": "stderr"
        },
        {
          "output_type": "execute_result",
          "data": {
            "text/plain": [
              "[('job', 0.5794833898544312),\n",
              " ('arc', 0.5400528311729431),\n",
              " ('cold', 0.5025402903556824),\n",
              " ('notch', 0.42934975028038025),\n",
              " ('cluster', 0.4290768504142761),\n",
              " ('disclosure', 0.4102555215358734),\n",
              " ('middle', 0.38398557901382446),\n",
              " ('little', 0.36362823843955994),\n",
              " ('alert', 0.3617080748081207),\n",
              " ('partially', 0.3612569570541382)]"
            ]
          },
          "metadata": {
            "tags": []
          },
          "execution_count": 38
        }
      ]
    },
    {
      "cell_type": "code",
      "metadata": {
        "colab": {
          "base_uri": "https://localhost:8080/"
        },
        "id": "PLEoCYdiw7sg",
        "outputId": "53a7c6a1-e0cb-4c15-86a3-54514cc0f5eb"
      },
      "source": [
        "model_ug_dmc.most_similar('network')"
      ],
      "execution_count": 39,
      "outputs": [
        {
          "output_type": "stream",
          "text": [
            "/usr/local/lib/python3.6/dist-packages/ipykernel_launcher.py:1: DeprecationWarning: Call to deprecated `most_similar` (Method will be removed in 4.0.0, use self.wv.most_similar() instead).\n",
            "  \"\"\"Entry point for launching an IPython kernel.\n"
          ],
          "name": "stderr"
        },
        {
          "output_type": "execute_result",
          "data": {
            "text/plain": [
              "[('inside', 0.44480520486831665),\n",
              " ('passive', 0.43222352862358093),\n",
              " ('paternoster', 0.41477370262145996),\n",
              " ('indexing', 0.4102599620819092),\n",
              " ('dialing', 0.39734983444213867),\n",
              " ('car', 0.39240318536758423),\n",
              " ('defect', 0.3900008499622345),\n",
              " ('ontology', 0.38360410928726196),\n",
              " ('industrial', 0.3833369016647339),\n",
              " ('variable', 0.3831190764904022)]"
            ]
          },
          "metadata": {
            "tags": []
          },
          "execution_count": 39
        }
      ]
    },
    {
      "cell_type": "code",
      "metadata": {
        "id": "9zEy300_w7sg"
      },
      "source": [
        "train_vecs_dmm = get_vectors(model_ug_dmm, x_train, 100)\n",
        "validation_vecs_dmm = get_vectors(model_ug_dmm, x_validation, 100)"
      ],
      "execution_count": 40,
      "outputs": []
    },
    {
      "cell_type": "code",
      "metadata": {
        "colab": {
          "base_uri": "https://localhost:8080/"
        },
        "id": "T9TmHlgXw7sg",
        "outputId": "18e94f06-1018-4ad2-92eb-70263a13fc42"
      },
      "source": [
        "clf = LogisticRegression(solver='lbfgs', max_iter=1000, multi_class='multinomial')\n",
        "clf.fit(train_vecs_dmm, y_train)"
      ],
      "execution_count": 41,
      "outputs": [
        {
          "output_type": "execute_result",
          "data": {
            "text/plain": [
              "LogisticRegression(C=1.0, class_weight=None, dual=False, fit_intercept=True,\n",
              "                   intercept_scaling=1, l1_ratio=None, max_iter=1000,\n",
              "                   multi_class='multinomial', n_jobs=None, penalty='l2',\n",
              "                   random_state=None, solver='lbfgs', tol=0.0001, verbose=0,\n",
              "                   warm_start=False)"
            ]
          },
          "metadata": {
            "tags": []
          },
          "execution_count": 41
        }
      ]
    },
    {
      "cell_type": "code",
      "metadata": {
        "colab": {
          "base_uri": "https://localhost:8080/"
        },
        "id": "0jpITAz9w7sg",
        "outputId": "95573b89-54f0-4b97-d2ac-8d0fe58430a9"
      },
      "source": [
        "clf.score(validation_vecs_dmm, y_validation)"
      ],
      "execution_count": 42,
      "outputs": [
        {
          "output_type": "execute_result",
          "data": {
            "text/plain": [
              "0.5058823529411764"
            ]
          },
          "metadata": {
            "tags": []
          },
          "execution_count": 42
        }
      ]
    },
    {
      "cell_type": "code",
      "metadata": {
        "id": "c1h1xu_rw7sg"
      },
      "source": [
        "model_ug_dmm.save('drive/MyDrive/grams/d2v_model_ug_dmm.doc2vec')\n",
        "model_ug_dmm = Doc2Vec.load('drive/MyDrive/grams/d2v_model_ug_dmm.doc2vec')\n",
        "model_ug_dmm.delete_temporary_training_data(keep_doctags_vectors=True, keep_inference=True)"
      ],
      "execution_count": 43,
      "outputs": []
    },
    {
      "cell_type": "markdown",
      "metadata": {
        "collapsed": true,
        "id": "Smk6tMy1w7sh"
      },
      "source": [
        "Since I have the document vectors from four different models, now I can concatenate them in combination to see how it affects the performance. Below I defined a simple function to concatenate document vectors from different models."
      ]
    },
    {
      "cell_type": "code",
      "metadata": {
        "id": "ZsIAguPKw7sh"
      },
      "source": [
        "def get_concat_vectors(model1,model2, corpus, size):\n",
        "    vecs = np.zeros((len(corpus), size))\n",
        "    n = 0\n",
        "    for i in corpus.index:\n",
        "        prefix = 'all_' + str(i)\n",
        "        vecs[n] = np.append(model1.docvecs[prefix],model2.docvecs[prefix])\n",
        "        n += 1\n",
        "    return vecs"
      ],
      "execution_count": 44,
      "outputs": []
    },
    {
      "cell_type": "code",
      "metadata": {
        "id": "I4E1AOgbw7sh"
      },
      "source": [
        "train_vecs_dbow_dmc = get_concat_vectors(model_ug_dbow,model_ug_dmc, x_train, 200)\n",
        "validation_vecs_dbow_dmc = get_concat_vectors(model_ug_dbow,model_ug_dmc, x_validation, 200)"
      ],
      "execution_count": 45,
      "outputs": []
    },
    {
      "cell_type": "code",
      "metadata": {
        "colab": {
          "base_uri": "https://localhost:8080/"
        },
        "id": "7nBzv4nrw7sh",
        "outputId": "b380ccbf-b93e-44f9-8050-2f7db38f4faa"
      },
      "source": [
        "%%time\n",
        "clf = LogisticRegression(solver='lbfgs', max_iter=1000, multi_class='multinomial')\n",
        "clf.fit(train_vecs_dbow_dmc, y_train)"
      ],
      "execution_count": 46,
      "outputs": [
        {
          "output_type": "stream",
          "text": [
            "CPU times: user 29.9 s, sys: 1min 13s, total: 1min 43s\n",
            "Wall time: 26 s\n"
          ],
          "name": "stdout"
        }
      ]
    },
    {
      "cell_type": "code",
      "metadata": {
        "colab": {
          "base_uri": "https://localhost:8080/"
        },
        "id": "3lQN-r-kw7sh",
        "outputId": "ae96c922-9eaf-4fab-8a9c-72c16978ffcf"
      },
      "source": [
        "clf.score(validation_vecs_dbow_dmc, y_validation)"
      ],
      "execution_count": 47,
      "outputs": [
        {
          "output_type": "execute_result",
          "data": {
            "text/plain": [
              "0.5764705882352941"
            ]
          },
          "metadata": {
            "tags": []
          },
          "execution_count": 47
        }
      ]
    },
    {
      "cell_type": "code",
      "metadata": {
        "id": "NQrEVGGpw7sh"
      },
      "source": [
        "train_vecs_dbow_dmm = get_concat_vectors(model_ug_dbow,model_ug_dmm, x_train, 200)\n",
        "validation_vecs_dbow_dmm = get_concat_vectors(model_ug_dbow,model_ug_dmm, x_validation, 200)"
      ],
      "execution_count": 48,
      "outputs": []
    },
    {
      "cell_type": "code",
      "metadata": {
        "colab": {
          "base_uri": "https://localhost:8080/"
        },
        "id": "PROpitMQw7sh",
        "outputId": "43849c7f-ff38-463e-c5ca-e32be9c6b3f6"
      },
      "source": [
        "%%time\n",
        "clf = LogisticRegression(solver='lbfgs', max_iter=1000, multi_class='multinomial')\n",
        "clf.fit(train_vecs_dbow_dmm, y_train)"
      ],
      "execution_count": 49,
      "outputs": [
        {
          "output_type": "stream",
          "text": [
            "CPU times: user 49.4 s, sys: 1min 59s, total: 2min 48s\n",
            "Wall time: 42.5 s\n"
          ],
          "name": "stdout"
        }
      ]
    },
    {
      "cell_type": "code",
      "metadata": {
        "colab": {
          "base_uri": "https://localhost:8080/"
        },
        "id": "oTychl-ew7sh",
        "outputId": "e1f3504a-7a04-4b1d-c948-ca5780882a41"
      },
      "source": [
        "clf.score(validation_vecs_dbow_dmm, y_validation)"
      ],
      "execution_count": 50,
      "outputs": [
        {
          "output_type": "execute_result",
          "data": {
            "text/plain": [
              "0.6235294117647059"
            ]
          },
          "metadata": {
            "tags": []
          },
          "execution_count": 50
        }
      ]
    },
    {
      "cell_type": "markdown",
      "metadata": {
        "id": "5YQh1kBAw7sh"
      },
      "source": [
        "In case of unigram, concatenating document vectors in different combination boosted the model performance. The best validation accuracy I got from a single model is from DBOW at 73.89%. With concatenated vectors, I get the highest validation accuracy of 75.51% with DBOW+DMM model."
      ]
    },
    {
      "cell_type": "code",
      "metadata": {
        "id": "EaV3HxUzw7si"
      },
      "source": [
        "from gensim.models.phrases import Phrases\r\n",
        "from gensim.models.phrases import Phraser"
      ],
      "execution_count": 51,
      "outputs": []
    },
    {
      "cell_type": "code",
      "metadata": {
        "id": "kS1Wr82vw7si"
      },
      "source": [
        "tokenized_train = [t.split() for t in x_train]"
      ],
      "execution_count": 52,
      "outputs": []
    },
    {
      "cell_type": "code",
      "metadata": {
        "id": "vzu8PTR4w7si",
        "colab": {
          "base_uri": "https://localhost:8080/"
        },
        "outputId": "3bb02f6e-b3b1-4d2b-c78a-bd2789179476"
      },
      "source": [
        "%%time\r\n",
        "phrases = Phrases(tokenized_train)\r\n",
        "bigram = Phraser(phrases)"
      ],
      "execution_count": 53,
      "outputs": [
        {
          "output_type": "stream",
          "text": [
            "CPU times: user 634 ms, sys: 36.8 ms, total: 671 ms\n",
            "Wall time: 617 ms\n"
          ],
          "name": "stdout"
        }
      ]
    },
    {
      "cell_type": "code",
      "metadata": {
        "colab": {
          "base_uri": "https://localhost:8080/"
        },
        "id": "xkOXXq0BjZN6",
        "outputId": "7b320bdd-5e07-47c5-c5f1-d6cd1c8ae068"
      },
      "source": [
        "sent = [u'the', u'mayor', u'of', u'new', u'york', u'was', u'there']\r\n",
        "print(bigram[sent])"
      ],
      "execution_count": 54,
      "outputs": [
        {
          "output_type": "stream",
          "text": [
            "['the', 'mayor', 'of', 'new', 'york', 'was', 'there']\n"
          ],
          "name": "stdout"
        }
      ]
    },
    {
      "cell_type": "code",
      "metadata": {
        "colab": {
          "base_uri": "https://localhost:8080/"
        },
        "id": "DUb0Jt3eFuF_",
        "outputId": "49a1c779-1bc1-4e2e-e9dd-7f56c900f5f6"
      },
      "source": [
        "x_train"
      ],
      "execution_count": 55,
      "outputs": [
        {
          "output_type": "execute_result",
          "data": {
            "text/plain": [
              "4587            we need a for material plant plant thanks\n",
              "1728                                   account locked out\n",
              "6771                                 account locked in ad\n",
              "5292                                              with ie\n",
              "698                                   jpg files encrypted\n",
              "                              ...                        \n",
              "3762            performance for machine summary load list\n",
              "4380                     external not with dell in tablet\n",
              "1590                please give access to all under mu is\n",
              "4045    received from hi below apprentice is unable to...\n",
              "4936                             user this message recall\n",
              "Name: Combined Description Cleaned, Length: 8330, dtype: object"
            ]
          },
          "metadata": {
            "tags": []
          },
          "execution_count": 55
        }
      ]
    },
    {
      "cell_type": "code",
      "metadata": {
        "colab": {
          "base_uri": "https://localhost:8080/",
          "height": 35
        },
        "id": "xaB7_3X_jcbo",
        "outputId": "88333476-9260-425d-c288-8e102f57f103"
      },
      "source": [
        "x_train[10]"
      ],
      "execution_count": 56,
      "outputs": [
        {
          "output_type": "execute_result",
          "data": {
            "application/vnd.google.colaboratory.intrinsic+json": {
              "type": "string"
            },
            "text/plain": [
              "'engineering tool not connected and unable to submit'"
            ]
          },
          "metadata": {
            "tags": []
          },
          "execution_count": 56
        }
      ]
    },
    {
      "cell_type": "code",
      "metadata": {
        "colab": {
          "base_uri": "https://localhost:8080/"
        },
        "id": "J--Wx6pUjfk4",
        "outputId": "61f20b2d-fd0b-4943-bd4e-43fc16d4757b"
      },
      "source": [
        "bigram[x_train[10].split()]"
      ],
      "execution_count": 57,
      "outputs": [
        {
          "output_type": "execute_result",
          "data": {
            "text/plain": [
              "['engineering_tool', 'not', 'connected', 'and', 'unable_to', 'submit']"
            ]
          },
          "metadata": {
            "tags": []
          },
          "execution_count": 57
        }
      ]
    },
    {
      "cell_type": "code",
      "metadata": {
        "id": "zjsac2-TjmKX"
      },
      "source": [
        "def labelize_tickets_bg(tickets,label):\r\n",
        "    result = []\r\n",
        "    prefix = label\r\n",
        "    for i, t in zip(tickets.index, tickets):\r\n",
        "        result.append(LabeledSentence(bigram[t.split()], [prefix + '_%s' % i]))\r\n",
        "    return result"
      ],
      "execution_count": 58,
      "outputs": []
    },
    {
      "cell_type": "code",
      "metadata": {
        "colab": {
          "base_uri": "https://localhost:8080/"
        },
        "id": "yLeq90xTjyao",
        "outputId": "c902661f-b915-49a8-8b35-343e142236e9"
      },
      "source": [
        "all_x = pd.concat([x_train,x_validation,x_test])\r\n",
        "all_x_w2v_bg = labelize_tickets_bg(all_x, 'all')"
      ],
      "execution_count": 59,
      "outputs": [
        {
          "output_type": "stream",
          "text": [
            "/usr/local/lib/python3.6/dist-packages/ipykernel_launcher.py:5: DeprecationWarning: Call to deprecated `LabeledSentence` (Class will be removed in 4.0.0, use TaggedDocument instead).\n",
            "  \"\"\"\n"
          ],
          "name": "stderr"
        }
      ]
    },
    {
      "cell_type": "markdown",
      "metadata": {
        "id": "v1qYpaJ3kDwP"
      },
      "source": [
        "## DBOW Bigram"
      ]
    },
    {
      "cell_type": "code",
      "metadata": {
        "colab": {
          "base_uri": "https://localhost:8080/"
        },
        "id": "N3YxeGMOj1N5",
        "outputId": "0aef6de7-0bfd-40f5-e386-93eac87567f7"
      },
      "source": [
        "cores = multiprocessing.cpu_count()\r\n",
        "model_bg_dbow = Doc2Vec(dm=0, size=100, negative=5, min_count=2, workers=cores, alpha=0.065, min_alpha=0.065)\r\n",
        "model_bg_dbow.build_vocab([x for x in tqdm(all_x_w2v_bg)])"
      ],
      "execution_count": 60,
      "outputs": [
        {
          "output_type": "stream",
          "text": [
            "/usr/local/lib/python3.6/dist-packages/gensim/models/doc2vec.py:570: UserWarning: The parameter `size` is deprecated, will be removed in 4.0.0, use `vector_size` instead.\n",
            "  warnings.warn(\"The parameter `size` is deprecated, will be removed in 4.0.0, use `vector_size` instead.\")\n",
            "100%|██████████| 8500/8500 [00:00<00:00, 1683504.93it/s]\n"
          ],
          "name": "stderr"
        }
      ]
    },
    {
      "cell_type": "code",
      "metadata": {
        "colab": {
          "base_uri": "https://localhost:8080/"
        },
        "id": "ObaeOz4tkGdJ",
        "outputId": "8bc7b3cb-3954-4a6a-abaa-b89bb533a18e"
      },
      "source": [
        "%%time\r\n",
        "for epoch in range(30):\r\n",
        "    model_bg_dbow.train(utils.shuffle([x for x in tqdm(all_x_w2v_bg)]), total_examples=len(all_x_w2v_bg), epochs=1)\r\n",
        "    model_bg_dbow.alpha -= 0.002\r\n",
        "    model_bg_dbow.min_alpha = model_bg_dbow.alpha"
      ],
      "execution_count": 61,
      "outputs": [
        {
          "output_type": "stream",
          "text": [
            "100%|██████████| 8500/8500 [00:00<00:00, 2396584.03it/s]\n",
            "100%|██████████| 8500/8500 [00:00<00:00, 3198598.96it/s]\n",
            "100%|██████████| 8500/8500 [00:00<00:00, 2043187.80it/s]\n",
            "100%|██████████| 8500/8500 [00:00<00:00, 2967750.27it/s]\n",
            "100%|██████████| 8500/8500 [00:00<00:00, 2966515.56it/s]\n",
            "100%|██████████| 8500/8500 [00:00<00:00, 3265993.40it/s]\n",
            "100%|██████████| 8500/8500 [00:00<00:00, 3022601.44it/s]\n",
            "100%|██████████| 8500/8500 [00:00<00:00, 3350712.78it/s]\n",
            "100%|██████████| 8500/8500 [00:00<00:00, 3300155.88it/s]\n",
            "100%|██████████| 8500/8500 [00:00<00:00, 3407721.66it/s]\n",
            "100%|██████████| 8500/8500 [00:00<00:00, 3416211.58it/s]\n",
            "100%|██████████| 8500/8500 [00:00<00:00, 3108788.28it/s]\n",
            "100%|██████████| 8500/8500 [00:00<00:00, 3137515.09it/s]\n",
            "100%|██████████| 8500/8500 [00:00<00:00, 3277402.46it/s]\n",
            "100%|██████████| 8500/8500 [00:00<00:00, 3124591.06it/s]\n",
            "100%|██████████| 8500/8500 [00:00<00:00, 3249324.10it/s]\n",
            "100%|██████████| 8500/8500 [00:00<00:00, 3335976.79it/s]\n",
            "100%|██████████| 8500/8500 [00:00<00:00, 3254069.37it/s]\n",
            "100%|██████████| 8500/8500 [00:00<00:00, 3279512.83it/s]\n",
            "100%|██████████| 8500/8500 [00:00<00:00, 3153612.03it/s]\n",
            "100%|██████████| 8500/8500 [00:00<00:00, 3538970.02it/s]\n",
            "100%|██████████| 8500/8500 [00:00<00:00, 3334416.76it/s]\n",
            "100%|██████████| 8500/8500 [00:00<00:00, 3199460.11it/s]\n",
            "100%|██████████| 8500/8500 [00:00<00:00, 3138896.28it/s]\n",
            "100%|██████████| 8500/8500 [00:00<00:00, 3010350.76it/s]\n",
            "100%|██████████| 8500/8500 [00:00<00:00, 2957410.54it/s]\n",
            "100%|██████████| 8500/8500 [00:00<00:00, 3013913.60it/s]\n",
            "100%|██████████| 8500/8500 [00:00<00:00, 3002238.65it/s]\n",
            "100%|██████████| 8500/8500 [00:00<00:00, 3653200.53it/s]\n",
            "100%|██████████| 8500/8500 [00:00<00:00, 3348824.35it/s]\n"
          ],
          "name": "stderr"
        },
        {
          "output_type": "stream",
          "text": [
            "CPU times: user 16.5 s, sys: 4.55 s, total: 21.1 s\n",
            "Wall time: 14.1 s\n"
          ],
          "name": "stdout"
        }
      ]
    },
    {
      "cell_type": "code",
      "metadata": {
        "id": "hwhJHpK0kI1W"
      },
      "source": [
        "train_vecs_dbow_bg = get_vectors(model_bg_dbow, x_train, 100)\r\n",
        "validation_vecs_dbow_bg = get_vectors(model_bg_dbow, x_validation, 100)"
      ],
      "execution_count": 62,
      "outputs": []
    },
    {
      "cell_type": "code",
      "metadata": {
        "colab": {
          "base_uri": "https://localhost:8080/"
        },
        "id": "sxy33VpjkMUX",
        "outputId": "71ffe594-8acd-498c-8d56-2abd34d125f7"
      },
      "source": [
        "%%time\r\n",
        "clf = LogisticRegression(solver='lbfgs', max_iter=1000, multi_class='multinomial')\r\n",
        "clf.fit(train_vecs_dbow_bg, y_train)"
      ],
      "execution_count": 63,
      "outputs": [
        {
          "output_type": "stream",
          "text": [
            "CPU times: user 22.1 s, sys: 30.4 s, total: 52.5 s\n",
            "Wall time: 13.3 s\n"
          ],
          "name": "stdout"
        }
      ]
    },
    {
      "cell_type": "code",
      "metadata": {
        "colab": {
          "base_uri": "https://localhost:8080/"
        },
        "id": "yPWUs-WPkOYp",
        "outputId": "71a8dca6-c397-471e-e38a-6f7e1f4f31e6"
      },
      "source": [
        "clf.score(validation_vecs_dbow_bg, y_validation)"
      ],
      "execution_count": 64,
      "outputs": [
        {
          "output_type": "execute_result",
          "data": {
            "text/plain": [
              "0.5647058823529412"
            ]
          },
          "metadata": {
            "tags": []
          },
          "execution_count": 64
        }
      ]
    },
    {
      "cell_type": "code",
      "metadata": {
        "id": "kQKjCKJlkRL4"
      },
      "source": [
        "model_bg_dbow.save('drive/MyDrive/grams/d2v_model_bg_dbow.doc2vec')\r\n",
        "model_bg_dbow = Doc2Vec.load('drive/MyDrive/grams/d2v_model_bg_dbow.doc2vec')\r\n",
        "model_bg_dbow.delete_temporary_training_data(keep_doctags_vectors=True, keep_inference=True)"
      ],
      "execution_count": 65,
      "outputs": []
    },
    {
      "cell_type": "markdown",
      "metadata": {
        "id": "kNNlrRQBktF_"
      },
      "source": [
        "### DMC Bigram"
      ]
    },
    {
      "cell_type": "code",
      "metadata": {
        "colab": {
          "base_uri": "https://localhost:8080/"
        },
        "id": "lJhle1tEkoxt",
        "outputId": "996e1df2-bacb-491e-b415-ba90ec7ed6c7"
      },
      "source": [
        "cores = multiprocessing.cpu_count()\r\n",
        "model_bg_dmc = Doc2Vec(dm=1, dm_concat=1, size=100, window=2, negative=5, min_count=2, workers=cores, alpha=0.065, min_alpha=0.065)\r\n",
        "model_bg_dmc.build_vocab([x for x in tqdm(all_x_w2v_bg)])"
      ],
      "execution_count": 66,
      "outputs": [
        {
          "output_type": "stream",
          "text": [
            "/usr/local/lib/python3.6/dist-packages/gensim/models/doc2vec.py:570: UserWarning: The parameter `size` is deprecated, will be removed in 4.0.0, use `vector_size` instead.\n",
            "  warnings.warn(\"The parameter `size` is deprecated, will be removed in 4.0.0, use `vector_size` instead.\")\n",
            "100%|██████████| 8500/8500 [00:00<00:00, 2532792.27it/s]\n"
          ],
          "name": "stderr"
        }
      ]
    },
    {
      "cell_type": "code",
      "metadata": {
        "colab": {
          "base_uri": "https://localhost:8080/"
        },
        "id": "Wd4R31_yky7V",
        "outputId": "be17f749-42f6-443d-ae40-db706a0e01ca"
      },
      "source": [
        "%%time\r\n",
        "for epoch in range(30):\r\n",
        "    model_bg_dmc.train(utils.shuffle([x for x in tqdm(all_x_w2v_bg)]), total_examples=len(all_x_w2v_bg), epochs=1)\r\n",
        "    model_bg_dmc.alpha -= 0.002\r\n",
        "    model_bg_dmc.min_alpha = model_bg_dmc.alpha"
      ],
      "execution_count": 67,
      "outputs": [
        {
          "output_type": "stream",
          "text": [
            "100%|██████████| 8500/8500 [00:00<00:00, 2173479.49it/s]\n",
            "100%|██████████| 8500/8500 [00:00<00:00, 3062061.67it/s]\n",
            "100%|██████████| 8500/8500 [00:00<00:00, 2797299.65it/s]\n",
            "100%|██████████| 8500/8500 [00:00<00:00, 3037796.86it/s]\n",
            "100%|██████████| 8500/8500 [00:00<00:00, 3032628.79it/s]\n",
            "100%|██████████| 8500/8500 [00:00<00:00, 2548544.14it/s]\n",
            "100%|██████████| 8500/8500 [00:00<00:00, 2990653.80it/s]\n",
            "100%|██████████| 8500/8500 [00:00<00:00, 2467920.81it/s]\n",
            "100%|██████████| 8500/8500 [00:00<00:00, 2286823.86it/s]\n",
            "100%|██████████| 8500/8500 [00:00<00:00, 2984145.31it/s]\n",
            "100%|██████████| 8500/8500 [00:00<00:00, 2904169.44it/s]\n",
            "100%|██████████| 8500/8500 [00:00<00:00, 3004768.98it/s]\n",
            "100%|██████████| 8500/8500 [00:00<00:00, 3158921.14it/s]\n",
            "100%|██████████| 8500/8500 [00:00<00:00, 2082452.34it/s]\n",
            "100%|██████████| 8500/8500 [00:00<00:00, 2928502.05it/s]\n",
            "100%|██████████| 8500/8500 [00:00<00:00, 3147209.04it/s]\n",
            "100%|██████████| 8500/8500 [00:00<00:00, 3036244.59it/s]\n",
            "100%|██████████| 8500/8500 [00:00<00:00, 3308424.65it/s]\n",
            "100%|██████████| 8500/8500 [00:00<00:00, 3233703.76it/s]\n",
            "100%|██████████| 8500/8500 [00:00<00:00, 3172131.33it/s]\n",
            "100%|██████████| 8500/8500 [00:00<00:00, 3217651.99it/s]\n",
            "100%|██████████| 8500/8500 [00:00<00:00, 2901805.63it/s]\n",
            "100%|██████████| 8500/8500 [00:00<00:00, 2957655.88it/s]\n",
            "100%|██████████| 8500/8500 [00:00<00:00, 3107975.24it/s]\n",
            "100%|██████████| 8500/8500 [00:00<00:00, 2841216.45it/s]\n",
            "100%|██████████| 8500/8500 [00:00<00:00, 3314576.42it/s]\n",
            "100%|██████████| 8500/8500 [00:00<00:00, 3268688.37it/s]\n",
            "100%|██████████| 8500/8500 [00:00<00:00, 3004515.76it/s]\n",
            "100%|██████████| 8500/8500 [00:00<00:00, 3031597.28it/s]\n",
            "100%|██████████| 8500/8500 [00:00<00:00, 3245183.32it/s]\n"
          ],
          "name": "stderr"
        },
        {
          "output_type": "stream",
          "text": [
            "CPU times: user 22.3 s, sys: 4.61 s, total: 26.9 s\n",
            "Wall time: 15.3 s\n"
          ],
          "name": "stdout"
        }
      ]
    },
    {
      "cell_type": "code",
      "metadata": {
        "colab": {
          "base_uri": "https://localhost:8080/"
        },
        "id": "pdlwD36Ik1KY",
        "outputId": "bf02bcf9-f661-4954-fc85-78c36bed056e"
      },
      "source": [
        "model_bg_dmc.most_similar('schedule')"
      ],
      "execution_count": 68,
      "outputs": [
        {
          "output_type": "stream",
          "text": [
            "/usr/local/lib/python3.6/dist-packages/ipykernel_launcher.py:1: DeprecationWarning: Call to deprecated `most_similar` (Method will be removed in 4.0.0, use self.wv.most_similar() instead).\n",
            "  \"\"\"Entry point for launching an IPython kernel.\n"
          ],
          "name": "stderr"
        },
        {
          "output_type": "execute_result",
          "data": {
            "text/plain": [
              "[('cold', 0.5654117465019226),\n",
              " ('job_schedule', 0.5536006093025208),\n",
              " ('job', 0.5521701574325562),\n",
              " ('bend', 0.5483443737030029),\n",
              " ('your_organization', 0.547114372253418),\n",
              " ('hand_way', 0.5464956760406494),\n",
              " ('flight', 0.5332556962966919),\n",
              " ('assembly', 0.5328861474990845),\n",
              " ('status_bar', 0.5242373943328857),\n",
              " ('corresponding_back', 0.5221649408340454)]"
            ]
          },
          "metadata": {
            "tags": []
          },
          "execution_count": 68
        }
      ]
    },
    {
      "cell_type": "code",
      "metadata": {
        "id": "FvMWiK7lk33m"
      },
      "source": [
        "train_vecs_dmc_bg = get_vectors(model_bg_dmc, x_train, 100)\r\n",
        "validation_vecs_dmc_bg = get_vectors(model_bg_dmc, x_validation, 100)"
      ],
      "execution_count": 69,
      "outputs": []
    },
    {
      "cell_type": "code",
      "metadata": {
        "colab": {
          "base_uri": "https://localhost:8080/"
        },
        "id": "x1ho-yKuk-Xp",
        "outputId": "3dcce8a7-7c89-42b6-bd25-efc7c4575902"
      },
      "source": [
        "%%time\r\n",
        "clf = LogisticRegression(solver='lbfgs', max_iter=1000, multi_class='multinomial')\r\n",
        "clf.fit(train_vecs_dmc_bg, y_train)"
      ],
      "execution_count": 70,
      "outputs": [
        {
          "output_type": "stream",
          "text": [
            "CPU times: user 9 s, sys: 12.7 s, total: 21.7 s\n",
            "Wall time: 5.49 s\n"
          ],
          "name": "stdout"
        }
      ]
    },
    {
      "cell_type": "code",
      "metadata": {
        "colab": {
          "base_uri": "https://localhost:8080/"
        },
        "id": "TzlSvJOtlDSo",
        "outputId": "3ea738e9-c5c3-46a7-a49d-d7c883e02520"
      },
      "source": [
        "clf.score(validation_vecs_dmc_bg, y_validation)"
      ],
      "execution_count": 71,
      "outputs": [
        {
          "output_type": "execute_result",
          "data": {
            "text/plain": [
              "0.4588235294117647"
            ]
          },
          "metadata": {
            "tags": []
          },
          "execution_count": 71
        }
      ]
    },
    {
      "cell_type": "code",
      "metadata": {
        "id": "kJgiXjyhlKeZ"
      },
      "source": [
        "model_bg_dmc.save('drive/MyDrive/grams/d2v_model_bg_dmc.doc2vec')\r\n",
        "model_bg_dmc = Doc2Vec.load('drive/MyDrive/grams/d2v_model_bg_dmc.doc2vec')\r\n",
        "model_bg_dmc.delete_temporary_training_data(keep_doctags_vectors=True, keep_inference=True)"
      ],
      "execution_count": 72,
      "outputs": []
    },
    {
      "cell_type": "markdown",
      "metadata": {
        "id": "BTVevtLFlWX2"
      },
      "source": [
        "## DMM Bigram"
      ]
    },
    {
      "cell_type": "code",
      "metadata": {
        "colab": {
          "base_uri": "https://localhost:8080/"
        },
        "id": "G6nPiyNFlX1R",
        "outputId": "91d6885c-87a1-4f1d-bcf5-1de0287a68c3"
      },
      "source": [
        "cores = multiprocessing.cpu_count()\r\n",
        "model_bg_dmm = Doc2Vec(dm=1, dm_mean=1, size=100, window=4, negative=5, min_count=2, workers=cores, alpha=0.065, min_alpha=0.065)\r\n",
        "model_bg_dmm.build_vocab([x for x in tqdm(all_x_w2v_bg)])"
      ],
      "execution_count": 73,
      "outputs": [
        {
          "output_type": "stream",
          "text": [
            "/usr/local/lib/python3.6/dist-packages/gensim/models/doc2vec.py:570: UserWarning: The parameter `size` is deprecated, will be removed in 4.0.0, use `vector_size` instead.\n",
            "  warnings.warn(\"The parameter `size` is deprecated, will be removed in 4.0.0, use `vector_size` instead.\")\n",
            "100%|██████████| 8500/8500 [00:00<00:00, 2468604.35it/s]\n"
          ],
          "name": "stderr"
        }
      ]
    },
    {
      "cell_type": "code",
      "metadata": {
        "colab": {
          "base_uri": "https://localhost:8080/"
        },
        "id": "_bh9CxDOlZyX",
        "outputId": "903683a5-59c8-4160-f3cc-22e148eac7d0"
      },
      "source": [
        "%%time\r\n",
        "for epoch in range(30):\r\n",
        "    model_bg_dmm.train(utils.shuffle([x for x in tqdm(all_x_w2v_bg)]), total_examples=len(all_x_w2v_bg), epochs=1)\r\n",
        "    model_bg_dmm.alpha -= 0.002\r\n",
        "    model_bg_dmm.min_alpha = model_bg_dmm.alpha"
      ],
      "execution_count": 74,
      "outputs": [
        {
          "output_type": "stream",
          "text": [
            "100%|██████████| 8500/8500 [00:00<00:00, 1930451.81it/s]\n",
            "100%|██████████| 8500/8500 [00:00<00:00, 3099868.19it/s]\n",
            "100%|██████████| 8500/8500 [00:00<00:00, 3054192.07it/s]\n",
            "100%|██████████| 8500/8500 [00:00<00:00, 3161722.60it/s]\n",
            "100%|██████████| 8500/8500 [00:00<00:00, 3152775.38it/s]\n",
            "100%|██████████| 8500/8500 [00:00<00:00, 3069443.31it/s]\n",
            "100%|██████████| 8500/8500 [00:00<00:00, 2316090.69it/s]\n",
            "100%|██████████| 8500/8500 [00:00<00:00, 3373222.06it/s]\n",
            "100%|██████████| 8500/8500 [00:00<00:00, 3118850.84it/s]\n",
            "100%|██████████| 8500/8500 [00:00<00:00, 3170720.74it/s]\n",
            "100%|██████████| 8500/8500 [00:00<00:00, 3584154.42it/s]\n",
            "100%|██████████| 8500/8500 [00:00<00:00, 3327569.91it/s]\n",
            "100%|██████████| 8500/8500 [00:00<00:00, 3109330.54it/s]\n",
            "100%|██████████| 8500/8500 [00:00<00:00, 3662959.42it/s]\n",
            "100%|██████████| 8500/8500 [00:00<00:00, 2484777.25it/s]\n",
            "100%|██████████| 8500/8500 [00:00<00:00, 2904406.03it/s]\n",
            "100%|██████████| 8500/8500 [00:00<00:00, 3442269.38it/s]\n",
            "100%|██████████| 8500/8500 [00:00<00:00, 3217361.61it/s]\n",
            "100%|██████████| 8500/8500 [00:00<00:00, 2330778.24it/s]\n",
            "100%|██████████| 8500/8500 [00:00<00:00, 3069707.59it/s]\n",
            "100%|██████████| 8500/8500 [00:00<00:00, 3409351.06it/s]\n",
            "100%|██████████| 8500/8500 [00:00<00:00, 2554753.42it/s]\n",
            "100%|██████████| 8500/8500 [00:00<00:00, 2936461.91it/s]\n",
            "100%|██████████| 8500/8500 [00:00<00:00, 3058646.53it/s]\n",
            "100%|██████████| 8500/8500 [00:00<00:00, 3061798.69it/s]\n",
            "100%|██████████| 8500/8500 [00:00<00:00, 3188586.35it/s]\n",
            "100%|██████████| 8500/8500 [00:00<00:00, 2211911.16it/s]\n",
            "100%|██████████| 8500/8500 [00:00<00:00, 3085648.61it/s]\n",
            "100%|██████████| 8500/8500 [00:00<00:00, 3416538.96it/s]\n",
            "100%|██████████| 8500/8500 [00:00<00:00, 3434972.93it/s]\n"
          ],
          "name": "stderr"
        },
        {
          "output_type": "stream",
          "text": [
            "CPU times: user 34.8 s, sys: 14.1 s, total: 48.9 s\n",
            "Wall time: 31.9 s\n"
          ],
          "name": "stdout"
        }
      ]
    },
    {
      "cell_type": "code",
      "metadata": {
        "id": "bB6SQS7JlcJI"
      },
      "source": [
        "train_vecs_dmm_bg = get_vectors(model_bg_dmm, x_train, 100)\r\n",
        "validation_vecs_dmm_bg = get_vectors(model_bg_dmm, x_validation, 100)"
      ],
      "execution_count": 75,
      "outputs": []
    },
    {
      "cell_type": "code",
      "metadata": {
        "colab": {
          "base_uri": "https://localhost:8080/"
        },
        "id": "xPanuFWyluVX",
        "outputId": "8af52abd-1fc9-47a9-de5c-3d5e1052928a"
      },
      "source": [
        "%%time\r\n",
        "clf = LogisticRegression(solver='lbfgs', max_iter=1000, multi_class='multinomial')\r\n",
        "clf.fit(train_vecs_dmm_bg, y_train)"
      ],
      "execution_count": 76,
      "outputs": [
        {
          "output_type": "stream",
          "text": [
            "CPU times: user 23.6 s, sys: 34.4 s, total: 58 s\n",
            "Wall time: 14.6 s\n"
          ],
          "name": "stdout"
        }
      ]
    },
    {
      "cell_type": "code",
      "metadata": {
        "colab": {
          "base_uri": "https://localhost:8080/"
        },
        "id": "sn2aw51mlyc4",
        "outputId": "2baf380d-273b-4de4-f491-c15ec88aaf0d"
      },
      "source": [
        "clf.score(validation_vecs_dmm_bg, y_validation)"
      ],
      "execution_count": 77,
      "outputs": [
        {
          "output_type": "execute_result",
          "data": {
            "text/plain": [
              "0.5058823529411764"
            ]
          },
          "metadata": {
            "tags": []
          },
          "execution_count": 77
        }
      ]
    },
    {
      "cell_type": "code",
      "metadata": {
        "id": "C8fwZfBIl0fX"
      },
      "source": [
        "model_bg_dmm.save('drive/MyDrive/grams/d2v_model_bg_dmm.doc2vec')\r\n",
        "model_bg_dmm = Doc2Vec.load('drive/MyDrive/grams/d2v_model_bg_dmm.doc2vec')\r\n",
        "model_bg_dmm.delete_temporary_training_data(keep_doctags_vectors=True, keep_inference=True)"
      ],
      "execution_count": 78,
      "outputs": []
    },
    {
      "cell_type": "code",
      "metadata": {
        "id": "zRd6mq4Nl6TY"
      },
      "source": [
        "train_vecs_dbow_dmc_bg = get_concat_vectors(model_bg_dbow,model_bg_dmc, x_train, 200)\r\n",
        "validation_vecs_dbow_dmc_bg = get_concat_vectors(model_bg_dbow,model_bg_dmc, x_validation, 200)"
      ],
      "execution_count": 79,
      "outputs": []
    },
    {
      "cell_type": "code",
      "metadata": {
        "colab": {
          "base_uri": "https://localhost:8080/"
        },
        "id": "BygQH9D3l8_H",
        "outputId": "e0a0509a-8e67-48ca-f8e5-76e81b0d27a6"
      },
      "source": [
        "%%time\r\n",
        "clf = LogisticRegression(solver='lbfgs', max_iter=1000, multi_class='multinomial')\r\n",
        "clf.fit(train_vecs_dbow_dmc_bg, y_train)"
      ],
      "execution_count": 80,
      "outputs": [
        {
          "output_type": "stream",
          "text": [
            "CPU times: user 30.2 s, sys: 1min 10s, total: 1min 40s\n",
            "Wall time: 25.4 s\n"
          ],
          "name": "stdout"
        }
      ]
    },
    {
      "cell_type": "code",
      "metadata": {
        "colab": {
          "base_uri": "https://localhost:8080/"
        },
        "id": "Gww1wzvemBWZ",
        "outputId": "368a2c60-d0e4-4034-ab5a-cce9db171d5f"
      },
      "source": [
        "clf.score(validation_vecs_dbow_dmc_bg, y_validation)"
      ],
      "execution_count": 81,
      "outputs": [
        {
          "output_type": "execute_result",
          "data": {
            "text/plain": [
              "0.6"
            ]
          },
          "metadata": {
            "tags": []
          },
          "execution_count": 81
        }
      ]
    },
    {
      "cell_type": "code",
      "metadata": {
        "id": "HqURTlajmHTI"
      },
      "source": [
        "train_vecs_dbow_dmm_bg = get_concat_vectors(model_bg_dbow,model_bg_dmm, x_train, 200)\r\n",
        "validation_vecs_dbow_dmm_bg = get_concat_vectors(model_bg_dbow,model_bg_dmm, x_validation, 200)"
      ],
      "execution_count": 82,
      "outputs": []
    },
    {
      "cell_type": "code",
      "metadata": {
        "colab": {
          "base_uri": "https://localhost:8080/"
        },
        "id": "PknQ80qhmJJW",
        "outputId": "e5155813-1d34-4667-da8e-ba0a62ebd65d"
      },
      "source": [
        "%%time\r\n",
        "clf = LogisticRegression(solver='lbfgs', max_iter=1000, multi_class='multinomial')\r\n",
        "clf.fit(train_vecs_dbow_dmm_bg, y_train)"
      ],
      "execution_count": 83,
      "outputs": [
        {
          "output_type": "stream",
          "text": [
            "CPU times: user 43.6 s, sys: 1min 32s, total: 2min 16s\n",
            "Wall time: 34.4 s\n"
          ],
          "name": "stdout"
        }
      ]
    },
    {
      "cell_type": "code",
      "metadata": {
        "colab": {
          "base_uri": "https://localhost:8080/"
        },
        "id": "S6EQQ3qUmK93",
        "outputId": "9f454beb-a9aa-4052-aee6-1a64911c53fe"
      },
      "source": [
        "clf.score(validation_vecs_dbow_dmm_bg, y_validation)"
      ],
      "execution_count": 84,
      "outputs": [
        {
          "output_type": "execute_result",
          "data": {
            "text/plain": [
              "0.6"
            ]
          },
          "metadata": {
            "tags": []
          },
          "execution_count": 84
        }
      ]
    },
    {
      "cell_type": "markdown",
      "metadata": {
        "id": "FcS4tHVYmY9p"
      },
      "source": [
        "## Trigram"
      ]
    },
    {
      "cell_type": "code",
      "metadata": {
        "colab": {
          "base_uri": "https://localhost:8080/"
        },
        "id": "RqcJqFVemQej",
        "outputId": "d717a1c9-0df3-4917-9492-a056672612dc"
      },
      "source": [
        "%%time\r\n",
        "tg_phrases = Phrases(bigram[tokenized_train])\r\n",
        "trigram = Phraser(tg_phrases)"
      ],
      "execution_count": 85,
      "outputs": [
        {
          "output_type": "stream",
          "text": [
            "CPU times: user 1.09 s, sys: 343 ms, total: 1.44 s\n",
            "Wall time: 1.08 s\n"
          ],
          "name": "stdout"
        }
      ]
    },
    {
      "cell_type": "code",
      "metadata": {
        "colab": {
          "base_uri": "https://localhost:8080/"
        },
        "id": "2xc0vu1xmVAJ",
        "outputId": "7a8f2639-0e52-498d-989e-67be84a35be9"
      },
      "source": [
        "trigram[bigram[x_train[10].split()]]"
      ],
      "execution_count": 86,
      "outputs": [
        {
          "output_type": "execute_result",
          "data": {
            "text/plain": [
              "['engineering_tool', 'not', 'connected', 'and', 'unable_to_submit']"
            ]
          },
          "metadata": {
            "tags": []
          },
          "execution_count": 86
        }
      ]
    },
    {
      "cell_type": "markdown",
      "metadata": {
        "id": "EnOufayemi3X"
      },
      "source": [
        "## Below Doc2Vec implementation is again same as unigram or bigram."
      ]
    },
    {
      "cell_type": "code",
      "metadata": {
        "id": "RnwMYQYdmhPj"
      },
      "source": [
        "def labelize_tickets_tg(tickets,label):\r\n",
        "    result = []\r\n",
        "    prefix = label\r\n",
        "    for i, t in zip(tickets.index, tickets):\r\n",
        "        result.append(LabeledSentence(trigram[bigram[t.split()]], [prefix + '_%s' % i]))\r\n",
        "    return result"
      ],
      "execution_count": 87,
      "outputs": []
    },
    {
      "cell_type": "code",
      "metadata": {
        "colab": {
          "base_uri": "https://localhost:8080/"
        },
        "id": "MhlaOuslmcy4",
        "outputId": "354b3631-0604-44a6-f883-e0841b994115"
      },
      "source": [
        "all_x = pd.concat([x_train,x_validation,x_test])\r\n",
        "all_x_w2v_tg = labelize_tickets_tg(all_x, 'all')"
      ],
      "execution_count": 88,
      "outputs": [
        {
          "output_type": "stream",
          "text": [
            "/usr/local/lib/python3.6/dist-packages/ipykernel_launcher.py:5: DeprecationWarning: Call to deprecated `LabeledSentence` (Class will be removed in 4.0.0, use TaggedDocument instead).\n",
            "  \"\"\"\n"
          ],
          "name": "stderr"
        }
      ]
    },
    {
      "cell_type": "markdown",
      "metadata": {
        "id": "cOKmXMcNmz1v"
      },
      "source": [
        "## DBOW Trigram"
      ]
    },
    {
      "cell_type": "code",
      "metadata": {
        "colab": {
          "base_uri": "https://localhost:8080/"
        },
        "id": "Xqp9Zq4Kmuo9",
        "outputId": "2a688fa4-64b5-4e9c-d00a-5f64af176eb0"
      },
      "source": [
        "model_tg_dbow = Doc2Vec(dm=0, size=100, negative=5, min_count=2, workers=cores, alpha=0.065, min_alpha=0.065)\r\n",
        "model_tg_dbow.build_vocab([x for x in tqdm(all_x_w2v_tg)])"
      ],
      "execution_count": 89,
      "outputs": [
        {
          "output_type": "stream",
          "text": [
            "/usr/local/lib/python3.6/dist-packages/gensim/models/doc2vec.py:570: UserWarning: The parameter `size` is deprecated, will be removed in 4.0.0, use `vector_size` instead.\n",
            "  warnings.warn(\"The parameter `size` is deprecated, will be removed in 4.0.0, use `vector_size` instead.\")\n",
            "100%|██████████| 8500/8500 [00:00<00:00, 2365104.42it/s]\n"
          ],
          "name": "stderr"
        }
      ]
    },
    {
      "cell_type": "code",
      "metadata": {
        "colab": {
          "base_uri": "https://localhost:8080/"
        },
        "id": "lgC6Qt2xm2eo",
        "outputId": "afb77d5a-5562-4772-b518-17f0c76d56b8"
      },
      "source": [
        "%%time\r\n",
        "for epoch in range(30):\r\n",
        "    model_tg_dbow.train(utils.shuffle([x for x in tqdm(all_x_w2v_tg)]), total_examples=len(all_x_w2v_tg), epochs=1)\r\n",
        "    model_tg_dbow.alpha -= 0.002\r\n",
        "    model_tg_dbow.min_alpha = model_tg_dbow.alpha"
      ],
      "execution_count": 90,
      "outputs": [
        {
          "output_type": "stream",
          "text": [
            "100%|██████████| 8500/8500 [00:00<00:00, 1514253.48it/s]\n",
            "100%|██████████| 8500/8500 [00:00<00:00, 2892858.16it/s]\n",
            "100%|██████████| 8500/8500 [00:00<00:00, 3047664.90it/s]\n",
            "100%|██████████| 8500/8500 [00:00<00:00, 2986144.90it/s]\n",
            "100%|██████████| 8500/8500 [00:00<00:00, 2762831.99it/s]\n",
            "100%|██████████| 8500/8500 [00:00<00:00, 2676143.52it/s]\n",
            "100%|██████████| 8500/8500 [00:00<00:00, 3152775.38it/s]\n",
            "100%|██████████| 8500/8500 [00:00<00:00, 3170720.74it/s]\n",
            "100%|██████████| 8500/8500 [00:00<00:00, 3042463.22it/s]\n",
            "100%|██████████| 8500/8500 [00:00<00:00, 2324395.88it/s]\n",
            "100%|██████████| 8500/8500 [00:00<00:00, 2535494.20it/s]\n",
            "100%|██████████| 8500/8500 [00:00<00:00, 3158361.45it/s]\n",
            "100%|██████████| 8500/8500 [00:00<00:00, 3401868.70it/s]\n",
            "100%|██████████| 8500/8500 [00:00<00:00, 3385715.48it/s]\n",
            "100%|██████████| 8500/8500 [00:00<00:00, 3185452.47it/s]\n",
            "100%|██████████| 8500/8500 [00:00<00:00, 3262108.52it/s]\n",
            "100%|██████████| 8500/8500 [00:00<00:00, 3110415.63it/s]\n",
            "100%|██████████| 8500/8500 [00:00<00:00, 3334104.93it/s]\n",
            "100%|██████████| 8500/8500 [00:00<00:00, 3098521.12it/s]\n",
            "100%|██████████| 8500/8500 [00:00<00:00, 2949092.89it/s]\n",
            "100%|██████████| 8500/8500 [00:00<00:00, 3278608.06it/s]\n",
            "100%|██████████| 8500/8500 [00:00<00:00, 3097444.31it/s]\n",
            "100%|██████████| 8500/8500 [00:00<00:00, 3553432.07it/s]\n",
            "100%|██████████| 8500/8500 [00:00<00:00, 2884899.17it/s]\n",
            "100%|██████████| 8500/8500 [00:00<00:00, 3428036.92it/s]\n",
            "100%|██████████| 8500/8500 [00:00<00:00, 2953490.51it/s]\n",
            "100%|██████████| 8500/8500 [00:00<00:00, 2720871.86it/s]\n",
            "100%|██████████| 8500/8500 [00:00<00:00, 3240758.48it/s]\n",
            "100%|██████████| 8500/8500 [00:00<00:00, 2178925.80it/s]\n",
            "100%|██████████| 8500/8500 [00:00<00:00, 3200321.72it/s]\n"
          ],
          "name": "stderr"
        },
        {
          "output_type": "stream",
          "text": [
            "CPU times: user 16.9 s, sys: 4.81 s, total: 21.7 s\n",
            "Wall time: 14.2 s\n"
          ],
          "name": "stdout"
        }
      ]
    },
    {
      "cell_type": "code",
      "metadata": {
        "id": "nKb0Nwx2m42Y"
      },
      "source": [
        "train_vecs_dbow_tg = get_vectors(model_tg_dbow, x_train, 100)\r\n",
        "validation_vecs_dbow_tg = get_vectors(model_tg_dbow, x_validation, 100)"
      ],
      "execution_count": 91,
      "outputs": []
    },
    {
      "cell_type": "code",
      "metadata": {
        "colab": {
          "base_uri": "https://localhost:8080/"
        },
        "id": "bjW4LHXgm7F5",
        "outputId": "b4e64167-1226-4ff2-8e2d-43b9a3ac27ec"
      },
      "source": [
        "%%time\r\n",
        "clf = LogisticRegression(solver='lbfgs', max_iter=1000, multi_class='multinomial')\r\n",
        "clf.fit(train_vecs_dbow_tg, y_train)"
      ],
      "execution_count": 92,
      "outputs": [
        {
          "output_type": "stream",
          "text": [
            "CPU times: user 21.2 s, sys: 29.6 s, total: 50.8 s\n",
            "Wall time: 12.8 s\n"
          ],
          "name": "stdout"
        }
      ]
    },
    {
      "cell_type": "code",
      "metadata": {
        "colab": {
          "base_uri": "https://localhost:8080/"
        },
        "id": "w8Zkuuk7nBC2",
        "outputId": "2493c36d-f1c9-4f19-ae42-aa0785b713f9"
      },
      "source": [
        "clf.score(validation_vecs_dbow_tg, y_validation)"
      ],
      "execution_count": 93,
      "outputs": [
        {
          "output_type": "execute_result",
          "data": {
            "text/plain": [
              "0.5764705882352941"
            ]
          },
          "metadata": {
            "tags": []
          },
          "execution_count": 93
        }
      ]
    },
    {
      "cell_type": "code",
      "metadata": {
        "id": "Cs2BInfQnC7I"
      },
      "source": [
        "model_tg_dbow.save('drive/MyDrive/grams/d2v_model_tg_dbow.doc2vec')\r\n",
        "model_tg_dbow = Doc2Vec.load('drive/MyDrive/grams/d2v_model_tg_dbow.doc2vec')\r\n",
        "model_tg_dbow.delete_temporary_training_data(keep_doctags_vectors=True, keep_inference=True)"
      ],
      "execution_count": 94,
      "outputs": []
    },
    {
      "cell_type": "markdown",
      "metadata": {
        "id": "CYChYp5fnPnF"
      },
      "source": [
        "## DMC Trig"
      ]
    },
    {
      "cell_type": "code",
      "metadata": {
        "colab": {
          "base_uri": "https://localhost:8080/"
        },
        "id": "4tXv7zvrnJi4",
        "outputId": "226c5b7e-8c4e-4e05-a11d-3b4e6cb3998a"
      },
      "source": [
        "cores = multiprocessing.cpu_count()\r\n",
        "model_tg_dmc = Doc2Vec(dm=1, dm_concat=1, size=100, window=2, negative=5, min_count=2, workers=cores, alpha=0.065, min_alpha=0.065)\r\n",
        "model_tg_dmc.build_vocab([x for x in tqdm(all_x_w2v_tg)])"
      ],
      "execution_count": 95,
      "outputs": [
        {
          "output_type": "stream",
          "text": [
            "/usr/local/lib/python3.6/dist-packages/gensim/models/doc2vec.py:570: UserWarning: The parameter `size` is deprecated, will be removed in 4.0.0, use `vector_size` instead.\n",
            "  warnings.warn(\"The parameter `size` is deprecated, will be removed in 4.0.0, use `vector_size` instead.\")\n",
            "100%|██████████| 8500/8500 [00:00<00:00, 2305009.63it/s]\n"
          ],
          "name": "stderr"
        }
      ]
    },
    {
      "cell_type": "code",
      "metadata": {
        "colab": {
          "base_uri": "https://localhost:8080/"
        },
        "id": "vTJc_kNqnSMH",
        "outputId": "5c0f5e2b-5252-4ec9-a0f9-5059a54f497d"
      },
      "source": [
        "%%time\r\n",
        "for epoch in range(30):\r\n",
        "    model_tg_dmc.train(utils.shuffle([x for x in tqdm(all_x_w2v_tg)]), total_examples=len(all_x_w2v_tg), epochs=1)\r\n",
        "    model_tg_dmc.alpha -= 0.002\r\n",
        "    model_tg_dmc.min_alpha = model_tg_dmc.alpha"
      ],
      "execution_count": 96,
      "outputs": [
        {
          "output_type": "stream",
          "text": [
            "100%|██████████| 8500/8500 [00:00<00:00, 2579522.76it/s]\n",
            "100%|██████████| 8500/8500 [00:00<00:00, 3021576.74it/s]\n",
            "100%|██████████| 8500/8500 [00:00<00:00, 3253475.45it/s]\n",
            "100%|██████████| 8500/8500 [00:00<00:00, 2767550.38it/s]\n",
            "100%|██████████| 8500/8500 [00:00<00:00, 3226679.70it/s]\n",
            "100%|██████████| 8500/8500 [00:00<00:00, 2956184.41it/s]\n",
            "100%|██████████| 8500/8500 [00:00<00:00, 2937913.80it/s]\n",
            "100%|██████████| 8500/8500 [00:00<00:00, 2983645.83it/s]\n",
            "100%|██████████| 8500/8500 [00:00<00:00, 2992662.13it/s]\n",
            "100%|██████████| 8500/8500 [00:00<00:00, 3181756.72it/s]\n",
            "100%|██████████| 8500/8500 [00:00<00:00, 3009842.47it/s]\n",
            "100%|██████████| 8500/8500 [00:00<00:00, 3141939.19it/s]\n",
            "100%|██████████| 8500/8500 [00:00<00:00, 2943249.73it/s]\n",
            "100%|██████████| 8500/8500 [00:00<00:00, 3189442.12it/s]\n",
            "100%|██████████| 8500/8500 [00:00<00:00, 2950801.52it/s]\n",
            "100%|██████████| 8500/8500 [00:00<00:00, 2880703.30it/s]\n",
            "100%|██████████| 8500/8500 [00:00<00:00, 3019785.19it/s]\n",
            "100%|██████████| 8500/8500 [00:00<00:00, 2937429.68it/s]\n",
            "100%|██████████| 8500/8500 [00:00<00:00, 3267789.55it/s]\n",
            "100%|██████████| 8500/8500 [00:00<00:00, 3199173.01it/s]\n",
            "100%|██████████| 8500/8500 [00:00<00:00, 3173825.69it/s]\n",
            "100%|██████████| 8500/8500 [00:00<00:00, 3153891.01it/s]\n",
            "100%|██████████| 8500/8500 [00:00<00:00, 3107704.32it/s]\n",
            "100%|██████████| 8500/8500 [00:00<00:00, 2937429.68it/s]\n",
            "100%|██████████| 8500/8500 [00:00<00:00, 3131727.34it/s]\n",
            "100%|██████████| 8500/8500 [00:00<00:00, 3326638.42it/s]\n",
            "100%|██████████| 8500/8500 [00:00<00:00, 3106621.12it/s]\n",
            "100%|██████████| 8500/8500 [00:00<00:00, 3238109.36it/s]\n",
            "100%|██████████| 8500/8500 [00:00<00:00, 3313960.22it/s]\n",
            "100%|██████████| 8500/8500 [00:00<00:00, 2854867.39it/s]\n"
          ],
          "name": "stderr"
        },
        {
          "output_type": "stream",
          "text": [
            "CPU times: user 21.1 s, sys: 4.45 s, total: 25.6 s\n",
            "Wall time: 14.7 s\n"
          ],
          "name": "stdout"
        }
      ]
    },
    {
      "cell_type": "code",
      "metadata": {
        "id": "s_Txg7WZnURo"
      },
      "source": [
        "train_vecs_dmc_tg = get_vectors(model_tg_dmc, x_train, 100)\r\n",
        "validation_vecs_dmc_tg = get_vectors(model_tg_dmc, x_validation, 100)"
      ],
      "execution_count": 97,
      "outputs": []
    },
    {
      "cell_type": "code",
      "metadata": {
        "colab": {
          "base_uri": "https://localhost:8080/"
        },
        "id": "6BKzpRnHnWfW",
        "outputId": "53271e5a-a61d-4fff-86a8-5135d90b47e3"
      },
      "source": [
        "%%time\r\n",
        "clf = LogisticRegression(solver='lbfgs', max_iter=1000, multi_class='multinomial')\r\n",
        "clf.fit(train_vecs_dmc_tg, y_train)"
      ],
      "execution_count": 98,
      "outputs": [
        {
          "output_type": "stream",
          "text": [
            "CPU times: user 9.28 s, sys: 12.9 s, total: 22.2 s\n",
            "Wall time: 5.62 s\n"
          ],
          "name": "stdout"
        }
      ]
    },
    {
      "cell_type": "code",
      "metadata": {
        "colab": {
          "base_uri": "https://localhost:8080/"
        },
        "id": "fYlZBAbznYRm",
        "outputId": "2848b966-5804-4e21-f1d8-e215b7051278"
      },
      "source": [
        "clf.score(validation_vecs_dmc_tg, y_validation)"
      ],
      "execution_count": 99,
      "outputs": [
        {
          "output_type": "execute_result",
          "data": {
            "text/plain": [
              "0.4588235294117647"
            ]
          },
          "metadata": {
            "tags": []
          },
          "execution_count": 99
        }
      ]
    },
    {
      "cell_type": "code",
      "metadata": {
        "id": "61AgDv8cnhRX"
      },
      "source": [
        "model_tg_dmc.save('drive/MyDrive/grams/d2v_model_tg_dmc.doc2vec')\r\n",
        "model_tg_dmc = Doc2Vec.load('drive/MyDrive/grams/d2v_model_tg_dmc.doc2vec')\r\n",
        "model_tg_dmc.delete_temporary_training_data(keep_doctags_vectors=True, keep_inference=True)"
      ],
      "execution_count": 100,
      "outputs": []
    },
    {
      "cell_type": "markdown",
      "metadata": {
        "id": "nMSC-vASnsUh"
      },
      "source": [
        "## DMM Trigram"
      ]
    },
    {
      "cell_type": "code",
      "metadata": {
        "colab": {
          "base_uri": "https://localhost:8080/"
        },
        "id": "ulU85ycRnnpB",
        "outputId": "36f315fb-892b-4e67-ccd9-6fd2155d1f9b"
      },
      "source": [
        "cores = multiprocessing.cpu_count()\r\n",
        "model_tg_dmm = Doc2Vec(dm=1, dm_mean=1, size=100, window=4, negative=5, min_count=2, workers=cores, alpha=0.065, min_alpha=0.065)\r\n",
        "model_tg_dmm.build_vocab([x for x in tqdm(all_x_w2v_tg)])"
      ],
      "execution_count": 101,
      "outputs": [
        {
          "output_type": "stream",
          "text": [
            "/usr/local/lib/python3.6/dist-packages/gensim/models/doc2vec.py:570: UserWarning: The parameter `size` is deprecated, will be removed in 4.0.0, use `vector_size` instead.\n",
            "  warnings.warn(\"The parameter `size` is deprecated, will be removed in 4.0.0, use `vector_size` instead.\")\n",
            "100%|██████████| 8500/8500 [00:00<00:00, 2082209.09it/s]\n"
          ],
          "name": "stderr"
        }
      ]
    },
    {
      "cell_type": "code",
      "metadata": {
        "colab": {
          "base_uri": "https://localhost:8080/"
        },
        "id": "QxlSOPyPnui0",
        "outputId": "0fde3585-964f-42be-d4f9-646ed1a9b9d1"
      },
      "source": [
        "%%time\r\n",
        "for epoch in range(30):\r\n",
        "    model_tg_dmm.train(utils.shuffle([x for x in tqdm(all_x_w2v_tg)]), total_examples=len(all_x_w2v_tg), epochs=1)\r\n",
        "    model_tg_dmm.alpha -= 0.002\r\n",
        "    model_tg_dmc.min_alpha = model_tg_dmc.alpha"
      ],
      "execution_count": 102,
      "outputs": [
        {
          "output_type": "stream",
          "text": [
            "100%|██████████| 8500/8500 [00:00<00:00, 2222944.51it/s]\n",
            "100%|██████████| 8500/8500 [00:00<00:00, 2879307.38it/s]\n",
            "100%|██████████| 8500/8500 [00:00<00:00, 2961095.02it/s]\n",
            "100%|██████████| 8500/8500 [00:00<00:00, 3179486.67it/s]\n",
            "100%|██████████| 8500/8500 [00:00<00:00, 2903932.88it/s]\n",
            "100%|██████████| 8500/8500 [00:00<00:00, 3186021.81it/s]\n",
            "100%|██████████| 8500/8500 [00:00<00:00, 3168184.84it/s]\n",
            "100%|██████████| 8500/8500 [00:00<00:00, 3248731.91it/s]\n",
            "100%|██████████| 8500/8500 [00:00<00:00, 3305970.33it/s]\n",
            "100%|██████████| 8500/8500 [00:00<00:00, 3154170.04it/s]\n",
            "100%|██████████| 8500/8500 [00:00<00:00, 3144155.92it/s]\n",
            "100%|██████████| 8500/8500 [00:00<00:00, 3099059.81it/s]\n",
            "100%|██████████| 8500/8500 [00:00<00:00, 3326638.42it/s]\n",
            "100%|██████████| 8500/8500 [00:00<00:00, 3033402.88it/s]\n",
            "100%|██████████| 8500/8500 [00:00<00:00, 2994673.16it/s]\n",
            "100%|██████████| 8500/8500 [00:00<00:00, 2985894.81it/s]\n",
            "100%|██████████| 8500/8500 [00:00<00:00, 2980901.67it/s]\n",
            "100%|██████████| 8500/8500 [00:00<00:00, 3179770.25it/s]\n",
            "100%|██████████| 8500/8500 [00:00<00:00, 3087251.82it/s]\n",
            "100%|██████████| 8500/8500 [00:00<00:00, 3495596.04it/s]\n",
            "100%|██████████| 8500/8500 [00:00<00:00, 3206654.43it/s]\n",
            "100%|██████████| 8500/8500 [00:00<00:00, 3508668.83it/s]\n",
            "100%|██████████| 8500/8500 [00:00<00:00, 2203571.54it/s]\n",
            "100%|██████████| 8500/8500 [00:00<00:00, 2912235.26it/s]\n",
            "100%|██████████| 8500/8500 [00:00<00:00, 3421785.58it/s]\n",
            "100%|██████████| 8500/8500 [00:00<00:00, 3187446.04it/s]\n",
            "100%|██████████| 8500/8500 [00:00<00:00, 3216490.80it/s]\n",
            "100%|██████████| 8500/8500 [00:00<00:00, 3195731.80it/s]\n",
            "100%|██████████| 8500/8500 [00:00<00:00, 2101354.71it/s]\n",
            "100%|██████████| 8500/8500 [00:00<00:00, 2838049.99it/s]\n"
          ],
          "name": "stderr"
        },
        {
          "output_type": "stream",
          "text": [
            "CPU times: user 31.9 s, sys: 12.2 s, total: 44.1 s\n",
            "Wall time: 29.3 s\n"
          ],
          "name": "stdout"
        }
      ]
    },
    {
      "cell_type": "code",
      "metadata": {
        "id": "G-l6O3Fqnwm4"
      },
      "source": [
        "train_vecs_dmm_tg = get_vectors(model_tg_dmm, x_train, 100)\r\n",
        "validation_vecs_dmm_tg = get_vectors(model_tg_dmm, x_validation, 100)"
      ],
      "execution_count": 103,
      "outputs": []
    },
    {
      "cell_type": "code",
      "metadata": {
        "colab": {
          "base_uri": "https://localhost:8080/"
        },
        "id": "yOJRIlNTnzI1",
        "outputId": "fb080342-68f7-4ae6-d529-7bc2479d7493"
      },
      "source": [
        "%%time\r\n",
        "clf = LogisticRegression(solver='lbfgs', max_iter=1000, multi_class='multinomial')\r\n",
        "clf.fit(train_vecs_dmm_tg, y_train)"
      ],
      "execution_count": 104,
      "outputs": [
        {
          "output_type": "stream",
          "text": [
            "CPU times: user 38.2 s, sys: 53.4 s, total: 1min 31s\n",
            "Wall time: 23.1 s\n"
          ],
          "name": "stdout"
        }
      ]
    },
    {
      "cell_type": "code",
      "metadata": {
        "colab": {
          "base_uri": "https://localhost:8080/"
        },
        "id": "Jj4_Me8Jn49G",
        "outputId": "96ac3311-2af5-45f6-aa86-1abc281dabdd"
      },
      "source": [
        "clf.score(validation_vecs_dmm_tg, y_validation)"
      ],
      "execution_count": 105,
      "outputs": [
        {
          "output_type": "execute_result",
          "data": {
            "text/plain": [
              "0.4823529411764706"
            ]
          },
          "metadata": {
            "tags": []
          },
          "execution_count": 105
        }
      ]
    },
    {
      "cell_type": "code",
      "metadata": {
        "id": "6qKFYepdn6o3"
      },
      "source": [
        "model_tg_dmm.save('drive/MyDrive/grams/d2v_model_tg_dmm.doc2vec')\r\n",
        "model_tg_dmm = Doc2Vec.load('drive/MyDrive/grams/d2v_model_tg_dmm.doc2vec')\r\n",
        "model_tg_dmm.delete_temporary_training_data(keep_doctags_vectors=True, keep_inference=True)"
      ],
      "execution_count": 106,
      "outputs": []
    },
    {
      "cell_type": "code",
      "metadata": {
        "id": "b4C0j8xGn_kW"
      },
      "source": [
        "train_vecs_dbow_dmc_tg = get_concat_vectors(model_tg_dbow,model_tg_dmc, x_train, 200)\r\n",
        "validation_vecs_dbow_dmc_tg = get_concat_vectors(model_tg_dbow,model_tg_dmc, x_validation, 200)"
      ],
      "execution_count": 107,
      "outputs": []
    },
    {
      "cell_type": "code",
      "metadata": {
        "colab": {
          "base_uri": "https://localhost:8080/"
        },
        "id": "D-v3m19KoBOG",
        "outputId": "4fae5264-749b-4953-9c9d-09e8361fb524"
      },
      "source": [
        "%%time\r\n",
        "clf = LogisticRegression(solver='lbfgs', max_iter=1000, multi_class='multinomial')\r\n",
        "clf.fit(train_vecs_dbow_dmc_tg, y_train)"
      ],
      "execution_count": 108,
      "outputs": [
        {
          "output_type": "stream",
          "text": [
            "CPU times: user 27.9 s, sys: 56.7 s, total: 1min 24s\n",
            "Wall time: 21.3 s\n"
          ],
          "name": "stdout"
        }
      ]
    },
    {
      "cell_type": "code",
      "metadata": {
        "colab": {
          "base_uri": "https://localhost:8080/"
        },
        "id": "JCSNT1PmoDA4",
        "outputId": "2e4ac8ea-0503-4d31-e8cd-9404a8b5f77e"
      },
      "source": [
        "clf.score(validation_vecs_dbow_dmc_tg, y_validation)"
      ],
      "execution_count": 109,
      "outputs": [
        {
          "output_type": "execute_result",
          "data": {
            "text/plain": [
              "0.5529411764705883"
            ]
          },
          "metadata": {
            "tags": []
          },
          "execution_count": 109
        }
      ]
    },
    {
      "cell_type": "code",
      "metadata": {
        "id": "bZmUMTGroHSU"
      },
      "source": [
        "train_vecs_dbow_dmm_tg = get_concat_vectors(model_tg_dbow,model_tg_dmm, x_train, 200)\r\n",
        "validation_vecs_dbow_dmm_tg = get_concat_vectors(model_tg_dbow,model_tg_dmm, x_validation, 200)"
      ],
      "execution_count": 110,
      "outputs": []
    },
    {
      "cell_type": "code",
      "metadata": {
        "colab": {
          "base_uri": "https://localhost:8080/"
        },
        "id": "-UA4fFDOoKpn",
        "outputId": "78365e00-2e71-411b-f93d-083105c980c0"
      },
      "source": [
        "%%time\r\n",
        "clf = LogisticRegression(solver='lbfgs', max_iter=1000, multi_class='multinomial')\r\n",
        "clf.fit(train_vecs_dbow_dmm_tg, y_train)"
      ],
      "execution_count": 111,
      "outputs": [
        {
          "output_type": "stream",
          "text": [
            "CPU times: user 1min 1s, sys: 2min 23s, total: 3min 25s\n",
            "Wall time: 51.7 s\n"
          ],
          "name": "stdout"
        }
      ]
    },
    {
      "cell_type": "code",
      "metadata": {
        "colab": {
          "base_uri": "https://localhost:8080/"
        },
        "id": "k1KNIeDfoN7m",
        "outputId": "8f1888e0-f96e-4224-d753-c6620a502654"
      },
      "source": [
        "clf.score(validation_vecs_dbow_dmm_tg, y_validation)"
      ],
      "execution_count": 112,
      "outputs": [
        {
          "output_type": "execute_result",
          "data": {
            "text/plain": [
              "0.5882352941176471"
            ]
          },
          "metadata": {
            "tags": []
          },
          "execution_count": 112
        }
      ]
    },
    {
      "cell_type": "markdown",
      "metadata": {
        "id": "YaWqJH-VoYve"
      },
      "source": [
        " I would like to try one more thing, which is creating joint vectors across different n-grams. By looking at the above table, for DBOW model unigram performed the best, so I will use vectors from unigram DBOW model and join this together with trigram DMM vectors."
      ]
    },
    {
      "cell_type": "code",
      "metadata": {
        "id": "XJX2-ID-rbSh"
      },
      "source": [
        "model_ug_dbow = Doc2Vec.load('drive/MyDrive/grams/d2v_model_ug_dbow.doc2vec')\r\n",
        "model_tg_dmm = Doc2Vec.load('drive/MyDrive/grams/d2v_model_tg_dmm.doc2vec')\r\n",
        "model_ug_dbow.delete_temporary_training_data(keep_doctags_vectors=True, keep_inference=True)\r\n",
        "model_tg_dmm.delete_temporary_training_data(keep_doctags_vectors=True, keep_inference=True)"
      ],
      "execution_count": 113,
      "outputs": []
    },
    {
      "cell_type": "code",
      "metadata": {
        "id": "okTG6yaergiH"
      },
      "source": [
        "train_vecs_ugdbow_tgdmm = get_concat_vectors(model_ug_dbow,model_tg_dmm, x_train, 200)\r\n",
        "validation_vecs_ugdbow_tgdmm = get_concat_vectors(model_ug_dbow,model_tg_dmm, x_validation, 200)"
      ],
      "execution_count": 114,
      "outputs": []
    },
    {
      "cell_type": "code",
      "metadata": {
        "colab": {
          "base_uri": "https://localhost:8080/"
        },
        "id": "g-pDVgiHrwpG",
        "outputId": "2f525a4b-e5c6-43db-c178-989f0abc4261"
      },
      "source": [
        "%%time\r\n",
        "clf = LogisticRegression(solver='lbfgs', max_iter=1000, multi_class='multinomial')\r\n",
        "clf.fit(train_vecs_ugdbow_tgdmm, y_train)"
      ],
      "execution_count": 115,
      "outputs": [
        {
          "output_type": "stream",
          "text": [
            "CPU times: user 1min 5s, sys: 2min 38s, total: 3min 43s\n",
            "Wall time: 56.2 s\n"
          ],
          "name": "stdout"
        }
      ]
    },
    {
      "cell_type": "code",
      "metadata": {
        "colab": {
          "base_uri": "https://localhost:8080/"
        },
        "id": "fKoBmkYlr2N2",
        "outputId": "e79b9d75-2544-497b-a2dd-8e87b75c0adb"
      },
      "source": [
        "clf.score(validation_vecs_ugdbow_tgdmm, y_validation)"
      ],
      "execution_count": 116,
      "outputs": [
        {
          "output_type": "execute_result",
          "data": {
            "text/plain": [
              "0.6470588235294118"
            ]
          },
          "metadata": {
            "tags": []
          },
          "execution_count": 116
        }
      ]
    },
    {
      "cell_type": "code",
      "metadata": {
        "id": "MkIUaK46r3yG"
      },
      "source": [
        "from sklearn.preprocessing import MinMaxScaler\r\n",
        "\r\n",
        "mmscaler = MinMaxScaler()\r\n",
        "d2v_ugdbow_tgdmm_mm = mmscaler.fit_transform(train_vecs_ugdbow_tgdmm)\r\n",
        "d2v_ugdbow_tgdmm_mm_val = mmscaler.fit_transform(validation_vecs_ugdbow_tgdmm)"
      ],
      "execution_count": 117,
      "outputs": []
    },
    {
      "cell_type": "code",
      "metadata": {
        "id": "Cn_O3wJOr6J2"
      },
      "source": [
        "from sklearn.naive_bayes import MultinomialNB, BernoulliNB\r\n",
        "from sklearn.linear_model import RidgeClassifier, Perceptron, PassiveAggressiveClassifier\r\n",
        "from sklearn.neighbors import NearestCentroid\r\n",
        "from sklearn.pipeline import Pipeline\r\n",
        "from sklearn.metrics import accuracy_score\r\n",
        "import time\r\n",
        "names1 = [\"Logistic Regression\", \"Multinomial NB\", \r\n",
        "         \"Bernoulli NB\", \"Ridge Classifier\", \"Perceptron\",\"Passive-Aggresive\", \"Nearest Centroid\"]\r\n",
        "classifiers1 = [\r\n",
        "    LogisticRegression(max_iter=1000),\r\n",
        "    MultinomialNB(),\r\n",
        "    BernoulliNB(),\r\n",
        "    RidgeClassifier(),\r\n",
        "    Perceptron(),\r\n",
        "    PassiveAggressiveClassifier(),\r\n",
        "    NearestCentroid()\r\n",
        "    ]\r\n",
        "zipped_clf1 = zip(names1,classifiers1)"
      ],
      "execution_count": 118,
      "outputs": []
    },
    {
      "cell_type": "code",
      "metadata": {
        "id": "ce3hPYH5tmk5"
      },
      "source": [
        "def accuracy_summary(pipeline, x_train, y_train, x_test, y_test):\r\n",
        "    if len(x_test[y_test == 0]) / (len(x_test)*1.) > 0.5:\r\n",
        "        null_accuracy = len(x_test[y_test == 0]) / (len(x_test)*1.)\r\n",
        "    else:\r\n",
        "        null_accuracy = 1. - (len(x_test[y_test == 0]) / (len(x_test)*1.))\r\n",
        "    t0 = time.time()\r\n",
        "    sentiment_fit = pipeline.fit(x_train, y_train)\r\n",
        "    y_pred = sentiment_fit.predict(x_test)\r\n",
        "    train_test_time = time.time() - t0\r\n",
        "    accuracy = accuracy_score(y_test, y_pred)\r\n",
        "    print (\"null accuracy: {0:.2f}%\".format(null_accuracy*100))\r\n",
        "    print (\"accuracy score: {0:.2f}%\".format(accuracy*100))\r\n",
        "    if accuracy > null_accuracy:\r\n",
        "        print (\"model is {0:.2f}% more accurate than null accuracy\".format((accuracy-null_accuracy)*100))\r\n",
        "    elif accuracy == null_accuracy:\r\n",
        "        print (\"model has the same accuracy with the null accuracy\")\r\n",
        "    else:\r\n",
        "        print (\"model is {0:.2f}% less accurate than null accuracy\".format((null_accuracy-accuracy)*100))\r\n",
        "    print (\"train and test time: {0:.2f}s\".format(train_test_time))\r\n",
        "    print (\"-\"*80)\r\n",
        "    return accuracy, train_test_time"
      ],
      "execution_count": 119,
      "outputs": []
    },
    {
      "cell_type": "code",
      "metadata": {
        "id": "Z6NAP6u7sAPR"
      },
      "source": [
        "def classifier_comparator_d2v(train_vectors,validation_vectors, classifier=zipped_clf1):\r\n",
        "    result = []\r\n",
        "    for n,c in classifier:\r\n",
        "        checker_pipeline = Pipeline([\r\n",
        "            ('classifier', c)\r\n",
        "        ])\r\n",
        "        print (\"Validation result for {}\".format(n))\r\n",
        "        print (c)\r\n",
        "        clf_accuracy,tt_time = accuracy_summary(checker_pipeline, train_vectors, y_train, validation_vectors, y_validation)\r\n",
        "        result.append((n,clf_accuracy,tt_time))\r\n",
        "    return result"
      ],
      "execution_count": 120,
      "outputs": []
    },
    {
      "cell_type": "code",
      "metadata": {
        "colab": {
          "base_uri": "https://localhost:8080/"
        },
        "id": "uiSpgondsA4q",
        "outputId": "5e8b81db-9647-48cb-de42-c10ffaec79a6"
      },
      "source": [
        "classifier_comparator_d2v(d2v_ugdbow_tgdmm_mm,d2v_ugdbow_tgdmm_mm_val)"
      ],
      "execution_count": 121,
      "outputs": [
        {
          "output_type": "stream",
          "text": [
            "Validation result for Logistic Regression\n",
            "LogisticRegression(C=1.0, class_weight=None, dual=False, fit_intercept=True,\n",
            "                   intercept_scaling=1, l1_ratio=None, max_iter=1000,\n",
            "                   multi_class='auto', n_jobs=None, penalty='l2',\n",
            "                   random_state=None, solver='lbfgs', tol=0.0001, verbose=0,\n",
            "                   warm_start=False)\n"
          ],
          "name": "stdout"
        },
        {
          "output_type": "stream",
          "text": [
            "/usr/local/lib/python3.6/dist-packages/sklearn/linear_model/_logistic.py:940: ConvergenceWarning: lbfgs failed to converge (status=1):\n",
            "STOP: TOTAL NO. of ITERATIONS REACHED LIMIT.\n",
            "\n",
            "Increase the number of iterations (max_iter) or scale the data as shown in:\n",
            "    https://scikit-learn.org/stable/modules/preprocessing.html\n",
            "Please also refer to the documentation for alternative solver options:\n",
            "    https://scikit-learn.org/stable/modules/linear_model.html#logistic-regression\n",
            "  extra_warning_msg=_LOGISTIC_SOLVER_CONVERGENCE_MSG)\n"
          ],
          "name": "stderr"
        },
        {
          "output_type": "stream",
          "text": [
            "null accuracy: 55.29%\n",
            "accuracy score: 49.41%\n",
            "model is 5.88% less accurate than null accuracy\n",
            "train and test time: 83.36s\n",
            "--------------------------------------------------------------------------------\n",
            "Validation result for Multinomial NB\n",
            "MultinomialNB(alpha=1.0, class_prior=None, fit_prior=True)\n",
            "null accuracy: 55.29%\n",
            "accuracy score: 44.71%\n",
            "model is 10.59% less accurate than null accuracy\n",
            "train and test time: 0.03s\n",
            "--------------------------------------------------------------------------------\n",
            "Validation result for Bernoulli NB\n",
            "BernoulliNB(alpha=1.0, binarize=0.0, class_prior=None, fit_prior=True)\n",
            "null accuracy: 55.29%\n",
            "accuracy score: 34.12%\n",
            "model is 21.18% less accurate than null accuracy\n",
            "train and test time: 0.03s\n",
            "--------------------------------------------------------------------------------\n",
            "Validation result for Ridge Classifier\n",
            "RidgeClassifier(alpha=1.0, class_weight=None, copy_X=True, fit_intercept=True,\n",
            "                max_iter=None, normalize=False, random_state=None,\n",
            "                solver='auto', tol=0.001)\n",
            "null accuracy: 55.29%\n",
            "accuracy score: 55.29%\n",
            "model has the same accuracy with the null accuracy\n",
            "train and test time: 0.11s\n",
            "--------------------------------------------------------------------------------\n",
            "Validation result for Perceptron\n",
            "Perceptron(alpha=0.0001, class_weight=None, early_stopping=False, eta0=1.0,\n",
            "           fit_intercept=True, max_iter=1000, n_iter_no_change=5, n_jobs=None,\n",
            "           penalty=None, random_state=0, shuffle=True, tol=0.001,\n",
            "           validation_fraction=0.1, verbose=0, warm_start=False)\n",
            "null accuracy: 55.29%\n",
            "accuracy score: 41.18%\n",
            "model is 14.12% less accurate than null accuracy\n",
            "train and test time: 3.08s\n",
            "--------------------------------------------------------------------------------\n",
            "Validation result for Passive-Aggresive\n",
            "PassiveAggressiveClassifier(C=1.0, average=False, class_weight=None,\n",
            "                            early_stopping=False, fit_intercept=True,\n",
            "                            loss='hinge', max_iter=1000, n_iter_no_change=5,\n",
            "                            n_jobs=None, random_state=None, shuffle=True,\n",
            "                            tol=0.001, validation_fraction=0.1, verbose=0,\n",
            "                            warm_start=False)\n",
            "null accuracy: 55.29%\n",
            "accuracy score: 30.59%\n",
            "model is 24.71% less accurate than null accuracy\n",
            "train and test time: 3.76s\n",
            "--------------------------------------------------------------------------------\n",
            "Validation result for Nearest Centroid\n",
            "NearestCentroid(metric='euclidean', shrink_threshold=None)\n",
            "null accuracy: 55.29%\n",
            "accuracy score: 11.76%\n",
            "model is 43.53% less accurate than null accuracy\n",
            "train and test time: 0.02s\n",
            "--------------------------------------------------------------------------------\n"
          ],
          "name": "stdout"
        },
        {
          "output_type": "execute_result",
          "data": {
            "text/plain": [
              "[('Logistic Regression', 0.49411764705882355, 83.35950231552124),\n",
              " ('Multinomial NB', 0.4470588235294118, 0.029486894607543945),\n",
              " ('Bernoulli NB', 0.3411764705882353, 0.03246760368347168),\n",
              " ('Ridge Classifier', 0.5529411764705883, 0.10578393936157227),\n",
              " ('Perceptron', 0.4117647058823529, 3.07637095451355),\n",
              " ('Passive-Aggresive', 0.3058823529411765, 3.756463050842285),\n",
              " ('Nearest Centroid', 0.11764705882352941, 0.016655445098876953)]"
            ]
          },
          "metadata": {
            "tags": []
          },
          "execution_count": 121
        }
      ]
    },
    {
      "cell_type": "code",
      "metadata": {
        "id": "kvq1BJbDtEUz"
      },
      "source": [
        "from sklearn.feature_extraction.text import CountVectorizer\r\n",
        "cvec = CountVectorizer()\r\n",
        "lr = LogisticRegression(max_iter=1000)\r\n",
        "n_features = np.arange(10000,100001,10000)\r\n",
        "\r\n",
        "def nfeature_accuracy_checker(vectorizer=cvec, n_features=n_features, stop_words=None, ngram_range=(1, 1), classifier=lr):\r\n",
        "    result = []\r\n",
        "    print (classifier)\r\n",
        "    print (\"\\n\")\r\n",
        "    for n in n_features:\r\n",
        "        vectorizer.set_params(stop_words=stop_words, max_features=n, ngram_range=ngram_range)\r\n",
        "        checker_pipeline = Pipeline([\r\n",
        "            ('vectorizer', vectorizer),\r\n",
        "            ('classifier', classifier)\r\n",
        "        ])\r\n",
        "        print (\"Validation result for {} features\".format(n))\r\n",
        "        nfeature_accuracy,tt_time = accuracy_summary(checker_pipeline, x_train, y_train, x_validation, y_validation)\r\n",
        "        result.append((n,nfeature_accuracy,tt_time))\r\n",
        "    return result"
      ],
      "execution_count": 122,
      "outputs": []
    },
    {
      "cell_type": "markdown",
      "metadata": {
        "id": "NkxvcKDmw_u4"
      },
      "source": [
        "### TFIDF Vectorizer"
      ]
    },
    {
      "cell_type": "code",
      "metadata": {
        "id": "e_nptbUKwlHk"
      },
      "source": [
        "from sklearn.feature_extraction.text import TfidfVectorizer\r\n",
        "tvec = TfidfVectorizer()"
      ],
      "execution_count": 123,
      "outputs": []
    },
    {
      "cell_type": "code",
      "metadata": {
        "colab": {
          "base_uri": "https://localhost:8080/"
        },
        "id": "mnHNpHg1xCPD",
        "outputId": "030c6b55-f5bb-4dc6-dff7-15179cd99cdc"
      },
      "source": [
        "%%time\r\n",
        "print (\"RESULT FOR TRIGRAM WITH STOP WORDS (Tfidf)\\n\")\r\n",
        "feature_result_tgt = nfeature_accuracy_checker(vectorizer=tvec,ngram_range=(1, 3))"
      ],
      "execution_count": 124,
      "outputs": [
        {
          "output_type": "stream",
          "text": [
            "RESULT FOR TRIGRAM WITH STOP WORDS (Tfidf)\n",
            "\n",
            "LogisticRegression(C=1.0, class_weight=None, dual=False, fit_intercept=True,\n",
            "                   intercept_scaling=1, l1_ratio=None, max_iter=1000,\n",
            "                   multi_class='auto', n_jobs=None, penalty='l2',\n",
            "                   random_state=None, solver='lbfgs', tol=0.0001, verbose=0,\n",
            "                   warm_start=False)\n",
            "\n",
            "\n",
            "Validation result for 10000 features\n",
            "null accuracy: 55.29%\n",
            "accuracy score: 63.53%\n",
            "model is 8.24% more accurate than null accuracy\n",
            "train and test time: 24.99s\n",
            "--------------------------------------------------------------------------------\n",
            "Validation result for 20000 features\n",
            "null accuracy: 55.29%\n",
            "accuracy score: 63.53%\n",
            "model is 8.24% more accurate than null accuracy\n",
            "train and test time: 40.12s\n",
            "--------------------------------------------------------------------------------\n",
            "Validation result for 30000 features\n",
            "null accuracy: 55.29%\n",
            "accuracy score: 61.18%\n",
            "model is 5.88% more accurate than null accuracy\n",
            "train and test time: 52.03s\n",
            "--------------------------------------------------------------------------------\n",
            "Validation result for 40000 features\n",
            "null accuracy: 55.29%\n",
            "accuracy score: 62.35%\n",
            "model is 7.06% more accurate than null accuracy\n",
            "train and test time: 68.15s\n",
            "--------------------------------------------------------------------------------\n",
            "Validation result for 50000 features\n",
            "null accuracy: 55.29%\n",
            "accuracy score: 61.18%\n",
            "model is 5.88% more accurate than null accuracy\n",
            "train and test time: 79.74s\n",
            "--------------------------------------------------------------------------------\n",
            "Validation result for 60000 features\n",
            "null accuracy: 55.29%\n",
            "accuracy score: 61.18%\n",
            "model is 5.88% more accurate than null accuracy\n",
            "train and test time: 86.73s\n",
            "--------------------------------------------------------------------------------\n",
            "Validation result for 70000 features\n",
            "null accuracy: 55.29%\n",
            "accuracy score: 61.18%\n",
            "model is 5.88% more accurate than null accuracy\n",
            "train and test time: 106.90s\n",
            "--------------------------------------------------------------------------------\n",
            "Validation result for 80000 features\n",
            "null accuracy: 55.29%\n",
            "accuracy score: 61.18%\n",
            "model is 5.88% more accurate than null accuracy\n",
            "train and test time: 114.16s\n",
            "--------------------------------------------------------------------------------\n",
            "Validation result for 90000 features\n",
            "null accuracy: 55.29%\n",
            "accuracy score: 61.18%\n",
            "model is 5.88% more accurate than null accuracy\n",
            "train and test time: 133.99s\n",
            "--------------------------------------------------------------------------------\n",
            "Validation result for 100000 features\n",
            "null accuracy: 55.29%\n",
            "accuracy score: 61.18%\n",
            "model is 5.88% more accurate than null accuracy\n",
            "train and test time: 139.75s\n",
            "--------------------------------------------------------------------------------\n",
            "CPU times: user 20min 22s, sys: 20min 49s, total: 41min 12s\n",
            "Wall time: 14min 6s\n"
          ],
          "name": "stdout"
        }
      ]
    },
    {
      "cell_type": "code",
      "metadata": {
        "id": "DwFodiTsxD9y"
      },
      "source": [
        "nfeatures_plot_tgt = pd.DataFrame(feature_result_tgt,columns=['nfeatures','validation_accuracy','train_test_time'])"
      ],
      "execution_count": 125,
      "outputs": []
    },
    {
      "cell_type": "code",
      "metadata": {
        "id": "dtouW8IZyCiG"
      },
      "source": [
        "from gensim.models import Doc2Vec"
      ],
      "execution_count": 126,
      "outputs": []
    },
    {
      "cell_type": "code",
      "metadata": {
        "id": "TCAurD6exriS"
      },
      "source": [
        "def get_concat_vectors(model1,model2, corpus, size):\r\n",
        "    vecs = np.zeros((len(corpus), size))\r\n",
        "    n = 0\r\n",
        "    for i in corpus.index:\r\n",
        "        prefix = 'all_' + str(i)\r\n",
        "        vecs[n] = np.append(model1.docvecs[prefix],model2.docvecs[prefix])\r\n",
        "        n += 1\r\n",
        "    return vecs"
      ],
      "execution_count": 127,
      "outputs": []
    },
    {
      "cell_type": "code",
      "metadata": {
        "id": "hutMjvDuyFuS"
      },
      "source": [
        "\r\n",
        "model_tg_dmm = Doc2Vec.load('drive/MyDrive/grams/d2v_model_tg_dmm.doc2vec')\r\n",
        "model_ug_dbow = Doc2Vec.load('drive/MyDrive/grams/d2v_model_ug_dbow.doc2vec')\r\n",
        "model_ug_dbow.delete_temporary_training_data(keep_doctags_vectors=True, keep_inference=True)\r\n",
        "model_tg_dmm.delete_temporary_training_data(keep_doctags_vectors=True, keep_inference=True)"
      ],
      "execution_count": 128,
      "outputs": []
    },
    {
      "cell_type": "code",
      "metadata": {
        "id": "aOuHPhsKyHul"
      },
      "source": [
        "train_vecs_ugdbow_tgdmm = get_concat_vectors(model_ug_dbow,model_tg_dmm, x_train, 200)\r\n",
        "validation_vecs_ugdbow_tgdmm = get_concat_vectors(model_ug_dbow,model_tg_dmm, x_validation, 200)"
      ],
      "execution_count": 129,
      "outputs": []
    },
    {
      "cell_type": "markdown",
      "metadata": {
        "id": "UE-4GJMa1Mpx"
      },
      "source": [
        "## Dimensionality Reduction"
      ]
    },
    {
      "cell_type": "markdown",
      "metadata": {
        "id": "QmaA1DJn1RYt"
      },
      "source": [
        "### Chi2 Feature Selection"
      ]
    },
    {
      "cell_type": "code",
      "metadata": {
        "id": "NQMLeGf3LJl5"
      },
      "source": [
        "tvec = TfidfVectorizer(max_features=100000,ngram_range=(1, 3))\r\n",
        "x_train_tfidf = tvec.fit_transform(x_train)\r\n",
        "x_validation_tfidf = tvec.transform(x_validation)"
      ],
      "execution_count": 130,
      "outputs": []
    },
    {
      "cell_type": "code",
      "metadata": {
        "id": "KGqQhwYsLUAG"
      },
      "source": [
        "from sklearn.feature_selection import chi2\r\n",
        "chi2score = chi2(x_train_tfidf, y_train)[0]"
      ],
      "execution_count": 131,
      "outputs": []
    },
    {
      "cell_type": "code",
      "metadata": {
        "colab": {
          "base_uri": "https://localhost:8080/",
          "height": 625
        },
        "id": "VIXHzPPq1WbT",
        "outputId": "436494c7-7e21-4e47-b330-06eeab1faa90"
      },
      "source": [
        "plt.figure(figsize=(15,10))\r\n",
        "wscores = zip(tvec.get_feature_names(), chi2score)\r\n",
        "wchi2 = sorted(wscores, key=lambda x:x[1])\r\n",
        "topchi2 = list(zip(*wchi2[-20:]))\r\n",
        "#topchi2 = zip(wchi2)\r\n",
        "x = range(len(topchi2[1]))\r\n",
        "labels = topchi2[0]\r\n",
        "plt.barh(x,topchi2[1], align='center', alpha=0.2)\r\n",
        "plt.plot(topchi2[1], x, '-o', markersize=5, alpha=0.8)\r\n",
        "plt.yticks(x, labels)\r\n",
        "plt.xlabel('$\\chi^2$')"
      ],
      "execution_count": 132,
      "outputs": [
        {
          "output_type": "execute_result",
          "data": {
            "text/plain": [
              "Text(0.5, 0, '$\\\\chi^2$')"
            ]
          },
          "metadata": {
            "tags": []
          },
          "execution_count": 132
        },
        {
          "output_type": "display_data",
          "data": {
            "image/png": "[encoded data removed]",
            "text/plain": [
              "<Figure size 1080x720 with 1 Axes>"
            ]
          },
          "metadata": {
            "tags": [],
            "image/png": {
              "width": 1097,
              "height": 591
            },
            "needs_background": "light"
          }
        }
      ]
    },
    {
      "cell_type": "code",
      "metadata": {
        "colab": {
          "base_uri": "https://localhost:8080/"
        },
        "id": "n9NpRJYB4YJB",
        "outputId": "17b4df10-976b-4dc0-b04e-2318bf98093e"
      },
      "source": [
        "from sklearn.feature_selection import SelectKBest, chi2\r\n",
        "ch2_result = []\r\n",
        "for n in np.arange(10000,100000,10000):\r\n",
        "    ch2 = SelectKBest(chi2, k=n)\r\n",
        "    x_train_chi2_selected = ch2.fit_transform(x_train_tfidf, y_train)\r\n",
        "    x_validation_chi2_selected = ch2.transform(x_validation_tfidf)\r\n",
        "    clf = LogisticRegression(max_iter=1000)\r\n",
        "    clf.fit(x_train_chi2_selected, y_train)\r\n",
        "    score = clf.score(x_validation_chi2_selected, y_validation)\r\n",
        "    ch2_result.append(score)\r\n",
        "    print (\"chi2 feature selection evaluation calculated for {} features\".format(n))"
      ],
      "execution_count": 133,
      "outputs": [
        {
          "output_type": "stream",
          "text": [
            "chi2 feature selection evaluation calculated for 10000 features\n",
            "chi2 feature selection evaluation calculated for 20000 features\n",
            "chi2 feature selection evaluation calculated for 30000 features\n",
            "chi2 feature selection evaluation calculated for 40000 features\n",
            "chi2 feature selection evaluation calculated for 50000 features\n",
            "chi2 feature selection evaluation calculated for 60000 features\n",
            "chi2 feature selection evaluation calculated for 70000 features\n",
            "chi2 feature selection evaluation calculated for 80000 features\n",
            "chi2 feature selection evaluation calculated for 90000 features\n"
          ],
          "name": "stdout"
        }
      ]
    },
    {
      "cell_type": "markdown",
      "metadata": {
        "id": "Sa6SInrS4DXa"
      },
      "source": [
        "### Principal Component Analysis (PCA)"
      ]
    },
    {
      "cell_type": "code",
      "metadata": {
        "id": "yZTHyGPk1Ylw"
      },
      "source": [
        "from sklearn.preprocessing import StandardScaler\r\n",
        "\r\n",
        "scaler = StandardScaler()\r\n",
        "d2v_ugdbow_tgdmm_std = scaler.fit_transform(train_vecs_ugdbow_tgdmm)\r\n",
        "d2v_ugdbow_tgdmm_std_val = scaler.fit_transform(validation_vecs_ugdbow_tgdmm)"
      ],
      "execution_count": 134,
      "outputs": []
    },
    {
      "cell_type": "code",
      "metadata": {
        "id": "-bRk1n8n4GK3"
      },
      "source": [
        "from sklearn.decomposition import PCA\r\n",
        "\r\n",
        "d2v_pca = PCA().fit(d2v_ugdbow_tgdmm_std)"
      ],
      "execution_count": 135,
      "outputs": []
    },
    {
      "cell_type": "code",
      "metadata": {
        "colab": {
          "base_uri": "https://localhost:8080/",
          "height": 403
        },
        "id": "ERYsteEP4HsA",
        "outputId": "95fc3ae4-2d41-4f9a-d876-c7c7314e49ec"
      },
      "source": [
        "fig, ax = plt.subplots(figsize=(8,6))\r\n",
        "\r\n",
        "x_values = range(1, d2v_pca.n_components_+1)\r\n",
        "\r\n",
        "ax.plot(x_values, d2v_pca.explained_variance_ratio_, lw=2, label='explained variance')\r\n",
        "ax.plot(x_values, np.cumsum(d2v_pca.explained_variance_ratio_), lw=2, label='cumulative explained variance')\r\n",
        "ax.set_title('Doc2vec (unigram DBOW + trigram DMM) : explained variance of components')\r\n",
        "ax.set_xlabel('principal component')\r\n",
        "ax.set_ylabel('explained variance')\r\n",
        "plt.show()"
      ],
      "execution_count": 136,
      "outputs": [
        {
          "output_type": "display_data",
          "data": {
            "image/png": "[encoded data removed]",
            "text/plain": [
              "<Figure size 576x432 with 1 Axes>"
            ]
          },
          "metadata": {
            "tags": [],
            "image/png": {
              "width": 584,
              "height": 386
            },
            "needs_background": "light"
          }
        }
      ]
    },
    {
      "cell_type": "code",
      "metadata": {
        "id": "qfhcLPWN4JuS"
      },
      "source": [
        "#while True:pass"
      ],
      "execution_count": 139,
      "outputs": []
    },
    {
      "cell_type": "code",
      "metadata": {
        "id": "hdHUUE_-5shs"
      },
      "source": [
        ""
      ],
      "execution_count": null,
      "outputs": []
    }
  ]
}