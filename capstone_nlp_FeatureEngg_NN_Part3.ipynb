{
  "nbformat": 4,
  "nbformat_minor": 0,
  "metadata": {
    "kernelspec": {
      "display_name": "Python 3",
      "language": "python",
      "name": "python3"
    },
    "language_info": {
      "codemirror_mode": {
        "name": "ipython",
        "version": 3
      },
      "file_extension": ".py",
      "mimetype": "text/x-python",
      "name": "python",
      "nbconvert_exporter": "python",
      "pygments_lexer": "ipython3",
      "version": "3.8.5"
    },
    "colab": {
      "name": "capstone_nlp_FeatureEngg-NN-Part3.ipynb",
      "provenance": [],
      "toc_visible": true,
      "machine_shape": "hm"
    },
    "accelerator": "GPU"
  },
  "cells": [
    {
      "cell_type": "code",
      "metadata": {
        "id": "pciKqcdcw7sV"
      },
      "source": [
        "import pandas as pd  \n",
        "import numpy as np\n",
        "import matplotlib.pyplot as plt\n",
        "import tensorflow as tf\n",
        "plt.style.use('fivethirtyeight')\n",
        "\n",
        "%matplotlib inline\n",
        "%config InlineBackend.figure_format = 'retina'"
      ],
      "execution_count": 1,
      "outputs": []
    },
    {
      "cell_type": "code",
      "metadata": {
        "colab": {
          "base_uri": "https://localhost:8080/"
        },
        "id": "stnGDyvyxMnP",
        "outputId": "391c4016-0e5c-46f7-85c4-02056fabaa0b"
      },
      "source": [
        "from google.colab import drive\n",
        "drive.mount('/content/drive')"
      ],
      "execution_count": 2,
      "outputs": [
        {
          "output_type": "stream",
          "text": [
            "Mounted at /content/drive\n"
          ],
          "name": "stdout"
        }
      ]
    },
    {
      "cell_type": "code",
      "metadata": {
        "id": "Ey4hUK0h5t0n"
      },
      "source": [
        ""
      ],
      "execution_count": null,
      "outputs": []
    },
    {
      "cell_type": "code",
      "metadata": {
        "colab": {
          "base_uri": "https://localhost:8080/",
          "height": 204
        },
        "id": "d4zJkf-9w7sW",
        "outputId": "c02f0ed7-1207-4715-81a3-62ce267719e9"
      },
      "source": [
        "my_df = pd.read_csv('drive/MyDrive/datasets/input_data_after_preprocessing_for_ml.csv')\n",
        "#my_df = pd.read_csv(csv,index_col=0)\n",
        "my_df.head()"
      ],
      "execution_count": 3,
      "outputs": [
        {
          "output_type": "execute_result",
          "data": {
            "text/html": [
              "<div>\n",
              "<style scoped>\n",
              "    .dataframe tbody tr th:only-of-type {\n",
              "        vertical-align: middle;\n",
              "    }\n",
              "\n",
              "    .dataframe tbody tr th {\n",
              "        vertical-align: top;\n",
              "    }\n",
              "\n",
              "    .dataframe thead th {\n",
              "        text-align: right;\n",
              "    }\n",
              "</style>\n",
              "<table border=\"1\" class=\"dataframe\">\n",
              "  <thead>\n",
              "    <tr style=\"text-align: right;\">\n",
              "      <th></th>\n",
              "      <th>Unnamed: 0</th>\n",
              "      <th>Combined Description Cleaned</th>\n",
              "      <th>Assignment group</th>\n",
              "    </tr>\n",
              "  </thead>\n",
              "  <tbody>\n",
              "    <tr>\n",
              "      <th>0</th>\n",
              "      <td>0</td>\n",
              "      <td>login issue user manager name checked the name...</td>\n",
              "      <td>GRP_0</td>\n",
              "    </tr>\n",
              "    <tr>\n",
              "      <th>1</th>\n",
              "      <td>1</td>\n",
              "      <td>outlook received from hello team my are not in...</td>\n",
              "      <td>GRP_0</td>\n",
              "    </tr>\n",
              "    <tr>\n",
              "      <th>2</th>\n",
              "      <td>2</td>\n",
              "      <td>cannot log in to received from hi i cannot on ...</td>\n",
              "      <td>GRP_0</td>\n",
              "    </tr>\n",
              "    <tr>\n",
              "      <th>3</th>\n",
              "      <td>3</td>\n",
              "      <td>unable to access tool page</td>\n",
              "      <td>GRP_0</td>\n",
              "    </tr>\n",
              "    <tr>\n",
              "      <th>4</th>\n",
              "      <td>4</td>\n",
              "      <td>error</td>\n",
              "      <td>GRP_0</td>\n",
              "    </tr>\n",
              "  </tbody>\n",
              "</table>\n",
              "</div>"
            ],
            "text/plain": [
              "   Unnamed: 0  ... Assignment group\n",
              "0           0  ...            GRP_0\n",
              "1           1  ...            GRP_0\n",
              "2           2  ...            GRP_0\n",
              "3           3  ...            GRP_0\n",
              "4           4  ...            GRP_0\n",
              "\n",
              "[5 rows x 3 columns]"
            ]
          },
          "metadata": {
            "tags": []
          },
          "execution_count": 3
        }
      ]
    },
    {
      "cell_type": "code",
      "metadata": {
        "colab": {
          "base_uri": "https://localhost:8080/"
        },
        "id": "k8AvqEjyx8bw",
        "outputId": "49a3817e-72f6-4845-f9d9-722a439ec9a6"
      },
      "source": [
        "df2 = my_df\n",
        "my_df['Assignment group by number'] = my_df['Assignment group'].str[4:]\n",
        "my_df['Assignment group by number'] = my_df['Assignment group by number'].astype(int)\n",
        "my_df.info()"
      ],
      "execution_count": 4,
      "outputs": [
        {
          "output_type": "stream",
          "text": [
            "<class 'pandas.core.frame.DataFrame'>\n",
            "RangeIndex: 8500 entries, 0 to 8499\n",
            "Data columns (total 4 columns):\n",
            " #   Column                        Non-Null Count  Dtype \n",
            "---  ------                        --------------  ----- \n",
            " 0   Unnamed: 0                    8500 non-null   int64 \n",
            " 1   Combined Description Cleaned  8500 non-null   object\n",
            " 2   Assignment group              8500 non-null   object\n",
            " 3   Assignment group by number    8500 non-null   int64 \n",
            "dtypes: int64(2), object(2)\n",
            "memory usage: 265.8+ KB\n"
          ],
          "name": "stdout"
        }
      ]
    },
    {
      "cell_type": "code",
      "metadata": {
        "colab": {
          "base_uri": "https://localhost:8080/"
        },
        "id": "lm8eFMaJw7sW",
        "outputId": "924a9709-5eb1-48b0-b580-cddac72408ed"
      },
      "source": [
        "my_df.dropna(inplace=True)\n",
        "my_df.reset_index(drop=True,inplace=True)\n",
        "my_df.info()"
      ],
      "execution_count": 5,
      "outputs": [
        {
          "output_type": "stream",
          "text": [
            "<class 'pandas.core.frame.DataFrame'>\n",
            "RangeIndex: 8500 entries, 0 to 8499\n",
            "Data columns (total 4 columns):\n",
            " #   Column                        Non-Null Count  Dtype \n",
            "---  ------                        --------------  ----- \n",
            " 0   Unnamed: 0                    8500 non-null   int64 \n",
            " 1   Combined Description Cleaned  8500 non-null   object\n",
            " 2   Assignment group              8500 non-null   object\n",
            " 3   Assignment group by number    8500 non-null   int64 \n",
            "dtypes: int64(2), object(2)\n",
            "memory usage: 265.8+ KB\n"
          ],
          "name": "stdout"
        }
      ]
    },
    {
      "cell_type": "code",
      "metadata": {
        "id": "1TYa-7tBw7sX"
      },
      "source": [
        "x = my_df['Combined Description Cleaned']\n",
        "y = my_df['Assignment group by number']"
      ],
      "execution_count": 6,
      "outputs": []
    },
    {
      "cell_type": "code",
      "metadata": {
        "id": "UNZmGFaad51Y"
      },
      "source": [
        "y = tf.keras.utils.to_categorical(y)"
      ],
      "execution_count": 7,
      "outputs": []
    },
    {
      "cell_type": "code",
      "metadata": {
        "id": "I8xeAElLw7sX"
      },
      "source": [
        "from sklearn.model_selection import train_test_split\n",
        "SEED = 2000\n",
        "x_train, x_validation_and_test, y_train, y_validation_and_test = train_test_split(x, y, test_size=.20,\n",
        "                                                                                  random_state=SEED, shuffle=True)\n",
        "                                                                                 # stratify=y)\n",
        "x_validation, x_test, y_validation, y_test = train_test_split(x_validation_and_test, y_validation_and_test, test_size=.5, random_state=SEED)"
      ],
      "execution_count": 8,
      "outputs": []
    },
    {
      "cell_type": "code",
      "metadata": {
        "colab": {
          "base_uri": "https://localhost:8080/"
        },
        "id": "vrKnNcKlfMe6",
        "outputId": "adff1fee-8836-429d-a861-7f2b1fce256d"
      },
      "source": [
        "y_train.shape"
      ],
      "execution_count": 9,
      "outputs": [
        {
          "output_type": "execute_result",
          "data": {
            "text/plain": [
              "(6800, 74)"
            ]
          },
          "metadata": {
            "tags": []
          },
          "execution_count": 9
        }
      ]
    },
    {
      "cell_type": "code",
      "metadata": {
        "colab": {
          "base_uri": "https://localhost:8080/"
        },
        "id": "1DPubI-kfQ_F",
        "outputId": "f93a6fc6-5d0b-4992-e48e-de312d1723ea"
      },
      "source": [
        "y_validation.shape"
      ],
      "execution_count": 10,
      "outputs": [
        {
          "output_type": "execute_result",
          "data": {
            "text/plain": [
              "(850, 74)"
            ]
          },
          "metadata": {
            "tags": []
          },
          "execution_count": 10
        }
      ]
    },
    {
      "cell_type": "code",
      "metadata": {
        "id": "wKD2Zc-vw7sX"
      },
      "source": [
        "from sklearn.linear_model import LogisticRegression"
      ],
      "execution_count": 11,
      "outputs": []
    },
    {
      "cell_type": "markdown",
      "metadata": {
        "id": "1vpELwjVw7sX"
      },
      "source": [
        "## Doc2Vec"
      ]
    },
    {
      "cell_type": "markdown",
      "metadata": {
        "id": "LS_CqoRXw7sX"
      },
      "source": [
        "Before we jump into doc2vec, it will be better to first start by word2vec. \"Word2vec is a group of related models that are used to produce word embeddings. These models are shallow, two-layer neural networks that are trained to reconstruct linguistic contexts of words.\""
      ]
    },
    {
      "cell_type": "markdown",
      "metadata": {
        "id": "w_JYgNqFw7sZ"
      },
      "source": [
        "DM: \n",
        "This is the Doc2Vec model analogous to CBOW model in Word2vec. The paragraph vectors are obtained by training a neural network on the task of inferring a centre word based on context words and a context paragraph. \n",
        "\n",
        "DBOW:\n",
        "This is the Doc2Vec model analogous to Skip-gram model in Word2Vec. The paragraph vectors are obtained by training a neural network on the task of predicting a probability distribution of words in a paragraph given a randomly-sampled word from the paragraph."
      ]
    },
    {
      "cell_type": "markdown",
      "metadata": {
        "id": "1dEs4yhTw7sZ"
      },
      "source": [
        "Below are the methods I used to get the vectors for each ticket.\n",
        "\n",
        "1. DBOW (Distributed Bag of Words)\n",
        "2. DMC (Distributed Memory Concatenated)\n",
        "3. DMM (Distributed Memory Mean)\n",
        "4. DBOW + DMC\n",
        "5. DBOW + DMM\n",
        "\n",
        "With above vectors, I fit a simple logistic regression model and evaluated the result on the validation set."
      ]
    },
    {
      "cell_type": "code",
      "metadata": {
        "id": "rZ5XwG-6w7sa"
      },
      "source": [
        "from tqdm import tqdm\n",
        "tqdm.pandas(desc=\"progress-bar\")\n",
        "from gensim.models import Doc2Vec\n",
        "from gensim.models.doc2vec import LabeledSentence\n",
        "import multiprocessing\n",
        "from sklearn import utils"
      ],
      "execution_count": 12,
      "outputs": []
    },
    {
      "cell_type": "code",
      "metadata": {
        "id": "eFXvuBqEw7sa"
      },
      "source": [
        "def labelize_tickets_ug(tickets,label):\n",
        "    result = []\n",
        "    prefix = label\n",
        "    for i, t in zip(tickets.index, tickets):\n",
        "        result.append(LabeledSentence(t.split(), [prefix + '_%s' % i]))\n",
        "    return result"
      ],
      "execution_count": 13,
      "outputs": []
    },
    {
      "cell_type": "markdown",
      "metadata": {
        "id": "NHz3qs67w7sa"
      },
      "source": [
        "Also, the same rationale has been applied in the Gensim's Doc2Vec tutorial. In the IMDB tutorial, vector training is occurring on all documents of the data set, including all train/test/dev set. https://github.com/RaRe-Technologies/gensim/blob/develop/docs/notebooks/doc2vec-IMDB.ipynb"
      ]
    },
    {
      "cell_type": "code",
      "metadata": {
        "colab": {
          "base_uri": "https://localhost:8080/"
        },
        "id": "IB0m92N_w7sa",
        "outputId": "2c03c35d-eb73-4f75-8e86-191b7db3a480"
      },
      "source": [
        "all_x = pd.concat([x_train,x_validation,x_test])\n",
        "all_x_w2v = labelize_tickets_ug(all_x, 'all')"
      ],
      "execution_count": 14,
      "outputs": [
        {
          "output_type": "stream",
          "text": [
            "/usr/local/lib/python3.6/dist-packages/ipykernel_launcher.py:5: DeprecationWarning: Call to deprecated `LabeledSentence` (Class will be removed in 4.0.0, use TaggedDocument instead).\n",
            "  \"\"\"\n"
          ],
          "name": "stderr"
        }
      ]
    },
    {
      "cell_type": "code",
      "metadata": {
        "colab": {
          "base_uri": "https://localhost:8080/"
        },
        "id": "L8iC6ZFGw7sa",
        "outputId": "c32429c9-b1e3-4a97-cb7a-91f6735c9902"
      },
      "source": [
        "len(all_x_w2v)"
      ],
      "execution_count": 15,
      "outputs": [
        {
          "output_type": "execute_result",
          "data": {
            "text/plain": [
              "8500"
            ]
          },
          "metadata": {
            "tags": []
          },
          "execution_count": 15
        }
      ]
    },
    {
      "cell_type": "code",
      "metadata": {
        "colab": {
          "base_uri": "https://localhost:8080/"
        },
        "id": "EjgF4Kifykfm",
        "outputId": "8f465ae0-acf6-49eb-c20e-d5143d348de9"
      },
      "source": [
        "all_x_w2v"
      ],
      "execution_count": 16,
      "outputs": [
        {
          "output_type": "execute_result",
          "data": {
            "text/plain": [
              "[LabeledSentence(words=['evening', 'job', 'in', 'schedule', 'job', 'received', 'from', 'job', 'schedule', 'job', 'at'], tags=['all_7628']),\n",
              " LabeledSentence(words=['unable', 'to', 'display', 'expense', 'report'], tags=['all_123']),\n",
              " LabeledSentence(words=['job', 'hot', 'in', 'job', 'schedule', 'at', 'received', 'from'], tags=['all_6569']),\n",
              " LabeledSentence(words=['speaker', 'not', 'working', 'in', 'received', 'from', 'hello', 'i', 'am', 'facing', 'the', 'issue', 'of', 'no', 'sound', 'during', 'meeting', 'kindly', 'do', 'needful', 'best'], tags=['all_552']),\n",
              " LabeledSentence(words=['unable', 'to', 'login'], tags=['all_6711']),\n",
              " LabeledSentence(words=['down', 'especially', 'scan', 'to', 'is', 'not', 'working', 'server', 'no', 'reply', 'ping', 'error', 'communication', 'error', 'contact', 'name', 'known', 'location'], tags=['all_7272']),\n",
              " LabeledSentence(words=['network', 'multiple', 'are', 'running', 'slow', 'how', 'did', 'you', 'determine', 'there', 'error', 'web', 'page', 'not', 'in', 'mi', 'is', 'only', 'slow', 'please', 'use', 'the', 'quick', 'ticket', 'within', 'folder', 'if', 'more', 'than', 'one', 'impacted', 'operator', 'what', 'server', 'on', 'server', 'name', 'status', 'bar', 'at', 'bottom', 'right', 'of', 'your', 'screen', 'do', 'other', 'also', 'notice', 'response', 'times', 'yes', 'it', 'multiple', 'application', 'available', 'to', 'can', 'access', 'data', 'any', 'or', 'with', 'this', 'during', 'shift', 'change', 'when', 'a', 'lot', 'activity', 'system', 'and'], tags=['all_3615']),\n",
              " LabeledSentence(words=['network', 'multiple', 'are', 'running', 'slow', 'my', 'home', 'location', 'is', 'whenever', 'i', 'come', 'to', 'us', 'plant', 'and', 'connect', 'the', 'network', 'storage', 'slow', 'all', 'how', 'did', 'you', 'determine', 'there', 'only', 'slow', 'please', 'use', 'quick', 'ticket', 'within', 'folder', 'if', 'more', 'than', 'one', 'impacted', 'what', 'server', 'on', 'server', 'name', 'in', 'status', 'bar', 'at', 'bottom', 'right', 'of', 'your', 'screen', 'do', 'other', 'also', 'notice', 'response', 'times', 'can', 'access', 'data', 'any', 'or', 'with'], tags=['all_8196']),\n",
              " LabeledSentence(words=['unable', 'connect', 'to', 'engineering', 'tool'], tags=['all_7467']),\n",
              " LabeledSentence(words=['problem', 'received', 'from', 'yesterday', 'i', 'had', 'some', 'with', 'outlook', 'after', 'a', 'password', 'change', 'the', 'was', 'new', 'version', 'loaded', 'and', 'thought', 'my', 'were', 'over', 'now', 'for', 'business', 'is', 'not', 'working', 'could', 'join', 'an', 'important', 'meeting', 'this', 'morning', 'copy', 'of', 'screen', 'below', 'address', 'correct', 'if', 'not', 'what', 'should', 'it', 'be', 'have', 'because', 'telephone', 'help', 'line', 'up', 'on', 'you', 'as', 'soon', 'select', 'number', 'to', 'direct', 'call', 'senior', 'engineer', 'team'], tags=['all_716']),\n",
              " LabeledSentence(words=['reset', 'the', 'password', 'for', 'on', 'please', 'my', 'in', 'system'], tags=['all_3561']),\n",
              " LabeledSentence(words=['terminate', 'action', 'for', 'from', 'sent', 'august', 'to', 'subject', 'rad', 'the', 'hello', 'a', 'termination', 'effective', 'been', 'click', 'link', 'to', 'view'], tags=['all_8090']),\n",
              " LabeledSentence(words=['cannot', 'log', 'in', 'the', 'been', 'antivirus'], tags=['all_7581']),\n",
              " LabeledSentence(words=['analysis', 'for', 'office', 'hand', 'access', 'user', 'out', 'of', 'without', 'to', 'hand', 'received', 'from', 'hello', 'within', 'the', 'team', 'we', 'are', 'some', 'in', 'getting', 'right', 'connection', 'business', 'explorer', 'hand', 'you', 'will', 'receive', 'a', 'couple', 'showing', 'what', 'error', 'behavior', 'is', 'and', 'hope', 'quick', 'resolution', 'from', 'you', 'user', 'location', 'attachment', 'set', 'instruction', 'log', 'below', 'setup', 'machine', 'been', 'through', 'local', 'it', 'best'], tags=['all_4169']),\n",
              " LabeledSentence(words=['please', 'help', 'delete', 'and', 'payment', 'run', 'in', 'code', 'f'], tags=['all_4602']),\n",
              " LabeledSentence(words=['new', 'password', 'not', 'in', 'the'], tags=['all_6008']),\n",
              " LabeledSentence(words=['read', 'write', 'authorization', 'for', 'm', 'hello', 'please', 'set', 'me', 'up', 'with', 'thank', 'you', 'best', 'child'], tags=['all_5240']),\n",
              " LabeledSentence(words=['ad', 'account', 'is', 'locked', 'locked', 'and', 'hand', 'production', 'are', 'failing', 'unlock', 'immediately', 'share', 'the', 'please', 'assign', 'to', 'or', 'team', 'reach', 'them', 'on', 'call'], tags=['all_3005']),\n",
              " LabeledSentence(words=['information', 'about'], tags=['all_4178']),\n",
              " LabeledSentence(words=['job', 'job', 'd', 'in', 'job', 'schedule', 'at', 'received', 'from'], tags=['all_5020']),\n",
              " LabeledSentence(words=['tool', 'password', 'forgot', 'language', 'explorer', 'customer', 'number', 'telephone', 'forgot'], tags=['all_534']),\n",
              " LabeledSentence(words=['received', 'from', 'good', 'morning', 'can', 'you', 'please', 'assist', 'as', 'i', 'cannot', 'log', 'into', 'receive', 'the', 'following', 'error'], tags=['all_4356']),\n",
              " LabeledSentence(words=['job', 'job', 'in', 'job', 'schedule', 'at', 'received', 'from'], tags=['all_4119']),\n",
              " LabeledSentence(words=['when', 'i', 'try', 'to', 'access', 'the', 'ethics', 'training', 'link', 'receive', 'an', 'error', 'message', 'organization', 'code', 'not', 'found', 'this', 'if', 'log', 'in', 'via', 'public', 'as', 'well'], tags=['all_5158']),\n",
              " LabeledSentence(words=['map', 'i', 'drive'], tags=['all_2496']),\n",
              " LabeledSentence(words=['account', 'disabled', 'for', 'user'], tags=['all_8055']),\n",
              " LabeledSentence(words=['help', 'received', 'from', 'hello', 'this', 'morning', 'i', 'but', 'while', 'my', 'computer', 'blocked', 'and', 'can', 'not', 'start', 'it', 'with', 'safe', 'you', 'please', 'connect', 'team', 'viewer', 'best'], tags=['all_3242']),\n",
              " LabeledSentence(words=['account'], tags=['all_6284']),\n",
              " LabeledSentence(words=['frequent', 'disconnection', 'in', 'the', 'new', 'bay', 'at', 'basis', 'area', 'team', 'please', 'check', 'we', 'are', 'to', 'all', 'our'], tags=['all_4466']),\n",
              " LabeledSentence(words=['not', 'working', 'in', 'wireless', 'issue', 'at', 'access', 'point', 'work', 'stoppage', 'issue', 'tried', 'calling', 'twice', 'warehouse', 'tool', 'mail', 'left', 'brief', 'message', 'again', 'able', 'to', 'reach'], tags=['all_1611']),\n",
              " LabeledSentence(words=['job', 'fail', 'in', 'job', 'schedule', 'at', 'received', 'from'], tags=['all_6221']),\n",
              " LabeledSentence(words=['job', 'payroll', 'na', 'u', 'in', 'job', 'schedule', 'at', 'received', 'from'], tags=['all_1303']),\n",
              " LabeledSentence(words=['install', 'collaboration', 'platform'], tags=['all_309']),\n",
              " LabeledSentence(words=['no', 'new', 'on', 'rich', 'folder', 'at', 'company', 'public', 'q', 'we', 'cannot', 'see', 'to', 'public', 'folder', 'since', 'end', 'of', 'august', 'could', 'you', 'please', 'check', 'and', 'fix', 'if', 'there', 'have', 'been', 'any'], tags=['all_4598']),\n",
              " LabeledSentence(words=['he', 'is', 'not', 'able', 'to', 'click', 'on', 'the', 'login', 'please', 'refer'], tags=['all_3885']),\n",
              " LabeledSentence(words=['r', 'no', 'za', 'cannot', 'be', 'sometimes', 'take', 'a', 'look', 'at', 'the', 'hard', 'drive', 'please', 'for', 'completion', 'by', 'm', 'eu', 'tool', 'rep', 'no'], tags=['all_7474']),\n",
              " LabeledSentence(words=['cannot', 'create', 'meeting', 'there', 'is', 'no', 'meeting', 'on', 'outlook', 'calendar'], tags=['all_1807']),\n",
              " LabeledSentence(words=['reinstall', 'them'], tags=['all_6377']),\n",
              " LabeledSentence(words=['job', 'job', 'in', 'job', 'schedule', 'at', 'received', 'from'], tags=['all_6520']),\n",
              " LabeledSentence(words=['please', 'provide', 'permission', 'to', 'the', 'in'], tags=['all_3587']),\n",
              " LabeledSentence(words=['cannot', 'create', 'a', 'delivery', 'note', 'for', 'from', 'plant', 'to', 'plant', 'we', 'all', 'in', 'that', 'are', 'available', 'stock', 'plant', 'but', 'the', 'system', 'does', 'not', 'see', 'it', 'please', 'check', 'and', 'generate', 'note', 'it', 'is', 'quite', 'urgent', 'as', 'drum', 'needs', 'be', 'sent', 'further', 'exposition'], tags=['all_4953']),\n",
              " LabeledSentence(words=['user', 'on', 'driver', 'update', 'manually', 'and', 'then', 'after', 'the', 'machine', 'he', 'is', 'a', 'error', 'received', 'an', 'fatal', 'error'], tags=['all_207']),\n",
              " LabeledSentence(words=['engine', 'received', 'from', 'hello', 'i', 'have', 'previous', 'for', 'an', 'issue', 'that', 'am', 'again', 'today', 'not', 'sure', 'why', 'keep', 'this', 'issue', 'can', 'someone', 'help', 'me', 'understand', 'if', 'it', 'is', 'something', 'doing', 'wrong', 'use', 'daily', 'and', 'need', 'access', 'to', 'description', 'when', 'try', 'to', 'look', 'at', 'a', 'configuration', 'get', 'error', 'while', 'trying', 'invoke', 'the', 'method', 'of', 'null', 'object', 'loaded', 'from', 'local', 'variable'], tags=['all_3481']),\n",
              " LabeledSentence(words=['need', 'network', 'connection', 'for', 'at', 'pu', 'received', 'from', 'it', 'please', 'provide', 'hone', 'measuring', 'equipment', 'in', 'pu', 'this', 'is', 'necessary', 'and', 'also', 'relevant', 'information', 'with', 'global', 'team'], tags=['all_1576']),\n",
              " LabeledSentence(words=['outlook'], tags=['all_5973']),\n",
              " LabeledSentence(words=['bob', 'explorer', 'load', 'issue', 'sent', 'to', 'basis', 'and', 'team', 'hi', 'team', 'basis', 'please', 'investigate', 'the', 'are', 'up', 'running', 'it', 'is', 'showing', 'blank', 'screen', 'at', 'moment', 'i', 'have', 're', 'indexed', 'all', 'information', 'but', 'did', 'not', 'help', 'assist', 'an', 'will', 'create', 'a', 'ticket', 'in', 'few', 'update', 'here'], tags=['all_4686']),\n",
              " LabeledSentence(words=['password', 'manager', 'error', 'to', 'login', 'now', 'blocked', 'please', 'reset', 'my', 'phone'], tags=['all_4661']),\n",
              " LabeledSentence(words=['the', 'finance', 'system', 'is', 'down', 'i', 'need', 'someone', 'in', 'group', 'to', 'verify', 'that', 'oracle', 'up', 'and', 'running', 'hemp', 'on', 'server'], tags=['all_1726']),\n",
              " LabeledSentence(words=['issue'], tags=['all_7507']),\n",
              " LabeledSentence(words=['network', 'received', 'from', 'hello', 'at', 'i', 'have', 'irregular', 'sometimes', 'there', 'is', 'no', 'connection', 'to', 'the', 'possible', 'after', 'a', 'restart', 'it', 'works', 'again', 'in', 'most', 'hardware', 'can', 'reach', 'checked', 'for', 'disconnection', 'or', 'lax', 'connection'], tags=['all_2823']),\n",
              " LabeledSentence(words=['password', 'reset', 'from', 'sent', 'august', 'to', 'subject', 'request', 'to', 'for', 'hi', 'please', 'change', 'your', 'in'], tags=['all_6588']),\n",
              " LabeledSentence(words=['ticketing', 'tool', 'issue', 'cannot', 'seem', 'to', 'create', 'a', 'new', 'from', 'the', 'console', 'area', 'be', 'missing', 'we', 'were', 'separate', 'for', 'server', 'and', 'neither', 'me', 'nor', 'can', 'on', 'ticket', 'any', 'more'], tags=['all_2028']),\n",
              " LabeledSentence(words=['user', 'unable', 'to', 'connect', 'via', 'access', 'distributor', 'tool', 'and', 'i', 'have', 'my', 'password', 'management', 'tool', 'password', 'manager', 'after', 'the', 'change', 'am', 'id', 'is'], tags=['all_8037']),\n",
              " LabeledSentence(words=['machine', 'stuck', 'on', 'welcome', 'screen'], tags=['all_7084']),\n",
              " LabeledSentence(words=['job', 'payroll', 'na', 'u', 'in', 'job', 'schedule', 'at', 'received', 'from'], tags=['all_2625']),\n",
              " LabeledSentence(words=['interface', 'on', 'is', 'down', 'since', 'am', 'logged', 'to', 'switch', 'found', 'interface', 'down', 'edit', 'line', 'protocol', 'state'], tags=['all_3397']),\n",
              " LabeledSentence(words=['urgent', 'registration', 'of', 'received', 'from', 'dear', 'all', 'please', 'urgently', 'advise', 'how', 'to', 'proceed', 'with', 'this', 'i', 'am', 'review', 'price', 'obviously', 'by', 'this', 'tool', 'best'], tags=['all_6333']),\n",
              " LabeledSentence(words=['received', 'from', 'hello', 'i', 'get', 'the', 'following', 'error', 'when', 'try', 'to', 'start', 'also', 'if', 'do', 'install', 'it', 'need', 'best'], tags=['all_4858']),\n",
              " LabeledSentence(words=['unable', 'to', 'create', 'hi', 'it', 'please', 'assist', 'o', 'as', 'i', 'am', 'not', 'able', 'to'], tags=['all_7056']),\n",
              " LabeledSentence(words=['unable', 'to', 'login'], tags=['all_179']),\n",
              " LabeledSentence(words=['sound', 'issue', 'with', 'the', 'of', 'theres', 'no'], tags=['all_3334']),\n",
              " LabeledSentence(words=['job', 'in', 'job', 'schedule', 'at', 'received', 'from'], tags=['all_2592']),\n",
              " LabeledSentence(words=['job', 'job', 'in', 'job', 'schedule', 'at', 'received', 'from'], tags=['all_6851']),\n",
              " LabeledSentence(words=['to', 'server', 'not', 'possible', 'is', 'in', 'a', 'loop', 'at', 'the', 'welcome', 'screen'], tags=['all_8095']),\n",
              " LabeledSentence(words=['discount', 'form', 'issue'], tags=['all_1722']),\n",
              " LabeledSentence(words=['unable', 'to', 'from', 'external', 'received', 'from', 'hi', 'it', 'team', 'cannot', 'receive', 'and', 'send', 'any', 'the', 'via', 'his', 'company', 'address', 'however', 'colleague', 'can', 'with', 'no', 'kindly', 'investigate', 'issue', 'for', 'you', 'take', 'sugar', 'user', 'compare', 'difference', 'both', 'of', 'them', 'are', 'our', 'fi', 'partner', 'also', 'got', 'address', 'in', 'same', 'operation', 'support', 'us', 'appreciate', 'if', 'could', 'fix'], tags=['all_5239']),\n",
              " LabeledSentence(words=['help', 'to', 'create', 'delivery', 'for', 'received', 'from', 'dear', 'it', 'would', 'you', 'note', 'its', 'urgent', 'plant', 'for', 'something', 'error', 'we', 'unable', 'create'], tags=['all_6061']),\n",
              " LabeledSentence(words=['user', 'needs', 'help', 'to', 'login', 'the', 'collaboration', 'platform', 'site', 'provided', 'id', 'and', 'password', 'after', 'advised', 'try', 'collaboration', 'platform', 'user', 'confirmed', 'he', 'is', 'now', 'able', 'issue', 'resolved'], tags=['all_866']),\n",
              " LabeledSentence(words=['setup', 'new'], tags=['all_6357']),\n",
              " LabeledSentence(words=['company', 'on', 'mobile', 'phone', 'received', 'from', 'hello', 'let', 'me', 'know', 'the', 'process', 'to', 'install', 'and', 'start', 'access', 'of', 'official', 'mail', 'in', 'my', 'smart', 'phone', 'as', 'below', 'make', 'build', 'number', 'sex', 'a', 'duel', 'mobile', 'any', 'other'], tags=['all_7677']),\n",
              " LabeledSentence(words=['waste', 'from', 'system', 'received', 'from', 'hello', 'it', 'helper', 'recently', 'i', 'always', 'got', 'some', 'working', 'flow', 'to', 'remind', 'me', 'approve', 'and', 'but', 'that', 'already', 'no', 'in', 'can', 'you', 'help', 'check'], tags=['all_1028']),\n",
              " LabeledSentence(words=['volume', 'on', 'c', 'disk', 'is', 'more', 'than'], tags=['all_5808']),\n",
              " LabeledSentence(words=['us', 'showing', 'up', 'in', 'the', 'plan', 'list', 'both', 'have', 'a', 'work', 'center', 'defined', 'which', 'is', 'causing', 'for', 'to', 'appear', 'list', 'change', 'query', 'check', 'plant', 'and', 'center'], tags=['all_6187']),\n",
              " LabeledSentence(words=['phone', 'malfunction', 'failure', 'in', 'casting', 'rod', 'workshop'], tags=['all_3738']),\n",
              " LabeledSentence(words=['setup', 'new', '\\\\'], tags=['all_8043']),\n",
              " LabeledSentence(words=['data', 'card', 'received', 'from', 'dear', 'sir', 'i', 'have', 'new', 'system', 'but', 'there', 'is', 'no', 'along', 'with', 'that', 'kindly', 'arrange', 'to', 'send', 'me', 'card', 'best'], tags=['all_5737']),\n",
              " LabeledSentence(words=['unable', 'to', 'connect'], tags=['all_5985']),\n",
              " LabeledSentence(words=['router', 'down', 'is', 'working', 'everything', 'else', 'very', 'slow'], tags=['all_6045']),\n",
              " LabeledSentence(words=['unable', 'to', 'ethics', 'module', 'from', 'sent', 'am', 'to', 'down', 'load', 'begin', 'message', 'subject', 'hi', 'trust', 'doing', 'well', 'i', 'getting', 'below', 'did', 'reset', 'resolution', 'however', 'still', 'same', 'issue', 'persist', 'please', 'help', 'director', 'of', 'company', 'indirect'], tags=['all_281']),\n",
              " LabeledSentence(words=['outlook', 'issue'], tags=['all_5813']),\n",
              " LabeledSentence(words=['job', 'job', 'c', 'in', 'job', 'schedule', 'at', 'received', 'from'], tags=['all_6930']),\n",
              " LabeledSentence(words=['audio', 'not', 'working'], tags=['all_2252']),\n",
              " LabeledSentence(words=['engineering', 'tool', 'locked', 'out'], tags=['all_4852']),\n",
              " LabeledSentence(words=['reset', 'the', 'password', 'for', 'on', 'other', 'telephony'], tags=['all_3184']),\n",
              " LabeledSentence(words=['unable', 'to', 'connect', 'search', 'old', 'data', 'please', 'assign', 'this', 'ticket', 'the', 'is', 'down'], tags=['all_1811']),\n",
              " LabeledSentence(words=['job', 'job', 'in', 'job', 'schedule', 'at', 'received', 'from'], tags=['all_4010']),\n",
              " LabeledSentence(words=['lean', 'tracker', 'hello', 'it', 'good', 'morning', 'i', 'am', 'not', 'able', 'to', 'add', 'new', 'project', 'into', 'collaboration', 'platform', 'you', 'the', 'as', 'per', 'instruction', 'from', 'below', 'mail'], tags=['all_3089']),\n",
              " LabeledSentence(words=['reset', 'for', 'password', 'management', 'tool', 'password', 'reset', 'please'], tags=['all_7974']),\n",
              " LabeledSentence(words=['access', 'to', 'mailbox', 'investor', 'relation', 'received', 'from', 'hello', 'please', 'mail', 'box', 'investor', 'relation', 'kindly', 'do', 'the', 'needful', 'with'], tags=['all_2217']),\n",
              " LabeledSentence(words=['blank', 'call', 'so'], tags=['all_126']),\n",
              " LabeledSentence(words=['i', 'do', 'not', 'receive', 'any', 'team', 'into', 'my', 'an', 'hello', 'hope', 'you', 'are', 'the', 'right', 'person', 'to', 'turn', 'to', 'suddenly', 'receive', 'am', 'assigned', 'and', 'can', 'tackle', 'this', 'problem'], tags=['all_1103']),\n",
              " LabeledSentence(words=['ticket', 'update', 'on', 'implant'], tags=['all_5621']),\n",
              " LabeledSentence(words=['account', 'unlock'], tags=['all_1217']),\n",
              " LabeledSentence(words=['unable', 'to', 'clock', 'in', 'mi', 'multiple', 'affected', 'phone'], tags=['all_2905']),\n",
              " LabeledSentence(words=['hello', 'please', 'see', 'the', 'field', 'below', 'tax', 'code', 'this', 'is', 'and', 'inconsistent', 'from', 'h', 'sent', 'august', 'am', 'to', 'subject', 'po', 'tax', 'code', 'inconsistent', 'it', 'possible', 'to', 'prevent', 'from', 'where', 'do', 'pull', 'information', 'from'], tags=['all_8336']),\n",
              " LabeledSentence(words=['and', 'went', 'down', 'at', 'on'], tags=['all_291']),\n",
              " LabeledSentence(words=['reset', 'the', 'password', 'for', 'on', 'please', 'new', 'to', 'manager'], tags=['all_251']),\n",
              " LabeledSentence(words=['assign', 'to', 'cannot', 'print', 'work', 'due', 'connection', 'system', 'production', 'order', 'interface', 'with', 'destination', 'production', 'order', 'interface', 'is', 'not'], tags=['all_3195']),\n",
              " LabeledSentence(words=['account', 'locked', 'in'], tags=['all_7136']),\n",
              " LabeledSentence(words=['update', 'on', 'printer', 'model', 'laser', 'jet', 'dynamic', 'address', 'short', 'name', 'print', 'server'], tags=['all_7980']),\n",
              " LabeledSentence(words=['transfer', 'tool', 'trial', 'from', 'old', 'to', 'new', 'received', 'from', 'hello', 'could', 'you', 'please', 'help', 'me', 'in', 'subjected', 'case'], tags=['all_4427']),\n",
              " LabeledSentence(words=['network', 'printer', 'not', 'working', 'received', 'from', 'please', 'check', 'to', 'see', 'if', 'on', 'is', 'connected', 'the', 'network', 'i', 'have', 'sent', 'several', 'but', 'they', 'are', 'all', 'sitting', 'in', 'queue', 'turned', 'and', 'it', 'ready', 'nothing'], tags=['all_1368']),\n",
              " LabeledSentence(words=['designation', 'change', 'in', 'outlook', 'original', 'message', 'from', 'date', 'to', 'subject', 'dear', 'sir', 'recently', 'i', 'have', 'been', 'elevated', 'as', 'area', 'manager', 'from', 'assistant', 'kindly', 'help', 'me', 'out', 'to', 'make', 'the', 'outlook', 'contact', 'and', 'collaboration', 'platform'], tags=['all_8322']),\n",
              " LabeledSentence(words=['job', 'queue', 'processor', 'for', 'stopped', 'please', 'restart', 'to', 'the', 'team', 'production', 'system', 'restart'], tags=['all_5248']),\n",
              " LabeledSentence(words=['job', 'job', 'in', 'job', 'schedule', 'at', 'received', 'from'], tags=['all_269']),\n",
              " LabeledSentence(words=['order', 'not', 'moving', 'to', 'list', 'after', 'confirmation', 'please', 'see', 'attached', 'is', 'confirmed', 'but', 'showing', 'up', 'in', 's', 'even', 'both', 'are', 'same', 'work', 'center', 'my', 'understanding', 'that', 'the', 'background', 'job', 'every'], tags=['all_2690']),\n",
              " LabeledSentence(words=['ticket', 'update', 'on', 'implant'], tags=['all_4829']),\n",
              " LabeledSentence(words=['space', 'utilization', 'e', 'available', 'g', 'since', 'am', 'volume', 'on', 'server', 'is', 'over'], tags=['all_6883']),\n",
              " LabeledSentence(words=['user', 'unable', 'to', 'hotel', 'advised', 'the', 'shut', 'down', 'for', 'sec', 'and', 'restart', 'device', 'network', 'center', 'connection', 'caller', 'confirmed', 'that', 'he', 'was', 'able', 'login', 'issue', 'resolved'], tags=['all_6539']),\n",
              " LabeledSentence(words=['quotation', 'printing', 'incorrect', 'voucher', 'discount', 'see', 'attached', 'example', 'applied', 'was', 'but', 'quote', 'copy', 'is', 'showing', 'not', 'sure', 'where', 'the', 'up', 'additional', 'also', 'this', 'will', 'show', 'print', 'on', 'correct', 'and', 'what', 'printed', 'today', 'not', 'did', 'something', 'move', 'over', 'weekend', 'that', 'can', 'be', 'backed', 'out'], tags=['all_3950']),\n",
              " LabeledSentence(words=['needs', 'to', 'change', 'password'], tags=['all_1216']),\n",
              " LabeledSentence(words=['with', 'after', 'update'], tags=['all_2301']),\n",
              " LabeledSentence(words=['account', 'unlock'], tags=['all_3772']),\n",
              " LabeledSentence(words=['excel', 'is', 'blank', 'when', 'open', 'file'], tags=['all_3298']),\n",
              " LabeledSentence(words=['search', 'server', 'server', 'service', 'is', 'down'], tags=['all_6387']),\n",
              " LabeledSentence(words=['job', 'in', 'job', 'schedule', 'cold', 'received', 'from', 'at'], tags=['all_8301']),\n",
              " LabeledSentence(words=['can', 'not', 'print', 'by', 'fe', 'please', 'help', 'me', 'switch', 'to', 'fe', 'print', 'it', 'is', 'urgent'], tags=['all_7583']),\n",
              " LabeledSentence(words=['stock', 'issue', 'for', 'received', 'from', 'hello', 'it', 'please', 'help', 'check', 'the', 'below', 'there', 'are', 'under', 'plant', 'but', 'in', 'code', 'is', 'stock', 'so', 'cannot', 'run'], tags=['all_5727']),\n",
              " LabeledSentence(words=['please', 'activate', 'my', 'new', 'company', 's', 'galaxy', 'for', 'office', 'access', 'received', 'from', 'hello', 'access', 'android', 'exchange', 'ground', 'global', 'you', 'can', 'remove', 'the', 's', 'device', 'from', 'account', 'but', 'do', 'not', 'any', 'other', 'that', 'have', 'to', 'account'], tags=['all_3660']),\n",
              " LabeledSentence(words=['outlook', 'font', 'size', 'issue'], tags=['all_5398']),\n",
              " LabeledSentence(words=['is', 'suddenly', 'not'], tags=['all_1252']),\n",
              " LabeledSentence(words=['job', 'in', 'job', 'schedule', 'at', 'received', 'from'], tags=['all_5956']),\n",
              " LabeledSentence(words=['is', 'invalid', 'received', 'from', 'dear', 'all', 'give', 'me', 'authority', 'to', 'reset', 'my'], tags=['all_7410']),\n",
              " LabeledSentence(words=['received', 'from', 'hall', 'my', 'i', 'have', 'password', 'today', 'there', 'was', 'no', 'problem', 'message', 'coming', 'out', 'after', 'the', 'change', 'everything', 'and', 'saying', 'successfully', 'now', 'from', 'some', 'am', 'not', 'able', 'to', 'log', 'in', 'for', 'business', 'it', 'is', 'showing', 'me', 'following', 'please', 'let', 'know', 'what', 'should', 'do'], tags=['all_4286']),\n",
              " LabeledSentence(words=['ticket', 'update', 'on', 'implant'], tags=['all_289']),\n",
              " LabeledSentence(words=['material', 'type', 't', 'create', 'any', 'for', 'the', 'received', 'from', 'with', 'best'], tags=['all_605']),\n",
              " LabeledSentence(words=['please', 'reset', 'telephony', 'password', 'for', 'no', 'name', 'extension', 'site'], tags=['all_6124']),\n",
              " LabeledSentence(words=['there', 'a', 'way', 'to', 'access', 'tool', 'time', 'from', 'mobile', 'device', 'language', 'explorer', 'customer', 'number', 'telephone', 'device'], tags=['all_1843']),\n",
              " LabeledSentence(words=['error', 'log', 'on', 'server', 'received', 'from', 'hello', 'i', 'can', 'not', 'in', 'server', 'please', 'reset', 'my', 'password'], tags=['all_6508']),\n",
              " LabeledSentence(words=['explorer', 'received', 'from', 'i', 'need', 'help', 'the', 'explorer'], tags=['all_8111']),\n",
              " LabeledSentence(words=['unable', 'to', 'change', 'my', 'telephony', 'password', 'it', 'not', 'yet', 'in', 'days', 'please', 'telephony', 'interaction', 'password', 'i', 'get', 'a', 'message', 'that', 'the', 'request', 'please', 'see', 'attached'], tags=['all_6032']),\n",
              " LabeledSentence(words=['folder', 'access', 'request', 'to', 'the', 'following', 'for', 'our', 'financial', 'review', 'review', 'i', 'need', 'get', 'read', 'write', 'save', 'here', 'be', 'able', 'open', 'them'], tags=['all_943']),\n",
              " LabeledSentence(words=['work', 'bench', 'login', 'issue'], tags=['all_2774']),\n",
              " LabeledSentence(words=['evening', 'job', 'in', 'schedule', 'job', 'received', 'from', 'job', 'schedule', 'job', 'at'], tags=['all_7605']),\n",
              " LabeledSentence(words=['setup', 'new'], tags=['all_7714']),\n",
              " LabeledSentence(words=['not', 'possible', 'after', 'the', 'error', 'multiple', 'affected', 'please', 'see', 'message', 'attached'], tags=['all_7247']),\n",
              " LabeledSentence(words=['change', 'from', 'full', 'time', 'employee', 'to', 'contractor', 'hello', 'effective', 'please', 'and', 'dont', 'their', 'on', 'my', 'conversation', 'with', 'opening', 'this', 'ticket'], tags=['all_5395']),\n",
              " LabeledSentence(words=['please', 'install', 'visit', 'on', 'the'], tags=['all_3967']),\n",
              " LabeledSentence(words=['engineering', 'tool', 'cannot', 'be', 'the', 'alarm', 'that', 'no', 'network', 'connection', 'is', 'established', 'but', 'the', 'already', 'connected', 'cannot', 'after', 'password'], tags=['all_5742']),\n",
              " LabeledSentence(words=['not', 'able', 'to', 'log', 'on', 'hub', 'from', 'remote', 'location', 'urgent', 'please', 'call', 'received', 'from'], tags=['all_5323']),\n",
              " LabeledSentence(words=['eu', 'tool', 'again', 'not', 'running', 'please', 'help', 'immediately', 'do', 'make', 'it', 'into', 'the', 'check', 'status', 'and', 'restart', 'system'], tags=['all_915']),\n",
              " LabeledSentence(words=['reimbursement', 'amount', 'i', 'need', 'to', 'approve', 'a', 'travel', 'following', 'expense', 'report', 'been', 'for', 'your', 'approval', 'personnel', 'no', 't', 'start', 'date', 'end', 'total', 'review', 'this', 'in', 'full', 'please', 'log', 'into', 'universal', 'on', 'manager', 'but', 'have', 'no', 'view', 'help'], tags=['all_6999']),\n",
              " LabeledSentence(words=['login', 'credential', 'for', 'new', 'please', 'create', 'below', 'user'], tags=['all_4284']),\n",
              " LabeledSentence(words=['in', 'conference', 'room', 'received', 'from', 'please', 'investigate', 'and', 'repair', 'the', 'cause', 'of', 'weak', 'signal', 'area', 'we', 'used', 'to', 'have', 'full', 'for', 'some', 'reason', 'it', 'is', 'barley'], tags=['all_4665']),\n",
              " LabeledSentence(words=['blocked', 'from', 'expense', 'report', 'received', 'from', 'it', 'i', 'was', 'in', 'the', 'process', 'of', 'entering', 'my', 'when', 'lost', 'connection', 'now', 'trying', 'to', 'complete', 'receive', 'error', 'below', 'please', 'unblock', 'best'], tags=['all_3230']),\n",
              " LabeledSentence(words=['job', 'job', 'in', 'job', 'schedule', 'at', 'received', 'from'], tags=['all_4124']),\n",
              " LabeledSentence(words=['also', 'the', 'account', 'needs', 'to', 'be', 'given', 'i', 'will', 'need', 'additional', 'time', 'please', 'do', 'not', 'delete', 'this', 'on', 'th'], tags=['all_5062']),\n",
              " LabeledSentence(words=['unable', 'to', 'log', 'in', 'portal'], tags=['all_5516']),\n",
              " LabeledSentence(words=['with', 'user', 'again', 'only', 'temporary'], tags=['all_1272']),\n",
              " LabeledSentence(words=['i', 'am', 'locked', 'out', 'of', 'global', 'view', 'need', 'my', 'password', 'reset', 'this', 'is', 'very', 'urgent', 'as', 'have', 'payroll', 'must', 'pull', 'from', 'there', 'morning'], tags=['all_4840']),\n",
              " LabeledSentence(words=['job', 'job', 'in', 'job', 'schedule', 'at', 'received', 'from'], tags=['all_2588']),\n",
              " LabeledSentence(words=['tool', 'payroll', 'sign', 'in', 'received', 'from', 'time', 'unable', 'to', 'see', 'try', 'access', 'and', 'receive', 'screen', 'below', 'it', 'will', 'not', 'move', 'out', 'of', 'this', 'view', 'best'], tags=['all_406']),\n",
              " LabeledSentence(words=['job', 'job', 'in', 'job', 'schedule', 'at', 'received', 'from'], tags=['all_5373']),\n",
              " LabeledSentence(words=['i', 'forgot', 'my', 'password', 'received', 'from', 'password', 'could', 'you', 'help', 'me', 'to', 'reset', 'it'], tags=['all_5331']),\n",
              " LabeledSentence(words=['login', 'issue', 'user', 'manager', 'name', 'checked', 'the', 'name', 'in', 'ad', 'and', 'unlocked', 'account', 'advised', 'to', 'check', 'caller', 'confirmed', 'that', 'he', 'was', 'able', 'login', 'issue', 'resolved'], tags=['all_892']),\n",
              " LabeledSentence(words=['reset', 'for', 'password', 'management', 'tool', 'password', 'reset', 'the'], tags=['all_4978']),\n",
              " LabeledSentence(words=['host', 'is', 'disconnected', 'in', 'sphere'], tags=['all_1905']),\n",
              " LabeledSentence(words=['job', 'job', 'in', 'job', 'schedule', 'at', 'received', 'from'], tags=['all_86']),\n",
              " LabeledSentence(words=['job', 'queue', 'from', 'the', 'application', 'stopped', 'processor', 'of', 'and', 'needs', 'to', 'be', 'please', 'forward', 'group'], tags=['all_8171']),\n",
              " LabeledSentence(words=['call', 'came', 'and', 'got', 'disconnected'], tags=['all_3619']),\n",
              " LabeledSentence(words=['received', 'from', 'are', 'we', 'i', 'cannot', 'get', 'logged', 'in', 'to', 'manager'], tags=['all_3917']),\n",
              " LabeledSentence(words=['need', 'help', 'in', 'password', 'management', 'tool'], tags=['all_1455']),\n",
              " LabeledSentence(words=['job', 'in', 'job', 'schedule', 'hot', 'received', 'from', 'at'], tags=['all_7601']),\n",
              " LabeledSentence(words=['can', 'not', 'release', 'please', 'help', 'me', 'to', 'fix', 'it', 'the', 'business', 'transaction', 'cannot', 'be', 'carried', 'out'], tags=['all_4476']),\n",
              " LabeledSentence(words=['transfer', 'installation'], tags=['all_286']),\n",
              " LabeledSentence(words=['ad', 'account', 'locked', 'out'], tags=['all_5868']),\n",
              " LabeledSentence(words=['account', 'locked', 'out', 'received', 'from', 'hello', 'team', 'is', 'out', 'could', 'you', 'please', 'check'], tags=['all_5320']),\n",
              " LabeledSentence(words=['job', 'job', 'in', 'job', 'schedule', 'at', 'received', 'from'], tags=['all_602']),\n",
              " LabeledSentence(words=['engineering', 'tool', 'and', 'not', 'working'], tags=['all_1454']),\n",
              " LabeledSentence(words=['after', 'upgrade', 'telephony', 'from', 'the', 'screen'], tags=['all_7402']),\n",
              " LabeledSentence(words=['issue', 'telephone', 'summary', 'cannot', 'get', 'to', 'connect', 'on', 'my', 'computer'], tags=['all_2015']),\n",
              " LabeledSentence(words=['folder', 'access', 'received', 'from', 'hello', 'please', 'give', 'full', 'to', 'and', 'the', 'following', 'folder', 'bank', 'bass', 'kind'], tags=['all_8398']),\n",
              " LabeledSentence(words=['unable', 'to', 'update', 'password', 'on', 'password', 'management', 'tool', 'manager'], tags=['all_7409']),\n",
              " LabeledSentence(words=['password', 'reset'], tags=['all_7518']),\n",
              " LabeledSentence(words=['reinstall', 'eu', 'tool', 'and'], tags=['all_2835']),\n",
              " LabeledSentence(words=['unable', 'to', 'log', 'in', 'supply', 'chain'], tags=['all_5164']),\n",
              " LabeledSentence(words=['blank', 'call', 'so'], tags=['all_6739']),\n",
              " LabeledSentence(words=['account', 'locked', 'in', 'ad'], tags=['all_3996']),\n",
              " LabeledSentence(words=['job', 'arc', 'in', 'job', 'schedule', 'at', 'received', 'from'], tags=['all_6485']),\n",
              " LabeledSentence(words=['expense', 'report', 'receipt', 'entry', 'screen', 'locking', 'up', 'this', 'is', 'causing', 'with', 'entering', 'especially', 'wherein', 'multiple', 'are'], tags=['all_348']),\n",
              " LabeledSentence(words=['re', 'ticket', 'no', 'added', 'received', 'from', 'screen', 'are', 'attached', 'to', 'highlight', 'the', 'same', 'i', 'had', 'listed', 'in', 'provided', 'this', 'is', 'a', 'live', 'example', 'that', 'can', 'be', 'incase', 'you', 'were', 'not', 'aware', 'sent', 'to', 'subject', 'attached', 'v', 'if', 'there', 'any', 'please', 'let', 'me', 'know'], tags=['all_4412']),\n",
              " LabeledSentence(words=['install', 'we', 'ewe'], tags=['all_2933']),\n",
              " LabeledSentence(words=['impact', 'reset'], tags=['all_7678']),\n",
              " LabeledSentence(words=['with', 'outlook', 'received', 'from', 'best'], tags=['all_62']),\n",
              " LabeledSentence(words=['file', 'cannot', 'be', 'printed', 'by', 'printer', 'fe'], tags=['all_7582']),\n",
              " LabeledSentence(words=['the', 'dynamics', 'is', 'a', 'down', 'status', 'on', 'observing', 'below', 'alert', 'in', 'tool', 'since', 'am', 'on', 'application', 'dynamics', 'node'], tags=['all_4790']),\n",
              " LabeledSentence(words=['query', 'attendance', 'tool', 'account'], tags=['all_6193']),\n",
              " LabeledSentence(words=['scanning', 'from', 'the', 'scanner', 'does', 'not', 'work', 'with', 'information', 'drive', 'known'], tags=['all_6076']),\n",
              " LabeledSentence(words=['unable', 'to', 'login', 'engineering', 'tool'], tags=['all_425']),\n",
              " LabeledSentence(words=['system', 'is', 'not', 'booking', 'up'], tags=['all_5270']),\n",
              " LabeledSentence(words=['not', 'charging', 'from', 'dock', 'station', 'when', 'connected', 'the', 'to', 'doc', 'its', 'battery'], tags=['all_5572']),\n",
              " LabeledSentence(words=['outlook', 'cannot', 'start'], tags=['all_5580']),\n",
              " LabeledSentence(words=['ticket', 'found', 'doing', 'nothing', 'received', 'from'], tags=['all_6411']),\n",
              " LabeledSentence(words=['machine', 'from', 'r', 'in', 'the', 'area', 'can', 'no', 'longer', 'be'], tags=['all_4571']),\n",
              " LabeledSentence(words=['investment', 'request', 'new', 'received', 'from', 'team', 'attached', 'is', 'an', 'application', 'for', 'a', 'computer', 'with', 'best'], tags=['all_8230']),\n",
              " LabeledSentence(words=['login', 'issue', 'user', 'manager', 'name', 'checked', 'the', 'name', 'in', 'ad', 'and', 'unlocked', 'account', 'advised', 'to', 'check', 'caller', 'confirmed', 'that', 'he', 'was', 'able', 'login', 'issue', 'resolved'], tags=['all_587']),\n",
              " LabeledSentence(words=['account', 'lockout'], tags=['all_3979']),\n",
              " LabeledSentence(words=['job', 'job', 'in', 'job', 'schedule', 'at', 'received', 'from'], tags=['all_940']),\n",
              " LabeledSentence(words=['my', 'telephony', 'will', 'not', 'allow', 'me', 'to', 'pick', 'up', 'a', 'call', 'or', 'make', 'phone'], tags=['all_2166']),\n",
              " LabeledSentence(words=['virus', 'been', 'found', 'in', 'my', 'received', 'from', 'following', 'please', 'rectify', 'the', 'same', 'best'], tags=['all_7301']),\n",
              " LabeledSentence(words=['hand', 'scanner', 'on', 'the', 'feedback', 'terminal', 'is', 'defective', 'at', 'opposite'], tags=['all_4735']),\n",
              " LabeledSentence(words=['with', 'engine', 'refer', 'attachment', 'phone'], tags=['all_5426']),\n",
              " LabeledSentence(words=['evening', 'job', 'in', 'schedule', 'job', 'received', 'from', 'job', 'schedule', 'job', 'at'], tags=['all_8442']),\n",
              " LabeledSentence(words=['job', 'in', 'job', 'schedule', 'he', 'received', 'from', 'at'], tags=['all_7599']),\n",
              " LabeledSentence(words=['with', 'printer', 'error', 'message', 'transport', 'unit', 'is', 'missing', 'or', 'motor', 'error', 'this', 'a', 'leasing', 'printer'], tags=['all_3095']),\n",
              " LabeledSentence(words=['south', 'file', 'production', 'wrong', 'number', 'of', 'process', 'but', 'found', 'note', 'there', 'was', 'a', 'power', 'maintenance', 'at', 'south', 'as', 'per', 'service', 'did', 'not', 'come', 'up', 'after', 'the', 'maintenance'], tags=['all_7612']),\n",
              " LabeledSentence(words=['outlook', 'showing', 'that', 'it', 'is', 'starting', 'up', 'and', 'cannot', 'display', 'the', 'normal', 'interface', 'please', 'provide', 'of', 'issue'], tags=['all_1990']),\n",
              " LabeledSentence(words=['job', 'job', 'in', 'job', 'schedule', 'at', 'received', 'from'], tags=['all_603']),\n",
              " LabeledSentence(words=['job', 'in', 'job', 'schedule', 'at', 'received', 'from'], tags=['all_3341']),\n",
              " LabeledSentence(words=['machine', 'is', 'not', 'working', 'i', 'am', 'unable', 'to', 'access', 'the', 'finish', 'drawer', 'adjustment', 'no', 'network'], tags=['all_8498']),\n",
              " LabeledSentence(words=['hello', 'on', 'my', 'order', 'below', 'i', 'have', 'drop', 'that', 'will', 'not', 'tool', 'they', 'customer', 'item', 'and', 'from', 'sent', 'to', 'subject', 'ship', 'po', 'please', 'advise', 'update', 'your', 'with', 'new', 'address', 'inside', 'representative'], tags=['all_1076']),\n",
              " LabeledSentence(words=['aw', 'drive', 'folder', 'please', 'review', 'and', 'respond', 'received', 'from', 'hello', 'it', 'support', 'could', 'you', 'give', 'the', 'permission', 'to', 'read', 'write', 'load', 'from', 'global', 'for', 'many'], tags=['all_557']),\n",
              " LabeledSentence(words=['system', 'failure', 'blue', 'screen'], tags=['all_5311']),\n",
              " LabeledSentence(words=['file', 'help', 'received', 'from', 'hi', 'i', 'need', 'to', 'send', 'a', 'video', 'of', 'machine', 'our', 'customer', 'on', 'urgent', 'basis', 'the', 'size', 'is', 'kindly', 'let', 'me', 'know', 'how', 'same'], tags=['all_2189']),\n",
              " LabeledSentence(words=['reply', 'help', 'for', 'received', 'from', 'how', 'about', 'the', 'status', 'now', 'this', 'shipment', 'is', 'urgent'], tags=['all_7439']),\n",
              " LabeledSentence(words=['re', 'ticket', 'center', 'authorization', 'received', 'from', 'hello', 'update', 'the', 'position', 'title', 'as', 'per', 'request', 'regarding', 'access', 'please', 'provide', 'copy', 'name'], tags=['all_5834']),\n",
              " LabeledSentence(words=['rad', 'stuck', 'in', 'k', 'employee', 'data', 'is', 'not', 'replicated', 'got'], tags=['all_3094']),\n",
              " LabeledSentence(words=['office', 'pro', 'plus', 'got', 'corrupted', 'please', 'do', 'the', 'needful'], tags=['all_1067']),\n",
              " LabeledSentence(words=['manager', 'in', 'business', 'explorer', 'the', 'following', 'cannot', 'see', 'please', 'check', 'their', 'security', 'and', 'with', 'respect', 'to', 'bob'], tags=['all_451']),\n",
              " LabeledSentence(words=['locked', 'received', 'from', 'hi', 'following', 'user', 'id', 'is', 'locked', 'help'], tags=['all_367']),\n",
              " LabeledSentence(words=['unable', 'to', 'login', 'center'], tags=['all_3786']),\n",
              " LabeledSentence(words=['cannot', 'do', 'for', 'error', 'item', 'category', 'is', 'not', 'defined', 'message', 'no', 'i', 'the'], tags=['all_7071']),\n",
              " LabeledSentence(words=['not', 'able', 'to', 'login', 'hub', 'with', 'address', 'and', 'her', 'user', 'after', 'some', 'time'], tags=['all_7068']),\n",
              " LabeledSentence(words=['unable', 'to', 'view'], tags=['all_231']),\n",
              " LabeledSentence(words=['received', 'from', 'hello', 'now', 'a', 'days', 'we', 'are', 'getting', 'lot', 'of', 'other', 'report', 'in', 'dump', 'can', 'you', 'please', 'solve', 'this', 'every', 'month', 'get', 'close', 'to', 'engineering', 'our', 'system'], tags=['all_5343']),\n",
              " LabeledSentence(words=['job', 'job', 'in', 'job', 'schedule', 'at', 'received', 'from'], tags=['all_3355']),\n",
              " LabeledSentence(words=['external', 'recipient', 'is', 'unable', 'to', 'share', 'screen', 'with', 'internal', 'company', 'during', 'conference', 'call', 'error', 'message', 'all', 'saw', 'a', 'message', 'that', 'read', 'something', 'like', 'presentation', 'since', 'the', 'presenter', 'left', 'meeting', 'even', 'though', 'he', 'was', 'still', 'in', 'meeting', 'we', 'agreed', 'end', 'meeting', 'once', 'and', 'rejoin', 'but', 'issue', 'did', 'not', 'go', 'away'], tags=['all_2037']),\n",
              " LabeledSentence(words=['on', 'vacation', 'and', 'my', 'working', 'can', 'you', 'reset', 'it', 'for', 'me'], tags=['all_5288']),\n",
              " LabeledSentence(words=['collaboration', 'platform', 'for', 'business', 'to', 'sync', 'all', 'the', 'time', 'collaboration', 'platform', 'is', 'a', 'lot', 'of', 'memory', 'on', 'my', 'computer', 'it', 'trying', 'large', 'number', 'file', 'i', 'try', 'exit', 'it', 'end', 'process', 'nothing', 'works', 'would', 'like', 'if', 'possible', 'can', 'this', 'be', 'fixed', 'contact'], tags=['all_2874']),\n",
              " LabeledSentence(words=['job', 'payroll', 'na', 'u', 'in', 'job', 'schedule', 'at', 'received', 'from'], tags=['all_1928']),\n",
              " LabeledSentence(words=['ie', 'not', 'working'], tags=['all_5532']),\n",
              " LabeledSentence(words=['job', 'schedule', 'fence', 'limit', 'are', 'for'], tags=['all_5095']),\n",
              " LabeledSentence(words=['no', 'access', 'to', 'ethics', 'training', 'hello', 'i', 'cannot', 'my', 'training', 'user', 'is', 'unrecognized', 'could', 'you', 'please', 'check', 'it', 'see', 'the', 'attached', 'screen'], tags=['all_7216']),\n",
              " LabeledSentence(words=['network', 'outage', 'unable', 'to', 'connect', 'both', 'lan', 'and', 'wi', 'fi', 'location', 'contact', 'no'], tags=['all_3309']),\n",
              " LabeledSentence(words=['job', 'in', 'job', 'schedule', 'at', 'received', 'from'], tags=['all_4106']),\n",
              " LabeledSentence(words=['job', 'tax', 'interface', 'dev', 'daily', 'in', 'job', 'schedule', 'at', 'received', 'from'], tags=['all_2105']),\n",
              " LabeledSentence(words=['not'], tags=['all_6152']),\n",
              " LabeledSentence(words=['user', 'in', 'for', 'an', 'update'], tags=['all_6570']),\n",
              " LabeledSentence(words=['job', 'tool', 'tool', 'prod', 'full', 'in', 'job', 'schedule', 'at', 'received', 'from'], tags=['all_1995']),\n",
              " LabeledSentence(words=['network', 'outage', 'at', 'is', 'down', 'since', 'am', 'on', 'o', 'what', 'type', 'of', 'outage', 'x', 'network', 'circuit', 'power', 'please', 'specify', 'outage', 'top', 'site', 'no', 'when', 'did', 'it', 'start', 'on', 'o', 'maintenance', 'power', 'no', 'company', 'power', 'provider', 'network', 'maint', 'does', 'have', 'a', 'backup', 'circuit', 'no', 'active', 'na', 'contact', 'notified', 'remote', 'dialing', 'equipment', 'reset', 'working', 'vendor', 'ticket', 'global', 'vendor', 'vendor', 'additional', 'diagnostics'], tags=['all_3272']),\n",
              " LabeledSentence(words=['account', 'been', 'locked', 'received', 'from', 'my', 'account', 'had', 'locked', 'can', 'you', 'help', 'me', 'and', 'i', 'try', 'to', 'log', 'in', 'password', 'management', 'tool', 'password', 'system', 'unlock', 'all', 'the', 'account', 'also', 'in', 'best'], tags=['all_3237']),\n",
              " LabeledSentence(words=['from', 'sent', 'august', 'am', 'to', 'subject', 'hi', 'it', 'team', 'please', 'assist', 'to', 'create', 'for', 'the', 'above'], tags=['all_7465']),\n",
              " LabeledSentence(words=['unable', 'to', 'launch', 'outlook'], tags=['all_7905']),\n",
              " LabeledSentence(words=['i', 'am', 'unable', 'to', 'login', 'the', 'attendance', 'tool', 'so', 'reset', 'my', 'password'], tags=['all_2861']),\n",
              " LabeledSentence(words=['unable', 'to', 'view', 'or'], tags=['all_7660']),\n",
              " LabeledSentence(words=['setup', 'for', 'remote', 'company', 'use', 'cannot', 'be', 'logged', 'in', 'to', 'it', 'the', 'domain', 'membership', 'is', 'broken'], tags=['all_855']),\n",
              " LabeledSentence(words=['job', 'job', 'in', 'job', 'schedule', 'at', 'received', 'from'], tags=['all_1460']),\n",
              " LabeledSentence(words=['password', 'reset', 'management', 'tool', 'manager'], tags=['all_4112']),\n",
              " LabeledSentence(words=['paper', 'jam', 'for', 'insert', 'printer'], tags=['all_1900']),\n",
              " LabeledSentence(words=['job', 'job', 'in', 'job', 'schedule', 'at', 'received', 'from'], tags=['all_5115']),\n",
              " LabeledSentence(words=['job', 'in', 'job', 'schedule', 'at', 'received', 'from', 'major', 'drive', 'time', 'am', 'cannot', 'write', 'to', 'device', 'io', 'error'], tags=['all_2734']),\n",
              " LabeledSentence(words=['password', 'reset'], tags=['all_8184']),\n",
              " LabeledSentence(words=['issue', 'on', 'in', 'distributor', 'tool', 'we', 'have', 'agreed', 'price', 'with', 'many', 'of', 'the', 'for', 'a', 'given', 'period', 'and', 'this', 'is', 'through', 'condition', 'zinc', 'distributor', 'tool', 'it', 'order', 'sold', 'to', 'ship', 'combination', 'till', 'august', 'flat', 'rate', 'deployment', 'did', 'not', 'any', 'today', 'when', 'distributor', 'tried', 'book', 'condition', 'initial', 'screen', 'correct', 'price', 'but', 'item', 'selected', 'quick', 'on', 'getting', 'list', 'less', 'standard', 'discount', 'instead', 'retaining'], tags=['all_8051']),\n",
              " LabeledSentence(words=['blank', 'call', 'loud', 'noise'], tags=['all_8366']),\n",
              " LabeledSentence(words=['unable', 'to', 'change', 'password'], tags=['all_852']),\n",
              " LabeledSentence(words=['job', 'in', 'job', 'schedule', 'job', 'received', 'from', 'at'], tags=['all_7741']),\n",
              " LabeledSentence(words=['reset', 'the', 'password', 'for', 'on', 'production'], tags=['all_5032']),\n",
              " LabeledSentence(words=['network', 'outage', 'are', 'down', 'at', 'on'], tags=['all_8331']),\n",
              " LabeledSentence(words=['can', 'you', 'tell', 'me', 'the', 'phone', 'number', 'for', 'office', 'at', 'use', 'tower', 'received', 'from', 'manager', 'global', 'ethics', 'and', 'compliance'], tags=['all_5776']),\n",
              " LabeledSentence(words=['network', 'outage', 'company', 'is', 'down', 'since', 'am', 'on', 'what', 'type', 'of', 'x', 'network', 'circuit', 'power', 'please', 'specify', 'outage', 'top', 'site', 'yes', 'when', 'did', 'it', 'start', 'am', 'maintenance', 'power', 'no', 'company', 'power', 'provider', 'network', 'maint', 'does', 'have', 'a', 'backup', 'circuit', 'yes', 'active', 'no', 'contact', 'notified', 'no', 'remote', 'dialing', 'na', 'equipment', 'reset', 'na', 'working', 'na', 'vendor', 'ticket', 'global', 'vendor', 'vendor', 'additional', 'diagnostics'], tags=['all_6151']),\n",
              " LabeledSentence(words=['require', 'new', 'driver', 'for', 'local', 'printer'], tags=['all_3791']),\n",
              " LabeledSentence(words=['account', 'lock', 'out', 'issue'], tags=['all_7437']),\n",
              " LabeledSentence(words=['ticket', 'update', 'on', 'implant'], tags=['all_2641']),\n",
              " LabeledSentence(words=['password', 'reset'], tags=['all_3641']),\n",
              " LabeledSentence(words=['printer', 'not', 'kicking', 'out', 'delivery', 'received', 'from', 'hi', 'i', 'work', 'at', 'the', 'plant', 'when', 'we', 'enter', 'in', 'they', 'would', 'always', 'kick', 'delivery', 'note', 'for', 'some', 'reason', 'have', 'stopped', 'printing', 'and', 'both', 'are', 'a', 'screen', 'shot', 'below', 'that', 'am', 'set', 'up', 'output', 'device', 'can', 'you', 'help', 'to', 'make', 'our', 'automatic', 'like', 'previously'], tags=['all_6576']),\n",
              " LabeledSentence(words=['end', 'of', 'month', 'billing', 'received', 'from', 'good', 'afternoon', 'i', 'am', 'unable', 'to', 'force', 'the', 'for', 'below', 'this', 'is', 'material', 'and', 'needs', 'tool', 'before', 'today', 'please', 'help'], tags=['all_2635']),\n",
              " LabeledSentence(words=['unable', 'to', 'access', 'the', 'lunch', 'menu', 'on', 'hub', 'from', 'a', 'sent', 'august', 'to', 'subject', 'can', 'someone', 'check', 'why', 'i', 'cannot', 'did', 'something', 'change', 'in', 'collaboration', 'platform', 'this', 'should', 'be', 'available', 'everyone', 'best'], tags=['all_7067']),\n",
              " LabeledSentence(words=['job', 'job', 'in', 'job', 'schedule', 'at', 'received', 'from'], tags=['all_3899']),\n",
              " LabeledSentence(words=['spelling', 'and', 'grammar', 'when', 'it', 'always', 'up', 'cannot', 'check', 'spelling', 'cannot', 'be'], tags=['all_7316']),\n",
              " LabeledSentence(words=['account', 'unlock'], tags=['all_4433']),\n",
              " LabeledSentence(words=['ticket', 'update', 'from', 'sent', 'august', 'am', 'to', 'subject', 'ticket', 'non', 'access', 'to', 'and', 'time', 'good', 'morning', 'user', 'service', 'desk', 'expedite', 'the', 'case', 'you', 'own', 'issue', 'on', 'priority', 'assist', 'same', 'kind'], tags=['all_8472']),\n",
              " LabeledSentence(words=['my', 'outlook', 'will', 'not', 'open', 'it', 'is', 'stuck', 'with', 'a', 'screen', 'showing'], tags=['all_8389']),\n",
              " LabeledSentence(words=['the', 'for'], tags=['all_1872']),\n",
              " LabeledSentence(words=['unable', 'to', 'print', 'install', 'driver', 'for', 'printer'], tags=['all_4517']),\n",
              " LabeledSentence(words=['expense', 'report', 'will', 'not', 'submit', 'received', 'from', 'my', 'submit', 'this', 'is', 'the', 'that', 'i', 'have', 'been', 'able', 'to', 'desk', 'each', 'time', 'l', 'plant', 'manager'], tags=['all_7479']),\n",
              " LabeledSentence(words=['account', 'locked', 'in'], tags=['all_7731']),\n",
              " LabeledSentence(words=['new', 'prospect', 'within', 'the', 'system', 'issue', 'is', 'i', 'have', 'some', 'after', 'days', 'it', 'still', 'them', 'a', 'contact'], tags=['all_6941']),\n",
              " LabeledSentence(words=['my', 'computer', 'going', 'off', 'line', 'language', 'explorer', 'customer', 'number', 'telephone'], tags=['all_3470']),\n",
              " LabeledSentence(words=['telephony', 'phone', 'team', 'bad', 'connection', 'of', 'incoming', 'a', 'lot', 'cracking', 'and', 'interruption'], tags=['all_1536']),\n",
              " LabeledSentence(words=['mandatory', 'condition', 'most', 'is', 'missing', 'for', 'order', 'customer', 'master', 'could', 'you', 'please', 'check', 'what', 'wrong', 'with', 'we', 'cannot', 'create', 'delivery', 'because', 'there', 'are', 'incomplete', 'log', 'error', 'department', 'and', 'defined', 'this', 'correctly', 'should', 'be', 'tax', 'like', 'turkey', 'tax', 'free', 'trade', 'zone', 'from', 'maybe', 'to', 'added', 'some', 'country', 'also', 'have', 'ship', 'the', 'today', 'it', 'new', 'form', 'distributor', 'big', 'potential', 'so', 'priority'], tags=['all_7711']),\n",
              " LabeledSentence(words=['blue', 'screen', 'on', 'start', 'up'], tags=['all_2012']),\n",
              " LabeledSentence(words=['not', 'able', 'to', 'login', 'look', 'into', 'this', 'on', 'user', 'id', 'is'], tags=['all_1270']),\n",
              " LabeledSentence(words=['job', 'job', 'in', 'job', 'schedule', 'at', 'received', 'from'], tags=['all_3338']),\n",
              " LabeledSentence(words=['you', 'must', 'validate', 'your', 'account', 'dear', 'it', 'help', 'i', 'got', 'below', 'what', 'should', 'do', 'is', 'corporate', 'instruction', 'or', 'external', 'party', 'which', 'no', 'need', 'to', 'follow', 'please', 'advice', 'best'], tags=['all_2713']),\n",
              " LabeledSentence(words=['job', 'in', 'job', 'schedule', 'at', 'received', 'from'], tags=['all_2269']),\n",
              " LabeledSentence(words=['id', 'person', 'on', 'other', 'side', 'disconnected'], tags=['all_1118']),\n",
              " LabeledSentence(words=['job', 'job', 'in', 'job', 'schedule', 'at', 'received', 'from'], tags=['all_977']),\n",
              " LabeledSentence(words=['collaboration', 'platform', 'permission', 'help', 'i', 'made', 'a', 'mistake', 'and', 'change', 'the', 'do', 'basically', 'everything', 'on', 'following', 'page', 'to', 'see', 'if', 'there', 'was', 'way', 'restore', 'all', 'what', 'they', 'were', 'yesterday'], tags=['all_3493']),\n",
              " LabeledSentence(words=['could', 'not', 'use', 'application', 'search', 'and', 'explorer', 'analytics', 'portal', 'error', 'message', 'it', 'was', 'possible', 'to', 'retrieve', 'the', 'their', 'cannot', 'start', 'exploring', 'information', 'space', 'as', 'does', 'not', 'contain', 'any', 'data'], tags=['all_536']),\n",
              " LabeledSentence(words=['password', 'for', 'user'], tags=['all_61']),\n",
              " LabeledSentence(words=['access', 'to', 'engineering', 'tool', 'language', 'explorer', 'customer', 'number', 'telephone', 'report'], tags=['all_8355']),\n",
              " LabeledSentence(words=['blank', 'call', 'loud', 'noise', 'so'], tags=['all_3216']),\n",
              " LabeledSentence(words=['tool', 'is', 'an', 'event', 'in', 'the', 'log', 'with', 'id', 'on', 'host'], tags=['all_1743']),\n",
              " LabeledSentence(words=['my', 'telephone', 'does', 'not', 'have', 'a', 'dial', 'tone', 'and', 'i', 'cannot', 'pick', 'up', 'warehouse', 'tool', 'mail'], tags=['all_8030']),\n",
              " LabeledSentence(words=['account', 'locked', 'in'], tags=['all_5900']),\n",
              " LabeledSentence(words=['account', 'unlock', 'and', 'password', 'reset'], tags=['all_7381']),\n",
              " LabeledSentence(words=['received', 'from', 'good', 'day', 'can', 'you', 'please', 'advise', 'whether', 'is', 'going', 'through', 'at', 'the', 'moment', 'there', 'are', 'a', 'number', 'of', 'concerning', 'us', 'in', 'moment', 'we', 'cannot', 'access', 'all', 'yesterday', 'i', 'could', 'not', 'enter', 'new', 'customer', 'as', 'my', 'drop', 'down', 'were', 'fully', 'loading', 'and', 'thus', 'only', 'see', 'one', 'or', 'two', 'to', 'select', 'from', 'team', 'here', 'advised', 'that', 'lately', 'they', 'have', 'had', 'contact', 'master', 'on', 'numerous', 'certain', 'transferring', 'like', 'reps', 'by', 'our', 'finance', 'department', 'it', 'aware', 'such', 'above', 'kind'], tags=['all_3139']),\n",
              " LabeledSentence(words=['report', 'score', 'variant', 'rod', 'stock', 'is', 'working', 'for', 'some', 'in', 'the', 'plant', 'wont', 'work'], tags=['all_5389']),\n",
              " LabeledSentence(words=['registration', 'yesterday', 'i', 'my', 'password', 'via', 'the', 'manager', 'since', 'then', 'no', 'longer', 'works', 'neither', 'with', 'new', 'nor', 'old', 'password', 'error', 'message', 'or', 'domain', 'to', 'be', 'incorrect'], tags=['all_6347']),\n",
              " LabeledSentence(words=['are', 'not', 'getting', 'saved', 'from', 'server'], tags=['all_4548']),\n",
              " LabeledSentence(words=['with', 'opening', 'm', 'web', 'we'], tags=['all_4717']),\n",
              " LabeledSentence(words=['lock', 'out', 'issue', 'and', 'password', 'reset', 'user', 'id'], tags=['all_6367']),\n",
              " LabeledSentence(words=['login', 'issue', 'password', 'reset', 'received', 'from', 'help', 'desk', 'following', 'is', 'faced', 'when', 'i', 'was', 'trying', 'to', 'in', 'please', 'go', 'through', 'below', 'screen', 'shot', 'do', 'the', 'needful', 'since', 'used', 'this', 'system', 'long', 'back', 'would', 'like', 'request', 'you', 'needful', 'at'], tags=['all_5744']),\n",
              " LabeledSentence(words=['unable', 'to', 'connect', 'knowledge', 'center', 'in', 'product', 'tab'], tags=['all_5630']),\n",
              " LabeledSentence(words=['job', 'in', 'job', 'schedule', 'cold', 'received', 'from', 'at'], tags=['all_7623']),\n",
              " LabeledSentence(words=['outlook', 'stopped', 'cannot', 'receive', 'or', 'send', 'since', 'please', 'check', 'like', 'office', 'have', 'an', 'access', 'that', 'wont', 'work', 'with', 'pacific'], tags=['all_492']),\n",
              " LabeledSentence(words=['job', 'job', 'in', 'job', 'schedule', 'at', 'received', 'from'], tags=['all_2579']),\n",
              " LabeledSentence(words=['installation', 'of', 'engineering', 'received', 'from', 'dear', 'concern', 'please', 'install', 'all', 'related', 'to', 'my', 'as', 'i', 'got', 'new', 'with', 'best'], tags=['all_7107']),\n",
              " LabeledSentence(words=['uacyltoe', 'hxgaycze'], tags=['all_2045']),\n",
              " LabeledSentence(words=['evening', 'job', 'in', 'schedule', 'job', 'received', 'from', 'job', 'schedule', 'job', 'at'], tags=['all_8462']),\n",
              " LabeledSentence(words=['headset', 'cannot', 'connect', 'to', 'assign'], tags=['all_3549']),\n",
              " LabeledSentence(words=['doing', 'engineering', 'tool', 'advance', 'search', 'out', 'of', 'the', 'group', 'i', 'select', 'come', 'up', 'in', 'picked', 'titanium', 'till', 'v', 'but', 'then', 'p', 'along', 'with', 'titanium', 'and', 's', 'also', 'had', 'grade', 'field', 'as', 'was', 'a', 'for', 'drilling'], tags=['all_5497']),\n",
              " LabeledSentence(words=['s', 'on', 'password', 'help', 'desk', 'please', 'check', 'account', 'in', 'supply', 'chain'], tags=['all_1773']),\n",
              " LabeledSentence(words=['please', 'check', 'josh', 'in', 'the'], tags=['all_6747']),\n",
              " LabeledSentence(words=['unable', 'to', 'connect', 'printer', 'i', 'am', 'my', 'and', 'print', 'when', 'try', 'print', 'it', 'need', 'but', 'if', 'go', 'install', 'the', 'get', 'an', 'error', 'anyways'], tags=['all_5645']),\n",
              " LabeledSentence(words=['password', 'reset'], tags=['all_192']),\n",
              " LabeledSentence(words=['installation', 'received', 'from', 'hi', 'trying', 'to', 'install', 'for', 'travel', 'tool', 'with', 'my', 'user', 'name', 'and', 'password', 'but', 'have', 'the', 'following', 'error', 'message', 'best'], tags=['all_1937']),\n",
              " LabeledSentence(words=['on', 'the', 'rack', 'is', 'not', 'working', 'me', 'to', 'connect', 'but', 'work', 'for'], tags=['all_5505']),\n",
              " LabeledSentence(words=['schedule', 'in', 'job', 'schedule', 'batch', 'documentation', 'needs', 'to', 'be'], tags=['all_3959']),\n",
              " LabeledSentence(words=['folder', 'access', 'received', 'from', 'hi', 'please', 'get', 'user', 'id', 'to', 'below', 'location', 'with', 'warm'], tags=['all_6467']),\n",
              " LabeledSentence(words=['job', 'hot', 'in', 'job', 'schedule', 'at', 'received', 'from', 'major', 'drive', 'time', 'cannot', 'write', 'to', 'device', 'io', 'error'], tags=['all_806']),\n",
              " LabeledSentence(words=['password', 'reset', 'request'], tags=['all_8077']),\n",
              " LabeledSentence(words=['unable', 'to', 'login', 'm'], tags=['all_4022']),\n",
              " LabeledSentence(words=['evening', 'job', 'in', 'schedule', 'job', 'received', 'from', 'job', 'schedule', 'job', 'at'], tags=['all_8306']),\n",
              " LabeledSentence(words=['for', 'help', 'dear', 'it', 'the', 'following', 'is', 'the', 'entry', 'link', 'of', 'after', 'i', 'log', 'in', 'file', 'cannot', 'be', 'please', 'to', 'find', 'out', 'what', 'problem', 'adobe', 'reader', 'version', 'needs', 'two', 'links', 'best'], tags=['all_7470']),\n",
              " LabeledSentence(words=['company', 'stolen'], tags=['all_6742']),\n",
              " LabeledSentence(words=['job', 'in', 'job', 'schedule', 'received', 'from', 'at'], tags=['all_7321']),\n",
              " LabeledSentence(words=['content', 'not', 'showing', 'up', 'in', 'meeting'], tags=['all_4860']),\n",
              " LabeledSentence(words=['help', 'all', 'of', 'our', 'are', 'down', 'is', 'tool', 'cannot', 'connect', 'to', 'be', 'at', 'site'], tags=['all_2891']),\n",
              " LabeledSentence(words=['job', 'job', 'a', 'in', 'job', 'schedule', 'at', 'received', 'from'], tags=['all_6474']),\n",
              " LabeledSentence(words=['job', 'job', 'in', 'job', 'schedule', 'at', 'received', 'from'], tags=['all_4770']),\n",
              " LabeledSentence(words=['your', 'password', 'is', 'expiring', 'soon', 'from', 'sent', 'am', 'to', 'subject', 'aw', 'importance', 'high', 'hello', 'i', 'have', 'my', 'a', 'few', 'day', 'days', 'ago', 'why', 'get', 'this', 'reminder', 'please', 'inform', 'me', 'if', 'change', 'again'], tags=['all_556']),\n",
              " LabeledSentence(words=['outlook', 'is', 'not', 'opening', 'out', 'look', 'showing', 'error', 'message', 'able', 'to', 'access', 'mail'], tags=['all_2997']),\n",
              " LabeledSentence(words=['job', 'job', 'in', 'job', 'schedule', 'at', 'received', 'from'], tags=['all_2223']),\n",
              " LabeledSentence(words=['cannot', 'login', 'to', 'telephony', 'hello', 'log', 'in', 'telephony', 'see', 'error', 'message', 'attached', 'the', 'i', 'tried', 'so', 'many', 'times', 'that', 'my', 'password', 'is', 'surely', 'locked', 'too'], tags=['all_8236']),\n",
              " LabeledSentence(words=['unable', 'to', 'access', 'bob'], tags=['all_2271']),\n",
              " LabeledSentence(words=['unable', 'to', 'extend', 'the', 'display', 'on', 'external', 'monitor'], tags=['all_5075']),\n",
              " LabeledSentence(words=['new', 'user', 'id'], tags=['all_6949']),\n",
              " LabeledSentence(words=['cannot', 'see', 'receipts', 'for', 'travel', 'reimbursement', 'the', 'link', 'to', 'and', 'form', 'by', 'team', 'member', 'is', 'broken', 'in'], tags=['all_7149']),\n",
              " LabeledSentence(words=['posting', 'error', 'urgently', 'received', 'from', 'hi', 'team', 'kindly', 'create', 'a', 'ticket', 'and', 'assign', 'it', 'to', 'me'], tags=['all_2732']),\n",
              " LabeledSentence(words=['manually', 'have', 'new', 'in', 'the', 'if', 'i', 'want', 'to', 'extend', 'material', 'master', 'system', 'does', 'not', 'find', 'any', 'iso', 'anti', 'code', 'when', 'use', 'code', 'night', 'rage', 'comes', 'message', 'anti', 'and', 'already', 'used', 'by', 'material', 'please', 'check', 'attachment'], tags=['all_6230']),\n",
              " LabeledSentence(words=['job', 'eu', 'tool', 'notch', 'in', 'job', 'schedule', 'at', 'received', 'from'], tags=['all_5899']),\n",
              " LabeledSentence(words=['job', 'hand', 'in', 'job', 'schedule', 'at', 'received', 'from'], tags=['all_1353']),\n",
              " LabeledSentence(words=['hardware', 'item', 'coming', 'wrong', 'in', 'warehouse', 'tool', 'please', 'change', 'logic', 'that', 'currently', 'for', 'to', 'include', 'classification', 'of', 'how', 'see', 'attached', 'assign'], tags=['all_2535']),\n",
              " LabeledSentence(words=['device', 'generating', 'at', 'least', 'internal', 'outbreak', 'for', 'up', 'within', 'm', 'in', 'incident', 'overview', 'we', 'are', 'seeing', 'your', 'traffic', 'blocked', 'from', 'well', 'to', 'port', 'up', 'of', 'several', 'internal', 'this', 'may', 'indicate', 'unauthorized', 'reconnaissance', 'scanning', 'a', 'misconfiguration', 'or', 'authorized', 'discovery', 'being', 'blocked', 'by', 'the', 'you', 'via', 'high', 'priority', 'ticket', 'and', 'phone', 'call', 'per', 'our', 'default', 'event', 'handling', 'if', 'would', 'like', 'us', 'handle', 'these', 'differently', 'in', 'future', 'see', 'below', 'have', 'any', 'further', 'please', 'let', 'know', 'either', 'corresponding', 'back', 'soc', 'calling', 'only', 'explicit', 'notification', 'medium', 'no', 'call', 'automatically', 'resolve', 'portal', 'explicit', 'but', 'will', 'be', 'available', 'portal'], tags=['all_6932']),\n",
              " LabeledSentence(words=['unable', 'to', 'detect', 'the', 'dell', 'adapter'], tags=['all_3535']),\n",
              " LabeledSentence(words=['him', 'time', 'received', 'from', 'team', 'we', 'need', 'to', 'update', 'the', 'report', 'for', 'him', 'because', 'of', 'new', 'employee', 'please', 'see', 'below', 'by', 'broadcast', 'august', 'am', 'to', 'subject', 'aw', 'added', 'hello', 'everybody', 'in', 'must', 'also', 'be', 'length', 'can', 'arrange', 'accordingly', 'yours', 'sincerely', 'this', 'communication', 'is', 'intended', 'solely', 'use', 'and', 'may', 'contain', 'information', 'that', 'confidential', 'worthy', 'protection', 'or', 'from', 'disclosure', 'under', 'applicable', 'law', 'distribution', 'distribution', 'reproduction', 'this', 'by', 'other', 'than', 'strictly', 'if', 'you', 'message', 'mistake', 'notify', 'sender', 'delete', 'message', 'company', 'select', 'following', 'link', 'view', 'disclaimer', 'an', 'alternate', 'language'], tags=['all_6624']),\n",
              " LabeledSentence(words=['dell', 'blue', 'screen', 'error', 'user', 'tried', 'to', 'recover', 'and', 'safe', 'mode', 'restart', 'all', 'the', 'done', 'help', 'service', 'tag', 'asset', 'os', 'win', 'c'], tags=['all_6678']),\n",
              " LabeledSentence(words=['printing', 'received', 'from', 'hello', 'all', 'do', 'you', 'have', 'any', 'news', 'about', 'the', 'issue', 'of', 'and', 'production', 'when', 'is'], tags=['all_7826']),\n",
              " LabeledSentence(words=['outlook', 'was', 'not', 'password', 'user', 'change', 'the', 'through', 'getting', 'a', 'prompt'], tags=['all_2724']),\n",
              " LabeledSentence(words=['too', 'until', 'engineering', 'tool', 'received', 'from', 'hello', 'trouble', 'with', 'cannot', 'do', 'sync', 'no', 'greet', 'best'], tags=['all_4074']),\n",
              " LabeledSentence(words=['be', 'not', 'loading', 'all', 'environment', 'is', 'showing', 'and', 'unable', 'to', 'add', 'patch', 'but', 'same', 'issue', 'it', 'also', 'later', 'manually', 'added', 'different', 'environment', 'can', 'you', 'please', 'check', 'how', 'got', 'without', 'making', 'any', 'refer', 'computer'], tags=['all_6175']),\n",
              " LabeledSentence(words=['job', 'job', 'in', 'job', 'schedule', 'at', 'received', 'from'], tags=['all_645']),\n",
              " LabeledSentence(words=['access', 'to', 's', 'drive', 'received', 'from', 'hello', 'kindly', 'request', 'give'], tags=['all_470']),\n",
              " LabeledSentence(words=['account', 'locked', 'out'], tags=['all_6738']),\n",
              " LabeledSentence(words=['reset', 'the', 'password', 'for', 'on', 'him', 'hi', 'all', 'user', 'need', 'their', 'reset'], tags=['all_3103']),\n",
              " LabeledSentence(words=['it', 'help', 'warning', 'can', 'only', 'detect', 'less', 'than'], tags=['all_3325']),\n",
              " LabeledSentence(words=['please', 'reset', 'password', 'production', 'language', 'explorer', 'customer', 'number', 'telephone', 'user'], tags=['all_5888']),\n",
              " LabeledSentence(words=['repeat', 'outbound', 'connection', 'for', 'user', 'id', 'place', 'in', 'quarantine', 'we', 'are', 'seeing', 'your', 'device', 'generating', 'a', 'high', 'volume', 'of', 'traffic', 'blocked', 'from', 'to', 'port', 'remote', 'procedure', 'call', 'external', 'host', 'this', 'may', 'indicate', 'misconfiguration', 'where', 'the', 'is', 'blocking', 'legitimate', 'also', 'reaching', 'out', 'malicious', 'or', 'worm', 'code', 'incident', 'you', 'via', 'medium', 'priority', 'ticket', 'and', 'per', 'our', 'default', 'event', 'handling', 'if', 'would', 'like', 'us', 'handle', 'these', 'differently', 'future', 'see', 'below', 'have', 'any', 'further', 'please', 'let', 'know', 'either', 'by', 'corresponding', 'back', 'soc', 'calling', 'at', 'full', 'login', 'failure', 'explicit', 'notification', 'phone', 'call', 'automatically', 'resolve', 'directly', 'portal', 'no', 'explicit', 'but', 'will', 'be', 'available', 'portal'], tags=['all_5843']),\n",
              " LabeledSentence(words=['cannot', 'make', 'or', 'receive', 'on'], tags=['all_6302']),\n",
              " LabeledSentence(words=['to', 'be', 'made', 'as', 'stand', 'by', 'own', 'received', 'from', 'dear', 'sir', 'number', 'should', 'it', 'not', 'connected', 'network', 'we', 'are', 'for', 'machine', 'require', 'a', 'separate', 'kindly', 'do', 'the', 'needful'], tags=['all_7959']),\n",
              " LabeledSentence(words=['saved', 'over', 'excel', 'file', 'received', 'from', 'i', 'have', 'accidentally', 'saved', 'as', 'an', 'another', 'file', 'is', 'there', 'a', 'way', 'to', 'recover', 'few', 'days', 'ago'], tags=['all_2350']),\n",
              " LabeledSentence(words=['job', 'in', 'job', 'schedule', 'at', 'received', 'from'], tags=['all_1348']),\n",
              " LabeledSentence(words=['setup', 'eel', 'third', 'consulting'], tags=['all_446']),\n",
              " LabeledSentence(words=['customer', 'catalogue', 'and', 'collaboration', 'tool', 'is', 'not', 'working'], tags=['all_735']),\n",
              " LabeledSentence(words=['unable', 'to', 'access', 'forecast', 'plan', 'in'], tags=['all_7328']),\n",
              " LabeledSentence(words=['unable', 'to', 'submit', 'a', 'discount', 'form', 'from', 'collaboration', 'platform'], tags=['all_6322']),\n",
              " LabeledSentence(words=['unable', 'to', 'print', 'production', 'error', 'production', 'order', 'interface', 'since', 'last', 'hour', 'user', 'was', 'doing', 'half', 'day', 'and', 'that', 'he', 'will', 'contact', 'again', 'on', 'for', 'this', 'issue', 'not', 'sure', 'if', 'rest', 'of', 'in', 'plant', 'facing', 'same', 'information', 'issue', 'with', 'concern', 'team', 'connection', 'system', 'production', 'order', 'interface', 'destination', 'is'], tags=['all_4795']),\n",
              " LabeledSentence(words=['does', 'not', 'work', 'can', 'be', 'switched', 'on', 'by', 'sent', 'august', 'to', 'subject', 'on', 'afterwards', 'no', 'is', 'possible', 'also', 'tried', 'with', 'a', 'different', 'keyboard', 'change', 'yours', 'sincerely', 'grinding', 'service'], tags=['all_7574']),\n",
              " LabeledSentence(words=['monitor', 'on', 'gray', 'instrument', 'will', 'not', 'stay', 'turned', 'on'], tags=['all_1198']),\n",
              " LabeledSentence(words=['ie', 'the', 'browser', 'is', 'to', 'the', 'hotel', 'address'], tags=['all_5489']),\n",
              " LabeledSentence(words=['ticket', 'update', 'for', 'implant'], tags=['all_5798']),\n",
              " LabeledSentence(words=['delete', 'the', 'charm', 'since', 'it', 'is', 'no', 'longer', 'request', 'you', 'to', 'above'], tags=['all_4362']),\n",
              " LabeledSentence(words=['add', 'user', 'to', 'active', 'directory', 'remove', 'from', 'this', 'ad'], tags=['all_1910']),\n",
              " LabeledSentence(words=['access', 'issue', 'high', 'priority', 'is', 'getting', 'in', 'when', 'she', 'to', 'create', 'and', 'order', 'this', 'her', 'main', 'function', 'unable', 'proceed', 'note', 'from', 'a', 'server', 'error', 'trying', 'production', 'the', 'message', 'connection', 'system', 'production', 'order', 'interface', 'with', 'destination', 'production', 'order', 'interface', 'not', 'opening', 'an', 'connection', 'other', 'enter', 'user', 'id', 'of', 'issue', 'transaction', 'needs', 'or', 'was', 'working', 'with', 'describe', 'see', 'above'], tags=['all_3197']),\n",
              " LabeledSentence(words=['unable', 'to', 'access', 'user', 'for', 'an', 'issue', 'where', 'after', 'her', 'id', 'got', 'last', 'i', 'checked', 'in', 'password', 'management', 'tool', 'and', 'its', 'not', 'showing', 'any', 'under', 'name', 'only', 'active', 'directory', 'please', 'help', 'check', 'with', 'the', 'at', 'on', 'this', 'as', 'she', 'needs', 'production', 'old', 'new'], tags=['all_1838']),\n",
              " LabeledSentence(words=['last', 'login', 'on', 'company', 'received', 'from', 'good', 'day', 'please', 'assist', 'can', 'you', 'check', 'was', 'the'], tags=['all_5723']),\n",
              " LabeledSentence(words=['replace', 'internal', 'on', 'e', 'due', 'to', 'cracking', 'issue'], tags=['all_7680']),\n",
              " LabeledSentence(words=['job', 'payroll', 'na', 'u', 'in', 'job', 'schedule', 'at', 'received', 'from'], tags=['all_631']),\n",
              " LabeledSentence(words=['not', 'able', 'to', 'login', 'attendance', 'tool', 'i', 'am', 'application', 'my', 'user', 'id', 'is'], tags=['all_6096']),\n",
              " LabeledSentence(words=['transfer', 'calendar', 'not', 'showing', 'on', 'outlook'], tags=['all_521']),\n",
              " LabeledSentence(words=['unlock', 'account', 'in', 'cell', 'phone', 'the', 'and', 'pinto', 'hello', 'team', 'could', 'you', 'please'], tags=['all_7648']),\n",
              " LabeledSentence(words=['access', 'received', 'from', 'i', 'have', 'been', 'given', 'the', 'to', 'many', 'for', 'logging', 'into', 'recently', 'password', 'checked', 'that', 'it', 'was', 'unlocked', 'in', 'password', 'management', 'tool', 'and', 'when', 'tried', 'new', 'one', 'twice', 'without', 'working', 'my', 'old', 'password', 'then', 'after', 'not', 'opening', 'came', 'message', 'of', 'to', 'need', 't', 'maintenance', 'supervisor'], tags=['all_5439']),\n",
              " LabeledSentence(words=['not', 'working', 'link', 'is', 'giving', 'error'], tags=['all_3898']),\n",
              " LabeledSentence(words=['wont', 'update', 'their', 'driver', 'i', 'cannot', 'print', 'at', 'all', 'the', 'status', 'of', 'have', 'to', 'are', 'need', 'update', 'however', 'when', 'try', 'it', 'will', 'not', 'it', 'but', 'quits', 'half', 'way', 'through', 'installation'], tags=['all_3994']),\n",
              " LabeledSentence(words=['circuit', 'outage', 'carrier', 'is', 'down', 'since', 'am', 'on', 'what', 'type', 'of', 'network', 'x', 'circuit', 'power', 'please', 'specify', 'outage', 'top', 'site', 'no', 'when', 'did', 'it', 'start', 'am', 'maintenance', 'power', 'no', 'company', 'power', 'provider', 'network', 'maint', 'does', 'have', 'a', 'backup', 'yes', 'active', 'yes', 'contact', 'notified', 'remote', 'dialing', 'equipment', 'reset', 'working', 'vendor', 'ticket', 'global', 'vendor', 'vendor', 'additional', 'diagnostics'], tags=['all_360']),\n",
              " LabeledSentence(words=['with', 'opening', 'in', 'the', 'explorer'], tags=['all_7404']),\n",
              " LabeledSentence(words=['re', 'deployment', 'notification', 'telephony', 'received', 'from', 'hi', 'i', 'was', 'on', 'vacation', 'when', 'your', 'sent', 'last', 'week', 'and', 'only', 'to', 'see', 'it', 'my', 'return', 'before', 'the', 'automatically', 'deployment', 'a', 'general', 'note', 'unless', 'there', 'is', 'critical', 'security', 'risk', 'these', 'should', 'be', 'limited', 'once', 'month', 'so', 'far', 'this', 'month', 'third', 'you', 'may', 'not', 'realize', 'impact', 'our', 'especially', 'unannounced', 'in', 'addition', 'with', 'similarly', 'who', 'are', 'working', 'directly', 'do', 'think', 'best', 'practice', 'deploy', 'all', 'at', 'same', 'time', 'of', 'yesterday', 'that', 'were', 'operating', 'for', 'over', 'during', 'morning'], tags=['all_7293']),\n",
              " LabeledSentence(words=['is', 'unable', 'to', 'login', 'ticketing', 'tool'], tags=['all_5652']),\n",
              " LabeledSentence(words=['job', 'job', 'in', 'job', 'schedule', 'at', 'received', 'from'], tags=['all_4467']),\n",
              " LabeledSentence(words=['unable', 'to', 'connect', 'network', 'on'], tags=['all_5025']),\n",
              " LabeledSentence(words=['hello', 'a', 'termination', 'for', 'effective', 'been', 'from', 'sent', 'am', 'to', 'subject', 'the', 'terminate', 'action', 'click', 'link', 'to', 'view', 'here'], tags=['all_1074']),\n",
              " LabeledSentence(words=['unlocked', 'account'], tags=['all_4180']),\n",
              " LabeledSentence(words=['unable', 'to', 'save', 'from', 'business', 'client'], tags=['all_8149']),\n",
              " LabeledSentence(words=['unable', 'to', 'access'], tags=['all_7745']),\n",
              " LabeledSentence(words=['error', 'login', 'on', 'to', 'the', 'system', 'user', 'manager', 'name', 'user', 'tried', 'password', 'management', 'tool', 'manager', 'unlocked', 'id', 'caller', 'confirmed', 'that', 'he', 'was', 'able', 'login', 'issue', 'resolved'], tags=['all_3621']),\n",
              " LabeledSentence(words=['discount', 'form', 'issue', 'from', 'sent', 'to', 'subject', 'amar', 're', 'con', 'team', 'please', 'help', 'me', 'check', 'collaboration', 'platform', 'he', 'is', 'getting', 'this', 'error', 'with', 'the', 'tool', 'we', 'already', 'to', 'and', 'its', 'not', 'an'], tags=['all_2808']),\n",
              " LabeledSentence(words=['is', 'not', 'direct', 'team', 'revenue', 'to'], tags=['all_7757']),\n",
              " LabeledSentence(words=['conversion', 'computer', 'ewe', 'port'], tags=['all_6356']),\n",
              " LabeledSentence(words=['install', 'company', 'for', 'ewe'], tags=['all_4881']),\n",
              " LabeledSentence(words=['reset', 'the', 'password', 'for', 'on', 'production'], tags=['all_6006']),\n",
              " LabeledSentence(words=['connection', 'with', 'site', 'manager', 'well', 'i', 'have', 'fighting', 'this', 'all', 'week', 'our', 'technical', 'department', 'been', 'helping', 'also', 'just', 'to', 'refresh', 'your', 'memory', 'we', 'are', 'trouble', 'the', 'cloud', 'history', 'a', 'total', 'of', 'five', 'and', 'them', 'as', 'each', 'one', 'is', 'complete', 'first', 'two', 'worked', 'still', 'work', 'fine', 'third', 'dropping', 'off', 'cloud', 'wont', 'connect', 'at', 'now', 'four', 'never', 'did', 'tried', 'unit', 'three', 'building', 'luck', 'took', 'home', 'connected', 'it', 'my', 'can', 'see', 'on', 'gate', 'manager', 'use', 'these', 'in', 'every', 'machine', 'build', 'so', 'for', 'help', 'from', 'company', 'some', 'direction', 'realize', 'might', 'not', 'be', 'familiar', 'product', 'attached', 'simple', 'guide'], tags=['all_3971']),\n",
              " LabeledSentence(words=['ethics', 'login', 'issue', 'hello', 'would', 'you', 'please', 'support', 'welcome', 'to', 'the', 'company', 'business', 'conduct', 'center', 'ethics', 'training', 'site', 'our', 'indicate', 'that', 'login', 'used', 'access', 'this', 'site', 'from', 'company', 'collaboration', 'platform', 'do', 'not', 'match', 'we', 'have', 'on', 'file', 'within', 'active', 'directory', 'submit', 'a', 'ticket', 'global', 'support', 'ensure', 'your', 'network', 'id', 'is', 'correctly', 'into'], tags=['all_8221']),\n",
              " LabeledSentence(words=['the', 'action', 'for', 'hello', 'a', 'effective', 'been'], tags=['all_3168']),\n",
              " LabeledSentence(words=['not', 'able', 'to', 'print', 'from', 'tool'], tags=['all_2150']),\n",
              " LabeledSentence(words=['is', 'not', 'able', 'to', 'connect', 'with', 'telephony', 'interaction', 'error', 'message', 'unable', 'log', 'on', 'for', 'the', 'following', 'reason', 'read', 'from', 'network', 'stream', 'user', 'see', 'attached', 'picture'], tags=['all_5003']),\n",
              " LabeledSentence(words=['outlook', 'not', 'loading'], tags=['all_5855']),\n",
              " LabeledSentence(words=['getting', 'off', 'was', 'about', 'today', 'and', 'then', 'again', 'i', 'have', 'a', 'problem', 'with', 'being', 'almost', 'every', 'day'], tags=['all_2485']),\n",
              " LabeledSentence(words=['password', 'reset', 'collaboration', 'platform', 'problem', 'received', 'from', 'hello', 'i', 'my', 'this', 'morning', 'with', 'manager', 'but', 'am', 'collaboration', 'platform', 'on', 'collaboration', 'platform', 'it', 'me', 'to', 'enter', 'the', 'new', 'again', 'and', 'again', 'rest', 'office', 'both', 'mobile', 'are', 'working', 'password', 'just', 'is', 'a', 'problem', 'any', 'many'], tags=['all_4708']),\n",
              " LabeledSentence(words=['how', 'can', 'i', 'send', 'a', 'video', 'to', 'someone', 'outside', 'of', 'company', 'language', 'explorer', 'customer', 'number', 'telephone', 'it', 'is', 'large', 'attach', 'an'], tags=['all_7485']),\n",
              " LabeledSentence(words=['job', 'in', 'job', 'schedule', 'at', 'received', 'from'], tags=['all_486']),\n",
              " LabeledSentence(words=['unable', 'to', 'print', 'from', 'printer'], tags=['all_4515']),\n",
              " LabeledSentence(words=['upgrade', 'on', 'the', 'in', 'for', 'an', 'issue', 'where', 'there', 'was', 'supposed', 'to', 'be', 'a', 'but', 'that', 'are', 'still', 'and', 'its', 'loop'], tags=['all_5341']),\n",
              " LabeledSentence(words=['unable', 'to', 'login', 'tool', 'time'], tags=['all_44']),\n",
              " LabeledSentence(words=['i', 'need', 'my', 'password', 'management', 'tool', 'password', 'manager', 'reset'], tags=['all_52']),\n",
              " LabeledSentence(words=['please', 'call', 'me', 'back', 'tomorrow', 'at', 'am', 'central', 'time', 'received', 'from', 'reason', 'with', 'the', 'new', 'outlook', 'many', 'no', 'longer', 'work', 'yours', 'sincerely', 'use', 'technical', 'advice', 'and', 'company', 'registered', 'office', 'of', 'company', 'registration', 'law', 'bad', 'this', 'communication', 'is', 'intended', 'solely', 'for', 'use', 'may', 'contain', 'information', 'that', 'confidential', 'worthy', 'protection', 'or', 'from', 'disclosure', 'under', 'applicable', 'law', 'distribution', 'distribution', 'reproduction', 'this', 'by', 'other', 'than', 'strictly', 'if', 'you', 'message', 'mistake', 'notify', 'sender', 'delete', 'message', 'select', 'following', 'link', 'to', 'view', 'disclaimer', 'in', 'an', 'alternate', 'language'], tags=['all_5954']),\n",
              " LabeledSentence(words=['ticket', 'update', 'on', 'implant'], tags=['all_1593']),\n",
              " LabeledSentence(words=['problem', 'with', 'shop', 'in', 'as'], tags=['all_3829']),\n",
              " LabeledSentence(words=['collaboration', 'platform', 'is', 'me', 'to', 'login', 'at', 'each', 'page', 'please', 'assist', 'with', 'keeping', 'my', 'account', 'logged', 'in'], tags=['all_8137']),\n",
              " LabeledSentence(words=['job', 'in', 'job', 'schedule', 'arc', 'received', 'from', 'at'], tags=['all_7228']),\n",
              " LabeledSentence(words=['access', 'issue', 'hello', 'team', 'on', 'cannot', 'connect', 'to', 'he', 'can', 'but', 'once', 'small', 'window', 'below', 'up', 'shortly', 'and', 'disconnected', 'second', 'picture', 'i', 'checked', 'device', 'manager', 'could', 'not', 'find', 'other', 'in', 'his', 'other', 'network', 'have', 'please', 'give', 'us', 'your', 'advice'], tags=['all_4224']),\n",
              " LabeledSentence(words=['new', 'order', 'from', 'sent', 'am', 'to', 'subject', 'notification', 're', 'hello', 'forwarding', 'the', 'trailing', 'mail', 'received', 'kindly', 'do', 'needful'], tags=['all_5378']),\n",
              " LabeledSentence(words=['ethics', 'login', 'issue', 'not', 'able', 'to', 'please', 'find', 'the', 'for', 'same', 'and', 'kindly', 'help', 'regarding', 'this', 'issue'], tags=['all_2089']),\n",
              " LabeledSentence(words=['office', 'upgrade', 'from', 'to'], tags=['all_5538']),\n",
              " LabeledSentence(words=['access', 'point', 'defeat'], tags=['all_3571']),\n",
              " LabeledSentence(words=['potential', 'security', 'issue', 'with', 'the', 'update'], tags=['all_2465']),\n",
              " LabeledSentence(words=['interface', 'is', 'down', 'on', 'switch', 'since', 'am'], tags=['all_1409']),\n",
              " LabeledSentence(words=['unlock'], tags=['all_5557']),\n",
              " LabeledSentence(words=['account', 'unlock'], tags=['all_5181']),\n",
              " LabeledSentence(words=['job', 'in', 'job', 'schedule', 'received', 'from', 'at'], tags=['all_7642']),\n",
              " LabeledSentence(words=['password', 'reset', 'does', 'not', 'work', 'in', 'ticket', 'no', 'from', 'sent', 'to', 'subject', 'hello', 'is', 'trouble', 'to', 'his', 'whenever', 'he', 'trying', 'the', 'password', 'it', 'that', 'your', 'been', 'sent', 'provided', 'address', 'but', 'receive', 'any', 'mail', 'we', 'have', 'checked', 'and', 'rightly', 'put', 'address', 'please', 'help'], tags=['all_5544']),\n",
              " LabeledSentence(words=['urgent', 'help', 'mobile', 'issue', 'received', 'from', 'were', 'sorry', 'you', 'cannot', 'connect', 'to', 'the', 'server', 'because', 'it', 'does', 'not', 'have', 'a', 'certificate', 'contact', 'your', 'administrator', 'for', 'assistance'], tags=['all_2801']),\n",
              " LabeledSentence(words=['mi', 'technical', 'error', 'across', 'location', 'in', 'we', 'are', 'a', 'on', 'the', 'system', 'and', 'i', 'cannot', 'even', 'log', 'off', 'contact', 'number'], tags=['all_4435']),\n",
              " LabeledSentence(words=['mobile', 'phone', 'no', 'receipt', 'for', 'user', 'and', 'would', 'you', 'please', 'contact', 'above', 'as', 'they', 'are', 'currently', 'not', 'on', 'their', 'phone', 'note', 'that', 'outside', 'of'], tags=['all_4428']),\n",
              " LabeledSentence(words=['need', 'to', 'remote', 'access', 'repair', 'system', 'used', 'by', 'the', 'factory', 'which', 'is', 'part', 'of', 'an', 'it', 'consultant', 'in', 'past', 'create', 'custom', 'and', 'support', 'business', 'on', 'production', 'floor', 'her', 'id', 'was', 'she', 'will', 'require', 'also', 'along', 'with', 'administrative', 'this', 'been', 'down', 'for', 'internal', 'at', 'have', 'not', 'able', 'resolve'], tags=['all_2783']),\n",
              " LabeledSentence(words=['production', 'order', 'grade', 'is', 'partially', 'printed', 'in', 'please', 'see', 'example', 'attached', 'en', 'it', 'fully'], tags=['all_5089']),\n",
              " LabeledSentence(words=['job', 'eu', 'tool', 'notch', 'in', 'job', 'schedule', 'at', 'received', 'from'], tags=['all_6265']),\n",
              " LabeledSentence(words=['job', 'in', 'job', 'schedule', 'at', 'received', 'from'], tags=['all_4014']),\n",
              " LabeledSentence(words=['meeting', 'freezing', 'unable', 'to', 'join', 'a', 'meeting', 'freezing'], tags=['all_529']),\n",
              " LabeledSentence(words=['create', 'business', 'partner', 'id', 'received', 'from', 'hello', 'team', 'can', 'you', 'please', 'a', 'for', 'in', 'solution', 'manager'], tags=['all_1164']),\n",
              " LabeledSentence(words=['meeting', 'received', 'from', 'good', 'morning', 'i', 'had', 'to', 'reset', 'my', 'password', 'again', 'and', 'lost', 'option', 'for', 'setting', 'up', 'a', 'again', 'can', 'you', 'please', 'help', 'me', 'cannot', 'recall', 'how', 'were', 'able', 'bring', 'it', 'back', 'the', 'last', 'time'], tags=['all_55']),\n",
              " LabeledSentence(words=['complaint', 'i', 'create', 'a', 'the', 'is', 'not', 'in', 'to', 'approval', 'please', 'help', 'me'], tags=['all_6047']),\n",
              " LabeledSentence(words=['release', 'access', 'to', 'lean', 'received', 'from', 'with', 'best'], tags=['all_765']),\n",
              " LabeledSentence(words=['job', 'job', 'in', 'job', 'schedule', 'at', 'received', 'from'], tags=['all_3359']),\n",
              " LabeledSentence(words=['unable', 'to', 'communicate', 'saving', 'c', 'printer'], tags=['all_4508']),\n",
              " LabeledSentence(words=['ticket', 'update', 'on', 'ticket', 'no'], tags=['all_7334']),\n",
              " LabeledSentence(words=['ticket', 'update', 'for'], tags=['all_5177']),\n",
              " LabeledSentence(words=['connection', 'to', 'the', 'server', 'not', 'possible', 'due', 'administration', 'error', 'message', 'in', 'mail', 'this', 'process', 'was', 'please', 'contact', 'system', 'administrator', 'no', 'open'], tags=['all_1048']),\n",
              " LabeledSentence(words=['support', 'with', 'received', 'from', 'hello', 'could', 'you', 'please', 'help', 'us', 'to', 'add', 'the', 'below', 'engineering', 'tool', 'de', 'precision', 'sa', 'overcast', 'sa', 'en', 'engineer'], tags=['all_3387']),\n",
              " LabeledSentence(words=['ticket'], tags=['all_3879']),\n",
              " LabeledSentence(words=['job', 'job', 'in', 'job', 'schedule', 'at', 'received', 'from'], tags=['all_3362']),\n",
              " LabeledSentence(words=['account', 'unlock'], tags=['all_3655']),\n",
              " LabeledSentence(words=['cannot', 'be', 'we', 'are', 'serious', 'with', 'shopping', 'in', 'a', 'buyer', 'group', 'of', 'is', 'and', 'not', 'changeable', 'since', 'this', 'to', 'different', 'porch', 'it', 'an', 'error', 'that', 'only', 'when', 'need', 'immediate', 'action', 'on', 'this', 'no', 'one', 'can', 'create', 'at', 'all'], tags=['all_4585']),\n",
              " LabeledSentence(words=['unable', 'to', 'boot'], tags=['all_5820']),\n",
              " LabeledSentence(words=['re', 'deployment', 'notification', 'telephony', 'received', 'from', 'i', 'had', 'sent', 'last', 'week', 'with', 'the', 'target', 'list', 'was', 'at', 'am', 'in', 'morning', 'please', 'find', 'attached', 'copy', 'for', 'your', 'reference', 'if', 'you', 'would', 'have', 'any'], tags=['all_7349']),\n",
              " LabeledSentence(words=['unable', 'to', 'login'], tags=['all_5534']),\n",
              " LabeledSentence(words=['access', 'to', 'business', 'client', 'language', 'explorer', 'customer', 'number', 'summary', 'cannot', 'seem', 'the', 'from', 'application', 'that', 'is', 'on', 'my', 'computer', 'it', 'does', 'not', 'take', 'me', 'same', 'page', 'have'], tags=['all_135']),\n",
              " LabeledSentence(words=['audio', 'not', 'working', 'error', 'no', 'device', 'computer', 'name', 'service', 'tag', 'phone'], tags=['all_6465']),\n",
              " LabeledSentence(words=['print', 'check'], tags=['all_6433']),\n",
              " LabeledSentence(words=['unable', 'to', 'open', 'outlook', 'and', 'mobile', 'device', 'activation'], tags=['all_1426']),\n",
              " LabeledSentence(words=['unable', 'to', 'login', 'ethics', 'when', 'trying', 'ethics', 'user', 'the', 'following', 'error', 'welcome', 'company', 'business', 'conduct', 'center', 'ethics', 'training', 'site', 'our', 'indicate', 'that', 'login', 'you', 'used', 'access', 'this', 'site', 'from', 'company', 'collaboration', 'platform', 'do', 'not', 'match', 'we', 'have', 'on', 'file', 'within', 'active', 'directory', 'please', 'submit', 'a', 'ticket', 'global', 'support', 'ensure', 'your', 'network', 'id', 'is', 'correctly'], tags=['all_4162']),\n",
              " LabeledSentence(words=['the', 'computer', 'system', 'with', 'a', 'blue', 'screen', 'water', 'accidentally', 'into', 'the', 'computer'], tags=['all_3315']),\n",
              " LabeledSentence(words=['job', 'in', 'job', 'schedule', 'at', 'received', 'from'], tags=['all_5952']),\n",
              " LabeledSentence(words=['re', 'ticket', 'center', 'authorization', 'received', 'from', 'hi', 'this', 'is'], tags=['all_5794']),\n",
              " LabeledSentence(words=['job', 'job', 'in', 'job', 'schedule', 'at', 'received', 'from'], tags=['all_612']),\n",
              " LabeledSentence(words=['did', 'we', 'send', 'out', 'automatic', 'upgrade', 'language', 'explorer', 'customer', 'number', 'telephone', 'upgrade'], tags=['all_6681']),\n",
              " LabeledSentence(words=['cannot', 'log', 'on', 'disconnected', 'and', 'we', 'now', 'before', 'the', 'disconnection', 'it', 'took', 'several', 'to', 'conduct', 'any', 'action', 'in'], tags=['all_2753']),\n",
              " LabeledSentence(words=['access', 'language', 'explorer', 'customer', 'number', 'telephone', 'summary', 'hi', 'for', 'the', 'following', 'is', 'not', 'working'], tags=['all_5971']),\n",
              " LabeledSentence(words=['account', 'unlock'], tags=['all_5775']),\n",
              " LabeledSentence(words=['cannot', 'see', 'all', 'his', 'customer', 'in', 'm', 'does', 'not', 'find', 'three', 'that', 'are', 'included', 'plan', 'on', 'the', 'my', 'active', 'view', 'also', 'he', 'some', 'list', 'do', 'belong', 'to', 'him', 'attached', 'this', 'ticket'], tags=['all_8430']),\n",
              " LabeledSentence(words=['are', 'getting', 'fail', 'due', 'to', 'error', 'issue'], tags=['all_1346']),\n",
              " LabeledSentence(words=['unable', 'to', 'update', 'password', 'on', 'the', 'password', 'management', 'tool', 'manager'], tags=['all_110']),\n",
              " LabeledSentence(words=['password', 'reset', 'the', 'as', 'marcel', 'had', 'logging', 'in', 'after', 'his', 'password', 'management', 'tool'], tags=['all_3526']),\n",
              " LabeledSentence(words=['with', 'quote', 'engine', 'within', 'company', 'i', 'logged', 'onto', 'to', 'then', 'for', 'a', 'part', 'on', 'the', 'configure', 'button', 'this', 'would', 'normally', 'start', 'instead', 'following', 'error', 'attached'], tags=['all_7408']),\n",
              " LabeledSentence(words=['received', 'from', 'there', 'is', 'an', 'employee', 'that', 'been', 'who', 'still', 'access', 'to', 'company', 'on', 'his', 'personal', 'device', 'commodity', 'manager'], tags=['all_700']),\n",
              " LabeledSentence(words=['be', 'analyzer', 'and', 'designer', 'is', 'not', 'working'], tags=['all_2550']),\n",
              " LabeledSentence(words=['job', 'job', 'in', 'job', 'schedule', 'at', 'received', 'from'], tags=['all_3568']),\n",
              " LabeledSentence(words=['job', 'fail', 'in', 'job', 'schedule', 'at', 'received', 'from'], tags=['all_6222']),\n",
              " LabeledSentence(words=['unable', 'to', 'open', 'up'], tags=['all_1758']),\n",
              " LabeledSentence(words=['job', 'payroll', 'na', 'u', 'in', 'job', 'schedule', 'at', 'received', 'from'], tags=['all_6092']),\n",
              " LabeledSentence(words=['reset', 'the', 'password', 'for', 'on', 'please', 'my', 'to', 'its', 'blocked', 'login'], tags=['all_150']),\n",
              " LabeledSentence(words=['interface', 'on', 'is', 'down', 'since', 'am'], tags=['all_4855']),\n",
              " LabeledSentence(words=['unable', 'to', 'login'], tags=['all_5735']),\n",
              " LabeledSentence(words=['job', 'job', 'in', 'job', 'schedule', 'at', 'received', 'from'], tags=['all_3855']),\n",
              " LabeledSentence(words=['account', 'lockout'], tags=['all_1153']),\n",
              " LabeledSentence(words=['material', 'issue', 'now', 'the', 'quantity', 'to', 'not', 'yet', 'laugh', 'from', 'sent', 'august', 'to', 'subject', 'dear', 'team', 'we', 'once', 'shipped', 'a', 'subcontract', 'order', 'on', 'th', 'po', 'rough', 'movement', 'type', 'but', 'its', 'corresponding', 'end', 'product', 'still', 'in', 'help', 'check', 'root', 'company'], tags=['all_5478']),\n",
              " LabeledSentence(words=['after', 'to', 'new', 'group', 'several', 'from', 'old', 'group', 'are', 'still', 'visible', 'in', 'too', 'phone', 'milling', 'team', 'but', 'still', 'too', 'substitution', 'was', 'ended', 'by', 'team', 'as', 'far', 'i', 'informed'], tags=['all_5315']),\n",
              " LabeledSentence(words=['voucher', 'resent', 'issue', 'when', 'to', 'a', 'following', 'the', 'standard', 'procedure', 'i', 'enter', 'address', 'and', 'press', 'send', 'page', 'goes', 'completely', 'blank', 'then', 'need', 'resign', 'onto', 'not', 'been', 'sent', 'please', 'review', 'correct'], tags=['all_2034']),\n",
              " LabeledSentence(words=['job', 'in', 'job', 'schedule', 'at', 'received', 'from'], tags=['all_87']),\n",
              " LabeledSentence(words=['reset', 'for', 'password', 'management', 'tool', 'password', 'reset', 'the'], tags=['all_4991']),\n",
              " LabeledSentence(words=['please', 'provide', 'for', 'our', 'white', 'ben', 'li', 'patience', 'rob', 're', 'company', 'plan', 'hi', 'can', 'you', 'work', 'with', 'your', 'local', 'it', 'team', 'to', 'determine', 'address', 'and', 'is', 'a', 'in', 'the', 'office', 'check', 'that', 'routing', 'place', 'from', 'her', 'network', 'connect', 'over', 'tool'], tags=['all_1757']),\n",
              " LabeledSentence(words=['job', 'job', 'in', 'job', 'schedule', 'at', 'received', 'from'], tags=['all_3948']),\n",
              " LabeledSentence(words=['i', 'am', 'to', 'stock', 'in', 'another', 'plant', 'the', 'deliver', 'plant', 'of', 'plant', 'but', 'it', 'will', 'not', 'there', 'summary'], tags=['all_4641']),\n",
              " LabeledSentence(words=['re', 'ticket', 'no', 'added', 'received', 'from', 'hello', 'yesterday', 'jay', 'all', 'that', 'we', 'about', 'in', 'graphics', 'portal', 'are', 'you', 'please', 'and', 'change'], tags=['all_3886']),\n",
              " LabeledSentence(words=['unable', 'to', 'update', 'for', 'all'], tags=['all_2470']),\n",
              " LabeledSentence(words=['in', 'engineering', 'tool', 'when', 'i', 'try', 'to', 'create', 'a', 'new', 'task', 'some', 'of', 'the', 'are', 'not', 'being', 'displayed', 'please', 'refer', 'attachment'], tags=['all_4817']),\n",
              " LabeledSentence(words=['re', 'deployment', 'notification', 'telephony', 'received', 'from', 'hi', 'why', 'are', 'you', 'running', 'upgrade', 'on', 'when', 'it', 'is', 'not', 'used', 'for', 'telephony', 'with'], tags=['all_7442']),\n",
              " LabeledSentence(words=['internal', 'auto', 'notification', 'not', 'received', 'when', 'the', 'responsible', 'user', 'its', 'status', 'as', 'final', 'review', 'it', 'generally', 'dispatch', 'to', 'owner', 'but', 'i', 'have', 'notification', 'key', 'confirmed', 'sent', 'me', 'reference', 'attached', 'communication', 'please', 'investigate', 'why'], tags=['all_3741']),\n",
              " LabeledSentence(words=['is', 'available', 'but', 'i', 'cannot', 'get', 'into'], tags=['all_4511']),\n",
              " LabeledSentence(words=['after', 'my', 'bios', 'was', 'update', 'i', 'can', 'no', 'longer', 'log', 'in', 'to', 'get', 'an', 'error', 'every', 'time', 'that', 'try', 'into', 'a', 'balancing', 'could', 'not', 'connect', 'message', 'server'], tags=['all_692']),\n",
              " LabeledSentence(words=['unable', 'to', 'login'], tags=['all_2494']),\n",
              " LabeledSentence(words=['user', 'help', 'to', 'login', 'connected', 'the', 'system', 'help', 'issue', 'resolved'], tags=['all_7475']),\n",
              " LabeledSentence(words=['load', 'telephony', 'on'], tags=['all_3154']),\n",
              " LabeledSentence(words=['impossible', 'to', 'remove', 'country', 'of', 'origin', 'data', 'on', 'for', 'export', 'customer', 'were', 'made', 'a', 'with', 'in', 'tool', 'number', 'there', 'is', 'also', 'and', 'as', 'please', 'note', 'that', 'are', 'automatic', 'manual', 'master', 'level', 'classification', 'i', 'checked', 'no', 'print', 'but', 'it', 'does', 'not', 'work'], tags=['all_4573']),\n",
              " LabeledSentence(words=['with', 'portal'], tags=['all_441']),\n",
              " LabeledSentence(words=['ticket', 'update', 'for', 'implant'], tags=['all_4927']),\n",
              " LabeledSentence(words=['unable', 'to', 'submit', 'expense', 'report', 'as', 'it', 'is', 'locked', 'by', 'user'], tags=['all_195']),\n",
              " LabeledSentence(words=['computer', 'in', 'the', 'maintenance', 'is', 'down', 'please', 'fix'], tags=['all_320']),\n",
              " LabeledSentence(words=['job', 'job', 'in', 'job', 'schedule', 'at', 'received', 'from'], tags=['all_462']),\n",
              " LabeledSentence(words=['install', 'printer', 'we'], tags=['all_2084']),\n",
              " LabeledSentence(words=['account', 'locked'], tags=['all_1526']),\n",
              " LabeledSentence(words=['i', 'need', 'access', 'to', 'the', 'folder', 'on', 'collaboration', 'platform', 'cannot', 'find', 'a', 'mi', 'certificate', 'form', 'collaboration', 'platform', 'and', 'make', 'sure', 'it', 'was', 'not'], tags=['all_5627']),\n",
              " LabeledSentence(words=['unable', 'access', 'net', 'weaver', 'received', 'from', 'hello', 'i', 'am', 'to', 'the', 'below', 'kindly', 'do', 'needful'], tags=['all_6707']),\n",
              " LabeledSentence(words=['account', 'locked', 'out'], tags=['all_8172']),\n",
              " LabeledSentence(words=['the', 'fell', 'off', 'the', 'table', 'shell', 'broke', 'and', 'now', 'it', 'cannot', 'be', 'turned', 'on'], tags=['all_5910']),\n",
              " LabeledSentence(words=['i', 'am', 'with', 'being', 'disconnected', 'every', 'few', 'from', 'outlook', 'cannot', 'send', 'or', 'receive', 'search', 'when', 'receive', 'it', 'disconnect'], tags=['all_8032']),\n",
              " LabeledSentence(words=['access', 'issue', 'unable', 'to', 'install', 'the', 'for', 'administrator'], tags=['all_1387']),\n",
              " LabeledSentence(words=['is', 'down', 'since', 'am', 'on'], tags=['all_1909']),\n",
              " LabeledSentence(words=['registration', 'account', 'on', 'the', 'set', 'up', 'if', 'you', 'have', 'any', 'extension', 'at', 'the', 'login', 'name', 'must', 'be', 'as', 'with'], tags=['all_6048']),\n",
              " LabeledSentence(words=['ethics', 'training', 'received', 'from', 'hello', 'i', 'training', 'it', 'stuck', 'on', 'page', 'please', 'contact', 'me', 'best'], tags=['all_2472']),\n",
              " LabeledSentence(words=['an', 'error', 'is', 'displayed', 'after', 'entering', 'the', 'and', 'password', 'after', 'user', 'name', 'when', 'logging', 'in', 'it', 'that', 'are', 'wrong'], tags=['all_1701']),\n",
              " LabeledSentence(words=['engineering', 'tool', 'issue'], tags=['all_5517']),\n",
              " LabeledSentence(words=['with', 'camera', 'and', 'monitor', 'good', 'morning', 'to', 'connect', 'the', 'new', 'monitor', 'we', 'need', 'a', 'cable', 'from', 'this', 'light', 'gray', 'connector', 'on', 'dell', 'at', 'least', 'that', 'is', 'how', 'first', 'is', 'built', 'if', 'there', 'are', 'other', 'of', 'course', 'also', 'open', 'them'], tags=['all_1036']),\n",
              " LabeledSentence(words=['reset', 'ess', 'password'], tags=['all_6190']),\n",
              " LabeledSentence(words=['password', 'issue', 'hi', 'a', 'is', 'not', 'able', 'to', 'log', 'in', 'due', 'kindly', 'provide', 'new', 'the', 'person', 'name', 'i', 'no', 'user', 'id', 'best'], tags=['all_2945']),\n",
              " LabeledSentence(words=['unable', 'to', 'load', 'outlook'], tags=['all_7692']),\n",
              " LabeledSentence(words=['account', 'lockout'], tags=['all_4440']),\n",
              " LabeledSentence(words=['login', 'issue', 'language', 'explorer', 'customer', 'number', 'telephone', 'password', 'today', 'now', 'will', 'not', 'take'], tags=['all_3474']),\n",
              " LabeledSentence(words=['request', 'to', 'reset', 'password', 'for', 'from', 'on', 'behalf', 'of', 'company', 'sent', 'am', 'to', 'subject', 'importance', 'high', 'the', 'following', 'user', 'in', 'your', 'organization', 'a', 'be', 'their', 'account', 'first', 'name', 'last', 'consider', 'this', 'validate', 'is', 'authentic', 'before', 'if', 'you', 'have', 'determined', 'that', 'valid', 'request', 'use', 'portal', 'office', 'azure', 'user', 'want', 'let', 'own', 'check', 'out', 'how', 'can', 'enable', 'with', 'just', 'few', 'sincerely', 'message', 'was', 'sent', 'from', 'an', 'unmonitored', 'address', 'please', 'do', 'not', 'reply', 'message'], tags=['all_3730']),\n",
              " LabeledSentence(words=['account', 'locked'], tags=['all_3724']),\n",
              " LabeledSentence(words=['with', 'not', 'possible', 'received', 'from', 'hello', 'we', 'need', 'your', 'help', 'is', 'possible', 'receive', 'this', 'error', 'message', 'best'], tags=['all_7240']),\n",
              " LabeledSentence(words=['circuit', 'outage', 'vendor', 'is', 'down', 'since', 'am', 'site', 'up', 'vendor', 'what', 'type', 'of', 'network', 'x', 'circuit', 'power', 'please', 'specify', 'outage', 'top', 'yes', 'when', 'did', 'it', 'start', 'maintenance', 'power', 'no', 'company', 'power', 'provider', 'network', 'no', 'maint', 'does', 'have', 'a', 'backup', 'yes', 'active', 'yes', 'contact', 'notified', 'remote', 'dialing', 'equipment', 'reset', 'working', 'on', 'vendor', 'ticket', 'global', 'vendor', 'vendor', 'additional', 'diagnostics'], tags=['all_891']),\n",
              " LabeledSentence(words=['printer', 'language', 'explorer', 'customer', 'number', 'telephone', 'summary', 'need', 'to', 'change', 'my', 'default', 'in', 'for', 'and', 'despite', 'they', 'are', 'still', 'printing', 'the', 'wrong', 'printer'], tags=['all_1400']),\n",
              " LabeledSentence(words=['file', 'system', 'on', 'of', 'space'], tags=['all_7063']),\n",
              " LabeledSentence(words=['job', 'job', 'in', 'job', 'schedule', 'at', 'received', 'from', 'unable', 'to', 'allocate', 'error', 'all', 'backup', 'are', 'or', 'outdated'], tags=['all_1964']),\n",
              " LabeledSentence(words=['please', 'reset', 'my', 'password', 'battle', 'to', 'log', 'thanks', 'received', 'from', 'junior', 'application', 'engineer'], tags=['all_4624']),\n",
              " LabeledSentence(words=['job', 'in', 'job', 'schedule', 'hand', 'way', 'received', 'from', 'at'], tags=['all_8278']),\n",
              " LabeledSentence(words=['connect', 'in', 'to'], tags=['all_3669']),\n",
              " LabeledSentence(words=['server', 'in', 'environment', 'not', 'working', 'properly', 'please', 'restart', 'the', 'mill', 'model', 'model', 'is', 'correctly', 'while', 'starting', 'configuration', 'process', 'from', 'scratch', 'it', 'does', 'run', 'through', 'we', 'to', 'default', 'characteristic', 'based', 'on', 'selected', 'product', 'platform', 'as', 'i', 'have', 'an', 'important', 'training', 'session', 'team', 'at', 'best', 'my', 'time', 'today', 'which', 'min', 'now'], tags=['all_2944']),\n",
              " LabeledSentence(words=['unable', 'to', 'connect', 'any', 'network', 'from'], tags=['all_7502']),\n",
              " LabeledSentence(words=['please', 'provide', 'access', 'received', 'from', 'i', 'need', 'to', 'the', 'following', 'path', 'see', 'for', 'approval', 'company', 'plant', 'controller'], tags=['all_501']),\n",
              " LabeledSentence(words=['ticket', 'update', 'on', 'implant'], tags=['all_2243']),\n",
              " LabeledSentence(words=['engineering', 'tool', 'related', 'issue', 'received', 'from', 'hello', 'please', 'refer', 'the', 'below', 'screen', 'shot', 'for', 'issue', 'after', 'update', 'i', 'am', 'unable', 'make', 'new', 'customer', 'note', 'that', 'option', 'button', 'entry', 'is', 'not', 'kindly', 'resolve', 'problem', 'at', 'best'], tags=['all_3827']),\n",
              " LabeledSentence(words=['player', 'not', 'working', 'received', 'from', 'dear', 'sir', 'the', 'in', 'my', 'kindly', 'rectify', 'contact', 'number'], tags=['all_3575']),\n",
              " LabeledSentence(words=['job', 'job', 'in', 'job', 'schedule', 'at', 'received', 'from'], tags=['all_6139']),\n",
              " LabeledSentence(words=['account', 'got', 'locked'], tags=['all_2387']),\n",
              " LabeledSentence(words=['job', 'job', 'in', 'job', 'schedule', 'at', 'received', 'from'], tags=['all_6324']),\n",
              " LabeledSentence(words=['my', 'global', 'two', 'in', 'one', 'cannot', 'be', 'connected', 'there', 'is', 'signal', 'but', 'limited', 'language', 'explorer', 'customer', 'number', 'telephone'], tags=['all_6384']),\n",
              " LabeledSentence(words=['how', 'to', 'add', 'distribution'], tags=['all_4285']),\n",
              " LabeledSentence(words=['password', 'reset', 'for'], tags=['all_5624']),\n",
              " LabeledSentence(words=['node', 'trunk', 'card', 'at', 'is', 'down', 'on'], tags=['all_4955']),\n",
              " LabeledSentence(words=['finance', 'time', 'out', 'error'], tags=['all_4864']),\n",
              " LabeledSentence(words=['job', 'hand', 'way', 'in', 'job', 'schedule', 'at', 'received', 'from'], tags=['all_663']),\n",
              " LabeledSentence(words=['increase', 'the', 'from', 'to', 'for', 'server'], tags=['all_7898']),\n",
              " LabeledSentence(words=['production', 'password', 'reset'], tags=['all_726']),\n",
              " LabeledSentence(words=['switch', 'monitor', 'please', 'the', 'replace', 'of', 'ventilation', 'control', 'in', 'boiler', 'room', 'contact'], tags=['all_6631']),\n",
              " LabeledSentence(words=['keyboard', 'defective'], tags=['all_5300']),\n",
              " LabeledSentence(words=['unable', 'to', 'login', 'dell', 'tablet'], tags=['all_6584']),\n",
              " LabeledSentence(words=['account', 'is', 'received', 'from', 'so', 'the', 'could', 'you', 'extend', 'date', 'to', 'sponsor'], tags=['all_2001']),\n",
              " LabeledSentence(words=['able', 'to', 'start', 'a', 'confirmed', 'job', 'in', 'mi', 'for', 'order', 'operation', 'we', 'final', 'confirmed', 'but', 'operator', 'was', 'start', 'the', 'again', 'not', 'as', 'per', 'logic', 'have', 'defined'], tags=['all_3199']),\n",
              " LabeledSentence(words=['please', 'reset', 'my', 'password', 'for', 'sop'], tags=['all_1718']),\n",
              " LabeledSentence(words=['cannot', 'log', 'into', 'telephony', 'error', 'message', 'authentication', 'process', 'telephone'], tags=['all_4306']),\n",
              " LabeledSentence(words=['check', 'router', 'site', 'south', 'so', 'campo', 'hi', 'team', 'please', 'the', 'site', 'company', 'south', 'campo', 'no', 'is', 'possible', 'connect', 'network', 'this', 'visible', 'to', 'local', 'if', 'you', 'need', 'remotely', 'or', 'more', 'please', 'return', 'me'], tags=['all_6275']),\n",
              " LabeledSentence(words=['evening', 'job', 'in', 'schedule', 'job', 'received', 'from', 'job', 'schedule', 'job', 'at'], tags=['all_7859']),\n",
              " LabeledSentence(words=['wrong', 'number', 'of', 'process', 'found', 'wrong'], tags=['all_8016']),\n",
              " LabeledSentence(words=['triggered', 'not', 'shown', 'up', 'in', 'the', 'from'], tags=['all_7251']),\n",
              " LabeledSentence(words=['account', 'locked'], tags=['all_7298']),\n",
              " LabeledSentence(words=['plot', 'view', 'production', 'order', 'interface', 'process'], tags=['all_746']),\n",
              " LabeledSentence(words=['telephone', 'in', 'the', 'office', 'due', 'to', 'fact', 'that', 'from', 'now', 'on', 'i', 'am', 'one', 'day', 'a', 'week', 'look', 'after', 'who', 'are', 'need', 'job'], tags=['all_4888']),\n",
              " LabeledSentence(words=['query', 'for', 'user'], tags=['all_818']),\n",
              " LabeledSentence(words=['job', 'job', 'in', 'job', 'schedule', 'at', 'received', 'from'], tags=['all_2408']),\n",
              " LabeledSentence(words=['not', 'possible', 'to', 'login', 'due', 'a', 'locked', 'account'], tags=['all_7526']),\n",
              " LabeledSentence(words=['need', 'help', 'in', 'less'], tags=['all_7430']),\n",
              " LabeledSentence(words=['unable', 'to', 'log', 'in'], tags=['all_6416']),\n",
              " LabeledSentence(words=['engineering', 'tool', 'message', 'to', 'all', 'of', 'south', 'after', 'the', 'since', 'that', 'a', 'related', 'server', 'server', 'please', 'see', 'attached', 'message'], tags=['all_449']),\n",
              " LabeledSentence(words=['is', 'for', 'of', 'material', 'delivery', 'an', 'error', 'message'], tags=['all_5469']),\n",
              " LabeledSentence(words=['the', 'computer', 'cannot', 'connect', 'to', 'the', 'public', 'disk', 'please', 'transfer', 'it', 'for', 'me'], tags=['all_3903']),\n",
              " LabeledSentence(words=['password', 'reset'], tags=['all_4675']),\n",
              " LabeledSentence(words=['this', 'morning', 'i', 'could', 'not', 'log', 'in', 'to', 'my', 'computer', 'so', 'please', 'lock', 'out', 'computer', 'id'], tags=['all_6538']),\n",
              " LabeledSentence(words=['locked', 'received', 'from', 'hi', 'following', 'user', 'id', 'is', 'locked', 'help'], tags=['all_7020']),\n",
              " LabeledSentence(words=['job', 'job', 'in', 'job', 'schedule', 'at', 'received', 'from'], tags=['all_6116']),\n",
              " LabeledSentence(words=['tool', 'does', 'not', 'work'], tags=['all_6835']),\n",
              " LabeledSentence(words=['job', 'payroll', 'na', 'u', 'in', 'job', 'schedule', 'at', 'received', 'from'], tags=['all_6093']),\n",
              " LabeledSentence(words=['explorer', 'update', 'to', 'version'], tags=['all_5096']),\n",
              " LabeledSentence(words=['update', 'my'], tags=['all_7190']),\n",
              " LabeledSentence(words=['ticket', 'update', 'on', 'implant'], tags=['all_6758']),\n",
              " LabeledSentence(words=['job', 'tool', 'tool', 'prod', 'in', 'job', 'schedule', 'at', 'received', 'from'], tags=['all_7013']),\n",
              " LabeledSentence(words=['account', 'locked'], tags=['all_8458']),\n",
              " LabeledSentence(words=['performance', 'for', 'machine', 'summary', 'load', 'list'], tags=['all_5121']),\n",
              " LabeledSentence(words=['z', 'file', 'cannot', 'be'], tags=['all_5550']),\n",
              " LabeledSentence(words=['symmetric', 'power', 'subsystem', 'line', 'interruption', 'was', 'observing', 'these', 'since', 'am', 'on', 'severity', 'warning', 'category', 'environment', 'director', 'code', 'event', 'line', 'interrupted', 'description', 'a'], tags=['all_6880']),\n",
              " LabeledSentence(words=['job', 'tool', 'prod', 'full', 'in', 'job', 'schedule', 'at', 'received', 'from'], tags=['all_2620']),\n",
              " LabeledSentence(words=['account', 'locked'], tags=['all_3863']),\n",
              " LabeledSentence(words=['unable', 'to', 'connect'], tags=['all_181']),\n",
              " LabeledSentence(words=['job', 'job', 'in', 'job', 'schedule', 'at', 'received', 'from'], tags=['all_2308']),\n",
              " LabeledSentence(words=['routing', 'fix', 'in', 'please', 'add', 'a', 'static', 'route', 'on', 'the', 'lan', 'switch', 'to', 'ensure', 'access', 'shop', 'floor', 'network', 'is', 'not', 'during', 'of', 'router', 't', 'exit', 'copy'], tags=['all_2101']),\n",
              " LabeledSentence(words=['update', 'on', 'ticket', 'no', 'language', 'explorer', 'customer', 'number', 'telephone', 'we', 'get', 'this', 'ticket', 'today', 'i', 'need', 'to', 'be', 'able', 'site', 'up', 'thank', 'u'], tags=['all_3058']),\n",
              " LabeledSentence(words=['the', 'does', 'not', 'work', 'properly', 'for', 'user', 'on', 'he', 'already', 'and', 'since', 'it', 'works', 'perfectly'], tags=['all_3888']),\n",
              " LabeledSentence(words=['job', 'job', 'in', 'job', 'schedule', 'at', 'received', 'from'], tags=['all_1307']),\n",
              " LabeledSentence(words=['call', 'conference', 'to'], tags=['all_2599']),\n",
              " LabeledSentence(words=['i', 'am', 'unable', 'to', 'language', 'explorer', 'customer', 'number', 'telephone', 'summary'], tags=['all_2661']),\n",
              " LabeledSentence(words=['collaboration', 'platform', 'site', 'not', 'received', 'from', 'dear', 'it', 'help', 'desk', 'i', 'am', 'unable', 'to', 'navigate', 'out', 'via', 'explorer', 'like', 'or', 'also', 'will', 'open', 'for', 'me', 'and', 'cannot', 'see', 'other', 'availability', 'on', 'outlook', 'please', 'yes', 'tried', 'logging', 'off', 'on', 'removing', 'the', 'battery', 'no', 'havent', 'recently', 'my', 'but', 'did', 'change', 'password', 'password', 'management', 'tool', 'let', 'me', 'know', 'of', 'any'], tags=['all_5629']),\n",
              " LabeledSentence(words=['ie', 'went', 'to', 'not', 'legitimate', 'with', 'registry', 'failure', 'of', 'operating', 'system'], tags=['all_5524']),\n",
              " LabeledSentence(words=['tool', 'site', 'not', 'loading', 'page', 'correctly'], tags=['all_11']),\n",
              " LabeledSentence(words=['account', 'frequently', 'getting', 'locked'], tags=['all_1579']),\n",
              " LabeledSentence(words=['urgent', 'need', 'full', 'access', 'for', 'all', 'german', 'hi', 'could', 'you', 'please', 'me', 'data', 'in', 'reference', 'id', 'can', 'be', 'or', 'approval', 'provided', 'by'], tags=['all_7897']),\n",
              " LabeledSentence(words=['would', 'you', 'please', 'reset', 'my', 'him', 'password', 'locked', 'out', 'of', 'it'], tags=['all_742']),\n",
              " LabeledSentence(words=['mobile', 'phone', 'defective', 'm', 'professional', 'with', 'extension', 'battery', 'defective', 'does', 'not', 'last', 'longer', 'than', 'day', 'display', 'you', 'can', 'hardly', 'see', 'anything', 'clip', 'defective'], tags=['all_8420']),\n",
              " LabeledSentence(words=['for', 'delivery', 'note', 'not', 'possible', 'please', 'see', 'message'], tags=['all_2435']),\n",
              " LabeledSentence(words=['not', 'able', 'to', 'see', 'in', 'business', 'client', 'tool', 'over', 'business', 'client', 'client', 'refer', 'call', 'by'], tags=['all_7100']),\n",
              " LabeledSentence(words=['job', 'payroll', 'na', 'u', 'in', 'job', 'schedule', 'at', 'received', 'from'], tags=['all_4748']),\n",
              " LabeledSentence(words=['support', 'for'], tags=['all_6218']),\n",
              " LabeledSentence(words=['regarding', 'cell', 'phone', 'model', 'from', 'sent', 'am', 'to', 'subject', 'rad', 'model', 'hello', 'so', 'will', 'help', 'on', 'this', 'i', 'to', 'them', 'so', 'please', 'this'], tags=['all_3314']),\n",
              " LabeledSentence(words=['received', 'from', 'does', 'company', 'have', 'a', 'corporate', 'license', 'for', 'editor', 'manager', 'business', 'news', 'its', 'here', 'with', 'the', 'final', 'release', 'of', 'dynamics', 'project', 'mobile', 'is', 'now', 'available', 'all', 'can', 'be', 'on', 'any', 'android', 'or', 'phone', 'tablet', 'dell', 'in', 'more', 'watch', 'launch', 'video', 'need', 'help', 'your', 'click', 'here', 'chat', 'live', 'agent', 'about', 'now'], tags=['all_4929']),\n",
              " LabeledSentence(words=['password', 'reset'], tags=['all_5818']),\n",
              " LabeledSentence(words=['delivery', 'unable', 'to', 'ship', 'out', 'please', 'provide', 'the', 'following', 'what', 'order', 'number', 'customer', 'nor', 'material', 'or', 'item', 'warehouse', 'location', 'plant', 'issue', 'description', 'error', 'message', 'quantity', 'is', 'picked', 'note', 'booked', 'but', 'system', 'not', 'yet', 'can', 'cancel', 'help'], tags=['all_759']),\n",
              " LabeledSentence(words=['user', 'outlook', 'issue', 'received', 'from', 'hello', 'help', 'is', 'not', 'working', 'at', 'all', 'system', 'very', 'slow', 'she', 'logged', 'off', 'and', 'on', 'thrice', 'since', 'morning', 'look', 'into', 'the', 'attached', 'for', 'error', 'message', 'resolve'], tags=['all_3304']),\n",
              " LabeledSentence(words=['collaboration', 'platform', 'application', 'uninstalled'], tags=['all_5280']),\n",
              " LabeledSentence(words=['account', 'unlock', 'to', 'have', 'the', 'unlocked', 'unlocked', 'confirmed', 'he', 'was', 'able', 'login'], tags=['all_5001']),\n",
              " LabeledSentence(words=['please', 'reset', 'my', 'password'], tags=['all_8271']),\n",
              " LabeledSentence(words=['is', 'not'], tags=['all_6982']),\n",
              " LabeledSentence(words=['password', 'management', 'tool', 'account', 'unlock'], tags=['all_4000']),\n",
              " LabeledSentence(words=['memory', 'usage', 'is', 'now', 'internal', 'error', 'unable', 'to', 'find', 'any', 'probe', 'start', 'command', 'error', 'insufficient', 'system', 'exist', 'complete', 'the', 'service'], tags=['all_8400']),\n",
              " LabeledSentence(words=['chat', 'disconnected'], tags=['all_8410']),\n",
              " LabeledSentence(words=['unable', 'to', 'connect'], tags=['all_22']),\n",
              " LabeledSentence(words=['ticket', 'update', 'on', 'ticket', 'no'], tags=['all_1738']),\n",
              " LabeledSentence(words=['access', 'received', 'from', 'hello', 'please', 'to', 'the', 'eu', 'for', 'user', 'and'], tags=['all_6013']),\n",
              " LabeledSentence(words=['expense', 'report', 'is', 'blocked'], tags=['all_3208']),\n",
              " LabeledSentence(words=['password', 'reset'], tags=['all_681']),\n",
              " LabeledSentence(words=['reset', 'password', 'for', 'all'], tags=['all_2490']),\n",
              " LabeledSentence(words=['access', 'issue', 'system', 'other', 'enter', 'user', 'id', 'of', 'the', 'issue', 'transaction', 'needs', 'or', 'was', 'working', 'with', 'describe', 'see', 'attachment', 'if', 'you', 'are', 'getting', 'a', 'not', 'authorized', 'message', 'recreate', 'condition', 'then', 'do', 'and', 'attach', 'result', 'to', 'ticketing', 'tool', 'ticket', 'attached', 'provide', 'same', 'as', 'this', 'user'], tags=['all_3643']),\n",
              " LabeledSentence(words=['to', 'see', 'an', 'mail', 'from', 'a', 'particular', 'date'], tags=['all_5551']),\n",
              " LabeledSentence(words=['answer', 'received', 'from', 'hall', 'i', 'move', 'shipping', 'date', 'to', 'th', 'help', 'ship', 'out'], tags=['all_4884']),\n",
              " LabeledSentence(words=['outlook', 'is', 'not', 'opening', 'language', 'explorer', 'customer', 'number', 'telephone'], tags=['all_5112']),\n",
              " LabeledSentence(words=['password', 'reset'], tags=['all_2922']),\n",
              " LabeledSentence(words=['unable', 'to', 'log', 'in'], tags=['all_6592']),\n",
              " LabeledSentence(words=['need', 'cute'], tags=['all_4590']),\n",
              " LabeledSentence(words=['locked'], tags=['all_6199']),\n",
              " LabeledSentence(words=['all', 'loaded', 'for', 'its', 'of', 'them', 'did', 'not', 'carry', 'over', 'from', 'to', 'prospect', 'account', 'came', 'the', 'that', 'incorrectly', 'through', 'elm'], tags=['all_4372']),\n",
              " LabeledSentence(words=['job', 'job', 'in', 'job', 'schedule', 'at', 'received', 'from'], tags=['all_138']),\n",
              " LabeledSentence(words=['mobile', 'device', 'activation'], tags=['all_1104']),\n",
              " LabeledSentence(words=['user', 'name', 'been', 'to', 'old', 'received', 'from', 'this', 'be', 'in', 'telephony', 'system', 'for', 'i', 'may', 'date', 'at', 'to', 'subject', 'computer', 'change', 'hello', 'could', 'you', 'help', 'put', 'below', 'company', 'net', 'new', 'name', 'mac', 'address', 'best'], tags=['all_4592']),\n",
              " LabeledSentence(words=['account', 'locked', 'in', 'ad'], tags=['all_2094']),\n",
              " LabeledSentence(words=['account', 'locked', 'on', 'page'], tags=['all_5027']),\n",
              " LabeledSentence(words=['urgent', 'received', 'from', 'after', 'password', 'change', 'cannot', 'sign', 'in', 'to', 'on', 'dell', 'this', 'before', 'and', 'it', 'access', 'my', 'computer', 'delete', 'channel', 'partner', 'engineer', 'company'], tags=['all_2649']),\n",
              " LabeledSentence(words=['i', 'would', 'like', 'to', 'be', 'able', 'use', 'the', 'camera', 'on', 'my', 'for', 'business', 'can', 'you', 'add', 'this', 'if', 'option', 'is', 'currently', 'available', 'please', 'let', 'me', 'know'], tags=['all_1190']),\n",
              " LabeledSentence(words=['outlook', 'doesnt', 'start', 'received', 'from', 'hello', 'as', 'many', 'times', 'before', 'after', 'system', 'password', 'change', 'start', 'attached', 'best'], tags=['all_3426']),\n",
              " LabeledSentence(words=['sound', 'received', 'from', 'good', 'afternoon', 'i', 'am', 'again', 'with', 'my', 'notebook', 'in', 'that', 'cannot', 'get', 'any', 'and', 'participate'], tags=['all_202']),\n",
              " LabeledSentence(words=['network', 'outage', 'at', 'pa', 'location', 'plant', 'and', 'both', 'are', 'affected', 'outlook', 'contact'], tags=['all_7255']),\n",
              " LabeledSentence(words=['tool', 'no', 'cannot', 'be', 'shown', 'in', 'we', 'po', 'and', 'no', 'however', 'this', 'voucher', 'no', 'does', 'not', 'exist', 'as', 'attachment', 'shown', 'men', 'found', 'after', 'making', 'the', 'transaction', 'still', 'exist', 'only', 'mir', 'is', 'tool', 'please', 'tell', 'us', 'resolve', 'problem'], tags=['all_1809']),\n",
              " LabeledSentence(words=['travel', 'error'], tags=['all_4278']),\n",
              " LabeledSentence(words=['error', 'while', 'password', 'in', 'management', 'tool', 'manager', 'error', 'message', 'is', 'attached', 'password', 'management', 'tool', 'manager', 'please', 'see', 'attached', 'snapshot', 'do', 'the', 'needful'], tags=['all_6090']),\n",
              " LabeledSentence(words=['account', 'locked'], tags=['all_4173']),\n",
              " LabeledSentence(words=['with', 'lan'], tags=['all_1552']),\n",
              " LabeledSentence(words=['expense', 'report', 'submittal', 'refer', 'ticket', 'implant', 'received', 'from', 'to', 'submit', 'this', 'below', 'for', 'approval', 'and', 'it', 'does', 'not', 'appear', 'be', 'moving', 'on', 'only', 'the', 'report', 'every', 'time', 'i', 'an'], tags=['all_1112']),\n",
              " LabeledSentence(words=['job', 'job', 'in', 'job', 'schedule', 'at', 'received', 'from'], tags=['all_6599']),\n",
              " LabeledSentence(words=['job', 'in', 'job', 'schedule', 'cold', 'received', 'from', 'at'], tags=['all_7610']),\n",
              " LabeledSentence(words=['need', 'to', 'activate', 'new'], tags=['all_5166']),\n",
              " LabeledSentence(words=['request', 'authorization', 'received', 'from', 'hello', 'you', 'to', 'provide', 'me', 'an', 'for', 'the', 'below', 'best'], tags=['all_780']),\n",
              " LabeledSentence(words=['performance', 'in', 'different', 'with', 'and', 'eu', 'tool', 'especially', 'several', 'eu', 'tool', 'the', 'search', 'see', 'attachment', 'over', 'complete', 'day'], tags=['all_1634']),\n",
              " LabeledSentence(words=['is', 'in', 'stock', 'at', 'plant', 'after', 'finishing', 'production', 'plant', 'why', 'there', 'a', 'delivery', 'to', 'ship', 'this', 'item', 'item', 'fill', 'customer', 'was', 'previously', 'an', 'issue', 'with', 'the', 'system', 'automatically', 'as', 'it', 'should'], tags=['all_5436']),\n",
              " LabeledSentence(words=['in', 'the', 'steel', 'plant', 'do', 'not', 'work', 'for', 'your', 'information', 'printer', 'name'], tags=['all_6072']),\n",
              " LabeledSentence(words=['your', 'unauthorized', 'login', 'attempt', 'from', 'sent', 'to', 'subject', 'dan', 'hi', 'i', 'am', 'getting', 'this', 'mail', 'continuously', 'from', 'past', 'days', 'can', 'you', 'have', 'a', 'look', 'into', 'this'], tags=['all_2901']),\n",
              " LabeledSentence(words=['ad', 'locked', 'out'], tags=['all_6019']),\n",
              " LabeledSentence(words=['business', 'client', 'not', 'working', 'received', 'from', 'hello', 'soft', 'ware', 'in', 'my', 'computer', 'with', 'kind'], tags=['all_376']),\n",
              " LabeledSentence(words=['received', 'from', 'hello', 'everybody', 'i', 'no', 'longer', 'see', 'any', 'can', 'dial', 'in', 'at', 'home', 'please', 'help', 'thank', 'you', 'with', 'best'], tags=['all_1608']),\n",
              " LabeledSentence(words=['billing', 'block', 'not', 'removed', 'automatically', 'hello', 'it', 'please', 'check', 'why', 'was', 'automatically'], tags=['all_560']),\n",
              " LabeledSentence(words=['job', 'he', 'in', 'job', 'schedule', 'at', 'received', 'from'], tags=['all_6862']),\n",
              " LabeledSentence(words=['job', 'in', 'job', 'schedule', 'at', 'received', 'from'], tags=['all_2596']),\n",
              " LabeledSentence(words=['log', 'in', 'not', 'working', 'need', 'to', 'change', 'password', 'also', 'please', 'call', 'me', 'language', 'explorer', 'customer', 'number', 'telephone', 'welcome', 'our', 'next', 'available', 'agent', 'will', 'be', 'with', 'you', 'shortly', 'interaction', 'agent', 'visitor', 'the', 'conversation', 'hi'], tags=['all_5760']),\n",
              " LabeledSentence(words=['unable', 'to', 'log', 'in'], tags=['all_6270']),\n",
              " LabeledSentence(words=['network', 'outage', 'sao', 'plant', 'is', 'down', 'since', 'am', 'on', 'no', 'backup', 'circuit', 'what', 'type', 'of', 'x', 'network', 'circuit', 'power', 'please', 'specify', 'outage', 'top', 'site', 'no', 'when', 'did', 'it', 'start', 'am', 'maintenance', 'power', 'no', 'company', 'power', 'provider', 'network', 'maint', 'does', 'have', 'a', 'no', 'active', 'na', 'contact', 'notified', 'remote', 'dialing', 'na', 'equipment', 'reset', 'no', 'working', 'na', 'vendor', 'ticket', 'global', 'vendor', 'vendor', 'global', 'additional', 'diagnostics'], tags=['all_8316']),\n",
              " LabeledSentence(words=['rounding', 'off', 'the', 'total', 'of', 'an', 'order', 'we', 'have', 'and', 'that', 'me', 'correct', 'unit', 'price', 'but', 'entire', 'quote', 'is', 'off', 'can', 'this', 'be', 'fixed', 'will', 'deny', 'payment', 'if', 'does', 'not', 'match', 'what', 'is'], tags=['all_5409']),\n",
              " LabeledSentence(words=['slight', 'change', 'to', 'received', 'from', 'hello', 'is', 'there', 'a', 'way', 'remove', 'this', 'information', 'from', 'my', 'screen'], tags=['all_4148']),\n",
              " LabeledSentence(words=['install', 'on'], tags=['all_2883']),\n",
              " LabeledSentence(words=['to'], tags=['all_6169']),\n",
              " LabeledSentence(words=['r', 'indicator', 'is', 'missing', 'in', 'customer', 'open', 'feed', 'r', 'bill', 'of', 'exchange', 'part', 'request'], tags=['all_2831']),\n",
              " LabeledSentence(words=['job', 'job', 'in', 'job', 'schedule', 'at', 'received', 'from'], tags=['all_6882']),\n",
              " LabeledSentence(words=['unable', 'to', 'update', 'password', 'management', 'tool', 'link'], tags=['all_1713']),\n",
              " LabeledSentence(words=['installation', 'of'], tags=['all_2133']),\n",
              " LabeledSentence(words=['printer', 'problem', 'issue', 'information', 'please', 'complete', 'all', 'below', 'if', 'not', 'it', 'will', 'be', 'returned', 'back', 'to', 'the', 'requester', 'provide', 'review', 'ticket', 'not', 'able', 'resolve', 'then', 'assign', 'appropriate', 'group', 'per', 'your', 'assignment', 'name', 'make', 'model', 'on', 'detailed', 'description', 'of', 'for', 'a', 'driver', 'install', 'but', 'update', 'type', 'printing', 'tried', 'what', 'system', 'or', 'application', 'being', 'used', 'at', 'time', 'problem', 'printing', 'all', 'does', 'respond', 'ping', 'command', 'network', 'and', 'power', 'cycle', 'been', 'turned', 'off', 'system', 'which', 'system', 'ex', 'its', 'an', 'can', 'output', 'another', 'temporarily', 'too', 'document', 'is', 'correctly', 'scan', 'copy', 'attach', 'ticketing', 'tool', 'ticket'], tags=['all_3081']),\n",
              " LabeledSentence(words=['please', 'create', 'an', 'for', 'the', 'return', 'see'], tags=['all_2682']),\n",
              " LabeledSentence(words=['all', 'my', 'in', 'collaboration', 'platform', 'have', 'welcome', 'our', 'next', 'available', 'agent', 'will', 'be', 'with', 'you', 'shortly', 'interaction', 'agent', 'visitor', 'the', 'conversation', 'hi'], tags=['all_5498']),\n",
              " LabeledSentence(words=['oracle', 'finance', 'financial', 'management', 'web', 'tier', 'service'], tags=['all_6884']),\n",
              " LabeledSentence(words=['password', 'reset', 'for'], tags=['all_8497']),\n",
              " LabeledSentence(words=['pi', 'and', 'connectivity', 'issue', 'certificate', 'renewal', 'hi', 'all', 'we', 'have', 'a', 'issue', 'between', 'due', 'to', 'on', 'azure', 'that', 'is', 'not', 'yet', 'side', 'issue', 'data', 'area', 'data', 'partner', 'are', 'being', 'from', 'worked', 'with', 'it', 'vice', 'in', 'prod', 'dev', 'start', 'time', 'th', 'when', 'customer', 'master', 'team', 'the', 'prospect', 'account', 'did', 'not', 'come', 'into', 'still', 'status', 'which', 'basically', 'they', 'by', 'target', 'system', 'upon', 'some', 'log', 'analysis', 'trying', 'identify', 'root', 'cause', 'pi', 'basis', 'its', 'been', 'production', 'environment', 'since', 'around', 'same', 'behavior', 'tool', 'of', 'other', 'nonproduction', 'as', 'well', 'you', 'can', 'find', 'error', 'system', 'mail', 'chain', 'cause', 'it', 'for', 'th', 'sept', 'expiration', 'date', 'th', 'but', 'new', 'they', 'even', 'aware', 'this', 'change', 'so', 'got', 'broken', 'next', 'need', 'chain', 'be', 'sent', 'so', 'update', 'whom', 'i', 'reach', 'out', 'do', 'an', 'house', 'or', 'want', 'me', 'open', 'case', 'once', 'received', 'maybe', 'first', 'then', 'confirmation', 'works', 'apply'], tags=['all_238']),\n",
              " LabeledSentence(words=['job', 'job', 'in', 'job', 'schedule', 'at', 'received', 'from'], tags=['all_5302']),\n",
              " LabeledSentence(words=['r', 'machine', 'defective', 'of', 'no', 'longer', 'up'], tags=['all_574']),\n",
              " LabeledSentence(words=['as', 'per', 'insecurity', 'in', 'suspicious', 'activity', 'new', 'from', 'sent', 'august', 'am', 'to', 'be', 'subject', 'hello', 'support', 'we', 'have', 'at', 'least', 'of', 'your', 'dropping', 'traffic', 'from', 'new', 'and', 'to', 'port', 'one', 'or', 'more', 'destination', 'this', 'may', 'indicate', 'the', 'following', 'an', 'infection', 'on', 'host', 'a', 'scan', 'authorized', 'unauthorized', 'ticketing', 'tool', 'ticket', 'assigned', 'it', 'technical', 'historically', 'there', 'been', 'various', 'that', 'used', 'propagate', 'include', 'wrestle', 'end', 'point', 'rapper', 'also', 'known', 'locator', 'service', 'name', 'session', 'sub', 'file', 'event', 'data', 'related', 'id', 'summary', 'internal', 'outbreak', 'for', 'log', 'time', 'source', 'device', 'name', 'extra', 'data', 'proto', 'action', 'blocked', 'true', 'null', 'empty', 'model', 'occurrence', 'count', 'detail', 'deny', 'inside', 'outside', 'by', 'inside', 'x', 'x', 'inside', 'outside', 'inside', 'outside', 'inside', 'outside', 'inside', 'outside', 'inside', 'outside', 'inside', 'outside', 'inside', 'outside', 'inside', 'outside', 'inside', 'outside', 'inside', 'outside', 'inside', 'outside', 'inside', 'outside', 'inside', 'outside', 'inside', 'outside', 'inside', 'outside'], tags=['all_7991']),\n",
              " LabeledSentence(words=['reset', 'for', 'password', 'management', 'tool', 'password', 'reset', 'the'], tags=['all_7132']),\n",
              " LabeledSentence(words=['ticket', 'update', 'on', 'implant'], tags=['all_2359']),\n",
              " LabeledSentence(words=['tool', 'time', 'not', 'loading'], tags=['all_2937']),\n",
              " LabeledSentence(words=['access', 'locked', 'dad', 'me', 'out', 'i', 'tried', 'going', 'into', 'password', 'management', 'tool', 'to', 'reset', 'my', 'password', 'but', 'listed', 'can', 'you', 'please', 'unlock', 'account'], tags=['all_518']),\n",
              " LabeledSentence(words=['problem', 'with', 'landline', 'phone', 'received', 'from', 'dear', 'ladies', 'and', 'on', 'my', 'phone', 'the', 'display', 'only', 'been', 'incomplete', 'for', 'some', 'time', 'several', 'horizontal', 'make', 'illegible', 'number', 'is', 'please', 'remedy', 'sincerely', 'quality', 'assurance'], tags=['all_7294']),\n",
              " LabeledSentence(words=['currency', 'error', 'when', 'trying', 'to', 'extend', 'plant', 'assign', 'i', 'am', 'getting', 'the', 'following', 'example', 'amount', 'in', 'field', 'moving', 'could', 'not', 'be', 'converted'], tags=['all_7342']),\n",
              " LabeledSentence(words=['login', 'to', 'business', 'client', 'i', 'cannot', 'enter', 'with', 'my', 'password'], tags=['all_8190']),\n",
              " LabeledSentence(words=['password', 'reset', 'for', 'user', 'does', 'not', 'know', 'their', 'mi', 'or'], tags=['all_3810']),\n",
              " LabeledSentence(words=['unable', 'to', 'change', 'password', 'on', 'password', 'management', 'tool', 'manager'], tags=['all_5044']),\n",
              " LabeledSentence(words=['account', 'blocked', 'no', 'registration', 'possible'], tags=['all_6364']),\n",
              " LabeledSentence(words=['job', 'in', 'job', 'schedule', 'job', 'received', 'from', 'at'], tags=['all_7195']),\n",
              " LabeledSentence(words=['evening', 'job', 'in', 'schedule', 'job', 'received', 'from', 'job', 'schedule', 'job', 'at'], tags=['all_8231']),\n",
              " LabeledSentence(words=['trunk', 'card', 'since', 'am', 'on'], tags=['all_338']),\n",
              " LabeledSentence(words=['job', 'job', 'in', 'job', 'schedule', 'at', 'received', 'from'], tags=['all_267']),\n",
              " LabeledSentence(words=['please', 'reset', 'my', 'password', 'received', 'from', 'hello'], tags=['all_4469']),\n",
              " LabeledSentence(words=['the', 'plant', 'had', 'our', 'n', 'network', 'drive', 'from', 'all', 'and', 'we', 'are', 'unable', 'to', 'work', 'is', 'there', 'anyway', 'you', 'can', 'add', 'back', 'or', 'send', 'on', 'how', 'each', 'computer'], tags=['all_3361']),\n",
              " LabeledSentence(words=['recall', 'ticket', 'no', 'due', 'date', 'been', 'to', 'edit', 'received', 'from', 'would', 'like', 'recall', 'the', 'message', 'ticket', 'no', 'edit'], tags=['all_3668']),\n",
              " LabeledSentence(words=['is', 'not'], tags=['all_1805']),\n",
              " LabeledSentence(words=['unable', 'to', 'print', 'need', 'a', 'driver', 'update'], tags=['all_4447']),\n",
              " LabeledSentence(words=['collaboration', 'platform', 'table', 'for', 'received', 'from', 'hello', 'please', 'add', 'user', 'to', 'the', 'collaboration', 'platform'], tags=['all_2148']),\n",
              " LabeledSentence(words=['volume', 'c', 'on', 'server', 'is', 'over', 'space', 'available', 'g'], tags=['all_1264']),\n",
              " LabeledSentence(words=['account', 'locked', 'in', 'ad'], tags=['all_4036']),\n",
              " LabeledSentence(words=['setup', 'access', 'for', 'ethics'], tags=['all_6748']),\n",
              " LabeledSentence(words=['network', 'response', 'time', 'at', 'about', 'am', 'eastern', 'daylight', 'time', 'i', 'was', 'on', 'a', 'conference', 'call', 'with', 'the', 'dropping', 'out', 'and', 'only', 'reason', 'can', 'come', 'up', 'is', 'bottleneck', 'want', 'to', 'prove', 'or', 'disprove', 'by', 'finding', 'traffic', 'between', 'during', 'made'], tags=['all_7689']),\n",
              " LabeledSentence(words=['job', 'job', 'in', 'job', 'schedule', 'at', 'received', 'from'], tags=['all_3011']),\n",
              " LabeledSentence(words=['s', 'to', 'k', 'for'], tags=['all_2932']),\n",
              " LabeledSentence(words=['error', 'while', 'extending', 'from', 'sent', 'am', 'to', 'subject', 'hello', 'need', 'to', 'extend', 'from', 'plant', 'plant', 'plant', 'during', 'the', 'message', 'pop', 'up', 'material', 'group', 'should', 'start', 'with', 'r', 'or', 'd', 'for', 'type', 'however', 'system', 'does', 'not', 'allow', 'me', 'change', 'material', 'group', 'the', 'enormity', 'of', 'humanity', 'mankind', 'is', 'being', 'insensitive', 'company'], tags=['all_5140']),\n",
              " LabeledSentence(words=['not', 'booking', 'up', 'said', 'that', 'he', 'some', 'coffee', 'on', 'his', 'yesterday', 'and', 'since', 'then', 'the', 'machine', 'is', 'to', 'get', 'this', 'checked', 'if', 'necessary'], tags=['all_2681']),\n",
              " LabeledSentence(words=['password', 'reset', 'language', 'explorer', 'customer', 'number', 'telephone', 'summary', 'cannot', 'log', 'into'], tags=['all_2667']),\n",
              " LabeledSentence(words=['fe', 'does', 'not', 'work', 'in', 'when', 'i', 'print', 'and', 'choose', 'the', 'fe', 'but', 'its', 'my', 'is', 'also', 'with', 'id'], tags=['all_7127']),\n",
              " LabeledSentence(words=['no', 'access', 'to', 'impact', 'award', 'hub', 'the', 'do', 'not', 'have', 'hub', 'part'], tags=['all_5493']),\n",
              " LabeledSentence(words=['account', 'locked', 'out', 'and', 'password', 'reset'], tags=['all_6085']),\n",
              " LabeledSentence(words=['outlook', 'stuck', 'on'], tags=['all_2366']),\n",
              " LabeledSentence(words=['engineering', 'tool', 'start', 'error', 'post', 'login', 'screen', 'attached', 'to', 'the', 'version', 'and', 'bit', 'install', 'from', 'data', 'folder', 'retired', 'install', 'still', 'no', 'go', 'ability', 'system', 'with', 'same', 'id', 'password', 'please', 'contact', 'get', 'access', 'this', 'new'], tags=['all_6575']),\n",
              " LabeledSentence(words=['query', 'from'], tags=['all_4875']),\n",
              " LabeledSentence(words=['job', 'hand', 'way', 'in', 'job', 'schedule', 'at', 'received', 'from'], tags=['all_6113']),\n",
              " LabeledSentence(words=['access', 'status', 'check'], tags=['all_3148']),\n",
              " LabeledSentence(words=['the', 'service', 'is', 'down', 'after', 'weekend'], tags=['all_4769']),\n",
              " LabeledSentence(words=['password', 'reset', 'login'], tags=['all_5284']),\n",
              " LabeledSentence(words=['unable', 'to', 'access', 'ess'], tags=['all_7364']),\n",
              " LabeledSentence(words=['mi', 'is', 'not', 'working', 'error', 'user', 'authentication', 'working', 'whole', 'plant', 'able', 'to', 'access', 'the', 'system'], tags=['all_5602']),\n",
              " LabeledSentence(words=['error', 'message', 'during', 'document', 'release', 'received', 'from', 'hello', 'while', 'word', 'file', 'route', 'card', 'showing', 'server', 'and', 'not', 'get', 'printed', 'help', 'in', 'the', 'issue', 'p', 'please', 'do', 'print', 'this', 'unless', 'it', 'is', 'absolutely', 'necessary', 'spread', 'environmental', 'awareness', 'confidentiality', 'caution', 'communication', 'any', 'intended', 'only', 'for', 'sole', 'use', 'of', 'to', 'whom', 'may', 'contain', 'information', 'that', 'exempt', 'from', 'disclosure', 'by', 'someone', 'other', 'than', 'recipient', 'strictly', 'if', 'your', 'receipt', 'notify', 'sender', 'original', 'immediately'], tags=['all_3251']),\n",
              " LabeledSentence(words=['connected', 'the', 'default', 'printer'], tags=['all_6939']),\n",
              " LabeledSentence(words=['error', 'login', 'on', 'to', 'the', 'system', 'user', 'manager', 'name', 'user', 'tried', 'password', 'management', 'tool', 'manager', 'unlocked', 'id', 'caller', 'confirmed', 'that', 'he', 'was', 'able', 'login', 'issue', 'resolved'], tags=['all_1680']),\n",
              " LabeledSentence(words=['unable', 'to', 'open', 'save', 'aba', 'and', 'cannot', 'view', 'through', 'issue', 'after', 'update', 'on', 'a', 'system', 'prompt', 'fix', 'the', 'of', 'log', 'on', 'i', 'am', 'order', 'outlook', 'refer', 'attachment', 'error', 'in', 'lava', 'as', 'per', 'error', 'if', 'out', 'look', 'is', 'closed', 'try', 'attachment', 'install', 'refer', 'installation', 'prompt', 'excel', 'file', 'running', 'query', 'or', 'computer', 'saved', 'attach', 'them', 'lava'], tags=['all_8101']),\n",
              " LabeledSentence(words=['personal', 'device', 'setup', 'procedure', 'received', 'from', 'team', 'please', 'send', 'me', 'a', 'link', 'to', 'the', 'information', 'on', 'how', 'i', 'can', 'set', 'up', 'tablet', 'receive', 'company', 'through', 'exchange', 'server', 'have', 'it', 'ticket', 'but', 'understand', 'need', 'before', 'submit', 'best'], tags=['all_5435']),\n",
              " LabeledSentence(words=['network', 'disconnected', 'unable', 'to', 'connect', 't', 'drive'], tags=['all_7608']),\n",
              " LabeledSentence(words=['job', 'in', 'job', 'schedule', 'at', 'received', 'from'], tags=['all_3609']),\n",
              " LabeledSentence(words=['need', 'access', 'to', 'user', 'for', 'incident', 'system', 'other', 'enter', 'id', 'of', 'the', 'issue', 'transaction', 'needs', 'or', 'was', 'working', 'with', 'general', 'change', 'pro', 'describe', 'can', 'you', 'please', 'create', 'an', 'account', 'in', 'set', 'type', 'since', 'will', 'business', 'client', 'er', 'open', 'was', 'and', 'connection', 'also', 'they', 'would', 'active', 'directory', 'give', 'if', 'are', 'getting', 'a', 'not', 'authorized', 'message', 'recreate', 'condition', 'then', 'do', 'attach', 'result', 'ticketing', 'tool', 'ticket', 'external', 'provide', 'same', 'as', 'this', 'user'], tags=['all_6619']),\n",
              " LabeledSentence(words=['incorrect', 'in'], tags=['all_4346']),\n",
              " LabeledSentence(words=['password', 'reset', 'as', 'its', 'language', 'explorer', 'customer', 'number', 'telephone', 'summary', 'need', 'all', 'of', 'my', 'so', 'i', 'can', 'log', 'into', 'computer', 'and'], tags=['all_7887']),\n",
              " LabeledSentence(words=['vendor', 'card', 'is', 'not', 'working'], tags=['all_6083']),\n",
              " LabeledSentence(words=['outlook', 'calendar', 'invite', 'issue', 'outlook', 'are', 'automatically', 'multiple', 'meeting', 'when', 'a', 'single', 'entry', 'is', 'sent', 'causing', 'for', 'internal', 'and', 'external', 'by', 'filling', 'with', 'same', 'every', 'day', 'up', 'to', 'the', 'confusion', 'please', 'advise', 'help'], tags=['all_2695']),\n",
              " LabeledSentence(words=['is', 'very', 'slow', 'any', 'bog', 'i', 'open', 'choppy', 'flicker'], tags=['all_288']),\n",
              " LabeledSentence(words=['password', 'reset', 'request'], tags=['all_3822']),\n",
              " LabeledSentence(words=['dual', 'monitor', 'issue'], tags=['all_4666']),\n",
              " LabeledSentence(words=['as', 'it', 'fell', 'in', 'flight', 'from', 'sent', 'august', 'to', 'subject', 'amar', 'issue', 'hi', 'please', 'refer', 'attached', 'photo', 'due', 'to', 'fall', 'flight', 'at', 'present', 'system', 'working', 'condition', 'with', 'no', 'repeated', 'use', 'and', 'seating', 'might', 'become', 'problematic', 'help', 'latitude', 'computer', 'name', 'aim', 'user', 'id', 'employee', 'code'], tags=['all_7174']),\n",
              " LabeledSentence(words=['login', 'issue', 'connected', 'to', 'the', 'user', 'system', 'help', 'issue', 'resolved'], tags=['all_4805']),\n",
              " LabeledSentence(words=['unable', 'to', 'share', 'calendar'], tags=['all_1839']),\n",
              " LabeledSentence(words=['job', 'job', 'in', 'job', 'schedule', 'at', 'received', 'from'], tags=['all_2214']),\n",
              " LabeledSentence(words=['unable', 'to', 'access', 'time', 'through', 'ie', 'password', 'prompt', 'resulting', 'in', 'an', 'unauthorized', 'error'], tags=['all_694']),\n",
              " LabeledSentence(words=['please', 'help', 'received', 'from', 'can', 'you', 'me', 'i', 'am', 'nearly', 'min', 'delay', 'on', 'my', 'incoming', 'as', 'per', 'below'], tags=['all_7101']),\n",
              " LabeledSentence(words=['account', 'locked'], tags=['all_8254']),\n",
              " LabeledSentence(words=['cannot', 'use', 'for', 'business', 'with', 'full', 'audio', 'and', 'video', 'it', 'does', 'not', 'respond', 'must', 'be', 'closed', 'down', 'any', 'meeting', 'used', 'call', 'me', 'at', 'do', 'not', 'join', 'audio', 'the', 'use', 'video', 'experience', 'only', 'really', 'a', 'long', 'time', 'to', 'open', 'again'], tags=['all_6166']),\n",
              " LabeledSentence(words=['cor', 'report', 'issue', 'please', 'provide', 'in', 'the', 'template', 'below', 'if', 'multiple', 'are', 'impacted', 'use', 'quick', 'ticket', 'folder', 'site', 'location', 'user', 'id', 'ad', 'system', 'you', 'seeing', 'performance', 'on', 'please', 'list', 'all', 'that', 'slow', 'create', 'an', 'order', 'area', 'this', 'to', 'finance', 'how', 'can', 'be', 'replicated', 'by', 'it', 'support', 'group', 'is', 'used', 'get', 'shipment', 'data', 'there', 'variant', 'now', 'data', 'incorrect', 'for', 'report', 'would', 'help', 'check', 'what', 'is', 'issue', 'we', 'find', 'problem', 'as', 'attached', 'running', 'daily', 'shipment', 'if', 'need', 'other', 'information', 'contact', 'me', 'this', 'attach', 'relevant', 'and', 'exact', 'times', 'when'], tags=['all_5334']),\n",
              " LabeledSentence(words=['error', 'login', 'on', 'to', 'the', 'system', 'user', 'manager', 'name', 'user', 'tried', 'password', 'management', 'tool', 'manager', 'unlocked', 'and', 'reset', 'id', 'caller', 'confirmed', 'that', 'he', 'was', 'able', 'login', 'issue', 'resolved'], tags=['all_1685']),\n",
              " LabeledSentence(words=['card', 'locked', 'for', 'the', 'company', 'provided', 'phone'], tags=['all_5185']),\n",
              " LabeledSentence(words=['only', 'running', 'slow', 'since', 'last', 'in', 'is', 'working', 'fine', 'all', 'are', 'slow', 'contact', 'system', 'all', 'checked', 'with', 'team', 'no', 'as', 'such', 'team', 'utilization', 'now', 'confirmed', 'that', 'high', 'half', 'an', 'hour', 'calling', 'basis', 'on', 'call', 'support'], tags=['all_4085']),\n",
              " LabeledSentence(words=['conversion', 'issue', 'with', 'the', 'drawing', 'only', 'get', 'converted', 'and', 'accessible', 'model', 'are', 'not', 'accessible'], tags=['all_6650']),\n",
              " LabeledSentence(words=['unable', 'to', 'access', 'collaboration', 'platform'], tags=['all_3778']),\n",
              " LabeledSentence(words=['robot', 'is', 'inactive'], tags=['all_8482']),\n",
              " LabeledSentence(words=['mobile', 'device', 'activation', 'company', 'phone', 'to', 'connect', 'outlook'], tags=['all_843']),\n",
              " LabeledSentence(words=['all', 'of', 'the', 'posted', 'for', 'drive', 'this', 'week', 'are', 'not', 'on', 'approval', 'page', 'to', 'use', 'page', 'navigate', 'around', 'so', 'sure', 'he', 'will', 'notice', 'it', 'is', 'working', 'correctly', 'see', 'attached', 'file', 'and'], tags=['all_5837']),\n",
              " LabeledSentence(words=['password', 'reset'], tags=['all_8150']),\n",
              " LabeledSentence(words=['issue', 'personal', 'certificate', 'error'], tags=['all_2820']),\n",
              " LabeledSentence(words=['locked', 'me', 'out', 'of', 'i', 'tried', 'to', 'change', 'my', 'password', 'by', 'password', 'management', 'tool', 'manager', 'got', 'an', 'error', 'message', 'but', 'the', 'do', 'not', 'remember', 'code', 'reset', 'password', 'cannot', 'enter', 'can', 'you', 'please', 'in', 'password', 'manager'], tags=['all_3288']),\n",
              " LabeledSentence(words=['unable', 'to', 'display', 'the', 'expense', 'report'], tags=['all_511']),\n",
              " LabeledSentence(words=['network', 'divestiture', 'site', 'site', 'is', 'hard', 'down', 'since', 'at', 'am', 'on', 'no', 'backup', 'what', 'type', 'of', 'outage', 'x', 'network', 'circuit', 'power', 'please', 'specify', 'outage', 'top', 'no', 'when', 'did', 'it', 'start', 'maintenance', 'power', 'company', 'power', 'provider', 'network', 'maint', 'does', 'have', 'a', 'circuit', 'na', 'active', 'na', 'contact', 'notified', 'remote', 'dialing', 'equipment', 'reset', 'working', 'vendor', 'ticket', 'global', 'vendor', 'vendor', 'additional', 'diagnostics'], tags=['all_5376']),\n",
              " LabeledSentence(words=['i', 'have', 'lost', 'my', 'access', 'to', 'tool', 'in', 'as', 'per', 'below', 'from', 'sent', 'to', 'subject', 'synchronization', 'log', 'importance', 'high', 'manager', 'am', 'synchronized', 'version', 'mailbox', 'hierarchy', 'local', 'folder', 'calendar', 'server', 'from', 'hall', 'calendar', 'error', 'you', 'do', 'not', 'sufficient', 'permission', 'perform', 'this', 'operation', 'on', 'object', 'see', 'the', 'contact', 'or', 'your', 'system', 'administrator', 'exchange', 'information', 'store', 'for', 'more', 'failure', 'click', 'below', 'done', 'address', 'book', 'successful'], tags=['all_2741']),\n",
              " LabeledSentence(words=['unable', 'to', 'open', 'a'], tags=['all_1844']),\n",
              " LabeledSentence(words=['job', 'job', 'in', 'job', 'schedule', 'at', 'received', 'from'], tags=['all_4798']),\n",
              " LabeledSentence(words=['support', 'for'], tags=['all_6978']),\n",
              " LabeledSentence(words=['user', 'account', 'is', 'being', 'locked', 'again', 'received', 'from', 'hi', 'id', 'when', 'the', 'computer', 'went', 'into'], tags=['all_6063']),\n",
              " LabeledSentence(words=['warehouse', 'not', 'working', 'my', 'does', 'seem', 'to', 'be', 'up', 'incoming', 'number', 'is', 'i', 'this', 'by', 'calling', 'from', 'cell', 'phone', 'after', 'the', 'still', 'did', 'pick', 'up'], tags=['all_8035']),\n",
              " LabeledSentence(words=['when', 'scanning', 'the', 'message', 'comes', 'up', 'that', 'path', 'does', 'not', 'exist'], tags=['all_6078']),\n",
              " LabeledSentence(words=['cannot', 'release', 'order', 'does', 'not', 'print', 'plant'], tags=['all_7827']),\n",
              " LabeledSentence(words=['outlook', 'access', 'for', 'mobile', 'device', 'activation', 'personal', 'device', 'received', 'from', 'hi', 'please', 'and', 'calendar', 'below', 'staff', 'on', 'his'], tags=['all_6234']),\n",
              " LabeledSentence(words=['record', 'received', 'from', 'amy', 'li', 'sent', 'to', 'subject', 're', 'we', 'want', 'to', 'understand', 'why', 'the', 'cost', 'is', 'high', 'for', 'in', 'plant', 'select', 'one', 'example', 'this', 'plant', 'ship', 'plant', 'order', 'relevant', 'and', 'intercompany', 'billing', 'plant', 'shipment', 'plant', 'did', 'not', 'so', 'delivery', 'on', 'this', 'from', 'margin', 'report', 'it', 'high', 'based', 'lot', 'size', 'same', 'as', 'order'], tags=['all_1681']),\n",
              " LabeledSentence(words=['unable', 'to', 'access', 'collaboration', 'platform', 'received', 'from', 'hello', 'i', 'would', 'like', 'gain', 'this', 'link', 'am', 'trying', 'complete', 'an', 'lap', 'request', 'for', 'one', 'of', 'my', 'is', 'the', 'error'], tags=['all_1231']),\n",
              " LabeledSentence(words=['job', 'in', 'job', 'schedule', 'job', 'received', 'from', 'at'], tags=['all_8274']),\n",
              " LabeledSentence(words=['excel', 'right', 'click', 'not', 'working', 'connected', 'to', 'the', 'user', 'system', 'office', 'working', 'fine', 'now', 'issue', 'resolved'], tags=['all_4510']),\n",
              " LabeledSentence(words=['drive', 'encryption', 'attention'], tags=['all_7493']),\n",
              " LabeledSentence(words=['material', 'issue', 'received', 'from', 'dear', 'team', 'we', 'once', 'shipped', 'a', 'subcontract', 'order', 'on', 'th', 'po', 'rough', 'movement', 'type', 'but', 'its', 'corresponding', 'end', 'product', 'still', 'in', 'help', 'to', 'check', 'the', 'root', 'company'], tags=['all_6236']),\n",
              " LabeledSentence(words=['update', 'contact', 'number', 'in', 'ad'], tags=['all_8345']),\n",
              " LabeledSentence(words=['cannot', 'search', 'my', 'engineering', 'tool', 'hello', 'i', 'cannot', 'for', 'if', 'specify', 'the', 'date', 'error', 'on', 'bottom', 'of', 'window', 'that', 'do', 'not', 'have', 'access', 'to', 'it', 'please', 'give', 'me', 'access'], tags=['all_5276']),\n",
              " LabeledSentence(words=['with', 'received', 'from', 'good', 'morning', 'i', 'use', 'my', 'dell', 'latitude', 'in', 'home', 'office', 'own', 'network', 'for', 'access', 'often', 'when', 'wake', 'it', 'up', 'from', 'mode', 'is', 'still', 'connected', 'to', 'local', 'network', 'but', 'as', 'a', 'not', 'no', 'connection', 'private', 'work', 'fine', 'have', 'shut', 'down', 'and', 'restart', 'the', 'again', 'get', 'proper', 'please', 'advise', 'what', 'do', 'couple', 'of', 'times', 'over', 'day', 'annoying', 'time', 'best'], tags=['all_2432']),\n",
              " LabeledSentence(words=['cannot', 'open', 'excel', 'from', 'and', 'can', 'are', 'slow', 'to', 'or', 'will', 'freeze'], tags=['all_411']),\n",
              " LabeledSentence(words=['job', 'hot', 'in', 'job', 'schedule', 'at', 'received', 'from'], tags=['all_6567']),\n",
              " LabeledSentence(words=['job', 'cold', 'in', 'job', 'schedule', 'at', 'received', 'from'], tags=['all_5361']),\n",
              " LabeledSentence(words=['request', 'for', 'access', 'to', 'server', 'and', 'quality', 'with', 'respect', 'ticket', 'no', 'i', 'have', 'received', 'an', 'from', 'security', 'team', 'but', 'when', 'open', 'data', 'designer', 'application', 'error', 'as', 'attached', 'this', 'incident', 'checked', 'session', 'dev', 'body', 'the', 'is', 'working', 'fine', 'in', 'his', 'session', 'hence', 'assist', 'at', 'my', 'our', 'upcoming', 'project', 'could', 'you', 'please', 'help', 'on', 'request'], tags=['all_6509']),\n",
              " LabeledSentence(words=['dds', 'dss'], tags=['all_3432']),\n",
              " LabeledSentence(words=['job', 'hot', 'in', 'job', 'schedule', 'at', 'received', 'from'], tags=['all_5354']),\n",
              " LabeledSentence(words=['search', 'and', 'explorer', 'analytics', 'issue', 'is', 'blank', 'in', 'bob', 'can', 'login', 'to', 'from', 'ess', 'but', 'no', 'list', 'available', 'phone'], tags=['all_4697']),\n",
              " LabeledSentence(words=['unable', 'to', 'launch', 'outlook'], tags=['all_1864']),\n",
              " LabeledSentence(words=['is', 'not', 'working', 'error', 'log', 'on', 'balancing', 'error', 'work', 'around'], tags=['all_7225']),\n",
              " LabeledSentence(words=['audio', 'does', 'not', 'work', 'on', 'my', 'neither', 'nor', 'are', 'working'], tags=['all_4538']),\n",
              " LabeledSentence(words=['job', 'eu', 'tool', 'notch', 'in', 'job', 'schedule', 'at', 'received', 'from'], tags=['all_2593']),\n",
              " LabeledSentence(words=['job', 'eu', 'tool', 'notch', 'in', 'job', 'schedule', 'at', 'received', 'from'], tags=['all_920']),\n",
              " LabeledSentence(words=['user', 'needs', 'help', 'login', 'to', 'the', 'company'], tags=['all_5278']),\n",
              " LabeledSentence(words=['customer', 'ref', 'not', 'on', 'delivery', 'hoi', 'view', 'attached', 'where', 'the', 'as', 'in', 'is', 'printing', 'delivery', 'for', 'also', 'from', 'order', 'attached', 'this', 'might', 'be', 'case', 'other', 'please', 'check'], tags=['all_4659']),\n",
              " LabeledSentence(words=['connect', 'to', 'the', 'network', 'in', 'inspection', 'room', 'can', 'you', 'look', 'getting', 'on', 'off', 'of', 'it', 'would', 'be', 'nice', 'able', 'share', 'some', 'from'], tags=['all_5510']),\n",
              " LabeledSentence(words=['account', 'locked', 'in', 'ad'], tags=['all_2196']),\n",
              " LabeledSentence(words=['delivery', 'no', 'intercompany', 'billing', 'error', 'message', 'but', 'the', 'does', 'exist', 'unable', 'to', 'process', 'order', 'through', 'shipping', 'system', 'due', 'not', 'billing'], tags=['all_4490']),\n",
              " LabeledSentence(words=['tool', 'data', 'site', 'cannot', 'search', 'with', 'out', 'security', 'error', 'this', 'is', 'the', 'i', 'am', 'getting', 'when', 'use', 'any', 'function', 'on', 'exception', 'of', 'type', 'was', 'thrown', 'at', 'assembly', 'sha', 'assembly', 'zip', 'string', 'culture', 'control', 'sender', 'e'], tags=['all_1086']),\n",
              " LabeledSentence(words=['were', 'been', 'informed', 'that', 'company', 'office', 'faced', 'the', 'problem', 'of', 'access', 'please', 'help', 'check', 'and', 'confirm', 'do', 'needful', 'on', 'below', 'request'], tags=['all_4986']),\n",
              " LabeledSentence(words=['unable', 'to', 'sign', 'in'], tags=['all_7138']),\n",
              " LabeledSentence(words=['account', 'locked', 'in', 'ad'], tags=['all_6652']),\n",
              " LabeledSentence(words=['need', 'for', 'material', 'plant', 'plant', 'thanks'], tags=['all_57']),\n",
              " LabeledSentence(words=['unable', 'to', 'fill', 'the', 'expense', 'report', 'form', 'for', 'employee'], tags=['all_3949']),\n",
              " LabeledSentence(words=['urgent', 'delivery', 'note', 'order', 'error', 'in', 'received', 'from', 'hello', 'it', 'urgently', 'ask', 'for', 'help', 'as', 'the', 'truck', 'is', 'already', 'here', 'to', 'collect', 'and', 'a', 'needs', 'be', 'please', 'clarify', 'thank', 'you', 'best'], tags=['all_5429']),\n",
              " LabeledSentence(words=['to', 'can', 'not', 'be', 'received', 'from', 'dear', 'it', 'the', 'for', 'below', 'would', 'you', 'help', 'to', 'check'], tags=['all_4741']),\n",
              " LabeledSentence(words=['attendance', 'tool', 'password', 'not', 'working', 'received', 'from', 'hi', 'my', 'is', 'working', 'kindly', 'reset', 'the', 'same', 'give', 'me', 'new', 'password'], tags=['all_3313']),\n",
              " LabeledSentence(words=['my', 'account', 'new', 'password', 'get', 'many', 'error', 'in', 'system', 'could', 'not', 'distributor', 'tool'], tags=['all_7939']),\n",
              " LabeledSentence(words=['for', 'po', 'error', 'message', 'received', 'from', 'hi', 'it', 'please', 'help', 'on', 'this', 'create', 'po'], tags=['all_2784']),\n",
              " LabeledSentence(words=['job', 'tax', 'interface', 'dev', 'daily', 'in', 'job', 'schedule', 'at', 'received', 'from', 'session', 'time', 'disk', 'aborted', 'total', 'media', 'used', 'agent'], tags=['all_4606']),\n",
              " LabeledSentence(words=['job', 'in', 'job', 'schedule', 'received', 'from', 'at'], tags=['all_7476']),\n",
              " LabeledSentence(words=['new', 'employee', 'not', 'able', 'to', 'login', 'system', 'user', 'id', 'name', 'logging', 'in', 'for', 'the', 'first', 'time', 'and', 'getting', 'error', 'security', 'on', 'server', 'does', 'contain', 'a', 'computer', 'account', 'this', 'trust', 'relationship', 'contact'], tags=['all_8427']),\n",
              " LabeledSentence(words=['ticket', 'update', 'for', 'ticket', 'no'], tags=['all_5178']),\n",
              " LabeledSentence(words=['in', 'our', 'office', 'will', 'not', 'turn', 'on', 'no', 'power', 'outlet', 'where', 'its', 'plugged', 'is', 'good'], tags=['all_3423']),\n",
              " LabeledSentence(words=['will', 'not', 'turn', 'on'], tags=['all_2371']),\n",
              " LabeledSentence(words=['group', 'by', 'does', 'not', 'work', 'in', 'the', 'new', 'modern', 'look', 'see', 'attached', 'image', 'my', 'site', 'show', 'grouping', 'first', 'level', 'and', 'at', 'second', 'is', 'continuous', 'further', 'expand', 'are', 'responsive'], tags=['all_8039']),\n",
              " LabeledSentence(words=['setup', 'new', '\\\\'], tags=['all_8072']),\n",
              " LabeledSentence(words=['error'], tags=['all_4813']),\n",
              " LabeledSentence(words=['please', 'fix', 'the', 'under', 'description', 'in', 'swath', 'and', 'you', 'work', 'on', 'it', 'please', 'transaction', 'communication', 'failure', 'with', 'partner', 'update', 'system', 'error', 'j', 'b', 'ne', 'update', 'error', 'during', 'table'], tags=['all_3878']),\n",
              " LabeledSentence(words=['unable', 'to', 'log', 'into', 'my', 'engineering'], tags=['all_7658']),\n",
              " LabeledSentence(words=['tool', 'format', 'issue', 'to', 'received', 'from', 'hello', 'while', 'we', 'are', 'getting', 'in', 'different', 'please', 'refer', 'not', 'is', 'help', 'us', 'all', 'as', 'per'], tags=['all_5372']),\n",
              " LabeledSentence(words=['unable', 'to', 'load', 'collaboration', 'platform', 'site', 'unable'], tags=['all_2340']),\n",
              " LabeledSentence(words=['to', 'mailbox', 'the', 'group'], tags=['all_5987']),\n",
              " LabeledSentence(words=['power', 'is', 'not', 'working', 'computer', 'wont', 'turn', 'on'], tags=['all_6084']),\n",
              " LabeledSentence(words=['vendor'], tags=['all_2707']),\n",
              " LabeledSentence(words=['ticket', 'update', 'on', 'implant'], tags=['all_2770']),\n",
              " LabeledSentence(words=['unable', 'to', 'access'], tags=['all_131']),\n",
              " LabeledSentence(words=['holiday', 'list', 'needs', 'rebuilt', 'someone', 'all', 'of', 'the', 'from', 'on', 'hub', 'there', 'should', 'be', 'a', 'backup', 'in', 'that', 'can', 'please', 'restore', 'list'], tags=['all_7920']),\n",
              " LabeledSentence(words=['telephony', 'issue', 'very', 'bad', 'quality', 'the', 'sound', 'is', 'horrible', 'customer', 'was', 'hard', 'to', 'understand', 'i', 'him', 'whether', 'he', 'this', 'issue', 'too', 'not', 'on', 'his', 'side', 'of', 'line', 'said'], tags=['all_1453']),\n",
              " LabeledSentence(words=['received', 'from', 'i', 'was', 'looking', 'for', 'on', 'type', 'in', 'his', 'name', 'the', 'search', 'bar', 'and', 'picture', 'up', 'with', 'beside', 'it', 'does', 'not', 'show', 'at', 'all', 'is', 'no', 'longer', 'company', 'perhaps', 'intended', 'sent', 'to', 'are', 'being', 'pat', 'incorrect', 'any', 'event', 'can', 'you', 'have', 'someone', 'look', 'into', 'this', 'correct'], tags=['all_8404']),\n",
              " LabeledSentence(words=['job', 'job', 'in', 'job', 'schedule', 'at', 'received', 'from'], tags=['all_1056']),\n",
              " LabeledSentence(words=['issue', 'with', 'tool', 'received', 'from', 'hello', 'please', 'look', 'in', 'to', 'the', 'below', 'and', 'help', 'resolve', 'issue'], tags=['all_5719']),\n",
              " LabeledSentence(words=['it', 'help', 'for', 'engineering', 'tool', 'and', 'dear', 'sir', 'please', 'to', 'of', 'engineering', 'tool', 'on', 'my', 'our', 'are', 'as', 'below', 'i', 'have', 'a', 'dealer', 'company', 'name', 'code'], tags=['all_6208']),\n",
              " LabeledSentence(words=['i', 'no', 'longer', 'see', 'my', 'travel', 'expense', 'in', 'transaction', 'the', 'message', 'for', 'does', 'not', 'exist', 'no'], tags=['all_4201']),\n",
              " LabeledSentence(words=['job', 'eu', 'tool', 'notch', 'in', 'job', 'schedule', 'at', 'received', 'from'], tags=['all_847']),\n",
              " LabeledSentence(words=['unable', 'to', 'load', 'outlook', 'due'], tags=['all_3985']),\n",
              " LabeledSentence(words=['outlook', 'language', 'is', 'automatically', 'connected', 'to', 'the', 'user', 'system', 'language', 'as', 'default', 'advised', 'check', 'now', 'user', 'confirmed', 'that', 'now', 'educated', 'about', 'take', 'change', 'language', 'issue', 'resolved'], tags=['all_3152']),\n",
              " LabeledSentence(words=['user', 'needs', 'help', 'to', 'login', 'the', 'mi'], tags=['all_862']),\n",
              " LabeledSentence(words=['need', 'to', 'be', 'able', 'create', 'under', 'and', 'i', 'used', 'for', 'cost', 'center', 'but', 'now', 'it', 'does', 'not', 'work', 'could', 'you', 'help', 'find', 'out', 'why', 'across', 'company', 'is'], tags=['all_6847']),\n",
              " LabeledSentence(words=['require', 'set', 'up', 'mobile', 'link', 'company', 'received', 'from', 'it', 'please', 'kindly', 'user', 'model'], tags=['all_7579']),\n",
              " LabeledSentence(words=['interface', 'not', 'working', 'working'], tags=['all_8143']),\n",
              " LabeledSentence(words=['cannot', 'log', 'in', 'to', 'received', 'from', 'hi', 'i', 'cannot', 'on', 'best'], tags=['all_2']),\n",
              " LabeledSentence(words=['frequent', 'received', 'from', 'hello', 'help', 'there', 'is', 'in', 'very', 'slow', 'also', 'please', 'have', 'it', 'checked', 'at', 'the'], tags=['all_3861']),\n",
              " LabeledSentence(words=['with', 'login', 'unfortunately', 'i', 'cannot', 'log', 'into', 'my', 'computer', 'error', 'message', 'the', 'trust', 'relationship', 'between', 'this', 'and', 'the', 'primary', 'domain', 'could', 'not', 'be', 'established'], tags=['all_7254']),\n",
              " LabeledSentence(words=['excel', 'to', 'crash', 'with', 'open', 'error', 'excel', 'cannot', 'complete', 'the', 'task', 'available', 'choose', 'less', 'data', 'or', 'close', 'other', 'also', 'stopped', 'working', 'and', 'i', 'have', 'of', 'my', 'screen', 'distorted', 'that', 'do', 'not', 'refresh', 'view', 'no', 'pivot', 'tables', 'complex', 'in', 'use', 'only', 'outlook', 'open', 'fan', 'constantly', 'dock'], tags=['all_7979']),\n",
              " LabeledSentence(words=['battery', 'to', 'be', 'dead', 'latitude', 'e', 'light', 'flashing', 'orange', 'will', 'not', 'work', 'without', 'connection', 'power', 'cord', 'dead'], tags=['all_7515']),\n",
              " LabeledSentence(words=['cannot', 'log', 'in', 'ticketing', 'tool', 'received', 'from', 'so', 'user', 'on', 'the', 'system', 'display', 'and', 'password', 'invalid', 'could', 'you', 'work', 'this'], tags=['all_929']),\n",
              " LabeledSentence(words=['not', 'able', 'to', 'make', 'outbound', 'from', 'phone', 'system'], tags=['all_2281']),\n",
              " LabeledSentence(words=['partner', 'team', 'received', 'from', 'would', 'like', 'some', 'assistance', 'on', 'trying', 'to', 'change', 'the', 'access', 'as', 'below', 'for', 'our', 'team', 'manager', 'internal', 'audit', 'pal', 'sent', 'am', 'to', 'subject', 'hi', 'do', 'you', 'think', 'will', 'be', 'able', 'expedite', 'this'], tags=['all_3174']),\n",
              " LabeledSentence(words=['job', 'job', 'in', 'job', 'schedule', 'at', 'received', 'from'], tags=['all_6260']),\n",
              " LabeledSentence(words=['unable', 'to', 'launch', 'error', 'message', 'attached'], tags=['all_1777']),\n",
              " LabeledSentence(words=['blue', 'screen', 'error'], tags=['all_6943']),\n",
              " LabeledSentence(words=['outlook', 'about', 'min', 'to', 'load'], tags=['all_2112']),\n",
              " LabeledSentence(words=['account', 'locked'], tags=['all_6655']),\n",
              " LabeledSentence(words=['unable', 'to', 'connect', 'wireless', 'user', 'in', 'for', 'an', 'issue', 'where', 'he', 'was', 'not', 'able', 'any', 'network', 'the', 'dell', 'tablet', 'device'], tags=['all_2468']),\n",
              " LabeledSentence(words=['connection', 'received', 'from', 'i', 'was', 'unable', 'to', 'save', 'my', 'file', 'in', 'ug', 'keep', 'getting', 'error', 'and', 'now', 'cannot', 'login', 'engineering', 'tool', 'engineer', 'product', 'company'], tags=['all_2890']),\n",
              " LabeledSentence(words=['uacyltoe', 'hxgaycze'], tags=['all_2070']),\n",
              " LabeledSentence(words=['job', 'in', 'job', 'schedule', 'received', 'from', 'at'], tags=['all_7746']),\n",
              " LabeledSentence(words=['flash', 'player', 'incompatibility'], tags=['all_7796']),\n",
              " LabeledSentence(words=['distributor', 'tool', 'received', 'from', 'hello', 'could', 'you', 'help', 'me', 'on', 'entering', 'the', 'company', 'id', 'already', 'with', 'and', 'he', 'enter', 'system', 'password', 'gave', 'but', 'it', 'did', 'not', 'still', 'work', 'after', 'sent', 'an', 'this', 'problem', 'be', 'have', 'a', 'great', 'day', 'best'], tags=['all_5424']),\n",
              " LabeledSentence(words=['dell', 'will', 'not', 'stay', 'connected', 'to', 'the', 'language', 'explorer', 'customer', 'number', 'i', 'have', 'a', 'dell', 'latitude', 'which', 'use', 'from', 'home', 'office', 'remotely', 'can', 'you', 'assist', 'please'], tags=['all_1934']),\n",
              " LabeledSentence(words=['unable', 'to', 'login', 'ethics', 'training', 'course', 'hi', 'when', 'trying', 'course', 'i', 'get', 'the', 'web', 'page', 'as', 'unregistered', 'user', 'please', 'can', 'you', 'help', 'in', 'this'], tags=['all_2448']),\n",
              " LabeledSentence(words=['what', 'is', 'this', 'trailing', 'mail'], tags=['all_6389']),\n",
              " LabeledSentence(words=['job', 'job', 'in', 'job', 'schedule', 'at', 'received', 'from'], tags=['all_1330']),\n",
              " LabeledSentence(words=['folder', 'access', 'provide', 'to', 'user', 'id', 'the', 'below', 'network', 'folder'], tags=['all_8342']),\n",
              " LabeledSentence(words=['reset', 'for', 'password', 'management', 'tool', 'password', 'reset', 'the'], tags=['all_6764']),\n",
              " LabeledSentence(words=['job', 'job', 'in', 'job', 'schedule', 'at', 'received', 'from'], tags=['all_2726']),\n",
              " LabeledSentence(words=['is', 'working'], tags=['all_1846']),\n",
              " LabeledSentence(words=['circuit', 'outage', 'at', 'it', 'divestiture', 'since', 'site', 'is', 'on', 'primary', 'what', 'type', 'of', 'outage', 'network', 'x', 'circuit', 'power', 'please', 'specify', 'outage', 'top', 'yes', 'when', 'did', 'it', 'start', 'maintenance', 'power', 'no', 'company', 'power', 'provider', 'network', 'no', 'maint', 'does', 'have', 'a', 'backup', 'yes', 'active', 'yes', 'contact', 'notified', 'remote', 'dialing', 'equipment', 'reset', 'working', 'yes', 'vendor', 'ticket', 'global', 'vendor', 'vendor', 'additional', 'diagnostics'], tags=['all_5764']),\n",
              " LabeledSentence(words=['error', 'message', 'null', 'at', 'step', 'revision', 'pressing', 'in', 'a', 'crash', 'first', 'time', 'this', 'morning', 'am', 'there', 'is', 'one', 'batch', 'step', 'the', 'moment', 'after', 'that', 'stage', 'can', 'be', 'as', 'usual', 'however', 'interrupted', 'and', 'directly', 'before', 'critical', 'further', 'only', 'for', 'running', 'without', 'any'], tags=['all_8436']),\n",
              " LabeledSentence(words=['job', 'job', 'in', 'job', 'schedule', 'at', 'received', 'from'], tags=['all_842']),\n",
              " LabeledSentence(words=['customer', 'group', 'enhanced', 'field', 'received', 'from', 'hello', 'a', 'business', 'decision', 'recently', 'been', 'made', 'to', 'view', 'customer', 'classification', 'as', 'indirect', 'going', 'forward', 'currently', 'in', 'the', 'be', 'system', 'they', 'are', 'classified', 'direct', 'can', 'you', 'please', 'modify', 'just', 'enhanced', 'just', 'show', 'indirect', 'this', 'is', 'used', 'several', 'and', 'hand', 'v', 'plan', 'product', 'management', 'let', 'me', 'know', 'if', 'have', 'any', 'best'], tags=['all_8480']),\n",
              " LabeledSentence(words=['job', 'job', 'in', 'job', 'schedule', 'at', 'received', 'from'], tags=['all_1580']),\n",
              " LabeledSentence(words=['install', 'shop', 'floor', 'on', 'my', 'machine'], tags=['all_5831']),\n",
              " LabeledSentence(words=['not', 'able', 'to', 'print', 'on', 'id'], tags=['all_6075']),\n",
              " LabeledSentence(words=['unable', 'to', 'scan', 'after', 'password', 'on', 'password', 'management', 'tool', 'password', 'management', 'tool', 'contact', 'number', 'are', 'not', 'landing', 'in', 'the', 'folder', 'please', 'check'], tags=['all_372']),\n",
              " LabeledSentence(words=['need', 'access', 'to', 'like'], tags=['all_1002']),\n",
              " LabeledSentence(words=['with', 'lan', 'in', 'the', 'meeting', 'room'], tags=['all_6648']),\n",
              " LabeledSentence(words=['login', 'received', 'from', 'i', 'my', 'password', 'through', 'password', 'management', 'and', 'when', 'attempt', 'to', 'is', 'not', 'senior', 'engineer'], tags=['all_1709']),\n",
              " LabeledSentence(words=['dell', 'my', 'is', 'not', 'working', 'again', 'and', 'your', 'urgent', 'help'], tags=['all_72']),\n",
              " LabeledSentence(words=['was', 'r', 'department', 'no', 'longer', 'boots', 'up', 'after', 'restart', 'or', 'it', 'abort', 'the', 'boot', 'process', 'during', 'sequence', 'please', 'check', 'thank', 'you'], tags=['all_784']),\n",
              " LabeledSentence(words=['account', 'lock', 'out'], tags=['all_3678']),\n",
              " LabeledSentence(words=['job', 'payroll', 'na', 'u', 'in', 'job', 'schedule', 'at', 'received', 'from'], tags=['all_6094']),\n",
              " LabeledSentence(words=['unable', 'to', 'connect', 'global', 'language', 'explorer', 'customer', 'number', 'telephone', 'service'], tags=['all_532']),\n",
              " LabeledSentence(words=['ba', 'index', 'for', 'due', 'to', 'server', 'is', 'dear', 'team', 'we', 'are', 'facing', 'in', 'indexing', 'of', 'over', 'loaded', 'error', 'i', 'have', 'checked', 'the', 'those', 'and', 'it', 'only', 'data', 'please', 'suggest', 'if', 'all', 'ba', 'not', 'operating', 'fine', 'request', 'provide', 'a', 'resolution', 'at', 'an'], tags=['all_3682']),\n",
              " LabeledSentence(words=['unable', 'to', 'open', 'and', 'password', 'issue', 'in'], tags=['all_1402']),\n",
              " LabeledSentence(words=['job', 'job', 'in', 'job', 'schedule', 'at', 'received', 'from'], tags=['all_2618']),\n",
              " LabeledSentence(words=['unable', 'to', 'from'], tags=['all_7018']),\n",
              " LabeledSentence(words=['cannot', 'open', 'new', 'lean', 'tracker', 'form', 'received', 'from', 'hello', 'for', 'the', 'day', 'please', 'help', 'me', 'to', 'add', 'a', 'event', 'form', 'when', 'i', 'tried', 'it', 'got', 'following', 'message', 'said', 'update', 'my', 'with', 'version', 'bad'], tags=['all_3679']),\n",
              " LabeledSentence(words=['outlook', 'calendar', 'received', 'from', 'hello', 'my', 'no', 'information', 'when', 'someone', 'to', 'schedule', 'a', 'meeting', 'with', 'me', 'the', 'assistant', 'how', 'can', 'i', 'fix', 'that'], tags=['all_8148']),\n",
              " LabeledSentence(words=['mobile', 'device', 'received', 'from', 'who', 'do', 'i', 'need', 'to', 'contact', 'battery', 'life', 'on', 'my', 'phone', 'looking', 'charge', 'fast', 'throughout', 'the', 'day', 'is', 'it', 'something', 'that', 'can', 'have', 'or', 'get', 'a', 'new', 'phone'], tags=['all_7484']),\n",
              " LabeledSentence(words=['r', 'finished', 'start', 'of', 'sop', 'process', 'received', 'from', 'hello', 'unable', 'to', 'sign', 'in', 'after', 'update', 'see', 'the', 'message', 'best'], tags=['all_8452']),\n",
              " LabeledSentence(words=['reset', 'the', 'password', 'for', 'on', 'production', 'him'], tags=['all_2539']),\n",
              " LabeledSentence(words=['please', 'reset', 'my', 'password', 'for', 'hand'], tags=['all_2393']),\n",
              " LabeledSentence(words=['job', 'job', 'in', 'job', 'schedule', 'at', 'received', 'from'], tags=['all_4079']),\n",
              " LabeledSentence(words=['ticket', 'update', 'on', 'implant'], tags=['all_5928']),\n",
              " LabeledSentence(words=['folder', 'access', 'received', 'from', 'dear', 'it', 'team', 'please', 'read', 'and', 'write', 'on', 'the', 'following', 'two', 'to', 'me'], tags=['all_881']),\n",
              " LabeledSentence(words=['setup', 'new'], tags=['all_5880']),\n",
              " LabeledSentence(words=['need', 'help', 'in', 'password', 'password', 'management', 'tool', 'manager'], tags=['all_1039']),\n",
              " LabeledSentence(words=['information'], tags=['all_1391']),\n",
              " LabeledSentence(words=['please', 'help', 'for', 'connection', 'try', 'to', 'but', 'cannot', 'language', 'explorer', 'customer', 'number', 'telephone'], tags=['all_1933']),\n",
              " LabeledSentence(words=['job', 'he', 'in', 'job', 'schedule', 'at', 'received', 'from'], tags=['all_1948']),\n",
              " LabeledSentence(words=['account', 'unlock'], tags=['all_2278']),\n",
              " LabeledSentence(words=['transfer', 'intercompany', 'is', 'not', 'a', 'price', 'it', 'because', 'the', 'material', 'priced', 'at', 'per', 'and', 'order', 'only', 'for', 'should', 'they', 'change', 'to'], tags=['all_2160']),\n",
              " LabeledSentence(words=['urgent', 'delegation', 'hi', 'i', 'had', 'an', 'associate', 'leave', 'on', 'the', 'at', 'end', 'of', 'his', 'outlook', 'in', 'my', 'but', 'now', 'its', 'gone', 'received', 'that', 'it', 'was', 'collaboration', 'platform', 'do', 'not', 'see', 'anything', 'when', 'click', 'link', 'can', 'have', 'through'], tags=['all_409']),\n",
              " LabeledSentence(words=['business', 'client', 'login', 'hi', 'kindly', 'help', 'me', 'out', 'on', 'access', 'drawing', 'search', 'to', 'view', 'and', 'in', 'business', 'client', 'utility'], tags=['all_8068']),\n",
              " LabeledSentence(words=['vendor', 'help', 'to', 'configure', 'the', 'on', 'new'], tags=['all_4933']),\n",
              " LabeledSentence(words=['browser', 'issue', 'i', 'cannot', 'access', 'company', 'collaboration', 'platform', 'to', 'sign', 'into', 'tool'], tags=['all_5692']),\n",
              " LabeledSentence(words=['account', 'locked'], tags=['all_280']),\n",
              " LabeledSentence(words=['job', 'in', 'job', 'schedule', 'at', 'received', 'from'], tags=['all_3003']),\n",
              " LabeledSentence(words=['po', 'issue', 'received', 'from', 'hello', 'for', 'the', 'multiple', 'cost', 'center', 'why', 'amount', 'is', 'with', 'best'], tags=['all_7305']),\n",
              " LabeledSentence(words=['please', 'on', 'printer', 'to', 'printer', 'issue', 'needs', 'be', 'resolved', 'today', 'received', 'from', 'hi', 'the', 'printer', 'is', 'not', 'working', 'and', 'a', 'part', 'can', 'you', 'in', 'queue', 'printer', 'that', 'new', 'it', 'may', 'deliver', 'for', 'few', 'days', 'so', 'will', 'need', 'print', 'now', 'this', 'taken', 'care', 'of', 'since', 'are', 'printed', 'picked', 'up', 'by', 'an', 'outside', 'vendor', 'at', 'daily', 'basis', 'contact', 'if', 'have', 'about', 'today'], tags=['all_43']),\n",
              " LabeledSentence(words=['and', 'account', 'locked'], tags=['all_3215']),\n",
              " LabeledSentence(words=['a', 'recently', 'variable', 'to', 'get', 'in', 'bob', 'analyses', 'due', 'attached', 'error', 'message'], tags=['all_8313']),\n",
              " LabeledSentence(words=['job', 'hand', 'os', 'in', 'job', 'schedule', 'at', 'received', 'from'], tags=['all_5377']),\n",
              " LabeledSentence(words=['job', 'in', 'job', 'schedule', 'hand', 'way', 'received', 'from', 'at'], tags=['all_7600']),\n",
              " LabeledSentence(words=['job', 'in', 'job', 'schedule', 'at', 'received', 'from'], tags=['all_5022']),\n",
              " LabeledSentence(words=['information', 'from', 'sent', 'august', 'am', 'to', 'subject', 're', 'account', 'dear', 'hope', 'you', 'are', 'doing', 'good', 'please', 'note', 'that', 'this', 'is', 'a', 'sent', 'out', 'by', 'it', 'to', 'our', 'preparedness', 'for', 'actual', 'on', 'and', 'the', 'issue'], tags=['all_7026']),\n",
              " LabeledSentence(words=['personal', 'number', 'locked', 'expense', 'report'], tags=['all_965']),\n",
              " LabeledSentence(words=['connection', 'connected', 'to', 'the', 'user', 'system', 'default', 'browser', 'advised', 'caller', 'company', 'caller', 'confirmed', 'that', 'he', 'was', 'able', 'login', 'issue', 'resolved'], tags=['all_6683']),\n",
              " LabeledSentence(words=['folder', 'in', 'needs', 'to', 'be'], tags=['all_1370']),\n",
              " LabeledSentence(words=['company', 'guest', 'login', 'and', 'received', 'from', 'hi', 'please', 'help', 'to', 'create', 'a', 'permanent', 'user', 'name', 'for', 'our', 'office', 'we', 'need', 'this', 'password', 'so', 'that', 'as', 'when', 'have', 'coming', 'training', 'or', 'meeting', 'be', 'able', 'login', 'best'], tags=['all_4489']),\n",
              " LabeledSentence(words=['need', 'access', 'to', 'collaboration', 'platform', 'contact'], tags=['all_4957']),\n",
              " LabeledSentence(words=['cannot', 'log', 'into', 'received', 'from', 'i', 'it', 'is', 'saying', 'my', 'are', 'bad'], tags=['all_4946']),\n",
              " LabeledSentence(words=['low', 'disk', 'space', 'on', 'f', 'drive', 'from', 'sent', 'august', 'to', 'subject', 'hi', 'i', 'was', 'my', 'access', 'to', 'for', 'tomorrow', 'dot', 'net', 'application', 'deployment', 'and', 'f', 'is', 'running', 'out', 'of', 'with', 'only', 'free', 'space', 'this', 'if', 'not', 'request', 'your', 'help', 'clear', 'off', 'any', 'temporary', 'up', 'some', 'in', 'you', 'need', 'move', 'over', 'between'], tags=['all_7903']),\n",
              " LabeledSentence(words=['password', 'reset', 'request', 'for', 'unable', 'to', 'login', 'tool'], tags=['all_3223']),\n",
              " LabeledSentence(words=['engineering', 'tool', 'error', 'cloud', 'stopped', 'working'], tags=['all_2814']),\n",
              " LabeledSentence(words=['error', 'received', 'from', 'hello', 'i', 'have', 'this', 'when', 'starting', 'can', 'you', 'please', 'help', 'to', 'solve', 'global', 'portfolio', 'manager', 'advanced'], tags=['all_3525']),\n",
              " LabeledSentence(words=['unable', 'to', 'log', 'in', 'collaboration', 'platform'], tags=['all_1705']),\n",
              " LabeledSentence(words=['unable', 'to', 'load', 'outlook'], tags=['all_2703']),\n",
              " LabeledSentence(words=['interaction', 'id', 'static', 'sound', 'from', 'telephony'], tags=['all_1200']),\n",
              " LabeledSentence(words=['job', 'in', 'job', 'schedule', 'job', 'was', 'running', 'long', 'received', 'from', 'longer', 'min', 'and'], tags=['all_7626']),\n",
              " LabeledSentence(words=['login', 'to', 'access', 'password', 'change', 'request', 'from', 'manager'], tags=['all_2680']),\n",
              " LabeledSentence(words=['reset', 'the', 'password', 'for', 'on', 'hello', 'please', 'only', 'impact', 'award', 'as', 'security', 'question', 'what', 'was', 'name', 'of', 'first', 'school', 'you', 'cannot', 'be', 'correctly', 'thank', 'you'], tags=['all_1667']),\n",
              " LabeledSentence(words=['reset', 'the', 'password', 'for', 'on'], tags=['all_4302']),\n",
              " LabeledSentence(words=['my', 'password', 'yesterday', 'now', 'outlook', 'does', 'not', 'connect', 'to', 'can', 'enter', 'registration', 'data', 'but', 'the', 'window', 'coming', 'back', 'succeed', 'again', 'today', 'same', 'problem', 'cannot', 'use', 'and', 'edit'], tags=['all_5897']),\n",
              " LabeledSentence(words=['trying', 'to', 'access', 'through', 'ess', 'but', 'getting', 'message', 'password', 'i', 'tried', 'password', 'management', 'tool', 'manager', 'and', 'unlocked', 'all', 'again'], tags=['all_7039']),\n",
              " LabeledSentence(words=['restore', 'received', 'from', 'please', 'the', 'complete', 'file', 'all', 'under', 'thank', 'you', 'best'], tags=['all_909']),\n",
              " LabeledSentence(words=['job', 'job', 'in', 'job', 'schedule', 'at', 'received', 'from'], tags=['all_6477']),\n",
              " LabeledSentence(words=['german', 'call'], tags=['all_2720']),\n",
              " LabeledSentence(words=['external', 'user', 'for', 'help', 'calendar', 'issue'], tags=['all_2797']),\n",
              " LabeledSentence(words=['job', 'job', 'in', 'job', 'schedule', 'at', 'received', 'from'], tags=['all_6635']),\n",
              " LabeledSentence(words=['outlook', 'not', 'working', 'was', 'this', 'morning', 'but', 'will', 'let', 'me', 'back', 'in', 'now', 'down'], tags=['all_3030']),\n",
              " LabeledSentence(words=['job', 'job', 'in', 'job', 'schedule', 'at', 'received', 'from'], tags=['all_673']),\n",
              " LabeledSentence(words=['ticket', 'update'], tags=['all_1194']),\n",
              " LabeledSentence(words=['analysis', 'for', 'office', 'ago', 'tool', 'install', 'the', 'on'], tags=['all_1383']),\n",
              " LabeledSentence(words=['job', 'in', 'job', 'schedule', 'at', 'received', 'from'], tags=['all_796']),\n",
              " LabeledSentence(words=['user', 'id', 'password', 'not', 'working', 'received', 'from', 'dear', 'do', 'the', 'needful', 'regarding', 'subject', 'message', 'shown', 'is', 'wrong', 'na', 'warm'], tags=['all_2295']),\n",
              " LabeledSentence(words=['please', 'add', 'office', 'printer', 'in', 'my', 'new', 'received', 'from', 'dear', 'sir', 'the', 'which', 'is', 'connected', 'with', 'company'], tags=['all_6833']),\n",
              " LabeledSentence(words=['login', 'issue', 'user', 'manager', 'name', 'checked', 'the', 'name', 'in', 'ad', 'and', 'unlocked', 'account', 'advised', 'to', 'check', 'caller', 'confirmed', 'that', 'he', 'was', 'able', 'login', 'issue', 'resolved'], tags=['all_7323']),\n",
              " LabeledSentence(words=['and', 'outlook', 'issue', 'meeting', 'are', 'not', 'showing', 'up', 'in', 'error', 'message', 'attached', 'for', 'business', 'exchange', 'are', 'not', 'making', 'a', 'connection'], tags=['all_968']),\n",
              " LabeledSentence(words=['s', 'k'], tags=['all_2848']),\n",
              " LabeledSentence(words=['access', 'to', 'dot', 'hi', 'kindly', 'our', 'new', 'intern', 'of', 'net', 'team', 'her', 'is'], tags=['all_5480']),\n",
              " LabeledSentence(words=['not', 'able', 'to', 'login', 'collaboration', 'platform', 'address', 'collaboration', 'platform', 'in', 'extension', 'attribute', 'editor', 'and', 'user', 'after', 'some', 'time'], tags=['all_4166']),\n",
              " LabeledSentence(words=['supply', 'chain', 'received', 'from', 'please', 'reset', 'my', 'password'], tags=['all_5057']),\n",
              " LabeledSentence(words=['need', 'interaction', 'password', 'reset', 'phone'], tags=['all_4667']),\n",
              " LabeledSentence(words=['call', 'received', 'from'], tags=['all_5093']),\n",
              " LabeledSentence(words=['ad', 'account', 'lock', 'out'], tags=['all_5864']),\n",
              " LabeledSentence(words=['eu', 'tool', 'issue', 'is', 'since', 'we', 'i', 'to', 'bit', 'saying', 'out', 'of', 'memory', 'phone'], tags=['all_3514']),\n",
              " LabeledSentence(words=['tool', 'time', 'issue'], tags=['all_2054']),\n",
              " LabeledSentence(words=['job', 'job', 'in', 'job', 'schedule', 'at', 'received', 'from'], tags=['all_6865']),\n",
              " LabeledSentence(words=['how', 'to', 'access', 'from', 'net', 'weaver', 'language', 'explorer', 'customer', 'number', 'telephone'], tags=['all_6159']),\n",
              " LabeledSentence(words=['reset', 'for', 'password', 'management', 'tool', 'password', 'reset', 'the'], tags=['all_2788']),\n",
              " LabeledSentence(words=['account', 'locked'], tags=['all_2134']),\n",
              " LabeledSentence(words=['received', 'from', 'hello', 'everyone', 'will', 'receive', 'a', 'message', 'to', 'senior', 'analyst'], tags=['all_4821']),\n",
              " LabeledSentence(words=['setup', 'time', 'not', 'calculated', 'properly', 'from', 'on', 'how', 'confirmation', 'times', 'are', 'in', 'mi', 'one', 'example', 'found', 'out', 'that', 'mi', 'was', 'work', 'center', 'or', 'factory', 'calendar', 'excluding', 'weekend', 'calculation', 'but', 'other', 'it', 'not', 'more', 'page', 'collaboration'], tags=['all_6688']),\n",
              " LabeledSentence(words=['password', 'management', 'tool', 'password', 'manager', 'change', 'received', 'from', 'can', 'someone', 'please', 'advise', 'if', 'we', 'are', 'still', 'manager', 'i', 'cannot', 'connect', 'to', 'this', 'site', 'do', 'a', 'mass', 'update', 'of', 'my', 'new', 'all'], tags=['all_2531']),\n",
              " LabeledSentence(words=['a', 'linked', 'file', 'cannot', 'be', 'there', 'is', 'a', 'link', 'that', 'the', 'version', 'low'], tags=['all_1955']),\n",
              " LabeledSentence(words=['reinstall', 'we'], tags=['all_3069']),\n",
              " LabeledSentence(words=['password', 'block', 'received', 'from', 'dear', 'sir', 'my', 'is', 'blocked', 'request', 'you', 'to', 'kindly', 'reset', 'the', 'password', 'employee', 'code', 'login', 'id'], tags=['all_4064']),\n",
              " LabeledSentence(words=['please', 'assist', 'and', 'received', 'from', 'junior', 'application', 'engineer'], tags=['all_5564']),\n",
              " LabeledSentence(words=['outlook', 'is', 'giving', 'stack', 'guard', 'error'], tags=['all_7416']),\n",
              " LabeledSentence(words=['repeat', 'outbound', 'connection', 'for', 'user', 'in', 'polo', 'virus', 'quarantine', 'incident', 'overview', 'we', 'are', 'seeing', 'your', 'device', 'generating', 'a', 'high', 'volume', 'of', 'repeat', 'traffic', 'blocked', 'from', 'to', 'port', 'remote', 'procedure', 'call', 'external', 'host', 'this', 'may', 'indicate', 'misconfiguration', 'where', 'the', 'is', 'blocking', 'legitimate', 'also', 'reaching', 'out', 'malicious', 'or', 'worm', 'code', 'you', 'via', 'medium', 'priority', 'ticket', 'and', 'per', 'our', 'default', 'event', 'handling', 'if', 'would', 'like', 'us', 'handle', 'these', 'differently', 'future', 'see', 'below', 'have', 'any', 'further', 'please', 'let', 'know', 'either', 'by', 'corresponding', 'back', 'soc', 'calling', 'at', 'full', 'login', 'failure', 'explicit', 'notification', 'phone', 'call', 'automatically', 'resolve', 'directly', 'portal', 'no', 'explicit', 'but', 'will', 'be', 'available', 'portal'], tags=['all_5847']),\n",
              " LabeledSentence(words=['error', 'when', 'lead', 'by', 'user', 'refer', 'sent'], tags=['all_2711']),\n",
              " LabeledSentence(words=['is', 'currently', 'high', 'utilization', 'please', 'investigate'], tags=['all_474']),\n",
              " LabeledSentence(words=['server', 'down', 'e', 'error', 'reading', 'object', 'the', 'process', 'been', 'at', 'execute', 'transaction', 'get', 'connect', 'to', 'message', 'host', 'connection', 'type', 'grouper', 'production', 'phone'], tags=['all_7234']),\n",
              " LabeledSentence(words=['outlook', 'not', 'to', 'open', 'in', 'the', 'connected', 'user', 'system', 'sent', 'a', 'mail', 'from', 'mailbox', 'user', 'confirmed', 'he', 'is', 'able', 'it', 'advised', 'close', 'and', 'reopen', 'outlook', 'check', 'caller', 'that', 'now', 'see', 'on', 'outlook', 'issue', 'resolved'], tags=['all_4379']),\n",
              " LabeledSentence(words=['job', 'in', 'job', 'schedule', 'hot', 'received', 'from', 'at'], tags=['all_7733']),\n",
              " LabeledSentence(words=['job', 'in', 'job', 'schedule', 'at', 'received', 'from'], tags=['all_1803']),\n",
              " LabeledSentence(words=['remote', 'connection', 'open', 'for', 'system', 'other', 'enter', 'user', 'id', 'of', 'the', 'issue', 'and', 'please', 'copy', 'same', 'transaction', 'needs', 'or', 'was', 'working', 'with', 'describe', 'to', 'provide', 'login', 'data', 'if', 'you', 'are', 'getting', 'a', 'not', 'authorized', 'message', 'recreate', 'condition', 'then', 'do', 'attach', 'result', 'ticketing', 'tool', 'ticket', 'access', 'as', 'this', 'user'], tags=['all_2706']),\n",
              " LabeledSentence(words=['can', 'not', 'log', 'into', 'tool', 'time', 'through', 'single', 'sign', 'on', 'portal'], tags=['all_45']),\n",
              " LabeledSentence(words=['supply', 'chain', 'password', 'reset', 'from', 'sent', 'to', 'shi', 'subject', 're', 'finished', 'start', 'of', 'sop', 'process', 'help', 'desk', 'please', 'check', 'account', 'in', 'and', 'assist', 'for'], tags=['all_1984']),\n",
              " LabeledSentence(words=['node', 'at', 'is', 'down', 'since'], tags=['all_5365']),\n",
              " LabeledSentence(words=['access', 'issue', 'system', 'other', 'enter', 'user', 'id', 'of', 'the', 'transaction', 'needs', 'or', 'was', 'working', 'with', 'unable', 'to', 'locked', 'describe', 'issue', 'please', 'unlock', 'account', 'and', 'reset', 'password', 'for', 'both'], tags=['all_4483']),\n",
              " LabeledSentence(words=['to', 'frozen', 'date', 'alert', 'issue', 'in', 'supervisor', 'the', 'date', 'is', 'not', 'correctly', 'for', 'reference', 'collaboration'], tags=['all_6687']),\n",
              " LabeledSentence(words=['user', 'id', 'received', 'from', 'help', 'desk', 'please', 'provide', 'the', 'to', 'below', 'user', 'name', 'g'], tags=['all_5713']),\n",
              " LabeledSentence(words=['printer', 'problem', 'issue', 'information', 'please', 'complete', 'all', 'below', 'if', 'not', 'it', 'will', 'be', 'returned', 'back', 'to', 'the', 'requester', 'provide', 'review', 'ticket', 'not', 'able', 'resolve', 'then', 'assign', 'appropriate', 'group', 'per', 'your', 'assignment', 'name', 'make', 'model', 'ex', 'wy', 'detailed', 'description', 'of', 'can', 'install', 'driver', 'use', 'this', 'printer', 'type', 'printing', 'excel', 'any', 'tool', 'delivery', 'note', 'production', 'what', 'system', 'or', 'application', 'being', 'used', 'at', 'time', 'problem', 'outlook', 'word', 'printing', 'all', 'does', 'respond', 'a', 'ping', 'command', 'on', 'network', 'and', 'power', 'cycle', 'been', 'system', 'which', 'system', 'its', 'an', 'can', 'output', 'another', 'temporarily', 'too', 'document', 'is', 'correctly', 'scan', 'copy', 'attach', 'ticketing', 'tool', 'ticket'], tags=['all_5091']),\n",
              " LabeledSentence(words=['password', 'reset'], tags=['all_526']),\n",
              " LabeledSentence(words=['balancing', 'error', 'on'], tags=['all_6606']),\n",
              " LabeledSentence(words=['hand', 'scanner', 'on', 'with', 'r', 'still', 'does', 'not', 'work', 'after', 'replacement', 'replacement', 'please', 'check', 'and', 'replace', 'again', 'if', 'necessary'], tags=['all_1766']),\n",
              " LabeledSentence(words=['urgent', 'not', 'working', 'again', 'again', 'after', 'replacement', 'issue', 'user', 'the', 'to', 'be', 'phone'], tags=['all_3244']),\n",
              " LabeledSentence(words=['job', 'tool', 'powder', 'prod', 'full', 'in', 'job', 'schedule', 'at', 'received', 'from'], tags=['all_1969']),\n",
              " LabeledSentence(words=['locked'], tags=['all_8375']),\n",
              " LabeledSentence(words=['expense', 'report', 'blocked'], tags=['all_3028']),\n",
              " LabeledSentence(words=['report', 'not', 'running', 'properly', 'and', 'to', 'be', 'is', 'a', 'with', 'size', 'instead', 'of', 'proper', 'o', 'supposed', 'run', 'on', 'the', 'each', 'month', 'along', 'other', 'but', 'for', 'last', 'couple', 'been', 'empty', 'this', 'previously', 'only', 'any', 'please', 'correct', 'so', 'it', 'available', 'next', 'month', 'global', 'that', 'used', 'in', 'some', 'compensation'], tags=['all_5167']),\n",
              " LabeledSentence(words=['account', 'lock', 'out', 'and', 'password', 'reset'], tags=['all_6924']),\n",
              " ...]"
            ]
          },
          "metadata": {
            "tags": []
          },
          "execution_count": 16
        }
      ]
    },
    {
      "cell_type": "markdown",
      "metadata": {
        "id": "0cJ4rEXhw7sb"
      },
      "source": [
        "## DBOW"
      ]
    },
    {
      "cell_type": "code",
      "metadata": {
        "colab": {
          "base_uri": "https://localhost:8080/"
        },
        "id": "fEvB1Yq1w7sb",
        "outputId": "9f2f355f-d264-41c1-bf87-d6dc3975d428"
      },
      "source": [
        "model_ug_dbow = Doc2Vec(dm=0, size=100, negative=5, min_count=2, workers=16, alpha=0.065, min_alpha=0.065)\n",
        "model_ug_dbow.build_vocab([x for x in tqdm(all_x_w2v)])"
      ],
      "execution_count": 17,
      "outputs": [
        {
          "output_type": "stream",
          "text": [
            "/usr/local/lib/python3.6/dist-packages/gensim/models/doc2vec.py:570: UserWarning: The parameter `size` is deprecated, will be removed in 4.0.0, use `vector_size` instead.\n",
            "  warnings.warn(\"The parameter `size` is deprecated, will be removed in 4.0.0, use `vector_size` instead.\")\n",
            "100%|██████████| 8500/8500 [00:00<00:00, 1768607.20it/s]\n"
          ],
          "name": "stderr"
        }
      ]
    },
    {
      "cell_type": "markdown",
      "metadata": {
        "id": "pXaQK81ew7sb"
      },
      "source": [
        "According to the developer Radim Řehůřek who created Gensim,\n",
        "\"One caveat of the way this algorithm runs is that, since the learning rate decrease over the course of iterating over the data, labels which are only seen in a single LabeledSentence during training will only be trained with a fixed learning rate. This frequently produces less than optimal results.\"\n",
        "\n",
        "Below iteration implement explicit multiple-pass, alpha-reduction approach with added shuffling. This has been already presented in Gensim's IMDB tutorial."
      ]
    },
    {
      "cell_type": "code",
      "metadata": {
        "colab": {
          "base_uri": "https://localhost:8080/"
        },
        "id": "a5y7FDprw7sb",
        "outputId": "7f218cdf-a392-4933-c92a-9be148bc6eb3"
      },
      "source": [
        "%%time\n",
        "for epoch in range(30):\n",
        "    model_ug_dbow.train(utils.shuffle([x for x in tqdm(all_x_w2v)]), total_examples=len(all_x_w2v), epochs=1)\n",
        "    model_ug_dbow.alpha -= 0.002\n",
        "    model_ug_dbow.min_alpha = model_ug_dbow.alpha"
      ],
      "execution_count": 18,
      "outputs": [
        {
          "output_type": "stream",
          "text": [
            "100%|██████████| 8500/8500 [00:00<00:00, 2248460.14it/s]\n",
            "100%|██████████| 8500/8500 [00:00<00:00, 2647525.92it/s]\n",
            "100%|██████████| 8500/8500 [00:00<00:00, 3073412.41it/s]\n",
            "100%|██████████| 8500/8500 [00:00<00:00, 3166496.49it/s]\n",
            "100%|██████████| 8500/8500 [00:00<00:00, 2173214.51it/s]\n",
            "100%|██████████| 8500/8500 [00:00<00:00, 3135307.71it/s]\n",
            "100%|██████████| 8500/8500 [00:00<00:00, 3264498.12it/s]\n",
            "100%|██████████| 8500/8500 [00:00<00:00, 2936220.06it/s]\n",
            "100%|██████████| 8500/8500 [00:00<00:00, 3252584.98it/s]\n",
            "100%|██████████| 8500/8500 [00:00<00:00, 3085648.61it/s]\n",
            "100%|██████████| 8500/8500 [00:00<00:00, 2064006.48it/s]\n",
            "100%|██████████| 8500/8500 [00:00<00:00, 3381220.03it/s]\n",
            "100%|██████████| 8500/8500 [00:00<00:00, 3266891.23it/s]\n",
            "100%|██████████| 8500/8500 [00:00<00:00, 3199747.26it/s]\n",
            "100%|██████████| 8500/8500 [00:00<00:00, 3034952.24it/s]\n",
            "100%|██████████| 8500/8500 [00:00<00:00, 3281625.92it/s]\n",
            "100%|██████████| 8500/8500 [00:00<00:00, 3178352.86it/s]\n",
            "100%|██████████| 8500/8500 [00:00<00:00, 3115580.18it/s]\n",
            "100%|██████████| 8500/8500 [00:00<00:00, 3093949.84it/s]\n",
            "100%|██████████| 8500/8500 [00:00<00:00, 3259722.41it/s]\n",
            "100%|██████████| 8500/8500 [00:00<00:00, 2954224.73it/s]\n",
            "100%|██████████| 8500/8500 [00:00<00:00, 3169311.41it/s]\n",
            "100%|██████████| 8500/8500 [00:00<00:00, 3089124.34it/s]\n",
            "100%|██████████| 8500/8500 [00:00<00:00, 3214460.73it/s]\n",
            "100%|██████████| 8500/8500 [00:00<00:00, 3105538.68it/s]\n",
            "100%|██████████| 8500/8500 [00:00<00:00, 3131727.34it/s]\n",
            "100%|██████████| 8500/8500 [00:00<00:00, 3014423.27it/s]\n",
            "100%|██████████| 8500/8500 [00:00<00:00, 2054135.98it/s]\n",
            "100%|██████████| 8500/8500 [00:00<00:00, 2539648.38it/s]\n",
            "100%|██████████| 8500/8500 [00:00<00:00, 3002491.49it/s]\n"
          ],
          "name": "stderr"
        },
        {
          "output_type": "stream",
          "text": [
            "CPU times: user 17.5 s, sys: 3.45 s, total: 21 s\n",
            "Wall time: 13.8 s\n"
          ],
          "name": "stdout"
        }
      ]
    },
    {
      "cell_type": "code",
      "metadata": {
        "id": "7VfayLMMw7sc"
      },
      "source": [
        "def get_vectors(model, corpus, size):\n",
        "    vecs = np.zeros((len(corpus), size))\n",
        "    n = 0\n",
        "    for i in corpus.index:\n",
        "        prefix = 'all_' + str(i)\n",
        "        vecs[n] = model.docvecs[prefix]\n",
        "        n += 1\n",
        "    return vecs"
      ],
      "execution_count": 19,
      "outputs": []
    },
    {
      "cell_type": "code",
      "metadata": {
        "id": "mewbgsfAw7sc"
      },
      "source": [
        "train_vecs_dbow = get_vectors(model_ug_dbow, x_train, 100)\n",
        "validation_vecs_dbow = get_vectors(model_ug_dbow, x_validation, 100)"
      ],
      "execution_count": 20,
      "outputs": []
    },
    {
      "cell_type": "code",
      "metadata": {
        "id": "mkBxsI8Zw7sd"
      },
      "source": [
        "model_ug_dbow.save('drive/MyDrive/grams/d2v_model_ug_dbow.doc2vec')\n",
        "model_ug_dbow = Doc2Vec.load('drive/MyDrive/grams/d2v_model_ug_dbow.doc2vec')"
      ],
      "execution_count": 21,
      "outputs": []
    },
    {
      "cell_type": "code",
      "metadata": {
        "id": "xd6W2VxUw7sd"
      },
      "source": [
        "model_ug_dbow.delete_temporary_training_data(keep_doctags_vectors=True, keep_inference=True)"
      ],
      "execution_count": 22,
      "outputs": []
    },
    {
      "cell_type": "markdown",
      "metadata": {
        "id": "JDl5SG-iw7sd"
      },
      "source": [
        "## Distributed Memory (concatenated)"
      ]
    },
    {
      "cell_type": "code",
      "metadata": {
        "colab": {
          "base_uri": "https://localhost:8080/"
        },
        "id": "0ynxsYO_w7sd",
        "outputId": "9deeabd8-a770-4cc0-ca2d-824138230670"
      },
      "source": [
        "cores = multiprocessing.cpu_count()\n",
        "model_ug_dmc = Doc2Vec(dm=1, dm_concat=1, size=100, window=2, negative=5, min_count=2, workers=cores, alpha=0.065, min_alpha=0.065)\n",
        "model_ug_dmc.build_vocab([x for x in tqdm(all_x_w2v)])"
      ],
      "execution_count": 23,
      "outputs": [
        {
          "output_type": "stream",
          "text": [
            "/usr/local/lib/python3.6/dist-packages/gensim/models/doc2vec.py:570: UserWarning: The parameter `size` is deprecated, will be removed in 4.0.0, use `vector_size` instead.\n",
            "  warnings.warn(\"The parameter `size` is deprecated, will be removed in 4.0.0, use `vector_size` instead.\")\n",
            "100%|██████████| 8500/8500 [00:00<00:00, 2346734.07it/s]\n"
          ],
          "name": "stderr"
        }
      ]
    },
    {
      "cell_type": "code",
      "metadata": {
        "colab": {
          "base_uri": "https://localhost:8080/"
        },
        "id": "uZSziimSw7sd",
        "outputId": "206e2a7c-ce25-46ef-e8ba-b1e6313a0d41"
      },
      "source": [
        "%%time\n",
        "for epoch in range(30):\n",
        "    model_ug_dmc.train(utils.shuffle([x for x in tqdm(all_x_w2v)]), total_examples=len(all_x_w2v), epochs=1)\n",
        "    model_ug_dmc.alpha -= 0.002\n",
        "    model_ug_dmc.min_alpha = model_ug_dmc.alpha"
      ],
      "execution_count": 24,
      "outputs": [
        {
          "output_type": "stream",
          "text": [
            "100%|██████████| 8500/8500 [00:00<00:00, 2442223.87it/s]\n",
            "100%|██████████| 8500/8500 [00:00<00:00, 3057859.51it/s]\n",
            "100%|██████████| 8500/8500 [00:00<00:00, 3301684.02it/s]\n",
            "100%|██████████| 8500/8500 [00:00<00:00, 2961833.01it/s]\n",
            "100%|██████████| 8500/8500 [00:00<00:00, 3284951.99it/s]\n",
            "100%|██████████| 8500/8500 [00:00<00:00, 3145542.97it/s]\n",
            "100%|██████████| 8500/8500 [00:00<00:00, 3122401.82it/s]\n",
            "100%|██████████| 8500/8500 [00:00<00:00, 3056286.67it/s]\n",
            "100%|██████████| 8500/8500 [00:00<00:00, 1907726.03it/s]\n",
            "100%|██████████| 8500/8500 [00:00<00:00, 2679562.87it/s]\n",
            "100%|██████████| 8500/8500 [00:00<00:00, 3272588.95it/s]\n",
            "100%|██████████| 8500/8500 [00:00<00:00, 2499760.48it/s]\n",
            "100%|██████████| 8500/8500 [00:00<00:00, 2270223.13it/s]\n",
            "100%|██████████| 8500/8500 [00:00<00:00, 2230175.40it/s]\n",
            "100%|██████████| 8500/8500 [00:00<00:00, 2896383.46it/s]\n",
            "100%|██████████| 8500/8500 [00:00<00:00, 3150546.48it/s]\n",
            "100%|██████████| 8500/8500 [00:00<00:00, 2739058.39it/s]\n",
            "100%|██████████| 8500/8500 [00:00<00:00, 2935494.77it/s]\n",
            "100%|██████████| 8500/8500 [00:00<00:00, 3026707.19it/s]\n",
            "100%|██████████| 8500/8500 [00:00<00:00, 2902041.84it/s]\n",
            "100%|██████████| 8500/8500 [00:00<00:00, 3072617.77it/s]\n",
            "100%|██████████| 8500/8500 [00:00<00:00, 2945924.97it/s]\n",
            "100%|██████████| 8500/8500 [00:00<00:00, 3124043.46it/s]\n",
            "100%|██████████| 8500/8500 [00:00<00:00, 3322608.01it/s]\n",
            "100%|██████████| 8500/8500 [00:00<00:00, 2474945.09it/s]\n",
            "100%|██████████| 8500/8500 [00:00<00:00, 3098251.85it/s]\n",
            "100%|██████████| 8500/8500 [00:00<00:00, 2624527.68it/s]\n",
            "100%|██████████| 8500/8500 [00:00<00:00, 3084047.06it/s]\n",
            "100%|██████████| 8500/8500 [00:00<00:00, 3236345.68it/s]\n",
            "100%|██████████| 8500/8500 [00:00<00:00, 3356706.90it/s]\n"
          ],
          "name": "stderr"
        },
        {
          "output_type": "stream",
          "text": [
            "CPU times: user 26.2 s, sys: 4.15 s, total: 30.4 s\n",
            "Wall time: 16.9 s\n"
          ],
          "name": "stdout"
        }
      ]
    },
    {
      "cell_type": "code",
      "metadata": {
        "id": "ItqqRxiFw7sd"
      },
      "source": [
        "#model_ug_dmc = Doc2Vec.load('d2v_model_ug_dmc.doc2vec')\n"
      ],
      "execution_count": 25,
      "outputs": []
    },
    {
      "cell_type": "markdown",
      "metadata": {
        "id": "_oaxgtfcw7se"
      },
      "source": [
        "What's nice about Doc2Vec is that after training you can retrieve not only document vectors but also individual word vectors as well. Note, however, that a Doc2Vec DBOW model doesn't learn semantic word vectors, so the word vectors you retrieve from pure DBOW model will be the automatic randomly-initialized vectors, with no meaning.\n",
        "But with DM model, you can see the semantic relationship between words. Let's see what word vectors it has learned through training."
      ]
    },
    {
      "cell_type": "code",
      "metadata": {
        "colab": {
          "base_uri": "https://localhost:8080/"
        },
        "id": "If_gI7C_w7se",
        "outputId": "f39f4a19-73b7-4460-dac1-a37276d3cf5b"
      },
      "source": [
        "model_ug_dmc.most_similar('good')"
      ],
      "execution_count": 26,
      "outputs": [
        {
          "output_type": "stream",
          "text": [
            "/usr/local/lib/python3.6/dist-packages/ipykernel_launcher.py:1: DeprecationWarning: Call to deprecated `most_similar` (Method will be removed in 4.0.0, use self.wv.most_similar() instead).\n",
            "  \"\"\"Entry point for launching an IPython kernel.\n"
          ],
          "name": "stderr"
        },
        {
          "output_type": "execute_result",
          "data": {
            "text/plain": [
              "[('attention', 0.5905939340591431),\n",
              " ('nice', 0.511900782585144),\n",
              " ('middle', 0.48280268907546997),\n",
              " ('vpn', 0.48194408416748047),\n",
              " ('junior', 0.47145965695381165),\n",
              " ('collect', 0.4606859087944031),\n",
              " ('hi', 0.4461682438850403),\n",
              " ('substitute', 0.43519267439842224),\n",
              " ('disclosure', 0.4207365810871124),\n",
              " ('termination', 0.4183597266674042)]"
            ]
          },
          "metadata": {
            "tags": []
          },
          "execution_count": 26
        }
      ]
    },
    {
      "cell_type": "code",
      "metadata": {
        "colab": {
          "base_uri": "https://localhost:8080/"
        },
        "id": "xhbOab8Sw7se",
        "outputId": "dca435e8-5f3d-4a69-dccf-428ea89ee7ae"
      },
      "source": [
        "model_ug_dmc.most_similar('network')"
      ],
      "execution_count": 27,
      "outputs": [
        {
          "output_type": "stream",
          "text": [
            "/usr/local/lib/python3.6/dist-packages/ipykernel_launcher.py:1: DeprecationWarning: Call to deprecated `most_similar` (Method will be removed in 4.0.0, use self.wv.most_similar() instead).\n",
            "  \"\"\"Entry point for launching an IPython kernel.\n"
          ],
          "name": "stderr"
        },
        {
          "output_type": "execute_result",
          "data": {
            "text/plain": [
              "[('injection', 0.43343985080718994),\n",
              " ('dynamic', 0.4125206470489502),\n",
              " ('host', 0.4097335934638977),\n",
              " ('defect', 0.4063396751880646),\n",
              " ('stele', 0.40369319915771484),\n",
              " ('chassis', 0.40247029066085815),\n",
              " ('synchronization', 0.40232905745506287),\n",
              " ('mac', 0.400371253490448),\n",
              " ('invoke', 0.398945152759552),\n",
              " ('availability', 0.3978036642074585)]"
            ]
          },
          "metadata": {
            "tags": []
          },
          "execution_count": 27
        }
      ]
    },
    {
      "cell_type": "markdown",
      "metadata": {
        "id": "Ad8omgBTw7se"
      },
      "source": [
        "What's interesting with DMC model is, somehow it learned all the misspelled version of a word as you can see from the above."
      ]
    },
    {
      "cell_type": "code",
      "metadata": {
        "colab": {
          "base_uri": "https://localhost:8080/"
        },
        "id": "5kJJJXnQw7se",
        "outputId": "1a320728-4d22-4351-c5aa-1f532049b0c9"
      },
      "source": [
        "model_ug_dmc.most_similar('password')"
      ],
      "execution_count": 28,
      "outputs": [
        {
          "output_type": "stream",
          "text": [
            "/usr/local/lib/python3.6/dist-packages/ipykernel_launcher.py:1: DeprecationWarning: Call to deprecated `most_similar` (Method will be removed in 4.0.0, use self.wv.most_similar() instead).\n",
            "  \"\"\"Entry point for launching an IPython kernel.\n"
          ],
          "name": "stderr"
        },
        {
          "output_type": "execute_result",
          "data": {
            "text/plain": [
              "[('solely', 0.5100976824760437),\n",
              " ('reset', 0.4967358708381653),\n",
              " ('unlocked', 0.4905116856098175),\n",
              " ('ea', 0.4886753559112549),\n",
              " ('fae', 0.48320236802101135),\n",
              " ('hex', 0.48304086923599243),\n",
              " ('car', 0.4772396981716156),\n",
              " ('venue', 0.4701065123081207),\n",
              " ('notebook', 0.462944895029068),\n",
              " ('\\\\', 0.46057823300361633)]"
            ]
          },
          "metadata": {
            "tags": []
          },
          "execution_count": 28
        }
      ]
    },
    {
      "cell_type": "code",
      "metadata": {
        "colab": {
          "base_uri": "https://localhost:8080/"
        },
        "id": "KFrWM9mXw7se",
        "outputId": "56c8980b-a48c-4687-9b03-cdcc550eb0f4"
      },
      "source": [
        "model_ug_dmc.most_similar(positive=['bigger', 'small'], negative=['big'])"
      ],
      "execution_count": 29,
      "outputs": [
        {
          "output_type": "stream",
          "text": [
            "/usr/local/lib/python3.6/dist-packages/ipykernel_launcher.py:1: DeprecationWarning: Call to deprecated `most_similar` (Method will be removed in 4.0.0, use self.wv.most_similar() instead).\n",
            "  \"\"\"Entry point for launching an IPython kernel.\n"
          ],
          "name": "stderr"
        },
        {
          "output_type": "execute_result",
          "data": {
            "text/plain": [
              "[('differently', 0.4480589032173157),\n",
              " ('disclaimer', 0.44250595569610596),\n",
              " ('rectified', 0.44035276770591736),\n",
              " ('arc', 0.4383450448513031),\n",
              " ('foreign', 0.40676844120025635),\n",
              " ('preserve', 0.3998541831970215),\n",
              " ('hot', 0.3996698558330536),\n",
              " ('distance', 0.38804540038108826),\n",
              " ('busy', 0.38638895750045776),\n",
              " ('coffee', 0.38633108139038086)]"
            ]
          },
          "metadata": {
            "tags": []
          },
          "execution_count": 29
        }
      ]
    },
    {
      "cell_type": "markdown",
      "metadata": {
        "id": "pu7yqJ32w7sf"
      },
      "source": [
        "The model successfully catches the comparative form of \"small\", on feeding the word \"big\" and \"bigger\". The above line of code is like asking the model to add the vectors associated with the word \"bigger\" and \"small\" while subtracting \"big\" is equal to the top result, \"smaller\"."
      ]
    },
    {
      "cell_type": "code",
      "metadata": {
        "id": "aw3_ZlI-w7sf"
      },
      "source": [
        "train_vecs_dmc = get_vectors(model_ug_dmc, x_train, 100)\n",
        "validation_vecs_dmc = get_vectors(model_ug_dmc, x_validation, 100)"
      ],
      "execution_count": 30,
      "outputs": []
    },
    {
      "cell_type": "code",
      "metadata": {
        "id": "PxtfdwkYw7sf"
      },
      "source": [
        "model_ug_dmc.save('drive/MyDrive/grams/d2v_model_ug_dmc.doc2vec')\n",
        "model_ug_dmc = Doc2Vec.load('drive/MyDrive/grams/d2v_model_ug_dmc.doc2vec')\n",
        "model_ug_dmc.delete_temporary_training_data(keep_doctags_vectors=True, keep_inference=True)"
      ],
      "execution_count": 31,
      "outputs": []
    },
    {
      "cell_type": "markdown",
      "metadata": {
        "id": "UcK1h1YUw7sf"
      },
      "source": [
        "## Distributed Memory (mean)"
      ]
    },
    {
      "cell_type": "code",
      "metadata": {
        "colab": {
          "base_uri": "https://localhost:8080/"
        },
        "id": "s60nvTVZw7sg",
        "outputId": "dd2d1c2c-cb2b-46d9-9f7b-8e5e7213eea1"
      },
      "source": [
        "cores = multiprocessing.cpu_count()\n",
        "model_ug_dmm = Doc2Vec(dm=1, dm_mean=1, size=100, window=4, negative=5, min_count=2, workers=cores, alpha=0.065, min_alpha=0.065)\n",
        "model_ug_dmm.build_vocab([x for x in tqdm(all_x_w2v)])"
      ],
      "execution_count": 32,
      "outputs": [
        {
          "output_type": "stream",
          "text": [
            "/usr/local/lib/python3.6/dist-packages/gensim/models/doc2vec.py:570: UserWarning: The parameter `size` is deprecated, will be removed in 4.0.0, use `vector_size` instead.\n",
            "  warnings.warn(\"The parameter `size` is deprecated, will be removed in 4.0.0, use `vector_size` instead.\")\n",
            "100%|██████████| 8500/8500 [00:00<00:00, 2337808.79it/s]\n"
          ],
          "name": "stderr"
        }
      ]
    },
    {
      "cell_type": "code",
      "metadata": {
        "colab": {
          "base_uri": "https://localhost:8080/"
        },
        "id": "4uOTKS6_w7sg",
        "outputId": "2a9b6209-252c-431c-d7ac-c509c1be4b3f"
      },
      "source": [
        "%%time\n",
        "for epoch in range(30):\n",
        "    model_ug_dmm.train(utils.shuffle([x for x in tqdm(all_x_w2v)]), total_examples=len(all_x_w2v), epochs=1)\n",
        "    model_ug_dmm.alpha -= 0.002\n",
        "    model_ug_dmm.min_alpha = model_ug_dmm.alpha"
      ],
      "execution_count": 33,
      "outputs": [
        {
          "output_type": "stream",
          "text": [
            "100%|██████████| 8500/8500 [00:00<00:00, 2308741.35it/s]\n",
            "100%|██████████| 8500/8500 [00:00<00:00, 3200609.03it/s]\n",
            "100%|██████████| 8500/8500 [00:00<00:00, 3215330.45it/s]\n",
            "100%|██████████| 8500/8500 [00:00<00:00, 2754506.99it/s]\n",
            "100%|██████████| 8500/8500 [00:00<00:00, 3148876.88it/s]\n",
            "100%|██████████| 8500/8500 [00:00<00:00, 3512125.31it/s]\n",
            "100%|██████████| 8500/8500 [00:00<00:00, 3006035.75it/s]\n",
            "100%|██████████| 8500/8500 [00:00<00:00, 2737165.76it/s]\n",
            "100%|██████████| 8500/8500 [00:00<00:00, 3338788.54it/s]\n",
            "100%|██████████| 8500/8500 [00:00<00:00, 2983645.83it/s]\n",
            "100%|██████████| 8500/8500 [00:00<00:00, 3295275.35it/s]\n",
            "100%|██████████| 8500/8500 [00:00<00:00, 3341918.26it/s]\n",
            "100%|██████████| 8500/8500 [00:00<00:00, 3301989.81it/s]\n",
            "100%|██████████| 8500/8500 [00:00<00:00, 3028506.97it/s]\n",
            "100%|██████████| 8500/8500 [00:00<00:00, 3251101.95it/s]\n",
            "100%|██████████| 8500/8500 [00:00<00:00, 3350397.89it/s]\n",
            "100%|██████████| 8500/8500 [00:00<00:00, 3292232.34it/s]\n",
            "100%|██████████| 8500/8500 [00:00<00:00, 3140002.11it/s]\n",
            "100%|██████████| 8500/8500 [00:00<00:00, 2864961.75it/s]\n",
            "100%|██████████| 8500/8500 [00:00<00:00, 3011113.51it/s]\n",
            "100%|██████████| 8500/8500 [00:00<00:00, 3116124.81it/s]\n",
            "100%|██████████| 8500/8500 [00:00<00:00, 3122128.38it/s]\n",
            "100%|██████████| 8500/8500 [00:00<00:00, 3194872.66it/s]\n",
            "100%|██████████| 8500/8500 [00:00<00:00, 3394419.12it/s]\n",
            "100%|██████████| 8500/8500 [00:00<00:00, 3396035.82it/s]\n",
            "100%|██████████| 8500/8500 [00:00<00:00, 3076064.19it/s]\n",
            "100%|██████████| 8500/8500 [00:00<00:00, 3214460.73it/s]\n",
            "100%|██████████| 8500/8500 [00:00<00:00, 3627552.30it/s]\n",
            "100%|██████████| 8500/8500 [00:00<00:00, 3322917.70it/s]\n",
            "100%|██████████| 8500/8500 [00:00<00:00, 3211275.81it/s]\n"
          ],
          "name": "stderr"
        },
        {
          "output_type": "stream",
          "text": [
            "CPU times: user 36.4 s, sys: 10.2 s, total: 46.6 s\n",
            "Wall time: 30.2 s\n"
          ],
          "name": "stdout"
        }
      ]
    },
    {
      "cell_type": "code",
      "metadata": {
        "colab": {
          "base_uri": "https://localhost:8080/"
        },
        "id": "JBgIodiSw7sg",
        "outputId": "581a81ae-306e-4919-93d2-b3dc7d03e0a7"
      },
      "source": [
        "model_ug_dmm.most_similar('schedule')"
      ],
      "execution_count": 34,
      "outputs": [
        {
          "output_type": "stream",
          "text": [
            "/usr/local/lib/python3.6/dist-packages/ipykernel_launcher.py:1: DeprecationWarning: Call to deprecated `most_similar` (Method will be removed in 4.0.0, use self.wv.most_similar() instead).\n",
            "  \"\"\"Entry point for launching an IPython kernel.\n"
          ],
          "name": "stderr"
        },
        {
          "output_type": "execute_result",
          "data": {
            "text/plain": [
              "[('arc', 0.5548229217529297),\n",
              " ('cold', 0.4966188073158264),\n",
              " ('job', 0.49337226152420044),\n",
              " ('notch', 0.45535367727279663),\n",
              " ('village', 0.42568066716194153),\n",
              " ('hot', 0.423348069190979),\n",
              " ('alert', 0.38580214977264404),\n",
              " ('differently', 0.36731481552124023),\n",
              " ('bend', 0.3528343439102173),\n",
              " ('dear', 0.3481738567352295)]"
            ]
          },
          "metadata": {
            "tags": []
          },
          "execution_count": 34
        }
      ]
    },
    {
      "cell_type": "code",
      "metadata": {
        "colab": {
          "base_uri": "https://localhost:8080/"
        },
        "id": "PLEoCYdiw7sg",
        "outputId": "3bbc1136-cb06-494c-e064-d1c62b61a755"
      },
      "source": [
        "model_ug_dmc.most_similar('network')"
      ],
      "execution_count": 35,
      "outputs": [
        {
          "output_type": "stream",
          "text": [
            "/usr/local/lib/python3.6/dist-packages/ipykernel_launcher.py:1: DeprecationWarning: Call to deprecated `most_similar` (Method will be removed in 4.0.0, use self.wv.most_similar() instead).\n",
            "  \"\"\"Entry point for launching an IPython kernel.\n"
          ],
          "name": "stderr"
        },
        {
          "output_type": "execute_result",
          "data": {
            "text/plain": [
              "[('injection', 0.43343985080718994),\n",
              " ('dynamic', 0.4125206470489502),\n",
              " ('host', 0.4097335934638977),\n",
              " ('defect', 0.4063396751880646),\n",
              " ('stele', 0.40369319915771484),\n",
              " ('chassis', 0.40247029066085815),\n",
              " ('synchronization', 0.40232905745506287),\n",
              " ('mac', 0.400371253490448),\n",
              " ('invoke', 0.398945152759552),\n",
              " ('availability', 0.3978036642074585)]"
            ]
          },
          "metadata": {
            "tags": []
          },
          "execution_count": 35
        }
      ]
    },
    {
      "cell_type": "code",
      "metadata": {
        "id": "9zEy300_w7sg"
      },
      "source": [
        "train_vecs_dmm = get_vectors(model_ug_dmm, x_train, 100)\n",
        "validation_vecs_dmm = get_vectors(model_ug_dmm, x_validation, 100)"
      ],
      "execution_count": 36,
      "outputs": []
    },
    {
      "cell_type": "code",
      "metadata": {
        "id": "c1h1xu_rw7sg"
      },
      "source": [
        "model_ug_dmm.save('drive/MyDrive/grams/d2v_model_ug_dmm.doc2vec')\n",
        "model_ug_dmm = Doc2Vec.load('drive/MyDrive/grams/d2v_model_ug_dmm.doc2vec')\n",
        "model_ug_dmm.delete_temporary_training_data(keep_doctags_vectors=True, keep_inference=True)"
      ],
      "execution_count": 37,
      "outputs": []
    },
    {
      "cell_type": "markdown",
      "metadata": {
        "collapsed": true,
        "id": "Smk6tMy1w7sh"
      },
      "source": [
        "Since I have the document vectors from four different models, now I can concatenate them in combination to see how it affects the performance. Below I defined a simple function to concatenate document vectors from different models."
      ]
    },
    {
      "cell_type": "code",
      "metadata": {
        "id": "ZsIAguPKw7sh"
      },
      "source": [
        "def get_concat_vectors(model1,model2, corpus, size):\n",
        "    vecs = np.zeros((len(corpus), size))\n",
        "    n = 0\n",
        "    for i in corpus.index:\n",
        "        prefix = 'all_' + str(i)\n",
        "        vecs[n] = np.append(model1.docvecs[prefix],model2.docvecs[prefix])\n",
        "        n += 1\n",
        "    return vecs"
      ],
      "execution_count": 38,
      "outputs": []
    },
    {
      "cell_type": "code",
      "metadata": {
        "id": "I4E1AOgbw7sh"
      },
      "source": [
        "train_vecs_dbow_dmc = get_concat_vectors(model_ug_dbow,model_ug_dmc, x_train, 200)\n",
        "validation_vecs_dbow_dmc = get_concat_vectors(model_ug_dbow,model_ug_dmc, x_validation, 200)"
      ],
      "execution_count": 39,
      "outputs": []
    },
    {
      "cell_type": "code",
      "metadata": {
        "id": "NQrEVGGpw7sh"
      },
      "source": [
        "train_vecs_dbow_dmm = get_concat_vectors(model_ug_dbow,model_ug_dmm, x_train, 200)\n",
        "validation_vecs_dbow_dmm = get_concat_vectors(model_ug_dbow,model_ug_dmm, x_validation, 200)"
      ],
      "execution_count": 40,
      "outputs": []
    },
    {
      "cell_type": "markdown",
      "metadata": {
        "id": "5YQh1kBAw7sh"
      },
      "source": [
        "In case of unigram, concatenating document vectors in different combination boosted the model performance. The best validation accuracy I got from a single model is from DBOW at 73.89%. With concatenated vectors, I get the highest validation accuracy of 75.51% with DBOW+DMM model."
      ]
    },
    {
      "cell_type": "code",
      "metadata": {
        "id": "EaV3HxUzw7si"
      },
      "source": [
        "from gensim.models.phrases import Phrases\r\n",
        "from gensim.models.phrases import Phraser"
      ],
      "execution_count": 41,
      "outputs": []
    },
    {
      "cell_type": "code",
      "metadata": {
        "id": "kS1Wr82vw7si"
      },
      "source": [
        "tokenized_train = [t.split() for t in x_train]"
      ],
      "execution_count": 42,
      "outputs": []
    },
    {
      "cell_type": "code",
      "metadata": {
        "id": "vzu8PTR4w7si",
        "colab": {
          "base_uri": "https://localhost:8080/"
        },
        "outputId": "4fd051a1-4ce0-4e2b-a738-3d03c9d214d9"
      },
      "source": [
        "%%time\r\n",
        "phrases = Phrases(tokenized_train)\r\n",
        "bigram = Phraser(phrases)"
      ],
      "execution_count": 43,
      "outputs": [
        {
          "output_type": "stream",
          "text": [
            "CPU times: user 538 ms, sys: 0 ns, total: 538 ms\n",
            "Wall time: 537 ms\n"
          ],
          "name": "stdout"
        }
      ]
    },
    {
      "cell_type": "code",
      "metadata": {
        "colab": {
          "base_uri": "https://localhost:8080/"
        },
        "id": "xkOXXq0BjZN6",
        "outputId": "2538297d-20d8-4902-cf33-7a6c3ffe268e"
      },
      "source": [
        "sent = [u'the', u'mayor', u'of', u'new', u'york', u'was', u'there']\r\n",
        "print(bigram[sent])"
      ],
      "execution_count": 44,
      "outputs": [
        {
          "output_type": "stream",
          "text": [
            "['the', 'mayor', 'of', 'new', 'york', 'was', 'there']\n"
          ],
          "name": "stdout"
        }
      ]
    },
    {
      "cell_type": "code",
      "metadata": {
        "colab": {
          "base_uri": "https://localhost:8080/"
        },
        "id": "DUb0Jt3eFuF_",
        "outputId": "234facc7-34f9-4beb-8b8b-14bf6112299b"
      },
      "source": [
        "x_train"
      ],
      "execution_count": 45,
      "outputs": [
        {
          "output_type": "execute_result",
          "data": {
            "text/plain": [
              "7628    evening job in schedule job received from job ...\n",
              "123                      unable to display expense report\n",
              "6569             job hot in job schedule at received from\n",
              "552     speaker not working in received from hello i a...\n",
              "6711                                      unable to login\n",
              "                              ...                        \n",
              "3762            performance for machine summary load list\n",
              "4380                     external not with dell in tablet\n",
              "1590                please give access to all under mu is\n",
              "4045    received from hi below apprentice is unable to...\n",
              "4936                             user this message recall\n",
              "Name: Combined Description Cleaned, Length: 6800, dtype: object"
            ]
          },
          "metadata": {
            "tags": []
          },
          "execution_count": 45
        }
      ]
    },
    {
      "cell_type": "code",
      "metadata": {
        "id": "xaB7_3X_jcbo"
      },
      "source": [
        "#x_train[10]"
      ],
      "execution_count": 46,
      "outputs": []
    },
    {
      "cell_type": "code",
      "metadata": {
        "id": "J--Wx6pUjfk4"
      },
      "source": [
        "#bigram[x_train[10].split()]"
      ],
      "execution_count": 47,
      "outputs": []
    },
    {
      "cell_type": "code",
      "metadata": {
        "id": "zjsac2-TjmKX"
      },
      "source": [
        "def labelize_tickets_bg(tickets,label):\r\n",
        "    result = []\r\n",
        "    prefix = label\r\n",
        "    for i, t in zip(tickets.index, tickets):\r\n",
        "        result.append(LabeledSentence(bigram[t.split()], [prefix + '_%s' % i]))\r\n",
        "    return result"
      ],
      "execution_count": 48,
      "outputs": []
    },
    {
      "cell_type": "code",
      "metadata": {
        "colab": {
          "base_uri": "https://localhost:8080/"
        },
        "id": "yLeq90xTjyao",
        "outputId": "e8a61262-9607-441c-c4b9-d44b3aba7724"
      },
      "source": [
        "all_x = pd.concat([x_train,x_validation,x_test])\r\n",
        "all_x_w2v_bg = labelize_tickets_bg(all_x, 'all')"
      ],
      "execution_count": 49,
      "outputs": [
        {
          "output_type": "stream",
          "text": [
            "/usr/local/lib/python3.6/dist-packages/ipykernel_launcher.py:5: DeprecationWarning: Call to deprecated `LabeledSentence` (Class will be removed in 4.0.0, use TaggedDocument instead).\n",
            "  \"\"\"\n"
          ],
          "name": "stderr"
        }
      ]
    },
    {
      "cell_type": "markdown",
      "metadata": {
        "id": "v1qYpaJ3kDwP"
      },
      "source": [
        "## DBOW Bigram"
      ]
    },
    {
      "cell_type": "code",
      "metadata": {
        "colab": {
          "base_uri": "https://localhost:8080/"
        },
        "id": "N3YxeGMOj1N5",
        "outputId": "0299fa87-9a54-4dc8-99d9-4b2270d53215"
      },
      "source": [
        "cores = multiprocessing.cpu_count()\r\n",
        "model_bg_dbow = Doc2Vec(dm=0, size=100, negative=5, min_count=2, workers=cores, alpha=0.065, min_alpha=0.065)\r\n",
        "model_bg_dbow.build_vocab([x for x in tqdm(all_x_w2v_bg)])"
      ],
      "execution_count": 50,
      "outputs": [
        {
          "output_type": "stream",
          "text": [
            "/usr/local/lib/python3.6/dist-packages/gensim/models/doc2vec.py:570: UserWarning: The parameter `size` is deprecated, will be removed in 4.0.0, use `vector_size` instead.\n",
            "  warnings.warn(\"The parameter `size` is deprecated, will be removed in 4.0.0, use `vector_size` instead.\")\n",
            "100%|██████████| 8500/8500 [00:00<00:00, 1895957.46it/s]\n"
          ],
          "name": "stderr"
        }
      ]
    },
    {
      "cell_type": "code",
      "metadata": {
        "colab": {
          "base_uri": "https://localhost:8080/"
        },
        "id": "ObaeOz4tkGdJ",
        "outputId": "aa13a416-b361-488b-f524-50a416b3d39d"
      },
      "source": [
        "%%time\r\n",
        "for epoch in range(30):\r\n",
        "    model_bg_dbow.train(utils.shuffle([x for x in tqdm(all_x_w2v_bg)]), total_examples=len(all_x_w2v_bg), epochs=1)\r\n",
        "    model_bg_dbow.alpha -= 0.002\r\n",
        "    model_bg_dbow.min_alpha = model_bg_dbow.alpha"
      ],
      "execution_count": 51,
      "outputs": [
        {
          "output_type": "stream",
          "text": [
            "100%|██████████| 8500/8500 [00:00<00:00, 1970680.67it/s]\n",
            "100%|██████████| 8500/8500 [00:00<00:00, 2962817.58it/s]\n",
            "100%|██████████| 8500/8500 [00:00<00:00, 2603065.42it/s]\n",
            "100%|██████████| 8500/8500 [00:00<00:00, 3071294.28it/s]\n",
            "100%|██████████| 8500/8500 [00:00<00:00, 2941064.51it/s]\n",
            "100%|██████████| 8500/8500 [00:00<00:00, 3196304.82it/s]\n",
            "100%|██████████| 8500/8500 [00:00<00:00, 3226679.70it/s]\n",
            "100%|██████████| 8500/8500 [00:00<00:00, 3317660.90it/s]\n",
            "100%|██████████| 8500/8500 [00:00<00:00, 3170720.74it/s]\n",
            "100%|██████████| 8500/8500 [00:00<00:00, 3279814.54it/s]\n",
            "100%|██████████| 8500/8500 [00:00<00:00, 3268388.71it/s]\n",
            "100%|██████████| 8500/8500 [00:00<00:00, 2931632.60it/s]\n",
            "100%|██████████| 8500/8500 [00:00<00:00, 3110415.63it/s]\n",
            "100%|██████████| 8500/8500 [00:00<00:00, 3037538.04it/s]\n",
            "100%|██████████| 8500/8500 [00:00<00:00, 2871191.43it/s]\n",
            "100%|██████████| 8500/8500 [00:00<00:00, 2979406.99it/s]\n",
            "100%|██████████| 8500/8500 [00:00<00:00, 3161161.91it/s]\n",
            "100%|██████████| 8500/8500 [00:00<00:00, 3267789.55it/s]\n",
            "100%|██████████| 8500/8500 [00:00<00:00, 3000975.08it/s]\n",
            "100%|██████████| 8500/8500 [00:00<00:00, 3176370.63it/s]\n",
            "100%|██████████| 8500/8500 [00:00<00:00, 3022601.44it/s]\n",
            "100%|██████████| 8500/8500 [00:00<00:00, 3091535.21it/s]\n",
            "100%|██████████| 8500/8500 [00:00<00:00, 2870497.91it/s]\n",
            "100%|██████████| 8500/8500 [00:00<00:00, 3162564.00it/s]\n",
            "100%|██████████| 8500/8500 [00:00<00:00, 3271087.62it/s]\n",
            "100%|██████████| 8500/8500 [00:00<00:00, 3215040.49it/s]\n",
            "100%|██████████| 8500/8500 [00:00<00:00, 3098251.85it/s]\n",
            "100%|██████████| 8500/8500 [00:00<00:00, 3168466.41it/s]\n",
            "100%|██████████| 8500/8500 [00:00<00:00, 3192012.18it/s]\n",
            "100%|██████████| 8500/8500 [00:00<00:00, 3266292.62it/s]\n"
          ],
          "name": "stderr"
        },
        {
          "output_type": "stream",
          "text": [
            "CPU times: user 17.9 s, sys: 3.08 s, total: 21 s\n",
            "Wall time: 13.9 s\n"
          ],
          "name": "stdout"
        }
      ]
    },
    {
      "cell_type": "code",
      "metadata": {
        "id": "hwhJHpK0kI1W"
      },
      "source": [
        "train_vecs_dbow_bg = get_vectors(model_bg_dbow, x_train, 100)\r\n",
        "validation_vecs_dbow_bg = get_vectors(model_bg_dbow, x_validation, 100)"
      ],
      "execution_count": 52,
      "outputs": []
    },
    {
      "cell_type": "code",
      "metadata": {
        "id": "kQKjCKJlkRL4"
      },
      "source": [
        "model_bg_dbow.save('drive/MyDrive/grams/d2v_model_bg_dbow.doc2vec')\r\n",
        "model_bg_dbow = Doc2Vec.load('drive/MyDrive/grams/d2v_model_bg_dbow.doc2vec')\r\n",
        "model_bg_dbow.delete_temporary_training_data(keep_doctags_vectors=True, keep_inference=True)"
      ],
      "execution_count": 53,
      "outputs": []
    },
    {
      "cell_type": "markdown",
      "metadata": {
        "id": "kNNlrRQBktF_"
      },
      "source": [
        "### DMC Bigram"
      ]
    },
    {
      "cell_type": "code",
      "metadata": {
        "colab": {
          "base_uri": "https://localhost:8080/"
        },
        "id": "lJhle1tEkoxt",
        "outputId": "e8502640-7572-45ae-a970-72230e22a46e"
      },
      "source": [
        "cores = multiprocessing.cpu_count()\r\n",
        "model_bg_dmc = Doc2Vec(dm=1, dm_concat=1, size=100, window=2, negative=5, min_count=2, workers=cores, alpha=0.065, min_alpha=0.065)\r\n",
        "model_bg_dmc.build_vocab([x for x in tqdm(all_x_w2v_bg)])"
      ],
      "execution_count": 54,
      "outputs": [
        {
          "output_type": "stream",
          "text": [
            "/usr/local/lib/python3.6/dist-packages/gensim/models/doc2vec.py:570: UserWarning: The parameter `size` is deprecated, will be removed in 4.0.0, use `vector_size` instead.\n",
            "  warnings.warn(\"The parameter `size` is deprecated, will be removed in 4.0.0, use `vector_size` instead.\")\n",
            "100%|██████████| 8500/8500 [00:00<00:00, 2451965.89it/s]\n"
          ],
          "name": "stderr"
        }
      ]
    },
    {
      "cell_type": "code",
      "metadata": {
        "colab": {
          "base_uri": "https://localhost:8080/"
        },
        "id": "Wd4R31_yky7V",
        "outputId": "d61baa1c-f03e-4dc5-fbbd-3442edf0b760"
      },
      "source": [
        "%%time\r\n",
        "for epoch in range(30):\r\n",
        "    model_bg_dmc.train(utils.shuffle([x for x in tqdm(all_x_w2v_bg)]), total_examples=len(all_x_w2v_bg), epochs=1)\r\n",
        "    model_bg_dmc.alpha -= 0.002\r\n",
        "    model_bg_dmc.min_alpha = model_bg_dmc.alpha"
      ],
      "execution_count": 55,
      "outputs": [
        {
          "output_type": "stream",
          "text": [
            "100%|██████████| 8500/8500 [00:00<00:00, 2487030.62it/s]\n",
            "100%|██████████| 8500/8500 [00:00<00:00, 3088054.05it/s]\n",
            "100%|██████████| 8500/8500 [00:00<00:00, 2489809.62it/s]\n",
            "100%|██████████| 8500/8500 [00:00<00:00, 3048446.69it/s]\n",
            "100%|██████████| 8500/8500 [00:00<00:00, 3246069.74it/s]\n",
            "100%|██████████| 8500/8500 [00:00<00:00, 3281323.88it/s]\n",
            "100%|██████████| 8500/8500 [00:00<00:00, 3240169.41it/s]\n",
            "100%|██████████| 8500/8500 [00:00<00:00, 2551645.00it/s]\n",
            "100%|██████████| 8500/8500 [00:00<00:00, 3029536.37it/s]\n",
            "100%|██████████| 8500/8500 [00:00<00:00, 3318896.29it/s]\n",
            "100%|██████████| 8500/8500 [00:00<00:00, 3069179.06it/s]\n",
            "100%|██████████| 8500/8500 [00:00<00:00, 3011367.85it/s]\n",
            "100%|██████████| 8500/8500 [00:00<00:00, 3127880.68it/s]\n",
            "100%|██████████| 8500/8500 [00:00<00:00, 3269887.55it/s]\n",
            "100%|██████████| 8500/8500 [00:00<00:00, 3264797.07it/s]\n",
            "100%|██████████| 8500/8500 [00:00<00:00, 1978884.55it/s]\n",
            "100%|██████████| 8500/8500 [00:00<00:00, 3142493.08it/s]\n",
            "100%|██████████| 8500/8500 [00:00<00:00, 3065748.04it/s]\n",
            "100%|██████████| 8500/8500 [00:00<00:00, 3245478.74it/s]\n",
            "100%|██████████| 8500/8500 [00:00<00:00, 3195158.99it/s]\n",
            "100%|██████████| 8500/8500 [00:00<00:00, 3301072.59it/s]\n",
            "100%|██████████| 8500/8500 [00:00<00:00, 3145542.97it/s]\n",
            "100%|██████████| 8500/8500 [00:00<00:00, 3292536.39it/s]\n",
            "100%|██████████| 8500/8500 [00:00<00:00, 3013404.11it/s]\n",
            "100%|██████████| 8500/8500 [00:00<00:00, 3165652.99it/s]\n",
            "100%|██████████| 8500/8500 [00:00<00:00, 2616245.98it/s]\n",
            "100%|██████████| 8500/8500 [00:00<00:00, 3117487.23it/s]\n",
            "100%|██████████| 8500/8500 [00:00<00:00, 2291969.40it/s]\n",
            "100%|██████████| 8500/8500 [00:00<00:00, 3134480.75it/s]\n",
            "100%|██████████| 8500/8500 [00:00<00:00, 3200321.72it/s]\n"
          ],
          "name": "stderr"
        },
        {
          "output_type": "stream",
          "text": [
            "CPU times: user 23 s, sys: 3.23 s, total: 26.2 s\n",
            "Wall time: 14.9 s\n"
          ],
          "name": "stdout"
        }
      ]
    },
    {
      "cell_type": "code",
      "metadata": {
        "colab": {
          "base_uri": "https://localhost:8080/"
        },
        "id": "pdlwD36Ik1KY",
        "outputId": "0f53b664-b9de-48a9-cf0a-2da601263636"
      },
      "source": [
        "model_bg_dmc.most_similar('schedule')"
      ],
      "execution_count": 56,
      "outputs": [
        {
          "output_type": "stream",
          "text": [
            "/usr/local/lib/python3.6/dist-packages/ipykernel_launcher.py:1: DeprecationWarning: Call to deprecated `most_similar` (Method will be removed in 4.0.0, use self.wv.most_similar() instead).\n",
            "  \"\"\"Entry point for launching an IPython kernel.\n"
          ],
          "name": "stderr"
        },
        {
          "output_type": "execute_result",
          "data": {
            "text/plain": [
              "[('hand_way', 0.5873075127601624),\n",
              " ('rerun', 0.5553940534591675),\n",
              " ('cold', 0.5538903474807739),\n",
              " ('e_d', 0.5451216697692871),\n",
              " ('evaluate', 0.5135448575019836),\n",
              " ('bend', 0.49177584052085876),\n",
              " ('view_disclaimer', 0.4897778332233429),\n",
              " ('job', 0.4876520037651062),\n",
              " ('your_organization', 0.48649200797080994),\n",
              " ('alternate_language', 0.4845648407936096)]"
            ]
          },
          "metadata": {
            "tags": []
          },
          "execution_count": 56
        }
      ]
    },
    {
      "cell_type": "code",
      "metadata": {
        "id": "FvMWiK7lk33m"
      },
      "source": [
        "train_vecs_dmc_bg = get_vectors(model_bg_dmc, x_train, 100)\r\n",
        "validation_vecs_dmc_bg = get_vectors(model_bg_dmc, x_validation, 100)"
      ],
      "execution_count": 57,
      "outputs": []
    },
    {
      "cell_type": "code",
      "metadata": {
        "id": "kJgiXjyhlKeZ"
      },
      "source": [
        "model_bg_dmc.save('drive/MyDrive/grams/d2v_model_bg_dmc.doc2vec')\r\n",
        "model_bg_dmc = Doc2Vec.load('drive/MyDrive/grams/d2v_model_bg_dmc.doc2vec')\r\n",
        "model_bg_dmc.delete_temporary_training_data(keep_doctags_vectors=True, keep_inference=True)"
      ],
      "execution_count": 58,
      "outputs": []
    },
    {
      "cell_type": "markdown",
      "metadata": {
        "id": "BTVevtLFlWX2"
      },
      "source": [
        "## DMM Bigram"
      ]
    },
    {
      "cell_type": "code",
      "metadata": {
        "colab": {
          "base_uri": "https://localhost:8080/"
        },
        "id": "G6nPiyNFlX1R",
        "outputId": "ec6bfe62-f1cb-49ce-e8f7-fc2c74094971"
      },
      "source": [
        "cores = multiprocessing.cpu_count()\r\n",
        "model_bg_dmm = Doc2Vec(dm=1, dm_mean=1, size=100, window=4, negative=5, min_count=2, workers=cores, alpha=0.065, min_alpha=0.065)\r\n",
        "model_bg_dmm.build_vocab([x for x in tqdm(all_x_w2v_bg)])"
      ],
      "execution_count": 59,
      "outputs": [
        {
          "output_type": "stream",
          "text": [
            "/usr/local/lib/python3.6/dist-packages/gensim/models/doc2vec.py:570: UserWarning: The parameter `size` is deprecated, will be removed in 4.0.0, use `vector_size` instead.\n",
            "  warnings.warn(\"The parameter `size` is deprecated, will be removed in 4.0.0, use `vector_size` instead.\")\n",
            "100%|██████████| 8500/8500 [00:00<00:00, 2061380.98it/s]\n"
          ],
          "name": "stderr"
        }
      ]
    },
    {
      "cell_type": "code",
      "metadata": {
        "colab": {
          "base_uri": "https://localhost:8080/"
        },
        "id": "_bh9CxDOlZyX",
        "outputId": "8a7bca4a-6c96-4cab-aa5e-8bd6b8bc0c06"
      },
      "source": [
        "%%time\r\n",
        "for epoch in range(30):\r\n",
        "    model_bg_dmm.train(utils.shuffle([x for x in tqdm(all_x_w2v_bg)]), total_examples=len(all_x_w2v_bg), epochs=1)\r\n",
        "    model_bg_dmm.alpha -= 0.002\r\n",
        "    model_bg_dmm.min_alpha = model_bg_dmm.alpha"
      ],
      "execution_count": 60,
      "outputs": [
        {
          "output_type": "stream",
          "text": [
            "100%|██████████| 8500/8500 [00:00<00:00, 2093949.49it/s]\n",
            "100%|██████████| 8500/8500 [00:00<00:00, 3048446.69it/s]\n",
            "100%|██████████| 8500/8500 [00:00<00:00, 3097175.22it/s]\n",
            "100%|██████████| 8500/8500 [00:00<00:00, 3162003.02it/s]\n",
            "100%|██████████| 8500/8500 [00:00<00:00, 2023473.75it/s]\n",
            "100%|██████████| 8500/8500 [00:00<00:00, 2494687.85it/s]\n",
            "100%|██████████| 8500/8500 [00:00<00:00, 3087786.59it/s]\n",
            "100%|██████████| 8500/8500 [00:00<00:00, 3086450.00it/s]\n",
            "100%|██████████| 8500/8500 [00:00<00:00, 3186306.55it/s]\n",
            "100%|██████████| 8500/8500 [00:00<00:00, 3158361.45it/s]\n",
            "100%|██████████| 8500/8500 [00:00<00:00, 2812748.24it/s]\n",
            "100%|██████████| 8500/8500 [00:00<00:00, 3088856.70it/s]\n",
            "100%|██████████| 8500/8500 [00:00<00:00, 2365732.18it/s]\n",
            "100%|██████████| 8500/8500 [00:00<00:00, 3179770.25it/s]\n",
            "100%|██████████| 8500/8500 [00:00<00:00, 3091267.15it/s]\n",
            "100%|██████████| 8500/8500 [00:00<00:00, 3208385.89it/s]\n",
            "100%|██████████| 8500/8500 [00:00<00:00, 3356390.89it/s]\n",
            "100%|██████████| 8500/8500 [00:00<00:00, 3110687.03it/s]\n",
            "100%|██████████| 8500/8500 [00:00<00:00, 3001227.71it/s]\n",
            "100%|██████████| 8500/8500 [00:00<00:00, 2693938.64it/s]\n",
            "100%|██████████| 8500/8500 [00:00<00:00, 2978162.56it/s]\n",
            "100%|██████████| 8500/8500 [00:00<00:00, 3099868.19it/s]\n",
            "100%|██████████| 8500/8500 [00:00<00:00, 3266292.62it/s]\n",
            "100%|██████████| 8500/8500 [00:00<00:00, 2337042.54it/s]\n",
            "100%|██████████| 8500/8500 [00:00<00:00, 3244887.96it/s]\n",
            "100%|██████████| 8500/8500 [00:00<00:00, 3311805.29it/s]\n",
            "100%|██████████| 8500/8500 [00:00<00:00, 2560809.08it/s]\n",
            "100%|██████████| 8500/8500 [00:00<00:00, 2787457.70it/s]\n",
            "100%|██████████| 8500/8500 [00:00<00:00, 3026707.19it/s]\n",
            "100%|██████████| 8500/8500 [00:00<00:00, 3350397.89it/s]\n"
          ],
          "name": "stderr"
        },
        {
          "output_type": "stream",
          "text": [
            "CPU times: user 37.1 s, sys: 10.8 s, total: 47.9 s\n",
            "Wall time: 31.2 s\n"
          ],
          "name": "stdout"
        }
      ]
    },
    {
      "cell_type": "code",
      "metadata": {
        "id": "bB6SQS7JlcJI"
      },
      "source": [
        "train_vecs_dmm_bg = get_vectors(model_bg_dmm, x_train, 100)\r\n",
        "validation_vecs_dmm_bg = get_vectors(model_bg_dmm, x_validation, 100)"
      ],
      "execution_count": 61,
      "outputs": []
    },
    {
      "cell_type": "code",
      "metadata": {
        "id": "C8fwZfBIl0fX"
      },
      "source": [
        "model_bg_dmm.save('drive/MyDrive/grams/d2v_model_bg_dmm.doc2vec')\r\n",
        "model_bg_dmm = Doc2Vec.load('drive/MyDrive/grams/d2v_model_bg_dmm.doc2vec')\r\n",
        "model_bg_dmm.delete_temporary_training_data(keep_doctags_vectors=True, keep_inference=True)"
      ],
      "execution_count": 62,
      "outputs": []
    },
    {
      "cell_type": "code",
      "metadata": {
        "id": "zRd6mq4Nl6TY"
      },
      "source": [
        "train_vecs_dbow_dmc_bg = get_concat_vectors(model_bg_dbow,model_bg_dmc, x_train, 200)\r\n",
        "validation_vecs_dbow_dmc_bg = get_concat_vectors(model_bg_dbow,model_bg_dmc, x_validation, 200)"
      ],
      "execution_count": 63,
      "outputs": []
    },
    {
      "cell_type": "code",
      "metadata": {
        "id": "HqURTlajmHTI"
      },
      "source": [
        "train_vecs_dbow_dmm_bg = get_concat_vectors(model_bg_dbow,model_bg_dmm, x_train, 200)\r\n",
        "validation_vecs_dbow_dmm_bg = get_concat_vectors(model_bg_dbow,model_bg_dmm, x_validation, 200)"
      ],
      "execution_count": 64,
      "outputs": []
    },
    {
      "cell_type": "markdown",
      "metadata": {
        "id": "FcS4tHVYmY9p"
      },
      "source": [
        "## Trigram"
      ]
    },
    {
      "cell_type": "code",
      "metadata": {
        "colab": {
          "base_uri": "https://localhost:8080/"
        },
        "id": "RqcJqFVemQej",
        "outputId": "474d0b1e-2202-44a1-aeba-21408e29121d"
      },
      "source": [
        "%%time\r\n",
        "tg_phrases = Phrases(bigram[tokenized_train])\r\n",
        "trigram = Phraser(tg_phrases)"
      ],
      "execution_count": 65,
      "outputs": [
        {
          "output_type": "stream",
          "text": [
            "CPU times: user 880 ms, sys: 0 ns, total: 880 ms\n",
            "Wall time: 880 ms\n"
          ],
          "name": "stdout"
        }
      ]
    },
    {
      "cell_type": "code",
      "metadata": {
        "id": "2xc0vu1xmVAJ"
      },
      "source": [
        "#trigram[bigram[x_train[10].split()]]"
      ],
      "execution_count": 66,
      "outputs": []
    },
    {
      "cell_type": "markdown",
      "metadata": {
        "id": "EnOufayemi3X"
      },
      "source": [
        "## Below Doc2Vec implementation is again same as unigram or bigram."
      ]
    },
    {
      "cell_type": "code",
      "metadata": {
        "id": "RnwMYQYdmhPj"
      },
      "source": [
        "def labelize_tickets_tg(tickets,label):\r\n",
        "    result = []\r\n",
        "    prefix = label\r\n",
        "    for i, t in zip(tickets.index, tickets):\r\n",
        "        result.append(LabeledSentence(trigram[bigram[t.split()]], [prefix + '_%s' % i]))\r\n",
        "    return result"
      ],
      "execution_count": 67,
      "outputs": []
    },
    {
      "cell_type": "code",
      "metadata": {
        "colab": {
          "base_uri": "https://localhost:8080/"
        },
        "id": "MhlaOuslmcy4",
        "outputId": "36f88423-392f-4734-eff2-7d2e578ea6a5"
      },
      "source": [
        "all_x = pd.concat([x_train,x_validation,x_test])\r\n",
        "all_x_w2v_tg = labelize_tickets_tg(all_x, 'all')"
      ],
      "execution_count": 68,
      "outputs": [
        {
          "output_type": "stream",
          "text": [
            "/usr/local/lib/python3.6/dist-packages/ipykernel_launcher.py:5: DeprecationWarning: Call to deprecated `LabeledSentence` (Class will be removed in 4.0.0, use TaggedDocument instead).\n",
            "  \"\"\"\n"
          ],
          "name": "stderr"
        }
      ]
    },
    {
      "cell_type": "markdown",
      "metadata": {
        "id": "cOKmXMcNmz1v"
      },
      "source": [
        "## DBOW Trigram"
      ]
    },
    {
      "cell_type": "code",
      "metadata": {
        "colab": {
          "base_uri": "https://localhost:8080/"
        },
        "id": "Xqp9Zq4Kmuo9",
        "outputId": "584f233a-58e0-491b-998e-6411f174c1d8"
      },
      "source": [
        "model_tg_dbow = Doc2Vec(dm=0, size=100, negative=5, min_count=2, workers=cores, alpha=0.065, min_alpha=0.065)\r\n",
        "model_tg_dbow.build_vocab([x for x in tqdm(all_x_w2v_tg)])"
      ],
      "execution_count": 69,
      "outputs": [
        {
          "output_type": "stream",
          "text": [
            "/usr/local/lib/python3.6/dist-packages/gensim/models/doc2vec.py:570: UserWarning: The parameter `size` is deprecated, will be removed in 4.0.0, use `vector_size` instead.\n",
            "  warnings.warn(\"The parameter `size` is deprecated, will be removed in 4.0.0, use `vector_size` instead.\")\n",
            "100%|██████████| 8500/8500 [00:00<00:00, 1927842.10it/s]\n"
          ],
          "name": "stderr"
        }
      ]
    },
    {
      "cell_type": "code",
      "metadata": {
        "colab": {
          "base_uri": "https://localhost:8080/"
        },
        "id": "lgC6Qt2xm2eo",
        "outputId": "5fb6f9ef-7662-47e0-cbf5-516fece69bb5"
      },
      "source": [
        "%%time\r\n",
        "for epoch in range(30):\r\n",
        "    model_tg_dbow.train(utils.shuffle([x for x in tqdm(all_x_w2v_tg)]), total_examples=len(all_x_w2v_tg), epochs=1)\r\n",
        "    model_tg_dbow.alpha -= 0.002\r\n",
        "    model_tg_dbow.min_alpha = model_tg_dbow.alpha"
      ],
      "execution_count": 70,
      "outputs": [
        {
          "output_type": "stream",
          "text": [
            "100%|██████████| 8500/8500 [00:00<00:00, 1932230.45it/s]\n",
            "100%|██████████| 8500/8500 [00:00<00:00, 3033660.99it/s]\n",
            "100%|██████████| 8500/8500 [00:00<00:00, 2808980.78it/s]\n",
            "100%|██████████| 8500/8500 [00:00<00:00, 3001985.85it/s]\n",
            "100%|██████████| 8500/8500 [00:00<00:00, 2590393.37it/s]\n",
            "100%|██████████| 8500/8500 [00:00<00:00, 3271687.99it/s]\n",
            "100%|██████████| 8500/8500 [00:00<00:00, 3105538.68it/s]\n",
            "100%|██████████| 8500/8500 [00:00<00:00, 3251398.45it/s]\n",
            "100%|██████████| 8500/8500 [00:00<00:00, 3169593.17it/s]\n",
            "100%|██████████| 8500/8500 [00:00<00:00, 3033144.80it/s]\n",
            "100%|██████████| 8500/8500 [00:00<00:00, 2960603.22it/s]\n",
            "100%|██████████| 8500/8500 [00:00<00:00, 3278909.59it/s]\n",
            "100%|██████████| 8500/8500 [00:00<00:00, 3075798.81it/s]\n",
            "100%|██████████| 8500/8500 [00:00<00:00, 3335976.79it/s]\n",
            "100%|██████████| 8500/8500 [00:00<00:00, 2805885.72it/s]\n",
            "100%|██████████| 8500/8500 [00:00<00:00, 3221140.59it/s]\n",
            "100%|██████████| 8500/8500 [00:00<00:00, 3233997.10it/s]\n",
            "100%|██████████| 8500/8500 [00:00<00:00, 2995931.43it/s]\n",
            "100%|██████████| 8500/8500 [00:00<00:00, 2120981.85it/s]\n",
            "100%|██████████| 8500/8500 [00:00<00:00, 3258530.66it/s]\n",
            "100%|██████████| 8500/8500 [00:00<00:00, 3161722.60it/s]\n",
            "100%|██████████| 8500/8500 [00:00<00:00, 3196591.41it/s]\n",
            "100%|██████████| 8500/8500 [00:00<00:00, 3281021.90it/s]\n",
            "100%|██████████| 8500/8500 [00:00<00:00, 3182608.82it/s]\n",
            "100%|██████████| 8500/8500 [00:00<00:00, 3156963.07it/s]\n",
            "100%|██████████| 8500/8500 [00:00<00:00, 2918911.41it/s]\n",
            "100%|██████████| 8500/8500 [00:00<00:00, 2397389.82it/s]\n",
            "100%|██████████| 8500/8500 [00:00<00:00, 3024396.34it/s]\n",
            "100%|██████████| 8500/8500 [00:00<00:00, 3219976.88it/s]\n",
            "100%|██████████| 8500/8500 [00:00<00:00, 3172695.92it/s]\n"
          ],
          "name": "stderr"
        },
        {
          "output_type": "stream",
          "text": [
            "CPU times: user 17.6 s, sys: 3.16 s, total: 20.8 s\n",
            "Wall time: 13.6 s\n"
          ],
          "name": "stdout"
        }
      ]
    },
    {
      "cell_type": "code",
      "metadata": {
        "id": "nKb0Nwx2m42Y"
      },
      "source": [
        "train_vecs_dbow_tg = get_vectors(model_tg_dbow, x_train, 100)\r\n",
        "validation_vecs_dbow_tg = get_vectors(model_tg_dbow, x_validation, 100)"
      ],
      "execution_count": 71,
      "outputs": []
    },
    {
      "cell_type": "code",
      "metadata": {
        "id": "Cs2BInfQnC7I"
      },
      "source": [
        "model_tg_dbow.save('drive/MyDrive/grams/d2v_model_tg_dbow.doc2vec')\r\n",
        "model_tg_dbow = Doc2Vec.load('drive/MyDrive/grams/d2v_model_tg_dbow.doc2vec')\r\n",
        "model_tg_dbow.delete_temporary_training_data(keep_doctags_vectors=True, keep_inference=True)"
      ],
      "execution_count": 72,
      "outputs": []
    },
    {
      "cell_type": "markdown",
      "metadata": {
        "id": "CYChYp5fnPnF"
      },
      "source": [
        "## DMC Trig"
      ]
    },
    {
      "cell_type": "code",
      "metadata": {
        "colab": {
          "base_uri": "https://localhost:8080/"
        },
        "id": "4tXv7zvrnJi4",
        "outputId": "0dfc3cdf-bcdc-4f75-f868-77c48c1511b6"
      },
      "source": [
        "cores = multiprocessing.cpu_count()\r\n",
        "model_tg_dmc = Doc2Vec(dm=1, dm_concat=1, size=100, window=2, negative=5, min_count=2, workers=cores, alpha=0.065, min_alpha=0.065)\r\n",
        "model_tg_dmc.build_vocab([x for x in tqdm(all_x_w2v_tg)])"
      ],
      "execution_count": 73,
      "outputs": [
        {
          "output_type": "stream",
          "text": [
            "/usr/local/lib/python3.6/dist-packages/gensim/models/doc2vec.py:570: UserWarning: The parameter `size` is deprecated, will be removed in 4.0.0, use `vector_size` instead.\n",
            "  warnings.warn(\"The parameter `size` is deprecated, will be removed in 4.0.0, use `vector_size` instead.\")\n",
            "100%|██████████| 8500/8500 [00:00<00:00, 2215209.64it/s]\n"
          ],
          "name": "stderr"
        }
      ]
    },
    {
      "cell_type": "code",
      "metadata": {
        "colab": {
          "base_uri": "https://localhost:8080/"
        },
        "id": "vTJc_kNqnSMH",
        "outputId": "27c95fc5-44f4-46c9-b5ed-f8f4511ae0d9"
      },
      "source": [
        "%%time\r\n",
        "for epoch in range(30):\r\n",
        "    model_tg_dmc.train(utils.shuffle([x for x in tqdm(all_x_w2v_tg)]), total_examples=len(all_x_w2v_tg), epochs=1)\r\n",
        "    model_tg_dmc.alpha -= 0.002\r\n",
        "    model_tg_dmc.min_alpha = model_tg_dmc.alpha"
      ],
      "execution_count": 74,
      "outputs": [
        {
          "output_type": "stream",
          "text": [
            "100%|██████████| 8500/8500 [00:00<00:00, 1873638.01it/s]\n",
            "100%|██████████| 8500/8500 [00:00<00:00, 3241347.76it/s]\n",
            "100%|██████████| 8500/8500 [00:00<00:00, 2918672.45it/s]\n",
            "100%|██████████| 8500/8500 [00:00<00:00, 3066802.92it/s]\n",
            "100%|██████████| 8500/8500 [00:00<00:00, 3115852.47it/s]\n",
            "100%|██████████| 8500/8500 [00:00<00:00, 2866574.25it/s]\n",
            "100%|██████████| 8500/8500 [00:00<00:00, 3147486.89it/s]\n",
            "100%|██████████| 8500/8500 [00:00<00:00, 3017740.31it/s]\n",
            "100%|██████████| 8500/8500 [00:00<00:00, 3146375.78it/s]\n",
            "100%|██████████| 8500/8500 [00:00<00:00, 3034693.91it/s]\n",
            "100%|██████████| 8500/8500 [00:00<00:00, 3059696.53it/s]\n",
            "100%|██████████| 8500/8500 [00:00<00:00, 2664343.77it/s]\n",
            "100%|██████████| 8500/8500 [00:00<00:00, 3000217.45it/s]\n",
            "100%|██████████| 8500/8500 [00:00<00:00, 3003250.27it/s]\n",
            "100%|██████████| 8500/8500 [00:00<00:00, 3118578.03it/s]\n",
            "100%|██████████| 8500/8500 [00:00<00:00, 3187161.09it/s]\n",
            "100%|██████████| 8500/8500 [00:00<00:00, 3126783.37it/s]\n",
            "100%|██████████| 8500/8500 [00:00<00:00, 2920346.00it/s]\n",
            "100%|██████████| 8500/8500 [00:00<00:00, 2709086.93it/s]\n",
            "100%|██████████| 8500/8500 [00:00<00:00, 2380104.41it/s]\n",
            "100%|██████████| 8500/8500 [00:00<00:00, 3135859.27it/s]\n",
            "100%|██████████| 8500/8500 [00:00<00:00, 3148042.74it/s]\n",
            "100%|██████████| 8500/8500 [00:00<00:00, 2980901.67it/s]\n",
            "100%|██████████| 8500/8500 [00:00<00:00, 3236051.92it/s]\n",
            "100%|██████████| 8500/8500 [00:00<00:00, 3097713.44it/s]\n",
            "100%|██████████| 8500/8500 [00:00<00:00, 3026964.17it/s]\n",
            "100%|██████████| 8500/8500 [00:00<00:00, 3024139.79it/s]\n",
            "100%|██████████| 8500/8500 [00:00<00:00, 3104186.68it/s]\n",
            "100%|██████████| 8500/8500 [00:00<00:00, 3190869.42it/s]\n",
            "100%|██████████| 8500/8500 [00:00<00:00, 2885833.25it/s]\n"
          ],
          "name": "stderr"
        },
        {
          "output_type": "stream",
          "text": [
            "CPU times: user 22 s, sys: 3.06 s, total: 25 s\n",
            "Wall time: 14.5 s\n"
          ],
          "name": "stdout"
        }
      ]
    },
    {
      "cell_type": "code",
      "metadata": {
        "id": "s_Txg7WZnURo"
      },
      "source": [
        "train_vecs_dmc_tg = get_vectors(model_tg_dmc, x_train, 100)\r\n",
        "validation_vecs_dmc_tg = get_vectors(model_tg_dmc, x_validation, 100)"
      ],
      "execution_count": 75,
      "outputs": []
    },
    {
      "cell_type": "code",
      "metadata": {
        "id": "61AgDv8cnhRX"
      },
      "source": [
        "model_tg_dmc.save('drive/MyDrive/grams/d2v_model_tg_dmc.doc2vec')\r\n",
        "model_tg_dmc = Doc2Vec.load('drive/MyDrive/grams/d2v_model_tg_dmc.doc2vec')\r\n",
        "model_tg_dmc.delete_temporary_training_data(keep_doctags_vectors=True, keep_inference=True)"
      ],
      "execution_count": 76,
      "outputs": []
    },
    {
      "cell_type": "markdown",
      "metadata": {
        "id": "nMSC-vASnsUh"
      },
      "source": [
        "## DMM Trigram"
      ]
    },
    {
      "cell_type": "code",
      "metadata": {
        "colab": {
          "base_uri": "https://localhost:8080/"
        },
        "id": "ulU85ycRnnpB",
        "outputId": "cfc67c3d-b90b-4196-caf1-b75675a6cadc"
      },
      "source": [
        "cores = multiprocessing.cpu_count()\r\n",
        "model_tg_dmm = Doc2Vec(dm=1, dm_mean=1, size=100, window=4, negative=5, min_count=2, workers=cores, alpha=0.065, min_alpha=0.065)\r\n",
        "model_tg_dmm.build_vocab([x for x in tqdm(all_x_w2v_tg)])"
      ],
      "execution_count": 77,
      "outputs": [
        {
          "output_type": "stream",
          "text": [
            "/usr/local/lib/python3.6/dist-packages/gensim/models/doc2vec.py:570: UserWarning: The parameter `size` is deprecated, will be removed in 4.0.0, use `vector_size` instead.\n",
            "  warnings.warn(\"The parameter `size` is deprecated, will be removed in 4.0.0, use `vector_size` instead.\")\n",
            "100%|██████████| 8500/8500 [00:00<00:00, 2462806.30it/s]\n"
          ],
          "name": "stderr"
        }
      ]
    },
    {
      "cell_type": "code",
      "metadata": {
        "colab": {
          "base_uri": "https://localhost:8080/"
        },
        "id": "QxlSOPyPnui0",
        "outputId": "cd0353a1-c13a-45e9-92c2-3e42a212f36c"
      },
      "source": [
        "%%time\r\n",
        "for epoch in range(30):\r\n",
        "    model_tg_dmm.train(utils.shuffle([x for x in tqdm(all_x_w2v_tg)]), total_examples=len(all_x_w2v_tg), epochs=1)\r\n",
        "    model_tg_dmm.alpha -= 0.002\r\n",
        "    model_tg_dmc.min_alpha = model_tg_dmc.alpha"
      ],
      "execution_count": 78,
      "outputs": [
        {
          "output_type": "stream",
          "text": [
            "100%|██████████| 8500/8500 [00:00<00:00, 2458560.38it/s]\n",
            "100%|██████████| 8500/8500 [00:00<00:00, 3026964.17it/s]\n",
            "100%|██████████| 8500/8500 [00:00<00:00, 3054977.21it/s]\n",
            "100%|██████████| 8500/8500 [00:00<00:00, 3038832.59it/s]\n",
            "100%|██████████| 8500/8500 [00:00<00:00, 3147764.79it/s]\n",
            "100%|██████████| 8500/8500 [00:00<00:00, 2219070.33it/s]\n",
            "100%|██████████| 8500/8500 [00:00<00:00, 3188871.56it/s]\n",
            "100%|██████████| 8500/8500 [00:00<00:00, 3268988.08it/s]\n",
            "100%|██████████| 8500/8500 [00:00<00:00, 3263302.88it/s]\n",
            "100%|██████████| 8500/8500 [00:00<00:00, 3242526.97it/s]\n",
            "100%|██████████| 8500/8500 [00:00<00:00, 2780284.18it/s]\n",
            "100%|██████████| 8500/8500 [00:00<00:00, 2220729.04it/s]\n",
            "100%|██████████| 8500/8500 [00:00<00:00, 3070236.31it/s]\n",
            "100%|██████████| 8500/8500 [00:00<00:00, 3097713.44it/s]\n",
            "100%|██████████| 8500/8500 [00:00<00:00, 2048706.13it/s]\n",
            "100%|██████████| 8500/8500 [00:00<00:00, 3281928.01it/s]\n",
            "100%|██████████| 8500/8500 [00:00<00:00, 3296189.35it/s]\n",
            "100%|██████████| 8500/8500 [00:00<00:00, 3112588.09it/s]\n",
            "100%|██████████| 8500/8500 [00:00<00:00, 3266891.23it/s]\n",
            "100%|██████████| 8500/8500 [00:00<00:00, 3212722.72it/s]\n",
            "100%|██████████| 8500/8500 [00:00<00:00, 3127880.68it/s]\n",
            "100%|██████████| 8500/8500 [00:00<00:00, 3254366.41it/s]\n",
            "100%|██████████| 8500/8500 [00:00<00:00, 3267190.62it/s]\n",
            "100%|██████████| 8500/8500 [00:00<00:00, 3048446.69it/s]\n",
            "100%|██████████| 8500/8500 [00:00<00:00, 3000217.45it/s]\n",
            "100%|██████████| 8500/8500 [00:00<00:00, 3241937.26it/s]\n",
            "100%|██████████| 8500/8500 [00:00<00:00, 3352288.11it/s]\n",
            "100%|██████████| 8500/8500 [00:00<00:00, 3191726.41it/s]\n",
            "100%|██████████| 8500/8500 [00:00<00:00, 3246956.65it/s]\n",
            "100%|██████████| 8500/8500 [00:00<00:00, 3098790.44it/s]\n"
          ],
          "name": "stderr"
        },
        {
          "output_type": "stream",
          "text": [
            "CPU times: user 34.8 s, sys: 9.86 s, total: 44.6 s\n",
            "Wall time: 29.5 s\n"
          ],
          "name": "stdout"
        }
      ]
    },
    {
      "cell_type": "code",
      "metadata": {
        "id": "G-l6O3Fqnwm4"
      },
      "source": [
        "train_vecs_dmm_tg = get_vectors(model_tg_dmm, x_train, 100)\r\n",
        "validation_vecs_dmm_tg = get_vectors(model_tg_dmm, x_validation, 100)"
      ],
      "execution_count": 79,
      "outputs": []
    },
    {
      "cell_type": "code",
      "metadata": {
        "id": "6qKFYepdn6o3"
      },
      "source": [
        "model_tg_dmm.save('drive/MyDrive/grams/d2v_model_tg_dmm.doc2vec')\r\n",
        "model_tg_dmm = Doc2Vec.load('drive/MyDrive/grams/d2v_model_tg_dmm.doc2vec')\r\n",
        "model_tg_dmm.delete_temporary_training_data(keep_doctags_vectors=True, keep_inference=True)"
      ],
      "execution_count": 80,
      "outputs": []
    },
    {
      "cell_type": "code",
      "metadata": {
        "id": "b4C0j8xGn_kW"
      },
      "source": [
        "train_vecs_dbow_dmc_tg = get_concat_vectors(model_tg_dbow,model_tg_dmc, x_train, 200)\r\n",
        "validation_vecs_dbow_dmc_tg = get_concat_vectors(model_tg_dbow,model_tg_dmc, x_validation, 200)"
      ],
      "execution_count": 81,
      "outputs": []
    },
    {
      "cell_type": "code",
      "metadata": {
        "id": "bZmUMTGroHSU"
      },
      "source": [
        "train_vecs_dbow_dmm_tg = get_concat_vectors(model_tg_dbow,model_tg_dmm, x_train, 200)\r\n",
        "validation_vecs_dbow_dmm_tg = get_concat_vectors(model_tg_dbow,model_tg_dmm, x_validation, 200)"
      ],
      "execution_count": 82,
      "outputs": []
    },
    {
      "cell_type": "markdown",
      "metadata": {
        "id": "YaWqJH-VoYve"
      },
      "source": [
        " I would like to try one more thing, which is creating joint vectors across different n-grams. By looking at the above table, for DBOW model unigram performed the best, so I will use vectors from unigram DBOW model and join this together with trigram DMM vectors."
      ]
    },
    {
      "cell_type": "code",
      "metadata": {
        "id": "XJX2-ID-rbSh"
      },
      "source": [
        "model_ug_dbow = Doc2Vec.load('drive/MyDrive/grams/d2v_model_ug_dbow.doc2vec')\r\n",
        "model_tg_dmm = Doc2Vec.load('drive/MyDrive/grams/d2v_model_tg_dmm.doc2vec')\r\n",
        "model_ug_dbow.delete_temporary_training_data(keep_doctags_vectors=True, keep_inference=True)\r\n",
        "model_tg_dmm.delete_temporary_training_data(keep_doctags_vectors=True, keep_inference=True)"
      ],
      "execution_count": 83,
      "outputs": []
    },
    {
      "cell_type": "code",
      "metadata": {
        "id": "okTG6yaergiH"
      },
      "source": [
        "train_vecs_ugdbow_tgdmm = get_concat_vectors(model_ug_dbow,model_tg_dmm, x_train, 200)\r\n",
        "validation_vecs_ugdbow_tgdmm = get_concat_vectors(model_ug_dbow,model_tg_dmm, x_validation, 200)"
      ],
      "execution_count": 84,
      "outputs": []
    },
    {
      "cell_type": "code",
      "metadata": {
        "id": "MkIUaK46r3yG"
      },
      "source": [
        "from sklearn.preprocessing import MinMaxScaler\r\n",
        "\r\n",
        "mmscaler = MinMaxScaler()\r\n",
        "d2v_ugdbow_tgdmm_mm = mmscaler.fit_transform(train_vecs_ugdbow_tgdmm)\r\n",
        "d2v_ugdbow_tgdmm_mm_val = mmscaler.fit_transform(validation_vecs_ugdbow_tgdmm)"
      ],
      "execution_count": 85,
      "outputs": []
    },
    {
      "cell_type": "code",
      "metadata": {
        "id": "Cn_O3wJOr6J2"
      },
      "source": [
        "from sklearn.naive_bayes import MultinomialNB, BernoulliNB\r\n",
        "from sklearn.linear_model import RidgeClassifier, Perceptron, PassiveAggressiveClassifier\r\n",
        "from sklearn.neighbors import NearestCentroid\r\n",
        "from sklearn.pipeline import Pipeline\r\n",
        "from sklearn.metrics import accuracy_score\r\n",
        "import time\r\n",
        "names1 = [\"Logistic Regression\", \"Multinomial NB\", \r\n",
        "         \"Bernoulli NB\", \"Ridge Classifier\", \"Perceptron\",\"Passive-Aggresive\", \"Nearest Centroid\"]\r\n",
        "classifiers1 = [\r\n",
        "    LogisticRegression(max_iter=1000),\r\n",
        "    MultinomialNB(),\r\n",
        "    BernoulliNB(),\r\n",
        "    RidgeClassifier(),\r\n",
        "    Perceptron(),\r\n",
        "    PassiveAggressiveClassifier(),\r\n",
        "    NearestCentroid()\r\n",
        "    ]\r\n",
        "zipped_clf1 = zip(names1,classifiers1)"
      ],
      "execution_count": 86,
      "outputs": []
    },
    {
      "cell_type": "code",
      "metadata": {
        "id": "ce3hPYH5tmk5"
      },
      "source": [
        "def accuracy_summary(pipeline, x_train, y_train, x_test, y_test):\r\n",
        "    if len(x_test[y_test == 0]) / (len(x_test)*1.) > 0.5:\r\n",
        "        null_accuracy = len(x_test[y_test == 0]) / (len(x_test)*1.)\r\n",
        "    else:\r\n",
        "        null_accuracy = 1. - (len(x_test[y_test == 0]) / (len(x_test)*1.))\r\n",
        "    t0 = time.time()\r\n",
        "    sentiment_fit = pipeline.fit(x_train, y_train)\r\n",
        "    y_pred = sentiment_fit.predict(x_test)\r\n",
        "    train_test_time = time.time() - t0\r\n",
        "    accuracy = accuracy_score(y_test, y_pred)\r\n",
        "    print (\"null accuracy: {0:.2f}%\".format(null_accuracy*100))\r\n",
        "    print (\"accuracy score: {0:.2f}%\".format(accuracy*100))\r\n",
        "    if accuracy > null_accuracy:\r\n",
        "        print (\"model is {0:.2f}% more accurate than null accuracy\".format((accuracy-null_accuracy)*100))\r\n",
        "    elif accuracy == null_accuracy:\r\n",
        "        print (\"model has the same accuracy with the null accuracy\")\r\n",
        "    else:\r\n",
        "        print (\"model is {0:.2f}% less accurate than null accuracy\".format((null_accuracy-accuracy)*100))\r\n",
        "    print (\"train and test time: {0:.2f}s\".format(train_test_time))\r\n",
        "    print (\"-\"*80)\r\n",
        "    return accuracy, train_test_time"
      ],
      "execution_count": 87,
      "outputs": []
    },
    {
      "cell_type": "code",
      "metadata": {
        "id": "Z6NAP6u7sAPR"
      },
      "source": [
        "def classifier_comparator_d2v(train_vectors,validation_vectors, classifier=zipped_clf1):\r\n",
        "    result = []\r\n",
        "    for n,c in classifier:\r\n",
        "        checker_pipeline = Pipeline([\r\n",
        "            ('classifier', c)\r\n",
        "        ])\r\n",
        "        print (\"Validation result for {}\".format(n))\r\n",
        "        print (c)\r\n",
        "        clf_accuracy,tt_time = accuracy_summary(checker_pipeline, train_vectors, y_train, validation_vectors, y_validation)\r\n",
        "        result.append((n,clf_accuracy,tt_time))\r\n",
        "    return result"
      ],
      "execution_count": 88,
      "outputs": []
    },
    {
      "cell_type": "code",
      "metadata": {
        "id": "kvq1BJbDtEUz"
      },
      "source": [
        "from sklearn.feature_extraction.text import CountVectorizer\r\n",
        "cvec = CountVectorizer()\r\n",
        "lr = LogisticRegression(max_iter=1000)\r\n",
        "n_features = np.arange(10000,100001,10000)\r\n",
        "\r\n",
        "def nfeature_accuracy_checker(vectorizer=cvec, n_features=n_features, stop_words=None, ngram_range=(1, 1), classifier=lr):\r\n",
        "    result = []\r\n",
        "    print (classifier)\r\n",
        "    print (\"\\n\")\r\n",
        "    for n in n_features:\r\n",
        "        vectorizer.set_params(stop_words=stop_words, max_features=n, ngram_range=ngram_range)\r\n",
        "        checker_pipeline = Pipeline([\r\n",
        "            ('vectorizer', vectorizer),\r\n",
        "            ('classifier', classifier)\r\n",
        "        ])\r\n",
        "        print (\"Validation result for {} features\".format(n))\r\n",
        "        nfeature_accuracy,tt_time = accuracy_summary(checker_pipeline, x_train, y_train, x_validation, y_validation)\r\n",
        "        result.append((n,nfeature_accuracy,tt_time))\r\n",
        "    return result"
      ],
      "execution_count": 89,
      "outputs": []
    },
    {
      "cell_type": "markdown",
      "metadata": {
        "id": "NkxvcKDmw_u4"
      },
      "source": [
        "### TFIDF Vectorizer"
      ]
    },
    {
      "cell_type": "code",
      "metadata": {
        "id": "e_nptbUKwlHk"
      },
      "source": [
        "from sklearn.feature_extraction.text import TfidfVectorizer\r\n",
        "tvec = TfidfVectorizer()"
      ],
      "execution_count": 90,
      "outputs": []
    },
    {
      "cell_type": "code",
      "metadata": {
        "id": "dtouW8IZyCiG"
      },
      "source": [
        "from gensim.models import Doc2Vec"
      ],
      "execution_count": 91,
      "outputs": []
    },
    {
      "cell_type": "code",
      "metadata": {
        "id": "TCAurD6exriS"
      },
      "source": [
        "def get_concat_vectors(model1,model2, corpus, size):\r\n",
        "    vecs = np.zeros((len(corpus), size))\r\n",
        "    n = 0\r\n",
        "    for i in corpus.index:\r\n",
        "        prefix = 'all_' + str(i)\r\n",
        "        vecs[n] = np.append(model1.docvecs[prefix],model2.docvecs[prefix])\r\n",
        "        n += 1\r\n",
        "    return vecs"
      ],
      "execution_count": 92,
      "outputs": []
    },
    {
      "cell_type": "code",
      "metadata": {
        "id": "hutMjvDuyFuS"
      },
      "source": [
        "\r\n",
        "model_tg_dmm = Doc2Vec.load('drive/MyDrive/grams/d2v_model_tg_dmm.doc2vec')\r\n",
        "model_ug_dbow = Doc2Vec.load('drive/MyDrive/grams/d2v_model_ug_dbow.doc2vec')\r\n",
        "model_ug_dbow.delete_temporary_training_data(keep_doctags_vectors=True, keep_inference=True)\r\n",
        "model_tg_dmm.delete_temporary_training_data(keep_doctags_vectors=True, keep_inference=True)"
      ],
      "execution_count": 93,
      "outputs": []
    },
    {
      "cell_type": "code",
      "metadata": {
        "id": "aOuHPhsKyHul"
      },
      "source": [
        "train_vecs_ugdbow_tgdmm = get_concat_vectors(model_ug_dbow,model_tg_dmm, x_train, 200)\r\n",
        "validation_vecs_ugdbow_tgdmm = get_concat_vectors(model_ug_dbow,model_tg_dmm, x_validation, 200)"
      ],
      "execution_count": 94,
      "outputs": []
    },
    {
      "cell_type": "markdown",
      "metadata": {
        "id": "UE-4GJMa1Mpx"
      },
      "source": [
        "## Dimensionality Reduction"
      ]
    },
    {
      "cell_type": "markdown",
      "metadata": {
        "id": "QmaA1DJn1RYt"
      },
      "source": [
        "### Chi2 Feature Selection"
      ]
    },
    {
      "cell_type": "code",
      "metadata": {
        "id": "NQMLeGf3LJl5"
      },
      "source": [
        "tvec = TfidfVectorizer(max_features=100000,ngram_range=(1, 3))\r\n",
        "x_train_tfidf = tvec.fit_transform(x_train)\r\n",
        "x_validation_tfidf = tvec.transform(x_validation)"
      ],
      "execution_count": 95,
      "outputs": []
    },
    {
      "cell_type": "code",
      "metadata": {
        "id": "KGqQhwYsLUAG"
      },
      "source": [
        "from sklearn.feature_selection import chi2\r\n",
        "chi2score = chi2(x_train_tfidf, y_train)[0]"
      ],
      "execution_count": 96,
      "outputs": []
    },
    {
      "cell_type": "code",
      "metadata": {
        "colab": {
          "base_uri": "https://localhost:8080/",
          "height": 628
        },
        "id": "VIXHzPPq1WbT",
        "outputId": "9bbc1453-901d-4e09-a418-59ca7f35115e"
      },
      "source": [
        "plt.figure(figsize=(15,10))\r\n",
        "wscores = zip(tvec.get_feature_names(), chi2score)\r\n",
        "wchi2 = sorted(wscores, key=lambda x:x[1])\r\n",
        "topchi2 = list(zip(*wchi2[-20:]))\r\n",
        "#topchi2 = zip(wchi2)\r\n",
        "x = range(len(topchi2[1]))\r\n",
        "labels = topchi2[0]\r\n",
        "plt.barh(x,topchi2[1], align='center', alpha=0.2)\r\n",
        "plt.plot(topchi2[1], x, '-o', markersize=5, alpha=0.8)\r\n",
        "plt.yticks(x, labels)\r\n",
        "plt.xlabel('$\\chi^2$')"
      ],
      "execution_count": 97,
      "outputs": [
        {
          "output_type": "execute_result",
          "data": {
            "text/plain": [
              "Text(0.5, 0, '$\\\\chi^2$')"
            ]
          },
          "metadata": {
            "tags": []
          },
          "execution_count": 97
        },
        {
          "output_type": "display_data",
          "data": {
            "image/png": "[encoded data removed]",
            "text/plain": [
              "<Figure size 1080x720 with 1 Axes>"
            ]
          },
          "metadata": {
            "tags": [],
            "image/png": {
              "width": 1079,
              "height": 594
            },
            "needs_background": "light"
          }
        }
      ]
    },
    {
      "cell_type": "markdown",
      "metadata": {
        "id": "Sa6SInrS4DXa"
      },
      "source": [
        "### Principal Component Analysis (PCA)"
      ]
    },
    {
      "cell_type": "code",
      "metadata": {
        "id": "yZTHyGPk1Ylw"
      },
      "source": [
        "from sklearn.preprocessing import StandardScaler\r\n",
        "\r\n",
        "scaler = StandardScaler()\r\n",
        "d2v_ugdbow_tgdmm_std = scaler.fit_transform(train_vecs_ugdbow_tgdmm)\r\n",
        "d2v_ugdbow_tgdmm_std_val = scaler.fit_transform(validation_vecs_ugdbow_tgdmm)"
      ],
      "execution_count": 98,
      "outputs": []
    },
    {
      "cell_type": "code",
      "metadata": {
        "id": "-bRk1n8n4GK3"
      },
      "source": [
        "from sklearn.decomposition import PCA\r\n",
        "\r\n",
        "d2v_pca = PCA().fit(d2v_ugdbow_tgdmm_std)"
      ],
      "execution_count": 99,
      "outputs": []
    },
    {
      "cell_type": "code",
      "metadata": {
        "colab": {
          "base_uri": "https://localhost:8080/",
          "height": 403
        },
        "id": "ERYsteEP4HsA",
        "outputId": "3801a610-65a5-443d-b4de-a888cdb46503"
      },
      "source": [
        "fig, ax = plt.subplots(figsize=(8,6))\r\n",
        "\r\n",
        "x_values = range(1, d2v_pca.n_components_+1)\r\n",
        "\r\n",
        "ax.plot(x_values, d2v_pca.explained_variance_ratio_, lw=2, label='explained variance')\r\n",
        "ax.plot(x_values, np.cumsum(d2v_pca.explained_variance_ratio_), lw=2, label='cumulative explained variance')\r\n",
        "ax.set_title('Doc2vec (unigram DBOW + trigram DMM) : explained variance of components')\r\n",
        "ax.set_xlabel('principal component')\r\n",
        "ax.set_ylabel('explained variance')\r\n",
        "plt.show()"
      ],
      "execution_count": 100,
      "outputs": [
        {
          "output_type": "display_data",
          "data": {
            "image/png": "[encoded data removed]",
            "text/plain": [
              "<Figure size 576x432 with 1 Axes>"
            ]
          },
          "metadata": {
            "tags": [],
            "image/png": {
              "width": 584,
              "height": 386
            },
            "needs_background": "light"
          }
        }
      ]
    },
    {
      "cell_type": "code",
      "metadata": {
        "id": "qfhcLPWN4JuS"
      },
      "source": [
        "#while True:pass"
      ],
      "execution_count": 101,
      "outputs": []
    },
    {
      "cell_type": "code",
      "metadata": {
        "id": "JuL6zsuOGS61"
      },
      "source": [
        "from gensim.models import Doc2Vec\r\n",
        "\r\n",
        "def get_concat_vectors(model1,model2, corpus, size):\r\n",
        "    vecs = np.zeros((len(corpus), size))\r\n",
        "    n = 0\r\n",
        "    for i in corpus.index:\r\n",
        "        prefix = 'all_' + str(i)\r\n",
        "        vecs[n] = np.append(model1.docvecs[prefix],model2.docvecs[prefix])\r\n",
        "        n += 1\r\n",
        "    return vecs"
      ],
      "execution_count": 102,
      "outputs": []
    },
    {
      "cell_type": "code",
      "metadata": {
        "id": "G1FZift7NuwI"
      },
      "source": [
        "model_ug_dbow = Doc2Vec.load('drive/MyDrive/grams/d2v_model_ug_dbow.doc2vec')\r\n",
        "model_tg_dmm = Doc2Vec.load('drive/MyDrive/grams/d2v_model_tg_dmm.doc2vec')\r\n",
        "model_ug_dbow.delete_temporary_training_data(keep_doctags_vectors=True, keep_inference=True)\r\n",
        "model_tg_dmm.delete_temporary_training_data(keep_doctags_vectors=True, keep_inference=True)"
      ],
      "execution_count": 103,
      "outputs": []
    },
    {
      "cell_type": "code",
      "metadata": {
        "id": "byUWUGZtNySN"
      },
      "source": [
        "train_vecs_ugdbow_tgdmm = get_concat_vectors(model_ug_dbow,model_tg_dmm, x_train, 200)\r\n",
        "validation_vecs_ugdbow_tgdmm = get_concat_vectors(model_ug_dbow,model_tg_dmm, x_validation, 200)"
      ],
      "execution_count": 104,
      "outputs": []
    },
    {
      "cell_type": "code",
      "metadata": {
        "id": "t2quhRasOH3p"
      },
      "source": [
        "seed = 7\r\n",
        "\r\n",
        "from keras.models import Sequential\r\n",
        "from keras.layers import Dense, Dropout\r\n",
        "from keras.layers import Flatten\r\n",
        "from keras.layers.embeddings import Embedding\r\n",
        "from keras.preprocessing import sequence"
      ],
      "execution_count": 105,
      "outputs": []
    },
    {
      "cell_type": "code",
      "metadata": {
        "colab": {
          "base_uri": "https://localhost:8080/"
        },
        "id": "2rYI_aJqRuAp",
        "outputId": "c0b271be-9904-426f-bfd0-2da09cc113e3"
      },
      "source": [
        "x_train.shape[0]"
      ],
      "execution_count": 106,
      "outputs": [
        {
          "output_type": "execute_result",
          "data": {
            "text/plain": [
              "6800"
            ]
          },
          "metadata": {
            "tags": []
          },
          "execution_count": 106
        }
      ]
    },
    {
      "cell_type": "code",
      "metadata": {
        "colab": {
          "base_uri": "https://localhost:8080/"
        },
        "id": "CcUCo2OzZw_2",
        "outputId": "8211c7af-dfc4-480a-cac8-9e79d8a71c0e"
      },
      "source": [
        "y_train"
      ],
      "execution_count": 107,
      "outputs": [
        {
          "output_type": "execute_result",
          "data": {
            "text/plain": [
              "array([[0., 0., 0., ..., 0., 0., 0.],\n",
              "       [1., 0., 0., ..., 0., 0., 0.],\n",
              "       [0., 1., 0., ..., 0., 0., 0.],\n",
              "       ...,\n",
              "       [0., 0., 0., ..., 0., 0., 0.],\n",
              "       [1., 0., 0., ..., 0., 0., 0.],\n",
              "       [0., 0., 0., ..., 0., 0., 0.]], dtype=float32)"
            ]
          },
          "metadata": {
            "tags": []
          },
          "execution_count": 107
        }
      ]
    },
    {
      "cell_type": "code",
      "metadata": {
        "colab": {
          "base_uri": "https://localhost:8080/"
        },
        "id": "H44wU-GvO8Le",
        "outputId": "0ef12a0c-cff6-4910-e934-4f0596baddcd"
      },
      "source": [
        "%%time\r\n",
        "np.random.seed(seed)\r\n",
        "model_d2v_01 = Sequential()\r\n",
        "model_d2v_01.add(Dense(64, activation='relu', input_dim=200))\r\n",
        "model_d2v_01.add(Dense(74, activation='sigmoid'))\r\n",
        "model_d2v_01.compile(optimizer='adam',\r\n",
        "              loss='categorical_crossentropy',\r\n",
        "              metrics=['accuracy'])\r\n",
        "\r\n",
        "model_d2v_01.fit(train_vecs_ugdbow_tgdmm, y_train, validation_data=(validation_vecs_ugdbow_tgdmm, y_validation), epochs=10, batch_size=32, verbose=2)"
      ],
      "execution_count": 108,
      "outputs": [
        {
          "output_type": "stream",
          "text": [
            "Epoch 1/10\n",
            "213/213 - 2s - loss: 2.5396 - accuracy: 0.4957 - val_loss: 2.1569 - val_accuracy: 0.5106\n",
            "Epoch 2/10\n",
            "213/213 - 0s - loss: 1.8531 - accuracy: 0.5610 - val_loss: 1.9148 - val_accuracy: 0.5376\n",
            "Epoch 3/10\n",
            "213/213 - 0s - loss: 1.6182 - accuracy: 0.5913 - val_loss: 1.7914 - val_accuracy: 0.5518\n",
            "Epoch 4/10\n",
            "213/213 - 0s - loss: 1.4687 - accuracy: 0.6141 - val_loss: 1.7211 - val_accuracy: 0.5647\n",
            "Epoch 5/10\n",
            "213/213 - 0s - loss: 1.3603 - accuracy: 0.6346 - val_loss: 1.6867 - val_accuracy: 0.5765\n",
            "Epoch 6/10\n",
            "213/213 - 0s - loss: 1.2791 - accuracy: 0.6513 - val_loss: 1.6745 - val_accuracy: 0.5800\n",
            "Epoch 7/10\n",
            "213/213 - 0s - loss: 1.2121 - accuracy: 0.6700 - val_loss: 1.6594 - val_accuracy: 0.5776\n",
            "Epoch 8/10\n",
            "213/213 - 0s - loss: 1.1531 - accuracy: 0.6790 - val_loss: 1.6722 - val_accuracy: 0.5706\n",
            "Epoch 9/10\n",
            "213/213 - 1s - loss: 1.1064 - accuracy: 0.6874 - val_loss: 1.6714 - val_accuracy: 0.5788\n",
            "Epoch 10/10\n",
            "213/213 - 0s - loss: 1.0596 - accuracy: 0.7018 - val_loss: 1.6894 - val_accuracy: 0.5729\n",
            "CPU times: user 7.44 s, sys: 1.71 s, total: 9.15 s\n",
            "Wall time: 9.59 s\n"
          ],
          "name": "stdout"
        }
      ]
    },
    {
      "cell_type": "code",
      "metadata": {
        "id": "1oFKW1IwPBhb",
        "colab": {
          "base_uri": "https://localhost:8080/"
        },
        "outputId": "9a27780f-3971-4b32-dc6d-6e0e9e14ff9f"
      },
      "source": [
        "np.random.seed(seed)\r\n",
        "model_d2v_02 = Sequential()\r\n",
        "model_d2v_02.add(Dense(64, activation='relu', input_dim=200))\r\n",
        "model_d2v_02.add(Dense(64, activation='relu'))\r\n",
        "model_d2v_02.add(Dense(74, activation='softmax'))\r\n",
        "model_d2v_02.compile(optimizer='adam',\r\n",
        "              loss='categorical_crossentropy',\r\n",
        "              metrics=['accuracy'])\r\n",
        "\r\n",
        "model_d2v_02.fit(train_vecs_ugdbow_tgdmm, y_train, validation_data=(validation_vecs_ugdbow_tgdmm, y_validation), epochs=10, batch_size=32, verbose=2)"
      ],
      "execution_count": 109,
      "outputs": [
        {
          "output_type": "stream",
          "text": [
            "Epoch 1/10\n",
            "213/213 - 1s - loss: 2.5128 - accuracy: 0.4928 - val_loss: 2.1150 - val_accuracy: 0.5071\n",
            "Epoch 2/10\n",
            "213/213 - 0s - loss: 1.7988 - accuracy: 0.5646 - val_loss: 1.8804 - val_accuracy: 0.5424\n",
            "Epoch 3/10\n",
            "213/213 - 0s - loss: 1.5750 - accuracy: 0.5975 - val_loss: 1.8013 - val_accuracy: 0.5553\n",
            "Epoch 4/10\n",
            "213/213 - 0s - loss: 1.4262 - accuracy: 0.6260 - val_loss: 1.7352 - val_accuracy: 0.5635\n",
            "Epoch 5/10\n",
            "213/213 - 0s - loss: 1.3160 - accuracy: 0.6522 - val_loss: 1.7003 - val_accuracy: 0.5753\n",
            "Epoch 6/10\n",
            "213/213 - 0s - loss: 1.2270 - accuracy: 0.6629 - val_loss: 1.7061 - val_accuracy: 0.5776\n",
            "Epoch 7/10\n",
            "213/213 - 0s - loss: 1.1526 - accuracy: 0.6782 - val_loss: 1.7038 - val_accuracy: 0.5753\n",
            "Epoch 8/10\n",
            "213/213 - 0s - loss: 1.0841 - accuracy: 0.6960 - val_loss: 1.7189 - val_accuracy: 0.5776\n",
            "Epoch 9/10\n",
            "213/213 - 0s - loss: 1.0197 - accuracy: 0.7106 - val_loss: 1.7501 - val_accuracy: 0.5753\n",
            "Epoch 10/10\n",
            "213/213 - 0s - loss: 0.9670 - accuracy: 0.7259 - val_loss: 1.7990 - val_accuracy: 0.5776\n"
          ],
          "name": "stdout"
        },
        {
          "output_type": "execute_result",
          "data": {
            "text/plain": [
              "<tensorflow.python.keras.callbacks.History at 0x7faf507151d0>"
            ]
          },
          "metadata": {
            "tags": []
          },
          "execution_count": 109
        }
      ]
    },
    {
      "cell_type": "code",
      "metadata": {
        "id": "Q6nlw0hFSSsI",
        "colab": {
          "base_uri": "https://localhost:8080/"
        },
        "outputId": "c7064fc8-9090-4a3d-930f-2dcc23b5aac9"
      },
      "source": [
        "np.random.seed(seed)\r\n",
        "model_d2v_03 = Sequential()\r\n",
        "model_d2v_03.add(Dense(64, activation='relu', input_dim=200))\r\n",
        "model_d2v_03.add(Dense(64, activation='relu'))\r\n",
        "model_d2v_03.add(Dense(64, activation='relu'))\r\n",
        "model_d2v_03.add(Dense(74, activation='softmax'))\r\n",
        "model_d2v_03.compile(optimizer='adam',\r\n",
        "              loss='categorical_crossentropy',\r\n",
        "              metrics=['accuracy'])\r\n",
        "\r\n",
        "model_d2v_03.fit(train_vecs_ugdbow_tgdmm, y_train, validation_data=(validation_vecs_ugdbow_tgdmm, y_validation), epochs=10, batch_size=32, verbose=2)"
      ],
      "execution_count": 110,
      "outputs": [
        {
          "output_type": "stream",
          "text": [
            "Epoch 1/10\n",
            "213/213 - 1s - loss: 2.4909 - accuracy: 0.5013 - val_loss: 2.0941 - val_accuracy: 0.5153\n",
            "Epoch 2/10\n",
            "213/213 - 0s - loss: 1.8139 - accuracy: 0.5624 - val_loss: 1.8479 - val_accuracy: 0.5306\n",
            "Epoch 3/10\n",
            "213/213 - 0s - loss: 1.5928 - accuracy: 0.5928 - val_loss: 1.8105 - val_accuracy: 0.5553\n",
            "Epoch 4/10\n",
            "213/213 - 0s - loss: 1.4463 - accuracy: 0.6193 - val_loss: 1.7444 - val_accuracy: 0.5635\n",
            "Epoch 5/10\n",
            "213/213 - 0s - loss: 1.3390 - accuracy: 0.6419 - val_loss: 1.7173 - val_accuracy: 0.5612\n",
            "Epoch 6/10\n",
            "213/213 - 0s - loss: 1.2382 - accuracy: 0.6651 - val_loss: 1.7147 - val_accuracy: 0.5741\n",
            "Epoch 7/10\n",
            "213/213 - 0s - loss: 1.1551 - accuracy: 0.6800 - val_loss: 1.7320 - val_accuracy: 0.5824\n",
            "Epoch 8/10\n",
            "213/213 - 0s - loss: 1.0818 - accuracy: 0.6925 - val_loss: 1.7704 - val_accuracy: 0.5753\n",
            "Epoch 9/10\n",
            "213/213 - 0s - loss: 1.0132 - accuracy: 0.7122 - val_loss: 1.8163 - val_accuracy: 0.5671\n",
            "Epoch 10/10\n",
            "213/213 - 0s - loss: 0.9514 - accuracy: 0.7260 - val_loss: 1.8422 - val_accuracy: 0.5788\n"
          ],
          "name": "stdout"
        },
        {
          "output_type": "execute_result",
          "data": {
            "text/plain": [
              "<tensorflow.python.keras.callbacks.History at 0x7faf505d87f0>"
            ]
          },
          "metadata": {
            "tags": []
          },
          "execution_count": 110
        }
      ]
    },
    {
      "cell_type": "code",
      "metadata": {
        "id": "QyJVC6BrSWz4",
        "colab": {
          "base_uri": "https://localhost:8080/"
        },
        "outputId": "aee0b30a-9f55-4e76-afca-03717f3c2ea4"
      },
      "source": [
        "np.random.seed(seed)\r\n",
        "model_d2v_04 = Sequential()\r\n",
        "model_d2v_04.add(Dense(128, activation='relu', input_dim=200))\r\n",
        "model_d2v_04.add(Dense(74, activation='softmax'))\r\n",
        "model_d2v_04.compile(optimizer='adam',\r\n",
        "              loss='categorical_crossentropy',\r\n",
        "              metrics=['accuracy'])\r\n",
        "\r\n",
        "model_d2v_04.fit(train_vecs_ugdbow_tgdmm, y_train, validation_data=(validation_vecs_ugdbow_tgdmm, y_validation), epochs=10, batch_size=32, verbose=2)"
      ],
      "execution_count": 111,
      "outputs": [
        {
          "output_type": "stream",
          "text": [
            "Epoch 1/10\n",
            "213/213 - 1s - loss: 2.3729 - accuracy: 0.5084 - val_loss: 1.9739 - val_accuracy: 0.5353\n",
            "Epoch 2/10\n",
            "213/213 - 0s - loss: 1.6707 - accuracy: 0.5816 - val_loss: 1.7490 - val_accuracy: 0.5565\n",
            "Epoch 3/10\n",
            "213/213 - 0s - loss: 1.4264 - accuracy: 0.6253 - val_loss: 1.6596 - val_accuracy: 0.5871\n",
            "Epoch 4/10\n",
            "213/213 - 0s - loss: 1.2783 - accuracy: 0.6547 - val_loss: 1.6504 - val_accuracy: 0.5812\n",
            "Epoch 5/10\n",
            "213/213 - 0s - loss: 1.1685 - accuracy: 0.6749 - val_loss: 1.6511 - val_accuracy: 0.5882\n",
            "Epoch 6/10\n",
            "213/213 - 0s - loss: 1.0730 - accuracy: 0.7019 - val_loss: 1.6409 - val_accuracy: 0.5800\n",
            "Epoch 7/10\n",
            "213/213 - 0s - loss: 0.9990 - accuracy: 0.7197 - val_loss: 1.6788 - val_accuracy: 0.5976\n",
            "Epoch 8/10\n",
            "213/213 - 0s - loss: 0.9336 - accuracy: 0.7382 - val_loss: 1.6729 - val_accuracy: 0.6000\n",
            "Epoch 9/10\n",
            "213/213 - 0s - loss: 0.8739 - accuracy: 0.7562 - val_loss: 1.6842 - val_accuracy: 0.6082\n",
            "Epoch 10/10\n",
            "213/213 - 0s - loss: 0.8211 - accuracy: 0.7687 - val_loss: 1.7129 - val_accuracy: 0.5965\n"
          ],
          "name": "stdout"
        },
        {
          "output_type": "execute_result",
          "data": {
            "text/plain": [
              "<tensorflow.python.keras.callbacks.History at 0x7faf50455198>"
            ]
          },
          "metadata": {
            "tags": []
          },
          "execution_count": 111
        }
      ]
    },
    {
      "cell_type": "code",
      "metadata": {
        "id": "MCBME1R4SbBd",
        "colab": {
          "base_uri": "https://localhost:8080/"
        },
        "outputId": "d65c4e5d-c716-4811-f395-f27e8cca8707"
      },
      "source": [
        "np.random.seed(seed)\r\n",
        "model_d2v_05 = Sequential()\r\n",
        "model_d2v_05.add(Dense(128, activation='relu', input_dim=200))\r\n",
        "model_d2v_05.add(Dense(128, activation='relu'))\r\n",
        "model_d2v_05.add(Dense(74, activation='softmax'))\r\n",
        "model_d2v_05.compile(optimizer='adam',\r\n",
        "              loss='categorical_crossentropy',\r\n",
        "              metrics=['accuracy'])\r\n",
        "\r\n",
        "model_d2v_05.fit(train_vecs_ugdbow_tgdmm, y_train, validation_data=(validation_vecs_ugdbow_tgdmm, y_validation), epochs=10, batch_size=32, verbose=2)"
      ],
      "execution_count": 112,
      "outputs": [
        {
          "output_type": "stream",
          "text": [
            "Epoch 1/10\n",
            "213/213 - 1s - loss: 2.3210 - accuracy: 0.5141 - val_loss: 1.9783 - val_accuracy: 0.5376\n",
            "Epoch 2/10\n",
            "213/213 - 0s - loss: 1.6492 - accuracy: 0.5865 - val_loss: 1.7477 - val_accuracy: 0.5647\n",
            "Epoch 3/10\n",
            "213/213 - 0s - loss: 1.3932 - accuracy: 0.6310 - val_loss: 1.6514 - val_accuracy: 0.5776\n",
            "Epoch 4/10\n",
            "213/213 - 0s - loss: 1.2264 - accuracy: 0.6685 - val_loss: 1.6283 - val_accuracy: 0.5871\n",
            "Epoch 5/10\n",
            "213/213 - 0s - loss: 1.0852 - accuracy: 0.7003 - val_loss: 1.6533 - val_accuracy: 0.5929\n",
            "Epoch 6/10\n",
            "213/213 - 0s - loss: 0.9729 - accuracy: 0.7262 - val_loss: 1.6361 - val_accuracy: 0.5882\n",
            "Epoch 7/10\n",
            "213/213 - 0s - loss: 0.8730 - accuracy: 0.7544 - val_loss: 1.6806 - val_accuracy: 0.5953\n",
            "Epoch 8/10\n",
            "213/213 - 0s - loss: 0.7862 - accuracy: 0.7760 - val_loss: 1.7994 - val_accuracy: 0.5894\n",
            "Epoch 9/10\n",
            "213/213 - 0s - loss: 0.7178 - accuracy: 0.7966 - val_loss: 1.8150 - val_accuracy: 0.5718\n",
            "Epoch 10/10\n",
            "213/213 - 0s - loss: 0.6449 - accuracy: 0.8169 - val_loss: 1.8485 - val_accuracy: 0.5753\n"
          ],
          "name": "stdout"
        },
        {
          "output_type": "execute_result",
          "data": {
            "text/plain": [
              "<tensorflow.python.keras.callbacks.History at 0x7faf502af160>"
            ]
          },
          "metadata": {
            "tags": []
          },
          "execution_count": 112
        }
      ]
    },
    {
      "cell_type": "code",
      "metadata": {
        "id": "69Q_lGBBSfKU",
        "colab": {
          "base_uri": "https://localhost:8080/"
        },
        "outputId": "e2adc046-e3c3-4e41-a060-8045bea767df"
      },
      "source": [
        "np.random.seed(seed)\r\n",
        "model_d2v_06 = Sequential()\r\n",
        "model_d2v_06.add(Dense(128, activation='relu', input_dim=200))\r\n",
        "model_d2v_06.add(Dense(128, activation='relu'))\r\n",
        "model_d2v_06.add(Dense(128, activation='relu'))\r\n",
        "model_d2v_06.add(Dense(74, activation='softmax'))\r\n",
        "model_d2v_06.compile(optimizer='adam',\r\n",
        "              loss='categorical_crossentropy',\r\n",
        "              metrics=['accuracy'])\r\n",
        "\r\n",
        "model_d2v_06.fit(train_vecs_ugdbow_tgdmm, y_train, validation_data=(validation_vecs_ugdbow_tgdmm, y_validation), epochs=10, batch_size=32, verbose=2)"
      ],
      "execution_count": 113,
      "outputs": [
        {
          "output_type": "stream",
          "text": [
            "Epoch 1/10\n",
            "213/213 - 1s - loss: 2.2847 - accuracy: 0.5181 - val_loss: 1.9581 - val_accuracy: 0.5294\n",
            "Epoch 2/10\n",
            "213/213 - 0s - loss: 1.6618 - accuracy: 0.5865 - val_loss: 1.7706 - val_accuracy: 0.5694\n",
            "Epoch 3/10\n",
            "213/213 - 0s - loss: 1.4332 - accuracy: 0.6253 - val_loss: 1.7038 - val_accuracy: 0.5847\n",
            "Epoch 4/10\n",
            "213/213 - 0s - loss: 1.2591 - accuracy: 0.6572 - val_loss: 1.6861 - val_accuracy: 0.5776\n",
            "Epoch 5/10\n",
            "213/213 - 0s - loss: 1.1197 - accuracy: 0.6875 - val_loss: 1.7197 - val_accuracy: 0.5694\n",
            "Epoch 6/10\n",
            "213/213 - 0s - loss: 0.9869 - accuracy: 0.7174 - val_loss: 1.7192 - val_accuracy: 0.5718\n",
            "Epoch 7/10\n",
            "213/213 - 0s - loss: 0.8727 - accuracy: 0.7465 - val_loss: 1.8152 - val_accuracy: 0.5718\n",
            "Epoch 8/10\n",
            "213/213 - 0s - loss: 0.7683 - accuracy: 0.7784 - val_loss: 1.8776 - val_accuracy: 0.5624\n",
            "Epoch 9/10\n",
            "213/213 - 0s - loss: 0.6742 - accuracy: 0.8088 - val_loss: 1.9458 - val_accuracy: 0.5682\n",
            "Epoch 10/10\n",
            "213/213 - 0s - loss: 0.5922 - accuracy: 0.8306 - val_loss: 2.2105 - val_accuracy: 0.5659\n"
          ],
          "name": "stdout"
        },
        {
          "output_type": "execute_result",
          "data": {
            "text/plain": [
              "<tensorflow.python.keras.callbacks.History at 0x7faf5011c6d8>"
            ]
          },
          "metadata": {
            "tags": []
          },
          "execution_count": 113
        }
      ]
    },
    {
      "cell_type": "code",
      "metadata": {
        "id": "zJmb_mq-VKL7"
      },
      "source": [
        "#while True:pass"
      ],
      "execution_count": 115,
      "outputs": []
    },
    {
      "cell_type": "code",
      "metadata": {
        "id": "tYO0YwBh5wm9"
      },
      "source": [
        ""
      ],
      "execution_count": null,
      "outputs": []
    }
  ]
}